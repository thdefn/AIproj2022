{
  "cells": [
    {
      "cell_type": "markdown",
      "metadata": {
        "id": "view-in-github",
        "colab_type": "text"
      },
      "source": [
        "<a href=\"https://colab.research.google.com/github/thdefn/AIproj2022/blob/master/trs_learning__Fine_Tuning.ipynb\" target=\"_parent\"><img src=\"https://colab.research.google.com/assets/colab-badge.svg\" alt=\"Open In Colab\"/></a>"
      ]
    },
    {
      "cell_type": "markdown",
      "source": [
        "\n",
        "### VGG19 전이학습 Bottleneck FT 사용한 버전\n",
        "모델, 히스토리 저장 링크\n",
        "https://drive.google.com/drive/folders/1pTTZI_bfVOVXptYJ-GdtdU5HMW5geO0p?usp=sharing\n",
        "\n"
      ],
      "metadata": {
        "id": "YKtXG0HL1T8M"
      }
    },
    {
      "cell_type": "code",
      "execution_count": 1,
      "metadata": {
        "id": "s55bijJ31T8V"
      },
      "outputs": [],
      "source": [
        "import numpy as np\n",
        "import pandas as pd\n",
        "import math\n",
        "\n",
        "from tensorflow import keras\n",
        "\n",
        "from tensorflow.keras import Model\n",
        "from tensorflow.keras.models import Sequential\n",
        "from tensorflow.keras.layers import Activation, Conv2D, MaxPooling2D, Dense, Flatten, GlobalAveragePooling2D\n",
        "from tensorflow.keras.layers import Dropout, BatchNormalization \n",
        "from tensorflow.keras.utils import to_categorical\n",
        "import pickle"
      ]
    },
    {
      "cell_type": "code",
      "execution_count": 2,
      "metadata": {
        "id": "UjfpogVF1T8V"
      },
      "outputs": [],
      "source": [
        "from tensorflow.keras.applications.vgg19 import VGG19\n",
        "from tensorflow.keras.applications.vgg16 import VGG16\n",
        "from keras.applications.vgg19 import preprocess_input\n",
        "from tensorflow.keras.callbacks import ModelCheckpoint\n",
        "\n",
        "import matplotlib.pyplot as plt\n",
        "\n",
        "import seaborn as sns\n",
        "import os\n",
        "import glob\n",
        "import plotly.graph_objects as go\n",
        "import cv2\n",
        "from PIL import Image\n",
        "from PIL import ImageFile\n",
        "from sklearn.model_selection import train_test_split\n",
        "from sklearn.preprocessing import LabelEncoder\n",
        "from tensorflow.keras.preprocessing.image import ImageDataGenerator\n",
        "from tensorflow.keras.optimizers import RMSprop, SGD\n",
        "from tensorflow.keras.callbacks import EarlyStopping, ReduceLROnPlateau,ModelCheckpoint \n",
        "from sklearn.metrics import accuracy_score, confusion_matrix, classification_report\n",
        "import warnings\n",
        "warnings.filterwarnings(\"ignore\")\n",
        "ImageFile.LOAD_TRUNCATED_IMAGES = True\n",
        "\n",
        "from tqdm import tqdm"
      ]
    },
    {
      "cell_type": "code",
      "execution_count": null,
      "metadata": {
        "id": "3xW9GwMU1T8V"
      },
      "outputs": [],
      "source": [
        "import os\n",
        "from google.colab import drive\n",
        "drive.mount('/content/gdrive')"
      ]
    },
    {
      "cell_type": "code",
      "execution_count": null,
      "metadata": {
        "id": "KolB9rOM1T8W"
      },
      "outputs": [],
      "source": [
        "cd /content/gdrive/My Drive/data/.kaggle"
      ]
    },
    {
      "cell_type": "code",
      "source": [
        "X_valid = np.load('./X_valid_128.npy',allow_pickle=True)\n",
        "y_valid = np.load('./y_valid_128.npy',allow_pickle=True)\n",
        "X_train = np.load('./X_train_128.npy',allow_pickle=True)\n",
        "y_train = np.load('./y_train_128.npy',allow_pickle=True)\n",
        "\n",
        "X_train = X_train/255\n",
        "X_valid = X_valid/255\n",
        "\n",
        "le = LabelEncoder().fit(['Type 1', 'Type 2', 'Type 3'])\n",
        "y_train = le.transform(y_train)\n",
        "y_valid = le.transform(y_valid)\n",
        "\n",
        "y_train_onehot = to_categorical(y_train, num_classes=3)\n",
        "y_valid_onehot = to_categorical(y_valid, num_classes=3)"
      ],
      "metadata": {
        "id": "GVkMK63W1T8W"
      },
      "execution_count": 5,
      "outputs": []
    },
    {
      "cell_type": "code",
      "source": [
        "reduceLR = ReduceLROnPlateau(monitor='val_accuracy', patience=10, verbose= 1, mode='max', factor=  0.2, min_lr = 1e-5)\n",
        "\n",
        "early = EarlyStopping(monitor='val_loss', patience=10)\n",
        "#early_stopping = EarlyStopping(monitor='val_accuracy', patience = 20, verbose=1, mode='max', restore_best_weights= True)\n",
        "\n",
        "checkpointer = ModelCheckpoint('best_bottleneck_model.hdf5',save_best_only = True,verbose = 1)"
      ],
      "metadata": {
        "id": "akaHsTyd1T8W"
      },
      "execution_count": 6,
      "outputs": []
    },
    {
      "cell_type": "code",
      "source": [
        "BATCH_SIZE = 16\n",
        "TRAIN_STEPS = len(X_train)//BATCH_SIZE\n",
        "VAL_STEPS = len(X_valid)//BATCH_SIZE\n",
        "t = ImageDataGenerator(rotation_range=0.3, zoom_range=0.3)\n",
        "valid_gen = t.flow(X_valid, y_valid_onehot, batch_size = BATCH_SIZE)\n",
        "train_gen = t.flow(X_train, y_train_onehot, batch_size = BATCH_SIZE)\n",
        "base_model = VGG19(include_top=False, weights='imagenet')\n",
        "train_data = base_model.predict_generator(train_gen, int(math.ceil(len(X_train) / BATCH_SIZE)) )  \n",
        "valid_data = base_model.predict_generator(valid_gen, int(math.ceil(len(X_valid) / BATCH_SIZE)) )  \n"
      ],
      "metadata": {
        "id": "sEkxJToU1T8W"
      },
      "execution_count": 7,
      "outputs": []
    },
    {
      "cell_type": "code",
      "source": [
        "model = Sequential([\n",
        "    GlobalAveragePooling2D(input_shape=train_data.shape[1:]),\n",
        "    Dense(3, activation='softmax')\n",
        "])\n",
        "\n",
        "\n",
        "model.compile(optimizer=RMSprop(lr=1e-4),\n",
        "              loss='categorical_crossentropy', metrics=['accuracy'])  \n",
        "\n",
        "bottleneck = model.fit(train_data, y_train_onehot, validation_data= (valid_data, y_valid_onehot), epochs= 100, verbose=1,  batch_size=BATCH_SIZE, callbacks= [checkpointer]) #피팅\n"
      ],
      "metadata": {
        "colab": {
          "base_uri": "https://localhost:8080/"
        },
        "id": "2xxtJbj-29yy",
        "outputId": "3f5fe79a-4f6f-4090-dbd3-c956a98fb3d6"
      },
      "execution_count": 8,
      "outputs": [
        {
          "output_type": "stream",
          "name": "stdout",
          "text": [
            "Epoch 1/100\n",
            "394/411 [===========================>..] - ETA: 0s - loss: 1.0545 - accuracy: 0.4794\n",
            "Epoch 1: val_loss improved from inf to 1.00827, saving model to best_bottleneck_model.hdf5\n",
            "411/411 [==============================] - 3s 6ms/step - loss: 1.0541 - accuracy: 0.4798 - val_loss: 1.0083 - val_accuracy: 0.5313\n",
            "Epoch 2/100\n",
            "407/411 [============================>.] - ETA: 0s - loss: 1.0089 - accuracy: 0.5283\n",
            "Epoch 2: val_loss improved from 1.00827 to 1.00778, saving model to best_bottleneck_model.hdf5\n",
            "411/411 [==============================] - 1s 4ms/step - loss: 1.0090 - accuracy: 0.5275 - val_loss: 1.0078 - val_accuracy: 0.5313\n",
            "Epoch 3/100\n",
            "411/411 [==============================] - ETA: 0s - loss: 1.0075 - accuracy: 0.5275\n",
            "Epoch 3: val_loss improved from 1.00778 to 1.00743, saving model to best_bottleneck_model.hdf5\n",
            "411/411 [==============================] - 1s 3ms/step - loss: 1.0075 - accuracy: 0.5275 - val_loss: 1.0074 - val_accuracy: 0.5301\n",
            "Epoch 4/100\n",
            "400/411 [============================>.] - ETA: 0s - loss: 1.0055 - accuracy: 0.5294\n",
            "Epoch 4: val_loss improved from 1.00743 to 1.00711, saving model to best_bottleneck_model.hdf5\n",
            "411/411 [==============================] - 1s 4ms/step - loss: 1.0066 - accuracy: 0.5287 - val_loss: 1.0071 - val_accuracy: 0.5301\n",
            "Epoch 5/100\n",
            "411/411 [==============================] - ETA: 0s - loss: 1.0053 - accuracy: 0.5282\n",
            "Epoch 5: val_loss did not improve from 1.00711\n",
            "411/411 [==============================] - 1s 3ms/step - loss: 1.0053 - accuracy: 0.5282 - val_loss: 1.0074 - val_accuracy: 0.5301\n",
            "Epoch 6/100\n",
            "398/411 [============================>.] - ETA: 0s - loss: 1.0049 - accuracy: 0.5286\n",
            "Epoch 6: val_loss improved from 1.00711 to 1.00666, saving model to best_bottleneck_model.hdf5\n",
            "411/411 [==============================] - 2s 4ms/step - loss: 1.0047 - accuracy: 0.5284 - val_loss: 1.0067 - val_accuracy: 0.5301\n",
            "Epoch 7/100\n",
            "408/411 [============================>.] - ETA: 0s - loss: 1.0034 - accuracy: 0.5291\n",
            "Epoch 7: val_loss did not improve from 1.00666\n",
            "411/411 [==============================] - 2s 5ms/step - loss: 1.0036 - accuracy: 0.5287 - val_loss: 1.0086 - val_accuracy: 0.5295\n",
            "Epoch 8/100\n",
            "407/411 [============================>.] - ETA: 0s - loss: 1.0031 - accuracy: 0.5284\n",
            "Epoch 8: val_loss improved from 1.00666 to 1.00635, saving model to best_bottleneck_model.hdf5\n",
            "411/411 [==============================] - 2s 4ms/step - loss: 1.0034 - accuracy: 0.5284 - val_loss: 1.0063 - val_accuracy: 0.5295\n",
            "Epoch 9/100\n",
            "395/411 [===========================>..] - ETA: 0s - loss: 1.0032 - accuracy: 0.5285\n",
            "Epoch 9: val_loss improved from 1.00635 to 1.00620, saving model to best_bottleneck_model.hdf5\n",
            "411/411 [==============================] - 1s 3ms/step - loss: 1.0027 - accuracy: 0.5290 - val_loss: 1.0062 - val_accuracy: 0.5301\n",
            "Epoch 10/100\n",
            "406/411 [============================>.] - ETA: 0s - loss: 1.0021 - accuracy: 0.5282\n",
            "Epoch 10: val_loss did not improve from 1.00620\n",
            "411/411 [==============================] - 1s 3ms/step - loss: 1.0018 - accuracy: 0.5285 - val_loss: 1.0074 - val_accuracy: 0.5295\n",
            "Epoch 11/100\n",
            "397/411 [===========================>..] - ETA: 0s - loss: 1.0016 - accuracy: 0.5283\n",
            "Epoch 11: val_loss did not improve from 1.00620\n",
            "411/411 [==============================] - 1s 3ms/step - loss: 1.0015 - accuracy: 0.5287 - val_loss: 1.0065 - val_accuracy: 0.5295\n",
            "Epoch 12/100\n",
            "393/411 [===========================>..] - ETA: 0s - loss: 0.9998 - accuracy: 0.5301\n",
            "Epoch 12: val_loss did not improve from 1.00620\n",
            "411/411 [==============================] - 1s 4ms/step - loss: 1.0002 - accuracy: 0.5292 - val_loss: 1.0077 - val_accuracy: 0.5301\n",
            "Epoch 13/100\n",
            "406/411 [============================>.] - ETA: 0s - loss: 1.0003 - accuracy: 0.5294\n",
            "Epoch 13: val_loss improved from 1.00620 to 1.00603, saving model to best_bottleneck_model.hdf5\n",
            "411/411 [==============================] - 1s 4ms/step - loss: 1.0007 - accuracy: 0.5290 - val_loss: 1.0060 - val_accuracy: 0.5295\n",
            "Epoch 14/100\n",
            "402/411 [============================>.] - ETA: 0s - loss: 0.9993 - accuracy: 0.5286\n",
            "Epoch 14: val_loss did not improve from 1.00603\n",
            "411/411 [==============================] - 1s 4ms/step - loss: 0.9996 - accuracy: 0.5287 - val_loss: 1.0063 - val_accuracy: 0.5295\n",
            "Epoch 15/100\n",
            "406/411 [============================>.] - ETA: 0s - loss: 0.9998 - accuracy: 0.5286\n",
            "Epoch 15: val_loss did not improve from 1.00603\n",
            "411/411 [==============================] - 1s 4ms/step - loss: 0.9996 - accuracy: 0.5287 - val_loss: 1.0071 - val_accuracy: 0.5301\n",
            "Epoch 16/100\n",
            "397/411 [===========================>..] - ETA: 0s - loss: 1.0003 - accuracy: 0.5279\n",
            "Epoch 16: val_loss did not improve from 1.00603\n",
            "411/411 [==============================] - 1s 4ms/step - loss: 0.9992 - accuracy: 0.5290 - val_loss: 1.0062 - val_accuracy: 0.5295\n",
            "Epoch 17/100\n",
            "399/411 [============================>.] - ETA: 0s - loss: 0.9995 - accuracy: 0.5290\n",
            "Epoch 17: val_loss did not improve from 1.00603\n",
            "411/411 [==============================] - 1s 3ms/step - loss: 0.9987 - accuracy: 0.5290 - val_loss: 1.0075 - val_accuracy: 0.5295\n",
            "Epoch 18/100\n",
            "398/411 [============================>.] - ETA: 0s - loss: 0.9995 - accuracy: 0.5286\n",
            "Epoch 18: val_loss did not improve from 1.00603\n",
            "411/411 [==============================] - 1s 4ms/step - loss: 0.9986 - accuracy: 0.5292 - val_loss: 1.0065 - val_accuracy: 0.5295\n",
            "Epoch 19/100\n",
            "398/411 [============================>.] - ETA: 0s - loss: 0.9991 - accuracy: 0.5275\n",
            "Epoch 19: val_loss did not improve from 1.00603\n",
            "411/411 [==============================] - 1s 3ms/step - loss: 0.9979 - accuracy: 0.5288 - val_loss: 1.0076 - val_accuracy: 0.5295\n",
            "Epoch 20/100\n",
            "401/411 [============================>.] - ETA: 0s - loss: 0.9966 - accuracy: 0.5298\n",
            "Epoch 20: val_loss did not improve from 1.00603\n",
            "411/411 [==============================] - 1s 4ms/step - loss: 0.9973 - accuracy: 0.5293 - val_loss: 1.0065 - val_accuracy: 0.5295\n",
            "Epoch 21/100\n",
            "399/411 [============================>.] - ETA: 0s - loss: 0.9973 - accuracy: 0.5288\n",
            "Epoch 21: val_loss did not improve from 1.00603\n",
            "411/411 [==============================] - 1s 4ms/step - loss: 0.9971 - accuracy: 0.5292 - val_loss: 1.0064 - val_accuracy: 0.5295\n",
            "Epoch 22/100\n",
            "399/411 [============================>.] - ETA: 0s - loss: 0.9960 - accuracy: 0.5296\n",
            "Epoch 22: val_loss did not improve from 1.00603\n",
            "411/411 [==============================] - 1s 4ms/step - loss: 0.9968 - accuracy: 0.5288 - val_loss: 1.0066 - val_accuracy: 0.5295\n",
            "Epoch 23/100\n",
            "410/411 [============================>.] - ETA: 0s - loss: 0.9966 - accuracy: 0.5293\n",
            "Epoch 23: val_loss did not improve from 1.00603\n",
            "411/411 [==============================] - 2s 4ms/step - loss: 0.9966 - accuracy: 0.5293 - val_loss: 1.0068 - val_accuracy: 0.5295\n",
            "Epoch 24/100\n",
            "393/411 [===========================>..] - ETA: 0s - loss: 0.9973 - accuracy: 0.5280\n",
            "Epoch 24: val_loss did not improve from 1.00603\n",
            "411/411 [==============================] - 1s 3ms/step - loss: 0.9958 - accuracy: 0.5292 - val_loss: 1.0080 - val_accuracy: 0.5295\n",
            "Epoch 25/100\n",
            "396/411 [===========================>..] - ETA: 0s - loss: 0.9946 - accuracy: 0.5305\n",
            "Epoch 25: val_loss did not improve from 1.00603\n",
            "411/411 [==============================] - 1s 3ms/step - loss: 0.9959 - accuracy: 0.5290 - val_loss: 1.0073 - val_accuracy: 0.5295\n",
            "Epoch 26/100\n",
            "411/411 [==============================] - ETA: 0s - loss: 0.9954 - accuracy: 0.5288\n",
            "Epoch 26: val_loss did not improve from 1.00603\n",
            "411/411 [==============================] - 1s 3ms/step - loss: 0.9954 - accuracy: 0.5288 - val_loss: 1.0069 - val_accuracy: 0.5295\n",
            "Epoch 27/100\n",
            "408/411 [============================>.] - ETA: 0s - loss: 0.9945 - accuracy: 0.5290\n",
            "Epoch 27: val_loss did not improve from 1.00603\n",
            "411/411 [==============================] - 2s 4ms/step - loss: 0.9950 - accuracy: 0.5288 - val_loss: 1.0090 - val_accuracy: 0.5295\n",
            "Epoch 28/100\n",
            "410/411 [============================>.] - ETA: 0s - loss: 0.9951 - accuracy: 0.5288\n",
            "Epoch 28: val_loss did not improve from 1.00603\n",
            "411/411 [==============================] - 1s 4ms/step - loss: 0.9949 - accuracy: 0.5290 - val_loss: 1.0078 - val_accuracy: 0.5295\n",
            "Epoch 29/100\n",
            "396/411 [===========================>..] - ETA: 0s - loss: 0.9947 - accuracy: 0.5287\n",
            "Epoch 29: val_loss did not improve from 1.00603\n",
            "411/411 [==============================] - 1s 3ms/step - loss: 0.9943 - accuracy: 0.5292 - val_loss: 1.0081 - val_accuracy: 0.5295\n",
            "Epoch 30/100\n",
            "410/411 [============================>.] - ETA: 0s - loss: 0.9941 - accuracy: 0.5291\n",
            "Epoch 30: val_loss did not improve from 1.00603\n",
            "411/411 [==============================] - 1s 4ms/step - loss: 0.9942 - accuracy: 0.5290 - val_loss: 1.0073 - val_accuracy: 0.5295\n",
            "Epoch 31/100\n",
            "405/411 [============================>.] - ETA: 0s - loss: 0.9936 - accuracy: 0.5290\n",
            "Epoch 31: val_loss did not improve from 1.00603\n",
            "411/411 [==============================] - 1s 4ms/step - loss: 0.9941 - accuracy: 0.5290 - val_loss: 1.0083 - val_accuracy: 0.5301\n",
            "Epoch 32/100\n",
            "394/411 [===========================>..] - ETA: 0s - loss: 0.9943 - accuracy: 0.5293\n",
            "Epoch 32: val_loss did not improve from 1.00603\n",
            "411/411 [==============================] - 1s 4ms/step - loss: 0.9938 - accuracy: 0.5292 - val_loss: 1.0082 - val_accuracy: 0.5301\n",
            "Epoch 33/100\n",
            "409/411 [============================>.] - ETA: 0s - loss: 0.9940 - accuracy: 0.5286\n",
            "Epoch 33: val_loss did not improve from 1.00603\n",
            "411/411 [==============================] - 1s 3ms/step - loss: 0.9933 - accuracy: 0.5293 - val_loss: 1.0084 - val_accuracy: 0.5295\n",
            "Epoch 34/100\n",
            "394/411 [===========================>..] - ETA: 0s - loss: 0.9926 - accuracy: 0.5301\n",
            "Epoch 34: val_loss did not improve from 1.00603\n",
            "411/411 [==============================] - 1s 3ms/step - loss: 0.9932 - accuracy: 0.5290 - val_loss: 1.0080 - val_accuracy: 0.5295\n",
            "Epoch 35/100\n",
            "405/411 [============================>.] - ETA: 0s - loss: 0.9929 - accuracy: 0.5284\n",
            "Epoch 35: val_loss did not improve from 1.00603\n",
            "411/411 [==============================] - 2s 4ms/step - loss: 0.9926 - accuracy: 0.5292 - val_loss: 1.0089 - val_accuracy: 0.5295\n",
            "Epoch 36/100\n",
            "398/411 [============================>.] - ETA: 0s - loss: 0.9928 - accuracy: 0.5287\n",
            "Epoch 36: val_loss did not improve from 1.00603\n",
            "411/411 [==============================] - 1s 4ms/step - loss: 0.9927 - accuracy: 0.5295 - val_loss: 1.0084 - val_accuracy: 0.5295\n",
            "Epoch 37/100\n",
            "403/411 [============================>.] - ETA: 0s - loss: 0.9919 - accuracy: 0.5288\n",
            "Epoch 37: val_loss did not improve from 1.00603\n",
            "411/411 [==============================] - 2s 4ms/step - loss: 0.9921 - accuracy: 0.5292 - val_loss: 1.0082 - val_accuracy: 0.5295\n",
            "Epoch 38/100\n",
            "403/411 [============================>.] - ETA: 0s - loss: 0.9926 - accuracy: 0.5293\n",
            "Epoch 38: val_loss did not improve from 1.00603\n",
            "411/411 [==============================] - 1s 3ms/step - loss: 0.9922 - accuracy: 0.5290 - val_loss: 1.0082 - val_accuracy: 0.5295\n",
            "Epoch 39/100\n",
            "405/411 [============================>.] - ETA: 0s - loss: 0.9912 - accuracy: 0.5296\n",
            "Epoch 39: val_loss did not improve from 1.00603\n",
            "411/411 [==============================] - 2s 4ms/step - loss: 0.9918 - accuracy: 0.5290 - val_loss: 1.0080 - val_accuracy: 0.5295\n",
            "Epoch 40/100\n",
            "406/411 [============================>.] - ETA: 0s - loss: 0.9913 - accuracy: 0.5291\n",
            "Epoch 40: val_loss did not improve from 1.00603\n",
            "411/411 [==============================] - 2s 4ms/step - loss: 0.9917 - accuracy: 0.5293 - val_loss: 1.0089 - val_accuracy: 0.5295\n",
            "Epoch 41/100\n",
            "399/411 [============================>.] - ETA: 0s - loss: 0.9914 - accuracy: 0.5301\n",
            "Epoch 41: val_loss did not improve from 1.00603\n",
            "411/411 [==============================] - 1s 4ms/step - loss: 0.9915 - accuracy: 0.5293 - val_loss: 1.0081 - val_accuracy: 0.5295\n",
            "Epoch 42/100\n",
            "409/411 [============================>.] - ETA: 0s - loss: 0.9909 - accuracy: 0.5296\n",
            "Epoch 42: val_loss did not improve from 1.00603\n",
            "411/411 [==============================] - 1s 3ms/step - loss: 0.9913 - accuracy: 0.5292 - val_loss: 1.0083 - val_accuracy: 0.5295\n",
            "Epoch 43/100\n",
            "408/411 [============================>.] - ETA: 0s - loss: 0.9908 - accuracy: 0.5290\n",
            "Epoch 43: val_loss did not improve from 1.00603\n",
            "411/411 [==============================] - 2s 4ms/step - loss: 0.9910 - accuracy: 0.5292 - val_loss: 1.0086 - val_accuracy: 0.5295\n",
            "Epoch 44/100\n",
            "410/411 [============================>.] - ETA: 0s - loss: 0.9909 - accuracy: 0.5293\n",
            "Epoch 44: val_loss did not improve from 1.00603\n",
            "411/411 [==============================] - 2s 4ms/step - loss: 0.9905 - accuracy: 0.5295 - val_loss: 1.0104 - val_accuracy: 0.5295\n",
            "Epoch 45/100\n",
            "398/411 [============================>.] - ETA: 0s - loss: 0.9887 - accuracy: 0.5309\n",
            "Epoch 45: val_loss did not improve from 1.00603\n",
            "411/411 [==============================] - 2s 4ms/step - loss: 0.9906 - accuracy: 0.5293 - val_loss: 1.0088 - val_accuracy: 0.5295\n",
            "Epoch 46/100\n",
            "393/411 [===========================>..] - ETA: 0s - loss: 0.9906 - accuracy: 0.5286\n",
            "Epoch 46: val_loss did not improve from 1.00603\n",
            "411/411 [==============================] - 2s 4ms/step - loss: 0.9904 - accuracy: 0.5295 - val_loss: 1.0089 - val_accuracy: 0.5295\n",
            "Epoch 47/100\n",
            "408/411 [============================>.] - ETA: 0s - loss: 0.9901 - accuracy: 0.5293\n",
            "Epoch 47: val_loss did not improve from 1.00603\n",
            "411/411 [==============================] - 2s 4ms/step - loss: 0.9901 - accuracy: 0.5293 - val_loss: 1.0104 - val_accuracy: 0.5283\n",
            "Epoch 48/100\n",
            "408/411 [============================>.] - ETA: 0s - loss: 0.9905 - accuracy: 0.5290\n",
            "Epoch 48: val_loss did not improve from 1.00603\n",
            "411/411 [==============================] - 1s 3ms/step - loss: 0.9900 - accuracy: 0.5293 - val_loss: 1.0095 - val_accuracy: 0.5295\n",
            "Epoch 49/100\n",
            "400/411 [============================>.] - ETA: 0s - loss: 0.9912 - accuracy: 0.5273\n",
            "Epoch 49: val_loss did not improve from 1.00603\n",
            "411/411 [==============================] - 2s 4ms/step - loss: 0.9892 - accuracy: 0.5295 - val_loss: 1.0106 - val_accuracy: 0.5295\n",
            "Epoch 50/100\n",
            "406/411 [============================>.] - ETA: 0s - loss: 0.9899 - accuracy: 0.5297\n",
            "Epoch 50: val_loss did not improve from 1.00603\n",
            "411/411 [==============================] - 2s 4ms/step - loss: 0.9898 - accuracy: 0.5296 - val_loss: 1.0095 - val_accuracy: 0.5295\n",
            "Epoch 51/100\n",
            "411/411 [==============================] - ETA: 0s - loss: 0.9889 - accuracy: 0.5292\n",
            "Epoch 51: val_loss did not improve from 1.00603\n",
            "411/411 [==============================] - 2s 4ms/step - loss: 0.9889 - accuracy: 0.5292 - val_loss: 1.0105 - val_accuracy: 0.5295\n",
            "Epoch 52/100\n",
            "407/411 [============================>.] - ETA: 0s - loss: 0.9885 - accuracy: 0.5299\n",
            "Epoch 52: val_loss did not improve from 1.00603\n",
            "411/411 [==============================] - 1s 3ms/step - loss: 0.9890 - accuracy: 0.5293 - val_loss: 1.0100 - val_accuracy: 0.5295\n",
            "Epoch 53/100\n",
            "398/411 [============================>.] - ETA: 0s - loss: 0.9910 - accuracy: 0.5265\n",
            "Epoch 53: val_loss did not improve from 1.00603\n",
            "411/411 [==============================] - 1s 3ms/step - loss: 0.9889 - accuracy: 0.5293 - val_loss: 1.0108 - val_accuracy: 0.5295\n",
            "Epoch 54/100\n",
            "398/411 [============================>.] - ETA: 0s - loss: 0.9886 - accuracy: 0.5287\n",
            "Epoch 54: val_loss did not improve from 1.00603\n",
            "411/411 [==============================] - 1s 4ms/step - loss: 0.9885 - accuracy: 0.5293 - val_loss: 1.0103 - val_accuracy: 0.5295\n",
            "Epoch 55/100\n",
            "411/411 [==============================] - ETA: 0s - loss: 0.9883 - accuracy: 0.5296\n",
            "Epoch 55: val_loss did not improve from 1.00603\n",
            "411/411 [==============================] - 1s 3ms/step - loss: 0.9883 - accuracy: 0.5296 - val_loss: 1.0099 - val_accuracy: 0.5295\n",
            "Epoch 56/100\n",
            "403/411 [============================>.] - ETA: 0s - loss: 0.9876 - accuracy: 0.5302\n",
            "Epoch 56: val_loss did not improve from 1.00603\n",
            "411/411 [==============================] - 1s 3ms/step - loss: 0.9878 - accuracy: 0.5295 - val_loss: 1.0104 - val_accuracy: 0.5283\n",
            "Epoch 57/100\n",
            "399/411 [============================>.] - ETA: 0s - loss: 0.9874 - accuracy: 0.5312\n",
            "Epoch 57: val_loss did not improve from 1.00603\n",
            "411/411 [==============================] - 1s 3ms/step - loss: 0.9880 - accuracy: 0.5296 - val_loss: 1.0107 - val_accuracy: 0.5277\n",
            "Epoch 58/100\n",
            "409/411 [============================>.] - ETA: 0s - loss: 0.9876 - accuracy: 0.5293\n",
            "Epoch 58: val_loss did not improve from 1.00603\n",
            "411/411 [==============================] - 2s 4ms/step - loss: 0.9877 - accuracy: 0.5293 - val_loss: 1.0110 - val_accuracy: 0.5283\n",
            "Epoch 59/100\n",
            "402/411 [============================>.] - ETA: 0s - loss: 0.9881 - accuracy: 0.5291\n",
            "Epoch 59: val_loss did not improve from 1.00603\n",
            "411/411 [==============================] - 1s 4ms/step - loss: 0.9875 - accuracy: 0.5296 - val_loss: 1.0113 - val_accuracy: 0.5283\n",
            "Epoch 60/100\n",
            "394/411 [===========================>..] - ETA: 0s - loss: 0.9872 - accuracy: 0.5293\n",
            "Epoch 60: val_loss did not improve from 1.00603\n",
            "411/411 [==============================] - 1s 3ms/step - loss: 0.9874 - accuracy: 0.5296 - val_loss: 1.0103 - val_accuracy: 0.5295\n",
            "Epoch 61/100\n",
            "410/411 [============================>.] - ETA: 0s - loss: 0.9870 - accuracy: 0.5297\n",
            "Epoch 61: val_loss did not improve from 1.00603\n",
            "411/411 [==============================] - 1s 3ms/step - loss: 0.9872 - accuracy: 0.5296 - val_loss: 1.0117 - val_accuracy: 0.5277\n",
            "Epoch 62/100\n",
            "401/411 [============================>.] - ETA: 0s - loss: 0.9884 - accuracy: 0.5284\n",
            "Epoch 62: val_loss did not improve from 1.00603\n",
            "411/411 [==============================] - 1s 3ms/step - loss: 0.9872 - accuracy: 0.5296 - val_loss: 1.0110 - val_accuracy: 0.5295\n",
            "Epoch 63/100\n",
            "411/411 [==============================] - ETA: 0s - loss: 0.9868 - accuracy: 0.5298\n",
            "Epoch 63: val_loss did not improve from 1.00603\n",
            "411/411 [==============================] - 2s 4ms/step - loss: 0.9868 - accuracy: 0.5298 - val_loss: 1.0113 - val_accuracy: 0.5283\n",
            "Epoch 64/100\n",
            "408/411 [============================>.] - ETA: 0s - loss: 0.9869 - accuracy: 0.5288\n",
            "Epoch 64: val_loss did not improve from 1.00603\n",
            "411/411 [==============================] - 1s 4ms/step - loss: 0.9863 - accuracy: 0.5293 - val_loss: 1.0125 - val_accuracy: 0.5295\n",
            "Epoch 65/100\n",
            "410/411 [============================>.] - ETA: 0s - loss: 0.9865 - accuracy: 0.5297\n",
            "Epoch 65: val_loss did not improve from 1.00603\n",
            "411/411 [==============================] - 1s 3ms/step - loss: 0.9865 - accuracy: 0.5298 - val_loss: 1.0119 - val_accuracy: 0.5277\n",
            "Epoch 66/100\n",
            "399/411 [============================>.] - ETA: 0s - loss: 0.9859 - accuracy: 0.5293\n",
            "Epoch 66: val_loss did not improve from 1.00603\n",
            "411/411 [==============================] - 2s 4ms/step - loss: 0.9862 - accuracy: 0.5296 - val_loss: 1.0112 - val_accuracy: 0.5283\n",
            "Epoch 67/100\n",
            "411/411 [==============================] - ETA: 0s - loss: 0.9859 - accuracy: 0.5296\n",
            "Epoch 67: val_loss did not improve from 1.00603\n",
            "411/411 [==============================] - 1s 4ms/step - loss: 0.9859 - accuracy: 0.5296 - val_loss: 1.0111 - val_accuracy: 0.5277\n",
            "Epoch 68/100\n",
            "404/411 [============================>.] - ETA: 0s - loss: 0.9865 - accuracy: 0.5299\n",
            "Epoch 68: val_loss did not improve from 1.00603\n",
            "411/411 [==============================] - 2s 4ms/step - loss: 0.9860 - accuracy: 0.5301 - val_loss: 1.0118 - val_accuracy: 0.5295\n",
            "Epoch 69/100\n",
            "403/411 [============================>.] - ETA: 0s - loss: 0.9853 - accuracy: 0.5315\n",
            "Epoch 69: val_loss did not improve from 1.00603\n",
            "411/411 [==============================] - 1s 3ms/step - loss: 0.9857 - accuracy: 0.5296 - val_loss: 1.0120 - val_accuracy: 0.5271\n",
            "Epoch 70/100\n",
            "399/411 [============================>.] - ETA: 0s - loss: 0.9872 - accuracy: 0.5294\n",
            "Epoch 70: val_loss did not improve from 1.00603\n",
            "411/411 [==============================] - 2s 4ms/step - loss: 0.9856 - accuracy: 0.5304 - val_loss: 1.0120 - val_accuracy: 0.5295\n",
            "Epoch 71/100\n",
            "404/411 [============================>.] - ETA: 0s - loss: 0.9845 - accuracy: 0.5308\n",
            "Epoch 71: val_loss did not improve from 1.00603\n",
            "411/411 [==============================] - 1s 4ms/step - loss: 0.9856 - accuracy: 0.5296 - val_loss: 1.0116 - val_accuracy: 0.5283\n",
            "Epoch 72/100\n",
            "396/411 [===========================>..] - ETA: 0s - loss: 0.9842 - accuracy: 0.5309\n",
            "Epoch 72: val_loss did not improve from 1.00603\n",
            "411/411 [==============================] - 2s 4ms/step - loss: 0.9852 - accuracy: 0.5301 - val_loss: 1.0118 - val_accuracy: 0.5283\n",
            "Epoch 73/100\n",
            "409/411 [============================>.] - ETA: 0s - loss: 0.9851 - accuracy: 0.5300\n",
            "Epoch 73: val_loss did not improve from 1.00603\n",
            "411/411 [==============================] - 2s 4ms/step - loss: 0.9852 - accuracy: 0.5298 - val_loss: 1.0117 - val_accuracy: 0.5283\n",
            "Epoch 74/100\n",
            "397/411 [===========================>..] - ETA: 0s - loss: 0.9846 - accuracy: 0.5312\n",
            "Epoch 74: val_loss did not improve from 1.00603\n",
            "411/411 [==============================] - 1s 4ms/step - loss: 0.9847 - accuracy: 0.5308 - val_loss: 1.0118 - val_accuracy: 0.5277\n",
            "Epoch 75/100\n",
            "401/411 [============================>.] - ETA: 0s - loss: 0.9863 - accuracy: 0.5291\n",
            "Epoch 75: val_loss did not improve from 1.00603\n",
            "411/411 [==============================] - 2s 4ms/step - loss: 0.9847 - accuracy: 0.5307 - val_loss: 1.0126 - val_accuracy: 0.5277\n",
            "Epoch 76/100\n",
            "397/411 [===========================>..] - ETA: 0s - loss: 0.9837 - accuracy: 0.5305\n",
            "Epoch 76: val_loss did not improve from 1.00603\n",
            "411/411 [==============================] - 1s 4ms/step - loss: 0.9846 - accuracy: 0.5299 - val_loss: 1.0128 - val_accuracy: 0.5283\n",
            "Epoch 77/100\n",
            "402/411 [============================>.] - ETA: 0s - loss: 0.9839 - accuracy: 0.5303\n",
            "Epoch 77: val_loss did not improve from 1.00603\n",
            "411/411 [==============================] - 2s 4ms/step - loss: 0.9844 - accuracy: 0.5302 - val_loss: 1.0124 - val_accuracy: 0.5277\n",
            "Epoch 78/100\n",
            "404/411 [============================>.] - ETA: 0s - loss: 0.9845 - accuracy: 0.5308\n",
            "Epoch 78: val_loss did not improve from 1.00603\n",
            "411/411 [==============================] - 1s 4ms/step - loss: 0.9840 - accuracy: 0.5311 - val_loss: 1.0122 - val_accuracy: 0.5283\n",
            "Epoch 79/100\n",
            "402/411 [============================>.] - ETA: 0s - loss: 0.9848 - accuracy: 0.5295\n",
            "Epoch 79: val_loss did not improve from 1.00603\n",
            "411/411 [==============================] - 2s 4ms/step - loss: 0.9842 - accuracy: 0.5299 - val_loss: 1.0124 - val_accuracy: 0.5277\n",
            "Epoch 80/100\n",
            "395/411 [===========================>..] - ETA: 0s - loss: 0.9847 - accuracy: 0.5285\n",
            "Epoch 80: val_loss did not improve from 1.00603\n",
            "411/411 [==============================] - 2s 4ms/step - loss: 0.9839 - accuracy: 0.5304 - val_loss: 1.0127 - val_accuracy: 0.5283\n",
            "Epoch 81/100\n",
            "407/411 [============================>.] - ETA: 0s - loss: 0.9839 - accuracy: 0.5301\n",
            "Epoch 81: val_loss did not improve from 1.00603\n",
            "411/411 [==============================] - 2s 4ms/step - loss: 0.9838 - accuracy: 0.5304 - val_loss: 1.0128 - val_accuracy: 0.5283\n",
            "Epoch 82/100\n",
            "400/411 [============================>.] - ETA: 0s - loss: 0.9825 - accuracy: 0.5325\n",
            "Epoch 82: val_loss did not improve from 1.00603\n",
            "411/411 [==============================] - 2s 4ms/step - loss: 0.9835 - accuracy: 0.5301 - val_loss: 1.0133 - val_accuracy: 0.5283\n",
            "Epoch 83/100\n",
            "406/411 [============================>.] - ETA: 0s - loss: 0.9834 - accuracy: 0.5305\n",
            "Epoch 83: val_loss did not improve from 1.00603\n",
            "411/411 [==============================] - 2s 4ms/step - loss: 0.9831 - accuracy: 0.5304 - val_loss: 1.0134 - val_accuracy: 0.5283\n",
            "Epoch 84/100\n",
            "404/411 [============================>.] - ETA: 0s - loss: 0.9833 - accuracy: 0.5311\n",
            "Epoch 84: val_loss did not improve from 1.00603\n",
            "411/411 [==============================] - 1s 3ms/step - loss: 0.9832 - accuracy: 0.5310 - val_loss: 1.0133 - val_accuracy: 0.5283\n",
            "Epoch 85/100\n",
            "407/411 [============================>.] - ETA: 0s - loss: 0.9830 - accuracy: 0.5310\n",
            "Epoch 85: val_loss did not improve from 1.00603\n",
            "411/411 [==============================] - 1s 3ms/step - loss: 0.9834 - accuracy: 0.5305 - val_loss: 1.0131 - val_accuracy: 0.5277\n",
            "Epoch 86/100\n",
            "393/411 [===========================>..] - ETA: 0s - loss: 0.9824 - accuracy: 0.5304\n",
            "Epoch 86: val_loss did not improve from 1.00603\n",
            "411/411 [==============================] - 2s 4ms/step - loss: 0.9828 - accuracy: 0.5302 - val_loss: 1.0131 - val_accuracy: 0.5283\n",
            "Epoch 87/100\n",
            "397/411 [===========================>..] - ETA: 0s - loss: 0.9818 - accuracy: 0.5312\n",
            "Epoch 87: val_loss did not improve from 1.00603\n",
            "411/411 [==============================] - 1s 4ms/step - loss: 0.9829 - accuracy: 0.5310 - val_loss: 1.0133 - val_accuracy: 0.5283\n",
            "Epoch 88/100\n",
            "398/411 [============================>.] - ETA: 0s - loss: 0.9831 - accuracy: 0.5298\n",
            "Epoch 88: val_loss did not improve from 1.00603\n",
            "411/411 [==============================] - 1s 4ms/step - loss: 0.9829 - accuracy: 0.5311 - val_loss: 1.0139 - val_accuracy: 0.5283\n",
            "Epoch 89/100\n",
            "403/411 [============================>.] - ETA: 0s - loss: 0.9827 - accuracy: 0.5315\n",
            "Epoch 89: val_loss did not improve from 1.00603\n",
            "411/411 [==============================] - 1s 3ms/step - loss: 0.9825 - accuracy: 0.5307 - val_loss: 1.0143 - val_accuracy: 0.5259\n",
            "Epoch 90/100\n",
            "401/411 [============================>.] - ETA: 0s - loss: 0.9829 - accuracy: 0.5299\n",
            "Epoch 90: val_loss did not improve from 1.00603\n",
            "411/411 [==============================] - 1s 4ms/step - loss: 0.9825 - accuracy: 0.5305 - val_loss: 1.0135 - val_accuracy: 0.5277\n",
            "Epoch 91/100\n",
            "399/411 [============================>.] - ETA: 0s - loss: 0.9826 - accuracy: 0.5302\n",
            "Epoch 91: val_loss did not improve from 1.00603\n",
            "411/411 [==============================] - 1s 4ms/step - loss: 0.9820 - accuracy: 0.5316 - val_loss: 1.0148 - val_accuracy: 0.5295\n",
            "Epoch 92/100\n",
            "407/411 [============================>.] - ETA: 0s - loss: 0.9822 - accuracy: 0.5306\n",
            "Epoch 92: val_loss did not improve from 1.00603\n",
            "411/411 [==============================] - 2s 4ms/step - loss: 0.9820 - accuracy: 0.5304 - val_loss: 1.0148 - val_accuracy: 0.5283\n",
            "Epoch 93/100\n",
            "399/411 [============================>.] - ETA: 0s - loss: 0.9815 - accuracy: 0.5313\n",
            "Epoch 93: val_loss did not improve from 1.00603\n",
            "411/411 [==============================] - 2s 4ms/step - loss: 0.9817 - accuracy: 0.5314 - val_loss: 1.0149 - val_accuracy: 0.5283\n",
            "Epoch 94/100\n",
            "401/411 [============================>.] - ETA: 0s - loss: 0.9813 - accuracy: 0.5309\n",
            "Epoch 94: val_loss did not improve from 1.00603\n",
            "411/411 [==============================] - 1s 3ms/step - loss: 0.9818 - accuracy: 0.5310 - val_loss: 1.0139 - val_accuracy: 0.5271\n",
            "Epoch 95/100\n",
            "411/411 [==============================] - ETA: 0s - loss: 0.9817 - accuracy: 0.5316\n",
            "Epoch 95: val_loss did not improve from 1.00603\n",
            "411/411 [==============================] - 1s 4ms/step - loss: 0.9817 - accuracy: 0.5316 - val_loss: 1.0149 - val_accuracy: 0.5283\n",
            "Epoch 96/100\n",
            "404/411 [============================>.] - ETA: 0s - loss: 0.9823 - accuracy: 0.5297\n",
            "Epoch 96: val_loss did not improve from 1.00603\n",
            "411/411 [==============================] - 1s 3ms/step - loss: 0.9813 - accuracy: 0.5311 - val_loss: 1.0140 - val_accuracy: 0.5283\n",
            "Epoch 97/100\n",
            "403/411 [============================>.] - ETA: 0s - loss: 0.9812 - accuracy: 0.5323\n",
            "Epoch 97: val_loss did not improve from 1.00603\n",
            "411/411 [==============================] - 1s 4ms/step - loss: 0.9814 - accuracy: 0.5319 - val_loss: 1.0141 - val_accuracy: 0.5271\n",
            "Epoch 98/100\n",
            "408/411 [============================>.] - ETA: 0s - loss: 0.9802 - accuracy: 0.5326\n",
            "Epoch 98: val_loss did not improve from 1.00603\n",
            "411/411 [==============================] - 1s 4ms/step - loss: 0.9812 - accuracy: 0.5317 - val_loss: 1.0145 - val_accuracy: 0.5283\n",
            "Epoch 99/100\n",
            "398/411 [============================>.] - ETA: 0s - loss: 0.9808 - accuracy: 0.5319\n",
            "Epoch 99: val_loss did not improve from 1.00603\n",
            "411/411 [==============================] - 2s 4ms/step - loss: 0.9810 - accuracy: 0.5316 - val_loss: 1.0146 - val_accuracy: 0.5289\n",
            "Epoch 100/100\n",
            "411/411 [==============================] - ETA: 0s - loss: 0.9810 - accuracy: 0.5322\n",
            "Epoch 100: val_loss did not improve from 1.00603\n",
            "411/411 [==============================] - 2s 4ms/step - loss: 0.9810 - accuracy: 0.5322 - val_loss: 1.0149 - val_accuracy: 0.5283\n"
          ]
        }
      ]
    },
    {
      "cell_type": "code",
      "execution_count": 13,
      "metadata": {
        "colab": {
          "base_uri": "https://localhost:8080/"
        },
        "outputId": "0e7138a1-0690-483f-8a72-09f030701ab2",
        "id": "H5meh4WZ1T8W"
      },
      "outputs": [
        {
          "output_type": "stream",
          "name": "stdout",
          "text": [
            "Model: \"sequential_5\"\n",
            "_________________________________________________________________\n",
            " Layer (type)                Output Shape              Param #   \n",
            "=================================================================\n",
            " vgg19 (Functional)          (None, 4, 4, 512)         20024384  \n",
            "                                                                 \n",
            " dropout (Dropout)           (None, 4, 4, 512)         0         \n",
            "                                                                 \n",
            " flatten (Flatten)           (None, 8192)              0         \n",
            "                                                                 \n",
            " batch_normalization (BatchN  (None, 8192)             32768     \n",
            " ormalization)                                                   \n",
            "                                                                 \n",
            " dense_3 (Dense)             (None, 1024)              8389632   \n",
            "                                                                 \n",
            " batch_normalization_1 (Batc  (None, 1024)             4096      \n",
            " hNormalization)                                                 \n",
            "                                                                 \n",
            " activation (Activation)     (None, 1024)              0         \n",
            "                                                                 \n",
            " dropout_1 (Dropout)         (None, 1024)              0         \n",
            "                                                                 \n",
            " dense_4 (Dense)             (None, 1024)              1049600   \n",
            "                                                                 \n",
            " batch_normalization_2 (Batc  (None, 1024)             4096      \n",
            " hNormalization)                                                 \n",
            "                                                                 \n",
            " activation_1 (Activation)   (None, 1024)              0         \n",
            "                                                                 \n",
            " dropout_2 (Dropout)         (None, 1024)              0         \n",
            "                                                                 \n",
            " dense_5 (Dense)             (None, 1024)              1049600   \n",
            "                                                                 \n",
            " batch_normalization_3 (Batc  (None, 1024)             4096      \n",
            " hNormalization)                                                 \n",
            "                                                                 \n",
            " activation_2 (Activation)   (None, 1024)              0         \n",
            "                                                                 \n",
            " dropout_3 (Dropout)         (None, 1024)              0         \n",
            "                                                                 \n",
            " dense_6 (Dense)             (None, 3)                 3075      \n",
            "                                                                 \n",
            "=================================================================\n",
            "Total params: 30,561,347\n",
            "Trainable params: 10,514,435\n",
            "Non-trainable params: 20,046,912\n",
            "_________________________________________________________________\n"
          ]
        }
      ],
      "source": [
        "# 사전 교육된 기본 모델 가져오기\n",
        "base_model = VGG19(include_top=False, weights='imagenet', input_shape=(128,128,3))\n",
        "\n",
        "# 교육할 계층 설정 최상위 계층만 교육하기 위해 (False 가중치 고정)\n",
        "for layer in base_model.layers:\n",
        "    layer.trainable = False\n",
        "    \n",
        "trs = Sequential([\n",
        "    base_model,\n",
        "    Dropout(0.2),\n",
        "    Flatten(),\n",
        "    BatchNormalization(),\n",
        "    Dense(1024,kernel_initializer='he_uniform'),\n",
        "    BatchNormalization(),\n",
        "    Activation('relu'),\n",
        "    Dropout(0.2),\n",
        "    Dense(1024,kernel_initializer='he_uniform'),\n",
        "    BatchNormalization(),\n",
        "    Activation('relu'),\n",
        "    Dropout(0.2),\n",
        "    Dense(1024,kernel_initializer='he_uniform'),\n",
        "    BatchNormalization(),\n",
        "    Activation('relu'),\n",
        "    Dropout(0.2),\n",
        "    Dense(3, activation='softmax')\n",
        "])\n",
        "\n",
        "trs.summary()\n",
        "\n",
        "# t_gen.samples == size of train df\n",
        "#verimggen = trs.fit(t_gen, steps_per_epoch = t_gen.samples//16, validation_data= v_nongen, epochs= 10, verbose=1)"
      ]
    },
    {
      "cell_type": "markdown",
      "source": [
        "세이빙한 모델 가져오는 부분"
      ],
      "metadata": {
        "id": "B_ULLOrO1T8W"
      }
    },
    {
      "cell_type": "code",
      "execution_count": 14,
      "metadata": {
        "id": "n4szm0Qv1T8W"
      },
      "outputs": [],
      "source": [
        "#trs = keras.models.load_model('VGG19_verimggen.h5') #모델 가져오기\n",
        "trs.compile(optimizer= SGD(lr=1e-4, momentum=0.9),\n",
        "  loss='categorical_crossentropy', \n",
        "  metrics=['accuracy'])"
      ]
    },
    {
      "cell_type": "code",
      "source": [
        "es = EarlyStopping(monitor='val_loss', mode='min', patience=6,restore_best_weights=True, verbose=1)\n",
        "verimggen = trs.fit(train_gen, validation_data= valid_gen, epochs= 60, verbose=1,  steps_per_epoch = TRAIN_STEPS, callbacks= [es]) #피팅\n",
        "trs.save('VGG19_BT.h5')"
      ],
      "metadata": {
        "colab": {
          "base_uri": "https://localhost:8080/"
        },
        "outputId": "d58105b0-bdc4-4066-e1a6-6545a26316f3",
        "id": "WD0N4oZa1T8W"
      },
      "execution_count": 16,
      "outputs": [
        {
          "output_type": "stream",
          "name": "stdout",
          "text": [
            "Epoch 1/60\n",
            "410/410 [==============================] - 37s 86ms/step - loss: 1.2033 - accuracy: 0.4360 - val_loss: 1.0142 - val_accuracy: 0.4948\n",
            "Epoch 2/60\n",
            "410/410 [==============================] - 33s 80ms/step - loss: 1.1260 - accuracy: 0.4703 - val_loss: 1.0131 - val_accuracy: 0.4991\n",
            "Epoch 3/60\n",
            "410/410 [==============================] - 33s 80ms/step - loss: 1.1004 - accuracy: 0.4769 - val_loss: 0.9878 - val_accuracy: 0.5247\n",
            "Epoch 4/60\n",
            "410/410 [==============================] - 33s 80ms/step - loss: 1.0668 - accuracy: 0.4912 - val_loss: 0.9719 - val_accuracy: 0.5180\n",
            "Epoch 5/60\n",
            "410/410 [==============================] - 33s 80ms/step - loss: 1.0601 - accuracy: 0.4892 - val_loss: 0.9641 - val_accuracy: 0.5429\n",
            "Epoch 6/60\n",
            "410/410 [==============================] - 33s 80ms/step - loss: 1.0445 - accuracy: 0.5004 - val_loss: 0.9661 - val_accuracy: 0.5222\n",
            "Epoch 7/60\n",
            "410/410 [==============================] - 33s 79ms/step - loss: 1.0345 - accuracy: 0.5043 - val_loss: 0.9517 - val_accuracy: 0.5472\n",
            "Epoch 8/60\n",
            "410/410 [==============================] - 33s 80ms/step - loss: 1.0080 - accuracy: 0.5158 - val_loss: 0.9501 - val_accuracy: 0.5466\n",
            "Epoch 9/60\n",
            "410/410 [==============================] - 34s 82ms/step - loss: 1.0170 - accuracy: 0.5106 - val_loss: 0.9403 - val_accuracy: 0.5575\n",
            "Epoch 10/60\n",
            "410/410 [==============================] - 33s 80ms/step - loss: 0.9925 - accuracy: 0.5144 - val_loss: 0.9410 - val_accuracy: 0.5545\n",
            "Epoch 11/60\n",
            "410/410 [==============================] - 33s 80ms/step - loss: 0.9954 - accuracy: 0.5169 - val_loss: 0.9373 - val_accuracy: 0.5563\n",
            "Epoch 12/60\n",
            "410/410 [==============================] - 33s 79ms/step - loss: 0.9766 - accuracy: 0.5312 - val_loss: 0.9353 - val_accuracy: 0.5490\n",
            "Epoch 13/60\n",
            "410/410 [==============================] - 33s 80ms/step - loss: 0.9762 - accuracy: 0.5280 - val_loss: 0.9398 - val_accuracy: 0.5429\n",
            "Epoch 14/60\n",
            "410/410 [==============================] - 34s 82ms/step - loss: 0.9608 - accuracy: 0.5303 - val_loss: 0.9389 - val_accuracy: 0.5508\n",
            "Epoch 15/60\n",
            "410/410 [==============================] - 33s 80ms/step - loss: 0.9497 - accuracy: 0.5364 - val_loss: 0.9356 - val_accuracy: 0.5551\n",
            "Epoch 16/60\n",
            "410/410 [==============================] - 33s 80ms/step - loss: 0.9632 - accuracy: 0.5309 - val_loss: 0.9368 - val_accuracy: 0.5533\n",
            "Epoch 17/60\n",
            "410/410 [==============================] - 33s 80ms/step - loss: 0.9460 - accuracy: 0.5401 - val_loss: 0.9258 - val_accuracy: 0.5630\n",
            "Epoch 18/60\n",
            "410/410 [==============================] - 33s 81ms/step - loss: 0.9438 - accuracy: 0.5431 - val_loss: 0.9217 - val_accuracy: 0.5581\n",
            "Epoch 19/60\n",
            "410/410 [==============================] - 34s 82ms/step - loss: 0.9381 - accuracy: 0.5489 - val_loss: 0.9351 - val_accuracy: 0.5484\n",
            "Epoch 20/60\n",
            "410/410 [==============================] - 33s 80ms/step - loss: 0.9402 - accuracy: 0.5492 - val_loss: 0.9179 - val_accuracy: 0.5600\n",
            "Epoch 21/60\n",
            "410/410 [==============================] - 33s 80ms/step - loss: 0.9325 - accuracy: 0.5503 - val_loss: 0.9330 - val_accuracy: 0.5478\n",
            "Epoch 22/60\n",
            "410/410 [==============================] - 33s 80ms/step - loss: 0.9346 - accuracy: 0.5468 - val_loss: 0.9097 - val_accuracy: 0.5636\n",
            "Epoch 23/60\n",
            "410/410 [==============================] - 33s 80ms/step - loss: 0.9316 - accuracy: 0.5509 - val_loss: 0.9104 - val_accuracy: 0.5642\n",
            "Epoch 24/60\n",
            "410/410 [==============================] - 33s 80ms/step - loss: 0.9197 - accuracy: 0.5593 - val_loss: 0.9154 - val_accuracy: 0.5636\n",
            "Epoch 25/60\n",
            "410/410 [==============================] - 33s 80ms/step - loss: 0.9220 - accuracy: 0.5562 - val_loss: 0.9059 - val_accuracy: 0.5673\n",
            "Epoch 26/60\n",
            "410/410 [==============================] - 33s 80ms/step - loss: 0.9184 - accuracy: 0.5549 - val_loss: 0.9053 - val_accuracy: 0.5630\n",
            "Epoch 27/60\n",
            "410/410 [==============================] - 33s 79ms/step - loss: 0.9113 - accuracy: 0.5614 - val_loss: 0.9243 - val_accuracy: 0.5600\n",
            "Epoch 28/60\n",
            "410/410 [==============================] - 34s 83ms/step - loss: 0.9118 - accuracy: 0.5571 - val_loss: 0.9152 - val_accuracy: 0.5630\n",
            "Epoch 29/60\n",
            "410/410 [==============================] - 33s 80ms/step - loss: 0.9094 - accuracy: 0.5683 - val_loss: 0.9122 - val_accuracy: 0.5612\n",
            "Epoch 30/60\n",
            "410/410 [==============================] - 33s 81ms/step - loss: 0.9056 - accuracy: 0.5701 - val_loss: 0.9131 - val_accuracy: 0.5648\n",
            "Epoch 31/60\n",
            "410/410 [==============================] - 33s 80ms/step - loss: 0.8951 - accuracy: 0.5756 - val_loss: 0.9082 - val_accuracy: 0.5685\n",
            "Epoch 32/60\n",
            "410/410 [==============================] - ETA: 0s - loss: 0.8889 - accuracy: 0.5720Restoring model weights from the end of the best epoch: 26.\n",
            "410/410 [==============================] - 33s 80ms/step - loss: 0.8889 - accuracy: 0.5720 - val_loss: 0.9080 - val_accuracy: 0.5660\n",
            "Epoch 32: early stopping\n"
          ]
        }
      ]
    },
    {
      "cell_type": "code",
      "source": [
        "with open('VGG19_bottle11.pkl', 'wb') as f:\n",
        "\tpickle.dump(verimggen.history, f, protocol=pickle.HIGHEST_PROTOCOL)"
      ],
      "metadata": {
        "id": "qDEkjeX31T8W"
      },
      "execution_count": null,
      "outputs": []
    },
    {
      "cell_type": "code",
      "source": [
        "# history 담은 pickle file\n",
        "trs = keras.models.load_model('VGG19_FT1.h5')\n",
        "trs.compile(optimizer= SGD(lr=1e-4, momentum=0.9),\n",
        "  loss='categorical_crossentropy', \n",
        "  metrics=['accuracy']) #옵티마이저 컴파일\n",
        "verimggen = trs.fit(train_gen, validation_data= valid_gen, epochs= 60, verbose=1,  steps_per_epoch = TRAIN_STEPS, callbacks= [early]) #피팅\n",
        "trs.save('VGG19_bottle11.h5')"
      ],
      "metadata": {
        "colab": {
          "base_uri": "https://localhost:8080/"
        },
        "outputId": "764715c8-4f76-42d5-db6d-ea27e135a549",
        "id": "fDyfJAI21T8W"
      },
      "execution_count": null,
      "outputs": [
        {
          "output_type": "stream",
          "name": "stdout",
          "text": [
            "Epoch 1/60\n",
            "410/410 [==============================] - 36s 86ms/step - loss: 0.9216 - accuracy: 0.5501 - val_loss: 0.9252 - val_accuracy: 0.5575\n",
            "Epoch 2/60\n",
            "410/410 [==============================] - 37s 89ms/step - loss: 0.9233 - accuracy: 0.5523 - val_loss: 0.9230 - val_accuracy: 0.5612\n",
            "Epoch 3/60\n",
            "410/410 [==============================] - 35s 85ms/step - loss: 0.9166 - accuracy: 0.5471 - val_loss: 0.9236 - val_accuracy: 0.5600\n",
            "Epoch 4/60\n",
            "410/410 [==============================] - 35s 84ms/step - loss: 0.9209 - accuracy: 0.5549 - val_loss: 0.9225 - val_accuracy: 0.5557\n",
            "Epoch 5/60\n",
            "410/410 [==============================] - 34s 83ms/step - loss: 0.9186 - accuracy: 0.5547 - val_loss: 0.9175 - val_accuracy: 0.5612\n",
            "Epoch 6/60\n",
            "410/410 [==============================] - 35s 87ms/step - loss: 0.9182 - accuracy: 0.5529 - val_loss: 0.9204 - val_accuracy: 0.5587\n",
            "Epoch 7/60\n",
            "410/410 [==============================] - 38s 93ms/step - loss: 0.9174 - accuracy: 0.5507 - val_loss: 0.9242 - val_accuracy: 0.5557\n",
            "Epoch 8/60\n",
            "410/410 [==============================] - 35s 84ms/step - loss: 0.9115 - accuracy: 0.5550 - val_loss: 0.9135 - val_accuracy: 0.5618\n",
            "Epoch 9/60\n",
            "410/410 [==============================] - 35s 86ms/step - loss: 0.9122 - accuracy: 0.5604 - val_loss: 0.9136 - val_accuracy: 0.5551\n",
            "Epoch 10/60\n",
            "410/410 [==============================] - 35s 84ms/step - loss: 0.9101 - accuracy: 0.5561 - val_loss: 0.9158 - val_accuracy: 0.5526\n",
            "Epoch 11/60\n",
            "410/410 [==============================] - 34s 84ms/step - loss: 0.9147 - accuracy: 0.5495 - val_loss: 0.9179 - val_accuracy: 0.5520\n",
            "Epoch 12/60\n",
            "410/410 [==============================] - 34s 84ms/step - loss: 0.9100 - accuracy: 0.5535 - val_loss: 0.9101 - val_accuracy: 0.5636\n",
            "Epoch 13/60\n",
            "410/410 [==============================] - 36s 87ms/step - loss: 0.9083 - accuracy: 0.5570 - val_loss: 0.9218 - val_accuracy: 0.5520\n",
            "Epoch 14/60\n",
            "410/410 [==============================] - 34s 84ms/step - loss: 0.9102 - accuracy: 0.5550 - val_loss: 0.9129 - val_accuracy: 0.5624\n",
            "Epoch 15/60\n",
            "410/410 [==============================] - 34s 84ms/step - loss: 0.9072 - accuracy: 0.5607 - val_loss: 0.9144 - val_accuracy: 0.5557\n",
            "Epoch 16/60\n",
            "410/410 [==============================] - 34s 84ms/step - loss: 0.9024 - accuracy: 0.5646 - val_loss: 0.9197 - val_accuracy: 0.5539\n",
            "Epoch 17/60\n",
            "410/410 [==============================] - 36s 88ms/step - loss: 0.9077 - accuracy: 0.5562 - val_loss: 0.9094 - val_accuracy: 0.5520\n",
            "Epoch 18/60\n",
            "410/410 [==============================] - 35s 85ms/step - loss: 0.9023 - accuracy: 0.5648 - val_loss: 0.9136 - val_accuracy: 0.5569\n"
          ]
        }
      ]
    },
    {
      "cell_type": "code",
      "source": [
        "with open('VGG19_FT1.pkl', 'rb') as f:\n",
        "\tdf = pickle.load(f)"
      ],
      "metadata": {
        "id": "FGZXIEYT1T8W"
      },
      "execution_count": null,
      "outputs": []
    },
    {
      "cell_type": "code",
      "source": [
        " for i in range(len(verimggen.history['loss'])):\n",
        "    df['loss'].append(verimggen.history['loss'][i])\n",
        "    df['accuracy'].append(verimggen.history['accuracy'][i])\n",
        "    df['val_loss'].append(verimggen.history['val_loss'][i])\n",
        "    df['val_accuracy'].append(verimggen.history['val_accuracy'][i])"
      ],
      "metadata": {
        "id": "BcFKTqAI1T8W"
      },
      "execution_count": null,
      "outputs": []
    },
    {
      "cell_type": "code",
      "source": [
        "with open('VGG19_FT2.pkl', 'wb') as f:\n",
        "\tpickle.dump(df, f, protocol=pickle.HIGHEST_PROTOCOL)"
      ],
      "metadata": {
        "id": "ssccGKdg1T8W"
      },
      "execution_count": null,
      "outputs": []
    },
    {
      "cell_type": "code",
      "source": [
        "import matplotlib.pyplot as plt\n",
        "\n",
        "\n",
        "plt.figure(figsize=(15, 5))\n",
        "\n",
        "plt.subplot(1, 2, 1)\n",
        "plt.plot(df['accuracy'], label='acc')\n",
        "plt.plot(df['val_accuracy'], label='val_acc')\n",
        "plt.legend(loc='lower right')\n",
        "plt.title('Accuracy comparison')\n",
        "\n",
        "plt.subplot(1, 2, 2)\n",
        "plt.plot(df['loss'], label='loss')\n",
        "plt.plot(df['val_loss'], label='val_loss')\n",
        "plt.legend(loc='upper right')\n",
        "plt.title('Loss comparison')\n",
        "\n",
        "plt.show()"
      ],
      "metadata": {
        "colab": {
          "base_uri": "https://localhost:8080/",
          "height": 336
        },
        "outputId": "f4dc8dba-de3f-45c3-e5cb-1e1f653d3d2c",
        "id": "ykzy5t9l1T8W"
      },
      "execution_count": null,
      "outputs": [
        {
          "output_type": "display_data",
          "data": {
            "text/plain": [
              "<Figure size 1080x360 with 2 Axes>"
            ],
            "image/png": "[encoded data removed]"
          },
          "metadata": {
            "needs_background": "light"
          }
        }
      ]
    },
    {
      "cell_type": "markdown",
      "source": [
        "모델 평가"
      ],
      "metadata": {
        "id": "GuTNP5SS1T8W"
      }
    },
    {
      "cell_type": "code",
      "source": [
        "X_test = np.load('./X_test_128.npy',allow_pickle=True)/255\n",
        "y_test = np.load('./y_test_128.npy',allow_pickle=True)\n",
        "y_test = np.array(y_test).astype(np.float32)\n",
        "trs.evaluate(X_test, y_test)"
      ],
      "metadata": {
        "colab": {
          "base_uri": "https://localhost:8080/"
        },
        "outputId": "a380abee-f0f4-4af9-ee74-c72c587005ae",
        "id": "NBG9pFLc1T8W"
      },
      "execution_count": null,
      "outputs": [
        {
          "output_type": "stream",
          "name": "stdout",
          "text": [
            "16/16 [==============================] - 107s 7s/step - loss: 0.9421 - accuracy: 0.5605\n"
          ]
        },
        {
          "output_type": "execute_result",
          "data": {
            "text/plain": [
              "[0.9420881271362305, 0.560546875]"
            ]
          },
          "metadata": {},
          "execution_count": 24
        }
      ]
    },
    {
      "cell_type": "code",
      "source": [
        "import torch\n",
        "y_test = torch.Tensor(y_test)\n",
        "y_test = torch.argmax(y_test, dim=1)"
      ],
      "metadata": {
        "id": "_oboyKWQ1T8W"
      },
      "execution_count": null,
      "outputs": []
    },
    {
      "cell_type": "code",
      "source": [
        "y_pred_enc = trs.predict(X_test)          # one-hot encoding된 label 예측값\n",
        "y_pred = [np.argmax(i) for i in y_pred_enc] # label 예측값\n",
        "matrix = confusion_matrix(y_test, y_pred)\n",
        "item = {\n",
        "      0: 'Type 1'\n",
        "    , 1: 'Type 2'\n",
        "    , 2: 'Type 3'\n",
        "}\n",
        "res = pd.DataFrame(matrix)\n",
        "res.columns = item.values()\n",
        "res.index = item.values()\n",
        "        \n",
        "res"
      ],
      "metadata": {
        "colab": {
          "base_uri": "https://localhost:8080/",
          "height": 161
        },
        "outputId": "9aec9875-aed0-46af-de44-3636b5e65662",
        "id": "UvewJNBJ1T8W"
      },
      "execution_count": null,
      "outputs": [
        {
          "output_type": "stream",
          "name": "stdout",
          "text": [
            "16/16 [==============================] - 114s 7s/step\n"
          ]
        },
        {
          "output_type": "execute_result",
          "data": {
            "text/plain": [
              "        Type 1  Type 2  Type 3\n",
              "Type 1       0      72      15\n",
              "Type 2       0     212      53\n",
              "Type 3       0      85      75"
            ],
            "text/html": [
              "\n",
              "  <div id=\"df-8dd8a300-f209-4258-a93f-665ee014e6d4\">\n",
              "    <div class=\"colab-df-container\">\n",
              "      <div>\n",
              "<style scoped>\n",
              "    .dataframe tbody tr th:only-of-type {\n",
              "        vertical-align: middle;\n",
              "    }\n",
              "\n",
              "    .dataframe tbody tr th {\n",
              "        vertical-align: top;\n",
              "    }\n",
              "\n",
              "    .dataframe thead th {\n",
              "        text-align: right;\n",
              "    }\n",
              "</style>\n",
              "<table border=\"1\" class=\"dataframe\">\n",
              "  <thead>\n",
              "    <tr style=\"text-align: right;\">\n",
              "      <th></th>\n",
              "      <th>Type 1</th>\n",
              "      <th>Type 2</th>\n",
              "      <th>Type 3</th>\n",
              "    </tr>\n",
              "  </thead>\n",
              "  <tbody>\n",
              "    <tr>\n",
              "      <th>Type 1</th>\n",
              "      <td>0</td>\n",
              "      <td>72</td>\n",
              "      <td>15</td>\n",
              "    </tr>\n",
              "    <tr>\n",
              "      <th>Type 2</th>\n",
              "      <td>0</td>\n",
              "      <td>212</td>\n",
              "      <td>53</td>\n",
              "    </tr>\n",
              "    <tr>\n",
              "      <th>Type 3</th>\n",
              "      <td>0</td>\n",
              "      <td>85</td>\n",
              "      <td>75</td>\n",
              "    </tr>\n",
              "  </tbody>\n",
              "</table>\n",
              "</div>\n",
              "      <button class=\"colab-df-convert\" onclick=\"convertToInteractive('df-8dd8a300-f209-4258-a93f-665ee014e6d4')\"\n",
              "              title=\"Convert this dataframe to an interactive table.\"\n",
              "              style=\"display:none;\">\n",
              "        \n",
              "  <svg xmlns=\"http://www.w3.org/2000/svg\" height=\"24px\"viewBox=\"0 0 24 24\"\n",
              "       width=\"24px\">\n",
              "    <path d=\"M0 0h24v24H0V0z\" fill=\"none\"/>\n",
              "    <path d=\"M18.56 5.44l.94 2.06.94-2.06 2.06-.94-2.06-.94-.94-2.06-.94 2.06-2.06.94zm-11 1L8.5 8.5l.94-2.06 2.06-.94-2.06-.94L8.5 2.5l-.94 2.06-2.06.94zm10 10l.94 2.06.94-2.06 2.06-.94-2.06-.94-.94-2.06-.94 2.06-2.06.94z\"/><path d=\"M17.41 7.96l-1.37-1.37c-.4-.4-.92-.59-1.43-.59-.52 0-1.04.2-1.43.59L10.3 9.45l-7.72 7.72c-.78.78-.78 2.05 0 2.83L4 21.41c.39.39.9.59 1.41.59.51 0 1.02-.2 1.41-.59l7.78-7.78 2.81-2.81c.8-.78.8-2.07 0-2.86zM5.41 20L4 18.59l7.72-7.72 1.47 1.35L5.41 20z\"/>\n",
              "  </svg>\n",
              "      </button>\n",
              "      \n",
              "  <style>\n",
              "    .colab-df-container {\n",
              "      display:flex;\n",
              "      flex-wrap:wrap;\n",
              "      gap: 12px;\n",
              "    }\n",
              "\n",
              "    .colab-df-convert {\n",
              "      background-color: #E8F0FE;\n",
              "      border: none;\n",
              "      border-radius: 50%;\n",
              "      cursor: pointer;\n",
              "      display: none;\n",
              "      fill: #1967D2;\n",
              "      height: 32px;\n",
              "      padding: 0 0 0 0;\n",
              "      width: 32px;\n",
              "    }\n",
              "\n",
              "    .colab-df-convert:hover {\n",
              "      background-color: #E2EBFA;\n",
              "      box-shadow: 0px 1px 2px rgba(60, 64, 67, 0.3), 0px 1px 3px 1px rgba(60, 64, 67, 0.15);\n",
              "      fill: #174EA6;\n",
              "    }\n",
              "\n",
              "    [theme=dark] .colab-df-convert {\n",
              "      background-color: #3B4455;\n",
              "      fill: #D2E3FC;\n",
              "    }\n",
              "\n",
              "    [theme=dark] .colab-df-convert:hover {\n",
              "      background-color: #434B5C;\n",
              "      box-shadow: 0px 1px 3px 1px rgba(0, 0, 0, 0.15);\n",
              "      filter: drop-shadow(0px 1px 2px rgba(0, 0, 0, 0.3));\n",
              "      fill: #FFFFFF;\n",
              "    }\n",
              "  </style>\n",
              "\n",
              "      <script>\n",
              "        const buttonEl =\n",
              "          document.querySelector('#df-8dd8a300-f209-4258-a93f-665ee014e6d4 button.colab-df-convert');\n",
              "        buttonEl.style.display =\n",
              "          google.colab.kernel.accessAllowed ? 'block' : 'none';\n",
              "\n",
              "        async function convertToInteractive(key) {\n",
              "          const element = document.querySelector('#df-8dd8a300-f209-4258-a93f-665ee014e6d4');\n",
              "          const dataTable =\n",
              "            await google.colab.kernel.invokeFunction('convertToInteractive',\n",
              "                                                     [key], {});\n",
              "          if (!dataTable) return;\n",
              "\n",
              "          const docLinkHtml = 'Like what you see? Visit the ' +\n",
              "            '<a target=\"_blank\" href=https://colab.research.google.com/notebooks/data_table.ipynb>data table notebook</a>'\n",
              "            + ' to learn more about interactive tables.';\n",
              "          element.innerHTML = '';\n",
              "          dataTable['output_type'] = 'display_data';\n",
              "          await google.colab.output.renderOutput(dataTable, element);\n",
              "          const docLink = document.createElement('div');\n",
              "          docLink.innerHTML = docLinkHtml;\n",
              "          element.appendChild(docLink);\n",
              "        }\n",
              "      </script>\n",
              "    </div>\n",
              "  </div>\n",
              "  "
            ]
          },
          "metadata": {},
          "execution_count": 26
        }
      ]
    },
    {
      "cell_type": "markdown",
      "source": [
        "### VGG19 전이학습 FineTuning 증강 버전\n",
        "모델, 히스토리 저장 링크\n",
        "https://drive.google.com/drive/folders/1pTTZI_bfVOVXptYJ-GdtdU5HMW5geO0p?usp=sharing\n",
        "\n",
        "```\n",
        "optimizer= SGD(lr=1e-4, momentum=0.9)\n",
        "```\n",
        "\n"
      ],
      "metadata": {
        "id": "bYPJH1nNav0p"
      }
    },
    {
      "cell_type": "code",
      "execution_count": 1,
      "metadata": {
        "id": "fC4B0-yNd_Jm"
      },
      "outputs": [],
      "source": [
        "import numpy as np\n",
        "import pandas as pd\n",
        "\n",
        "from tensorflow import keras\n",
        "\n",
        "from tensorflow.keras import Model\n",
        "from tensorflow.keras.models import Sequential\n",
        "from tensorflow.keras.layers import Activation, Conv2D, MaxPooling2D, Dense, Flatten, GlobalAveragePooling2D\n",
        "from tensorflow.keras.layers import Dropout, BatchNormalization \n",
        "from tensorflow.keras.utils import to_categorical\n",
        "import pickle"
      ]
    },
    {
      "cell_type": "code",
      "execution_count": 2,
      "metadata": {
        "id": "izuGazUfd_Jp"
      },
      "outputs": [],
      "source": [
        "from tensorflow.keras.applications.vgg19 import VGG19\n",
        "from tensorflow.keras.callbacks import ModelCheckpoint\n",
        "\n",
        "import matplotlib.pyplot as plt\n",
        "\n",
        "import seaborn as sns\n",
        "import os\n",
        "import glob\n",
        "import plotly.graph_objects as go\n",
        "import cv2\n",
        "from PIL import Image\n",
        "from PIL import ImageFile\n",
        "from sklearn.model_selection import train_test_split\n",
        "from sklearn.preprocessing import LabelEncoder\n",
        "from tensorflow.keras.preprocessing.image import ImageDataGenerator\n",
        "from tensorflow.keras.optimizers import RMSprop, SGD\n",
        "from tensorflow.keras.callbacks import EarlyStopping, ReduceLROnPlateau,ModelCheckpoint \n",
        "from sklearn.metrics import accuracy_score, confusion_matrix, classification_report\n",
        "import warnings\n",
        "warnings.filterwarnings(\"ignore\")\n",
        "ImageFile.LOAD_TRUNCATED_IMAGES = True\n",
        "\n",
        "from tqdm import tqdm"
      ]
    },
    {
      "cell_type": "code",
      "execution_count": 4,
      "metadata": {
        "colab": {
          "base_uri": "https://localhost:8080/"
        },
        "id": "eIuSMXTRTwha",
        "outputId": "ee73c99d-5643-4453-a6b2-5786edf02af7"
      },
      "outputs": [
        {
          "output_type": "stream",
          "name": "stdout",
          "text": [
            "Mounted at /content/gdrive\n"
          ]
        }
      ],
      "source": [
        "import os\n",
        "from google.colab import drive\n",
        "drive.mount('/content/gdrive')"
      ]
    },
    {
      "cell_type": "code",
      "execution_count": 5,
      "metadata": {
        "colab": {
          "base_uri": "https://localhost:8080/"
        },
        "id": "oQBa1eWmTyTl",
        "outputId": "a546771d-6206-454a-b838-ad2a553d1939"
      },
      "outputs": [
        {
          "output_type": "stream",
          "name": "stdout",
          "text": [
            "/content/gdrive/My Drive/data/.kaggle\n"
          ]
        }
      ],
      "source": [
        "cd /content/gdrive/My Drive/data/.kaggle"
      ]
    },
    {
      "cell_type": "code",
      "source": [
        "X_valid = np.load('./X_valid_128.npy',allow_pickle=True)\n",
        "y_valid = np.load('./y_valid_128.npy',allow_pickle=True)\n",
        "X_train = np.load('./X_train_128.npy',allow_pickle=True)\n",
        "y_train = np.load('./y_train_128.npy',allow_pickle=True)\n",
        "\n",
        "X_train = X_train/255\n",
        "X_valid = X_valid/255\n",
        "\n",
        "le = LabelEncoder().fit(['Type 1', 'Type 2', 'Type 3'])\n",
        "y_train = le.transform(y_train)\n",
        "y_valid = le.transform(y_valid)\n",
        "\n",
        "y_train_onehot = to_categorical(y_train, num_classes=3)\n",
        "y_valid_onehot = to_categorical(y_valid, num_classes=3)"
      ],
      "metadata": {
        "id": "Wm8DLLCfVOeh"
      },
      "execution_count": 6,
      "outputs": []
    },
    {
      "cell_type": "code",
      "source": [
        "reduceLR = ReduceLROnPlateau(monitor='val_accuracy', patience=10, verbose= 1, mode='max', factor=  0.2, min_lr = 1e-5)\n",
        "\n",
        "early = EarlyStopping(monitor='val_loss', patience=10)\n",
        "#early_stopping = EarlyStopping(monitor='val_accuracy', patience = 20, verbose=1, mode='max', restore_best_weights= True)\n",
        "\n",
        "checkpoint_ag = ModelCheckpoint('v1_ag', monitor='val_accuracy', verbose=1,save_best_only=True, mode= 'max')"
      ],
      "metadata": {
        "id": "Aiu1fFzmYPed"
      },
      "execution_count": 7,
      "outputs": []
    },
    {
      "cell_type": "code",
      "source": [
        "BATCH_SIZE = 16\n",
        "TRAIN_STEPS = len(X_train)//BATCH_SIZE\n",
        "VAL_STEPS = len(X_valid)//BATCH_SIZE\n",
        "t = ImageDataGenerator(rotation_range=0.3, zoom_range=0.3)\n",
        "valid_gen = t.flow(X_valid, y_valid_onehot, batch_size = BATCH_SIZE)\n",
        "train_gen = t.flow(X_train, y_train_onehot, batch_size = BATCH_SIZE)"
      ],
      "metadata": {
        "id": "G508X8xBbSDY"
      },
      "execution_count": 8,
      "outputs": []
    },
    {
      "cell_type": "code",
      "execution_count": 9,
      "metadata": {
        "id": "vRQ24mhkd_Jt",
        "colab": {
          "base_uri": "https://localhost:8080/"
        },
        "outputId": "de3d1158-2bc9-491f-a3f7-b50accfa9d80"
      },
      "outputs": [
        {
          "output_type": "stream",
          "name": "stdout",
          "text": [
            "Downloading data from https://storage.googleapis.com/tensorflow/keras-applications/vgg19/vgg19_weights_tf_dim_ordering_tf_kernels_notop.h5\n",
            "80134624/80134624 [==============================] - 0s 0us/step\n",
            "Model: \"model\"\n",
            "_________________________________________________________________\n",
            " Layer (type)                Output Shape              Param #   \n",
            "=================================================================\n",
            " input_1 (InputLayer)        [(None, 128, 128, 3)]     0         \n",
            "                                                                 \n",
            " block1_conv1 (Conv2D)       (None, 128, 128, 64)      1792      \n",
            "                                                                 \n",
            " block1_conv2 (Conv2D)       (None, 128, 128, 64)      36928     \n",
            "                                                                 \n",
            " block1_pool (MaxPooling2D)  (None, 64, 64, 64)        0         \n",
            "                                                                 \n",
            " block2_conv1 (Conv2D)       (None, 64, 64, 128)       73856     \n",
            "                                                                 \n",
            " block2_conv2 (Conv2D)       (None, 64, 64, 128)       147584    \n",
            "                                                                 \n",
            " block2_pool (MaxPooling2D)  (None, 32, 32, 128)       0         \n",
            "                                                                 \n",
            " block3_conv1 (Conv2D)       (None, 32, 32, 256)       295168    \n",
            "                                                                 \n",
            " block3_conv2 (Conv2D)       (None, 32, 32, 256)       590080    \n",
            "                                                                 \n",
            " block3_conv3 (Conv2D)       (None, 32, 32, 256)       590080    \n",
            "                                                                 \n",
            " block3_conv4 (Conv2D)       (None, 32, 32, 256)       590080    \n",
            "                                                                 \n",
            " block3_pool (MaxPooling2D)  (None, 16, 16, 256)       0         \n",
            "                                                                 \n",
            " block4_conv1 (Conv2D)       (None, 16, 16, 512)       1180160   \n",
            "                                                                 \n",
            " block4_conv2 (Conv2D)       (None, 16, 16, 512)       2359808   \n",
            "                                                                 \n",
            " block4_conv3 (Conv2D)       (None, 16, 16, 512)       2359808   \n",
            "                                                                 \n",
            " block4_conv4 (Conv2D)       (None, 16, 16, 512)       2359808   \n",
            "                                                                 \n",
            " block4_pool (MaxPooling2D)  (None, 8, 8, 512)         0         \n",
            "                                                                 \n",
            " block5_conv1 (Conv2D)       (None, 8, 8, 512)         2359808   \n",
            "                                                                 \n",
            " block5_conv2 (Conv2D)       (None, 8, 8, 512)         2359808   \n",
            "                                                                 \n",
            " block5_conv3 (Conv2D)       (None, 8, 8, 512)         2359808   \n",
            "                                                                 \n",
            " block5_conv4 (Conv2D)       (None, 8, 8, 512)         2359808   \n",
            "                                                                 \n",
            " block5_pool (MaxPooling2D)  (None, 4, 4, 512)         0         \n",
            "                                                                 \n",
            " flatten (Flatten)           (None, 8192)              0         \n",
            "                                                                 \n",
            " dense (Dense)               (None, 512)               4194816   \n",
            "                                                                 \n",
            " dropout (Dropout)           (None, 512)               0         \n",
            "                                                                 \n",
            " dense_1 (Dense)             (None, 512)               262656    \n",
            "                                                                 \n",
            " dropout_1 (Dropout)         (None, 512)               0         \n",
            "                                                                 \n",
            " dense_2 (Dense)             (None, 3)                 1539      \n",
            "                                                                 \n",
            "=================================================================\n",
            "Total params: 24,483,395\n",
            "Trainable params: 4,459,011\n",
            "Non-trainable params: 20,024,384\n",
            "_________________________________________________________________\n"
          ]
        }
      ],
      "source": [
        "# 사전 교육된 기본 모델 가져오기\n",
        "base_model = VGG19(include_top=False, weights='imagenet',input_shape=(128, 128, 3))\n",
        "\n",
        "base_model.trainable = False\n",
        "\n",
        "# 교육할 계층 설정 최상위 계층만 교육하기 위해 (False 가중치 고정)\n",
        "for layer in base_model.layers:\n",
        "    layer.trainable = False\n",
        "    \n",
        "# 기본 모델의 마지막 층\n",
        "x = base_model.output\n",
        "\n",
        "x = Flatten()(x)\n",
        "h1 = Dense(512, activation='relu')(x)\n",
        "drop1 = Dropout(rate=0.5)(h1)\n",
        "h2 = Dense(512, activation='relu')(drop1)\n",
        "drop2 = Dropout(rate=0.5)(h2)\n",
        "output = Dense(3, activation='softmax')(drop2)\n",
        "\n",
        "trs = Model(inputs=base_model.input, outputs=output)\n",
        "trs.summary()\n",
        "\n",
        "# t_gen.samples == size of train df\n",
        "#verimggen = trs.fit(t_gen, steps_per_epoch = t_gen.samples//16, validation_data= v_nongen, epochs= 10, verbose=1)"
      ]
    },
    {
      "cell_type": "markdown",
      "source": [
        "세이빙한 모델 가져오는 부분"
      ],
      "metadata": {
        "id": "dAnA268ZScGA"
      }
    },
    {
      "cell_type": "code",
      "execution_count": 10,
      "metadata": {
        "id": "qpnTVEITUEgl"
      },
      "outputs": [],
      "source": [
        "trs = keras.models.load_model('VGG19_verimggen.h5') #모델 가져오기\n",
        "trs.compile(optimizer= SGD(lr=1e-4, momentum=0.9),\n",
        "  loss='categorical_crossentropy', \n",
        "  metrics=['accuracy']) #옵티마이저 컴파일"
      ]
    },
    {
      "cell_type": "code",
      "source": [
        "verimggen = trs.fit(train_gen, validation_data= valid_gen, epochs= 60, verbose=1,  steps_per_epoch = TRAIN_STEPS, callbacks= [early]) #피팅\n",
        "trs.save('VGG19_FT1.h5')"
      ],
      "metadata": {
        "id": "apDkO8zjbwgG",
        "colab": {
          "base_uri": "https://localhost:8080/"
        },
        "outputId": "7076a71f-be5c-467b-9e47-c850af9507ee"
      },
      "execution_count": null,
      "outputs": [
        {
          "output_type": "stream",
          "name": "stdout",
          "text": [
            "Epoch 1/60\n",
            "410/410 [==============================] - 46s 90ms/step - loss: 1.0871 - accuracy: 0.4776 - val_loss: 0.9998 - val_accuracy: 0.5295\n",
            "Epoch 2/60\n",
            "410/410 [==============================] - 36s 89ms/step - loss: 1.0193 - accuracy: 0.5101 - val_loss: 0.9910 - val_accuracy: 0.5295\n",
            "Epoch 3/60\n",
            "410/410 [==============================] - 35s 85ms/step - loss: 1.0138 - accuracy: 0.5127 - val_loss: 0.9846 - val_accuracy: 0.5295\n",
            "Epoch 4/60\n",
            "410/410 [==============================] - 36s 87ms/step - loss: 1.0037 - accuracy: 0.5199 - val_loss: 0.9897 - val_accuracy: 0.5313\n",
            "Epoch 5/60\n",
            "410/410 [==============================] - 36s 89ms/step - loss: 1.0045 - accuracy: 0.5169 - val_loss: 0.9807 - val_accuracy: 0.5295\n",
            "Epoch 6/60\n",
            "410/410 [==============================] - 35s 86ms/step - loss: 0.9965 - accuracy: 0.5234 - val_loss: 0.9790 - val_accuracy: 0.5289\n",
            "Epoch 7/60\n",
            "410/410 [==============================] - 35s 85ms/step - loss: 0.9936 - accuracy: 0.5260 - val_loss: 0.9761 - val_accuracy: 0.5307\n",
            "Epoch 8/60\n",
            "410/410 [==============================] - 35s 86ms/step - loss: 0.9948 - accuracy: 0.5237 - val_loss: 0.9791 - val_accuracy: 0.5307\n",
            "Epoch 9/60\n",
            "410/410 [==============================] - 36s 88ms/step - loss: 0.9921 - accuracy: 0.5225 - val_loss: 0.9697 - val_accuracy: 0.5289\n",
            "Epoch 10/60\n",
            "410/410 [==============================] - 35s 85ms/step - loss: 0.9931 - accuracy: 0.5208 - val_loss: 0.9830 - val_accuracy: 0.5295\n",
            "Epoch 11/60\n",
            "410/410 [==============================] - 35s 85ms/step - loss: 0.9872 - accuracy: 0.5317 - val_loss: 0.9689 - val_accuracy: 0.5326\n",
            "Epoch 12/60\n",
            "410/410 [==============================] - 36s 87ms/step - loss: 0.9846 - accuracy: 0.5260 - val_loss: 0.9648 - val_accuracy: 0.5356\n",
            "Epoch 13/60\n",
            "410/410 [==============================] - 34s 84ms/step - loss: 0.9827 - accuracy: 0.5295 - val_loss: 0.9657 - val_accuracy: 0.5326\n",
            "Epoch 14/60\n",
            "410/410 [==============================] - 34s 83ms/step - loss: 0.9839 - accuracy: 0.5272 - val_loss: 0.9673 - val_accuracy: 0.5283\n",
            "Epoch 15/60\n",
            "410/410 [==============================] - 34s 82ms/step - loss: 0.9747 - accuracy: 0.5315 - val_loss: 0.9596 - val_accuracy: 0.5332\n",
            "Epoch 16/60\n",
            "410/410 [==============================] - 34s 83ms/step - loss: 0.9803 - accuracy: 0.5327 - val_loss: 0.9585 - val_accuracy: 0.5301\n",
            "Epoch 17/60\n",
            "410/410 [==============================] - 34s 82ms/step - loss: 0.9738 - accuracy: 0.5259 - val_loss: 0.9672 - val_accuracy: 0.5460\n",
            "Epoch 18/60\n",
            "410/410 [==============================] - 34s 83ms/step - loss: 0.9760 - accuracy: 0.5333 - val_loss: 0.9568 - val_accuracy: 0.5350\n",
            "Epoch 19/60\n",
            "410/410 [==============================] - 35s 85ms/step - loss: 0.9711 - accuracy: 0.5303 - val_loss: 0.9556 - val_accuracy: 0.5362\n",
            "Epoch 20/60\n",
            "410/410 [==============================] - 35s 84ms/step - loss: 0.9684 - accuracy: 0.5298 - val_loss: 0.9587 - val_accuracy: 0.5496\n",
            "Epoch 21/60\n",
            "410/410 [==============================] - 35s 85ms/step - loss: 0.9679 - accuracy: 0.5343 - val_loss: 0.9570 - val_accuracy: 0.5435\n",
            "Epoch 22/60\n",
            "410/410 [==============================] - 36s 87ms/step - loss: 0.9677 - accuracy: 0.5315 - val_loss: 0.9540 - val_accuracy: 0.5423\n",
            "Epoch 23/60\n",
            "410/410 [==============================] - 33s 80ms/step - loss: 0.9661 - accuracy: 0.5317 - val_loss: 0.9546 - val_accuracy: 0.5399\n",
            "Epoch 24/60\n",
            "410/410 [==============================] - 35s 84ms/step - loss: 0.9658 - accuracy: 0.5410 - val_loss: 0.9495 - val_accuracy: 0.5453\n",
            "Epoch 25/60\n",
            "410/410 [==============================] - 35s 84ms/step - loss: 0.9669 - accuracy: 0.5356 - val_loss: 0.9524 - val_accuracy: 0.5405\n",
            "Epoch 26/60\n",
            "410/410 [==============================] - 35s 86ms/step - loss: 0.9583 - accuracy: 0.5402 - val_loss: 0.9469 - val_accuracy: 0.5417\n",
            "Epoch 27/60\n",
            "410/410 [==============================] - 35s 84ms/step - loss: 0.9609 - accuracy: 0.5353 - val_loss: 0.9474 - val_accuracy: 0.5429\n",
            "Epoch 28/60\n",
            "410/410 [==============================] - 34s 83ms/step - loss: 0.9538 - accuracy: 0.5394 - val_loss: 0.9431 - val_accuracy: 0.5520\n",
            "Epoch 29/60\n",
            "410/410 [==============================] - 35s 86ms/step - loss: 0.9560 - accuracy: 0.5372 - val_loss: 0.9482 - val_accuracy: 0.5460\n",
            "Epoch 30/60\n",
            "410/410 [==============================] - 35s 85ms/step - loss: 0.9566 - accuracy: 0.5343 - val_loss: 0.9523 - val_accuracy: 0.5484\n",
            "Epoch 31/60\n",
            "410/410 [==============================] - 35s 84ms/step - loss: 0.9547 - accuracy: 0.5394 - val_loss: 0.9569 - val_accuracy: 0.5411\n",
            "Epoch 32/60\n",
            "410/410 [==============================] - 34s 84ms/step - loss: 0.9538 - accuracy: 0.5340 - val_loss: 0.9430 - val_accuracy: 0.5435\n",
            "Epoch 33/60\n",
            "410/410 [==============================] - 36s 87ms/step - loss: 0.9528 - accuracy: 0.5285 - val_loss: 0.9436 - val_accuracy: 0.5526\n",
            "Epoch 34/60\n",
            "410/410 [==============================] - 35s 85ms/step - loss: 0.9489 - accuracy: 0.5369 - val_loss: 0.9404 - val_accuracy: 0.5453\n",
            "Epoch 35/60\n",
            "410/410 [==============================] - 35s 85ms/step - loss: 0.9520 - accuracy: 0.5343 - val_loss: 0.9448 - val_accuracy: 0.5484\n",
            "Epoch 36/60\n",
            "410/410 [==============================] - 35s 85ms/step - loss: 0.9505 - accuracy: 0.5387 - val_loss: 0.9476 - val_accuracy: 0.5405\n",
            "Epoch 37/60\n",
            "410/410 [==============================] - 35s 85ms/step - loss: 0.9504 - accuracy: 0.5376 - val_loss: 0.9364 - val_accuracy: 0.5526\n",
            "Epoch 38/60\n",
            "410/410 [==============================] - 35s 85ms/step - loss: 0.9499 - accuracy: 0.5387 - val_loss: 0.9395 - val_accuracy: 0.5490\n",
            "Epoch 39/60\n",
            "410/410 [==============================] - 35s 85ms/step - loss: 0.9415 - accuracy: 0.5390 - val_loss: 0.9322 - val_accuracy: 0.5551\n",
            "Epoch 40/60\n",
            "410/410 [==============================] - 35s 86ms/step - loss: 0.9421 - accuracy: 0.5419 - val_loss: 0.9318 - val_accuracy: 0.5496\n",
            "Epoch 41/60\n",
            "410/410 [==============================] - 34s 84ms/step - loss: 0.9452 - accuracy: 0.5388 - val_loss: 0.9346 - val_accuracy: 0.5508\n",
            "Epoch 42/60\n",
            "410/410 [==============================] - 34s 84ms/step - loss: 0.9438 - accuracy: 0.5431 - val_loss: 0.9352 - val_accuracy: 0.5441\n",
            "Epoch 43/60\n",
            "410/410 [==============================] - 35s 86ms/step - loss: 0.9413 - accuracy: 0.5463 - val_loss: 0.9369 - val_accuracy: 0.5526\n",
            "Epoch 44/60\n",
            "410/410 [==============================] - 35s 86ms/step - loss: 0.9424 - accuracy: 0.5427 - val_loss: 0.9328 - val_accuracy: 0.5490\n",
            "Epoch 45/60\n",
            "410/410 [==============================] - 35s 85ms/step - loss: 0.9388 - accuracy: 0.5401 - val_loss: 0.9262 - val_accuracy: 0.5502\n",
            "Epoch 46/60\n",
            "410/410 [==============================] - 35s 85ms/step - loss: 0.9418 - accuracy: 0.5410 - val_loss: 0.9355 - val_accuracy: 0.5563\n",
            "Epoch 47/60\n",
            "410/410 [==============================] - 36s 89ms/step - loss: 0.9389 - accuracy: 0.5388 - val_loss: 0.9245 - val_accuracy: 0.5533\n",
            "Epoch 48/60\n",
            "410/410 [==============================] - 36s 87ms/step - loss: 0.9348 - accuracy: 0.5460 - val_loss: 0.9300 - val_accuracy: 0.5526\n",
            "Epoch 49/60\n",
            "410/410 [==============================] - 35s 86ms/step - loss: 0.9339 - accuracy: 0.5405 - val_loss: 0.9333 - val_accuracy: 0.5490\n",
            "Epoch 50/60\n",
            "410/410 [==============================] - 35s 85ms/step - loss: 0.9303 - accuracy: 0.5497 - val_loss: 0.9303 - val_accuracy: 0.5460\n",
            "Epoch 51/60\n",
            "410/410 [==============================] - 36s 88ms/step - loss: 0.9341 - accuracy: 0.5475 - val_loss: 0.9367 - val_accuracy: 0.5478\n",
            "Epoch 52/60\n",
            "410/410 [==============================] - 35s 85ms/step - loss: 0.9357 - accuracy: 0.5466 - val_loss: 0.9269 - val_accuracy: 0.5569\n",
            "Epoch 53/60\n",
            "410/410 [==============================] - 35s 86ms/step - loss: 0.9289 - accuracy: 0.5478 - val_loss: 0.9294 - val_accuracy: 0.5466\n",
            "Epoch 54/60\n",
            "410/410 [==============================] - 35s 86ms/step - loss: 0.9290 - accuracy: 0.5485 - val_loss: 0.9363 - val_accuracy: 0.5423\n",
            "Epoch 55/60\n",
            "410/410 [==============================] - 36s 88ms/step - loss: 0.9323 - accuracy: 0.5446 - val_loss: 0.9227 - val_accuracy: 0.5466\n",
            "Epoch 56/60\n",
            "410/410 [==============================] - 35s 86ms/step - loss: 0.9293 - accuracy: 0.5509 - val_loss: 0.9191 - val_accuracy: 0.5520\n",
            "Epoch 57/60\n",
            "410/410 [==============================] - 35s 85ms/step - loss: 0.9285 - accuracy: 0.5440 - val_loss: 0.9258 - val_accuracy: 0.5593\n",
            "Epoch 58/60\n",
            "410/410 [==============================] - 35s 86ms/step - loss: 0.9268 - accuracy: 0.5526 - val_loss: 0.9267 - val_accuracy: 0.5484\n",
            "Epoch 59/60\n",
            "410/410 [==============================] - 35s 84ms/step - loss: 0.9278 - accuracy: 0.5466 - val_loss: 0.9311 - val_accuracy: 0.5405\n",
            "Epoch 60/60\n",
            "410/410 [==============================] - 34s 83ms/step - loss: 0.9152 - accuracy: 0.5604 - val_loss: 0.9196 - val_accuracy: 0.5612\n"
          ]
        }
      ]
    },
    {
      "cell_type": "code",
      "source": [
        "with open('VGG19_FT1.pkl', 'wb') as f:\n",
        "\tpickle.dump(df, f, protocol=pickle.HIGHEST_PROTOCOL)"
      ],
      "metadata": {
        "id": "VQgoawDpn7e4"
      },
      "execution_count": null,
      "outputs": []
    },
    {
      "cell_type": "code",
      "source": [
        "# history 담은 pickle file\n",
        "trs = keras.models.load_model('VGG19_FT5.h5')\n",
        "trs.compile(optimizer= SGD(lr=1e-4, momentum=0.9),\n",
        "  loss='categorical_crossentropy', \n",
        "  metrics=['accuracy']) #옵티마이저 컴파일\n",
        "verimggen = trs.fit(train_gen, validation_data= valid_gen, epochs= 60, verbose=1,  steps_per_epoch = TRAIN_STEPS) #피팅\n",
        "trs.save('VGG19_FT6.h5')"
      ],
      "metadata": {
        "id": "NmOQ8AK6EnDN",
        "colab": {
          "base_uri": "https://localhost:8080/"
        },
        "outputId": "22974bd1-41d4-44a3-b3ec-cd37eae2c97c"
      },
      "execution_count": 11,
      "outputs": [
        {
          "output_type": "stream",
          "name": "stdout",
          "text": [
            "Epoch 1/60\n",
            "410/410 [==============================] - 43s 85ms/step - loss: 0.7582 - accuracy: 0.6472 - val_loss: 0.8616 - val_accuracy: 0.5898\n",
            "Epoch 2/60\n",
            "410/410 [==============================] - 33s 80ms/step - loss: 0.7501 - accuracy: 0.6476 - val_loss: 0.8496 - val_accuracy: 0.6007\n",
            "Epoch 3/60\n",
            "410/410 [==============================] - 35s 86ms/step - loss: 0.7435 - accuracy: 0.6620 - val_loss: 0.9018 - val_accuracy: 0.5819\n",
            "Epoch 4/60\n",
            "410/410 [==============================] - 33s 81ms/step - loss: 0.7430 - accuracy: 0.6504 - val_loss: 0.8708 - val_accuracy: 0.5904\n",
            "Epoch 5/60\n",
            "410/410 [==============================] - 33s 80ms/step - loss: 0.7426 - accuracy: 0.6556 - val_loss: 0.8517 - val_accuracy: 0.6038\n",
            "Epoch 6/60\n",
            "410/410 [==============================] - 33s 80ms/step - loss: 0.7531 - accuracy: 0.6507 - val_loss: 0.8465 - val_accuracy: 0.5898\n",
            "Epoch 7/60\n",
            "410/410 [==============================] - 34s 83ms/step - loss: 0.7472 - accuracy: 0.6533 - val_loss: 0.8840 - val_accuracy: 0.5861\n",
            "Epoch 8/60\n",
            "410/410 [==============================] - 33s 81ms/step - loss: 0.7540 - accuracy: 0.6455 - val_loss: 0.8685 - val_accuracy: 0.5940\n",
            "Epoch 9/60\n",
            "410/410 [==============================] - 33s 81ms/step - loss: 0.7467 - accuracy: 0.6544 - val_loss: 0.8530 - val_accuracy: 0.5959\n",
            "Epoch 10/60\n",
            "410/410 [==============================] - 33s 80ms/step - loss: 0.7383 - accuracy: 0.6647 - val_loss: 0.8556 - val_accuracy: 0.6038\n",
            "Epoch 11/60\n",
            "410/410 [==============================] - 33s 80ms/step - loss: 0.7379 - accuracy: 0.6499 - val_loss: 0.8509 - val_accuracy: 0.6080\n",
            "Epoch 12/60\n",
            "410/410 [==============================] - 33s 80ms/step - loss: 0.7379 - accuracy: 0.6612 - val_loss: 0.8505 - val_accuracy: 0.5971\n",
            "Epoch 13/60\n",
            "410/410 [==============================] - 33s 80ms/step - loss: 0.7295 - accuracy: 0.6655 - val_loss: 0.8501 - val_accuracy: 0.6086\n",
            "Epoch 14/60\n",
            "410/410 [==============================] - 33s 80ms/step - loss: 0.7361 - accuracy: 0.6650 - val_loss: 0.8500 - val_accuracy: 0.5977\n",
            "Epoch 15/60\n",
            "410/410 [==============================] - 34s 82ms/step - loss: 0.7458 - accuracy: 0.6490 - val_loss: 0.9191 - val_accuracy: 0.5648\n",
            "Epoch 16/60\n",
            "410/410 [==============================] - 33s 80ms/step - loss: 0.7486 - accuracy: 0.6507 - val_loss: 0.8568 - val_accuracy: 0.5995\n",
            "Epoch 17/60\n",
            "410/410 [==============================] - 33s 80ms/step - loss: 0.7428 - accuracy: 0.6547 - val_loss: 0.8484 - val_accuracy: 0.6117\n",
            "Epoch 18/60\n",
            "410/410 [==============================] - 32s 79ms/step - loss: 0.7348 - accuracy: 0.6611 - val_loss: 0.8587 - val_accuracy: 0.6007\n",
            "Epoch 19/60\n",
            "410/410 [==============================] - 33s 79ms/step - loss: 0.7362 - accuracy: 0.6603 - val_loss: 0.8654 - val_accuracy: 0.6068\n",
            "Epoch 20/60\n",
            "410/410 [==============================] - 33s 80ms/step - loss: 0.7344 - accuracy: 0.6580 - val_loss: 0.8368 - val_accuracy: 0.6166\n",
            "Epoch 21/60\n",
            "410/410 [==============================] - 32s 79ms/step - loss: 0.7340 - accuracy: 0.6624 - val_loss: 0.8496 - val_accuracy: 0.5879\n",
            "Epoch 22/60\n",
            "410/410 [==============================] - 32s 79ms/step - loss: 0.7417 - accuracy: 0.6565 - val_loss: 0.8653 - val_accuracy: 0.5916\n",
            "Epoch 23/60\n",
            "410/410 [==============================] - 32s 79ms/step - loss: 0.7321 - accuracy: 0.6570 - val_loss: 0.8253 - val_accuracy: 0.6153\n",
            "Epoch 24/60\n",
            "410/410 [==============================] - 33s 81ms/step - loss: 0.7317 - accuracy: 0.6592 - val_loss: 0.8664 - val_accuracy: 0.5953\n",
            "Epoch 25/60\n",
            "410/410 [==============================] - 32s 78ms/step - loss: 0.7264 - accuracy: 0.6685 - val_loss: 0.8443 - val_accuracy: 0.6001\n",
            "Epoch 26/60\n",
            "410/410 [==============================] - 32s 78ms/step - loss: 0.7184 - accuracy: 0.6702 - val_loss: 0.8246 - val_accuracy: 0.6050\n",
            "Epoch 27/60\n",
            "410/410 [==============================] - 32s 78ms/step - loss: 0.7299 - accuracy: 0.6702 - val_loss: 0.8516 - val_accuracy: 0.5873\n",
            "Epoch 28/60\n",
            "410/410 [==============================] - 33s 81ms/step - loss: 0.7292 - accuracy: 0.6647 - val_loss: 0.8871 - val_accuracy: 0.5800\n",
            "Epoch 29/60\n",
            "410/410 [==============================] - 32s 79ms/step - loss: 0.7226 - accuracy: 0.6666 - val_loss: 0.8340 - val_accuracy: 0.6123\n",
            "Epoch 30/60\n",
            "410/410 [==============================] - 32s 78ms/step - loss: 0.7223 - accuracy: 0.6725 - val_loss: 0.8488 - val_accuracy: 0.6123\n",
            "Epoch 31/60\n",
            "410/410 [==============================] - 32s 79ms/step - loss: 0.7401 - accuracy: 0.6574 - val_loss: 0.8693 - val_accuracy: 0.5879\n",
            "Epoch 32/60\n",
            "410/410 [==============================] - 33s 81ms/step - loss: 0.7316 - accuracy: 0.6664 - val_loss: 0.8730 - val_accuracy: 0.6111\n",
            "Epoch 33/60\n",
            "410/410 [==============================] - 32s 78ms/step - loss: 0.7250 - accuracy: 0.6710 - val_loss: 0.8598 - val_accuracy: 0.5855\n",
            "Epoch 34/60\n",
            "410/410 [==============================] - 32s 78ms/step - loss: 0.7351 - accuracy: 0.6516 - val_loss: 0.8587 - val_accuracy: 0.6026\n",
            "Epoch 35/60\n",
            "410/410 [==============================] - 32s 78ms/step - loss: 0.7251 - accuracy: 0.6673 - val_loss: 0.8384 - val_accuracy: 0.6074\n",
            "Epoch 36/60\n",
            "410/410 [==============================] - 32s 78ms/step - loss: 0.7260 - accuracy: 0.6650 - val_loss: 0.8324 - val_accuracy: 0.6062\n",
            "Epoch 37/60\n",
            "410/410 [==============================] - 32s 79ms/step - loss: 0.7245 - accuracy: 0.6663 - val_loss: 0.8432 - val_accuracy: 0.6239\n",
            "Epoch 38/60\n",
            "410/410 [==============================] - 32s 79ms/step - loss: 0.7192 - accuracy: 0.6661 - val_loss: 0.8350 - val_accuracy: 0.6080\n",
            "Epoch 39/60\n",
            "410/410 [==============================] - 32s 79ms/step - loss: 0.7262 - accuracy: 0.6661 - val_loss: 0.8402 - val_accuracy: 0.6099\n",
            "Epoch 40/60\n",
            "410/410 [==============================] - 32s 79ms/step - loss: 0.7249 - accuracy: 0.6647 - val_loss: 0.8494 - val_accuracy: 0.5910\n",
            "Epoch 41/60\n",
            "410/410 [==============================] - 33s 81ms/step - loss: 0.7143 - accuracy: 0.6736 - val_loss: 0.8300 - val_accuracy: 0.6166\n",
            "Epoch 42/60\n",
            "410/410 [==============================] - 32s 78ms/step - loss: 0.7060 - accuracy: 0.6724 - val_loss: 0.8419 - val_accuracy: 0.6123\n",
            "Epoch 43/60\n",
            "410/410 [==============================] - 32s 79ms/step - loss: 0.7162 - accuracy: 0.6762 - val_loss: 0.8456 - val_accuracy: 0.6074\n",
            "Epoch 44/60\n",
            "410/410 [==============================] - 32s 79ms/step - loss: 0.7088 - accuracy: 0.6750 - val_loss: 0.8467 - val_accuracy: 0.6086\n",
            "Epoch 45/60\n",
            "410/410 [==============================] - 32s 79ms/step - loss: 0.7140 - accuracy: 0.6707 - val_loss: 0.8410 - val_accuracy: 0.6050\n",
            "Epoch 46/60\n",
            "410/410 [==============================] - 33s 79ms/step - loss: 0.7221 - accuracy: 0.6693 - val_loss: 0.8528 - val_accuracy: 0.6080\n",
            "Epoch 47/60\n",
            "410/410 [==============================] - 33s 80ms/step - loss: 0.7022 - accuracy: 0.6827 - val_loss: 0.8412 - val_accuracy: 0.6172\n",
            "Epoch 48/60\n",
            "410/410 [==============================] - 32s 79ms/step - loss: 0.7210 - accuracy: 0.6721 - val_loss: 0.8436 - val_accuracy: 0.6068\n",
            "Epoch 49/60\n",
            "410/410 [==============================] - 32s 79ms/step - loss: 0.7090 - accuracy: 0.6748 - val_loss: 0.8214 - val_accuracy: 0.6159\n",
            "Epoch 50/60\n",
            "410/410 [==============================] - 32s 79ms/step - loss: 0.7131 - accuracy: 0.6716 - val_loss: 0.8424 - val_accuracy: 0.5910\n",
            "Epoch 51/60\n",
            "410/410 [==============================] - 32s 78ms/step - loss: 0.7245 - accuracy: 0.6656 - val_loss: 0.8322 - val_accuracy: 0.6019\n",
            "Epoch 52/60\n",
            "410/410 [==============================] - 32s 79ms/step - loss: 0.7018 - accuracy: 0.6779 - val_loss: 0.8614 - val_accuracy: 0.5867\n",
            "Epoch 53/60\n",
            "410/410 [==============================] - 33s 80ms/step - loss: 0.7008 - accuracy: 0.6888 - val_loss: 0.8536 - val_accuracy: 0.6366\n",
            "Epoch 54/60\n",
            "410/410 [==============================] - 32s 78ms/step - loss: 0.6965 - accuracy: 0.6815 - val_loss: 0.8418 - val_accuracy: 0.6312\n",
            "Epoch 55/60\n",
            "410/410 [==============================] - 33s 79ms/step - loss: 0.7056 - accuracy: 0.6742 - val_loss: 0.8307 - val_accuracy: 0.5995\n",
            "Epoch 56/60\n",
            "410/410 [==============================] - 32s 78ms/step - loss: 0.7016 - accuracy: 0.6827 - val_loss: 0.8319 - val_accuracy: 0.6123\n",
            "Epoch 57/60\n",
            "410/410 [==============================] - 33s 81ms/step - loss: 0.7048 - accuracy: 0.6779 - val_loss: 0.8188 - val_accuracy: 0.6086\n",
            "Epoch 58/60\n",
            "410/410 [==============================] - 32s 78ms/step - loss: 0.7185 - accuracy: 0.6667 - val_loss: 0.8392 - val_accuracy: 0.6013\n",
            "Epoch 59/60\n",
            "410/410 [==============================] - 32s 79ms/step - loss: 0.7052 - accuracy: 0.6747 - val_loss: 0.8404 - val_accuracy: 0.6239\n",
            "Epoch 60/60\n",
            "410/410 [==============================] - 32s 78ms/step - loss: 0.6969 - accuracy: 0.6800 - val_loss: 0.8547 - val_accuracy: 0.6178\n"
          ]
        }
      ]
    },
    {
      "cell_type": "code",
      "source": [
        "with open('VGG19_FT5.pkl', 'rb') as f:\n",
        "\tdf = pickle.load(f)"
      ],
      "metadata": {
        "id": "eM-hKXVgoNII"
      },
      "execution_count": 12,
      "outputs": []
    },
    {
      "cell_type": "code",
      "source": [
        " for i in range(len(verimggen.history['loss'])):\n",
        "    df['loss'].append(verimggen.history['loss'][i])\n",
        "    df['accuracy'].append(verimggen.history['accuracy'][i])\n",
        "    df['val_loss'].append(verimggen.history['val_loss'][i])\n",
        "    df['val_accuracy'].append(verimggen.history['val_accuracy'][i])"
      ],
      "metadata": {
        "id": "J89QHrAbyXU9"
      },
      "execution_count": 13,
      "outputs": []
    },
    {
      "cell_type": "code",
      "source": [
        "with open('VGG19_FT6.pkl', 'wb') as f:\n",
        "\tpickle.dump(df, f, protocol=pickle.HIGHEST_PROTOCOL)"
      ],
      "metadata": {
        "id": "YH2YhgdayjRR"
      },
      "execution_count": 15,
      "outputs": []
    },
    {
      "cell_type": "code",
      "source": [
        "import matplotlib.pyplot as plt\n",
        "\n",
        "\n",
        "plt.figure(figsize=(15, 5))\n",
        "\n",
        "plt.subplot(1, 2, 1)\n",
        "plt.plot(df['accuracy'], label='acc')\n",
        "plt.plot(df['val_accuracy'], label='val_acc')\n",
        "plt.legend(loc='lower right')\n",
        "plt.title('Accuracy comparison')\n",
        "\n",
        "plt.subplot(1, 2, 2)\n",
        "plt.plot(df['loss'], label='loss')\n",
        "plt.plot(df['val_loss'], label='val_loss')\n",
        "plt.legend(loc='upper right')\n",
        "plt.title('Loss comparison')\n",
        "\n",
        "plt.show()"
      ],
      "metadata": {
        "colab": {
          "base_uri": "https://localhost:8080/",
          "height": 336
        },
        "id": "zK1IFfZfFT8x",
        "outputId": "25c1321a-49b3-4554-a230-f64197a5428a"
      },
      "execution_count": 14,
      "outputs": [
        {
          "output_type": "display_data",
          "data": {
            "text/plain": [
              "<Figure size 1080x360 with 2 Axes>"
            ],
            "image/png": "[encoded data removed]"
          },
          "metadata": {
            "needs_background": "light"
          }
        }
      ]
    },
    {
      "cell_type": "markdown",
      "source": [
        "모델 평가"
      ],
      "metadata": {
        "id": "5UCeqZhVag8P"
      }
    },
    {
      "cell_type": "code",
      "source": [
        "X_test = np.load('./X_test_128.npy',allow_pickle=True)/255\n",
        "y_test = np.load('./y_test_128.npy',allow_pickle=True)\n",
        "y_test = np.array(y_test).astype(np.float32)\n",
        "trs.evaluate(X_test, y_test)"
      ],
      "metadata": {
        "id": "km6jpHYzu1aS",
        "colab": {
          "base_uri": "https://localhost:8080/"
        },
        "outputId": "5dfde219-c2d8-4671-ddce-7d80a99c144d"
      },
      "execution_count": 16,
      "outputs": [
        {
          "output_type": "stream",
          "name": "stdout",
          "text": [
            "16/16 [==============================] - 3s 63ms/step - loss: 0.8961 - accuracy: 0.5996\n"
          ]
        },
        {
          "output_type": "execute_result",
          "data": {
            "text/plain": [
              "[0.8961331248283386, 0.599609375]"
            ]
          },
          "metadata": {},
          "execution_count": 16
        }
      ]
    },
    {
      "cell_type": "code",
      "source": [
        "import torch\n",
        "y_test = torch.Tensor(y_test)\n",
        "y_test = torch.argmax(y_test, dim=1)"
      ],
      "metadata": {
        "id": "JtPY5PLU5-pj"
      },
      "execution_count": 17,
      "outputs": []
    },
    {
      "cell_type": "code",
      "source": [
        "y_pred_enc = trs.predict(X_test)          # one-hot encoding된 label 예측값\n",
        "y_pred = [np.argmax(i) for i in y_pred_enc] # label 예측값\n",
        "matrix = confusion_matrix(y_test, y_pred)\n",
        "item = {\n",
        "      0: 'Type 1'\n",
        "    , 1: 'Type 2'\n",
        "    , 2: 'Type 3'\n",
        "}\n",
        "res = pd.DataFrame(matrix)\n",
        "res.columns = item.values()\n",
        "res.index = item.values()\n",
        "        \n",
        "res"
      ],
      "metadata": {
        "colab": {
          "base_uri": "https://localhost:8080/",
          "height": 161
        },
        "id": "d5RCiP3wZKZt",
        "outputId": "202bf184-db29-4d12-b453-eda291a310f5"
      },
      "execution_count": 18,
      "outputs": [
        {
          "output_type": "stream",
          "name": "stdout",
          "text": [
            "16/16 [==============================] - 1s 65ms/step\n"
          ]
        },
        {
          "output_type": "execute_result",
          "data": {
            "text/plain": [
              "        Type 1  Type 2  Type 3\n",
              "Type 1      19      58      10\n",
              "Type 2       4     223      38\n",
              "Type 3       0      95      65"
            ],
            "text/html": [
              "\n",
              "  <div id=\"df-b847bd60-cb7c-47a5-b009-ebd6992a343e\">\n",
              "    <div class=\"colab-df-container\">\n",
              "      <div>\n",
              "<style scoped>\n",
              "    .dataframe tbody tr th:only-of-type {\n",
              "        vertical-align: middle;\n",
              "    }\n",
              "\n",
              "    .dataframe tbody tr th {\n",
              "        vertical-align: top;\n",
              "    }\n",
              "\n",
              "    .dataframe thead th {\n",
              "        text-align: right;\n",
              "    }\n",
              "</style>\n",
              "<table border=\"1\" class=\"dataframe\">\n",
              "  <thead>\n",
              "    <tr style=\"text-align: right;\">\n",
              "      <th></th>\n",
              "      <th>Type 1</th>\n",
              "      <th>Type 2</th>\n",
              "      <th>Type 3</th>\n",
              "    </tr>\n",
              "  </thead>\n",
              "  <tbody>\n",
              "    <tr>\n",
              "      <th>Type 1</th>\n",
              "      <td>19</td>\n",
              "      <td>58</td>\n",
              "      <td>10</td>\n",
              "    </tr>\n",
              "    <tr>\n",
              "      <th>Type 2</th>\n",
              "      <td>4</td>\n",
              "      <td>223</td>\n",
              "      <td>38</td>\n",
              "    </tr>\n",
              "    <tr>\n",
              "      <th>Type 3</th>\n",
              "      <td>0</td>\n",
              "      <td>95</td>\n",
              "      <td>65</td>\n",
              "    </tr>\n",
              "  </tbody>\n",
              "</table>\n",
              "</div>\n",
              "      <button class=\"colab-df-convert\" onclick=\"convertToInteractive('df-b847bd60-cb7c-47a5-b009-ebd6992a343e')\"\n",
              "              title=\"Convert this dataframe to an interactive table.\"\n",
              "              style=\"display:none;\">\n",
              "        \n",
              "  <svg xmlns=\"http://www.w3.org/2000/svg\" height=\"24px\"viewBox=\"0 0 24 24\"\n",
              "       width=\"24px\">\n",
              "    <path d=\"M0 0h24v24H0V0z\" fill=\"none\"/>\n",
              "    <path d=\"M18.56 5.44l.94 2.06.94-2.06 2.06-.94-2.06-.94-.94-2.06-.94 2.06-2.06.94zm-11 1L8.5 8.5l.94-2.06 2.06-.94-2.06-.94L8.5 2.5l-.94 2.06-2.06.94zm10 10l.94 2.06.94-2.06 2.06-.94-2.06-.94-.94-2.06-.94 2.06-2.06.94z\"/><path d=\"M17.41 7.96l-1.37-1.37c-.4-.4-.92-.59-1.43-.59-.52 0-1.04.2-1.43.59L10.3 9.45l-7.72 7.72c-.78.78-.78 2.05 0 2.83L4 21.41c.39.39.9.59 1.41.59.51 0 1.02-.2 1.41-.59l7.78-7.78 2.81-2.81c.8-.78.8-2.07 0-2.86zM5.41 20L4 18.59l7.72-7.72 1.47 1.35L5.41 20z\"/>\n",
              "  </svg>\n",
              "      </button>\n",
              "      \n",
              "  <style>\n",
              "    .colab-df-container {\n",
              "      display:flex;\n",
              "      flex-wrap:wrap;\n",
              "      gap: 12px;\n",
              "    }\n",
              "\n",
              "    .colab-df-convert {\n",
              "      background-color: #E8F0FE;\n",
              "      border: none;\n",
              "      border-radius: 50%;\n",
              "      cursor: pointer;\n",
              "      display: none;\n",
              "      fill: #1967D2;\n",
              "      height: 32px;\n",
              "      padding: 0 0 0 0;\n",
              "      width: 32px;\n",
              "    }\n",
              "\n",
              "    .colab-df-convert:hover {\n",
              "      background-color: #E2EBFA;\n",
              "      box-shadow: 0px 1px 2px rgba(60, 64, 67, 0.3), 0px 1px 3px 1px rgba(60, 64, 67, 0.15);\n",
              "      fill: #174EA6;\n",
              "    }\n",
              "\n",
              "    [theme=dark] .colab-df-convert {\n",
              "      background-color: #3B4455;\n",
              "      fill: #D2E3FC;\n",
              "    }\n",
              "\n",
              "    [theme=dark] .colab-df-convert:hover {\n",
              "      background-color: #434B5C;\n",
              "      box-shadow: 0px 1px 3px 1px rgba(0, 0, 0, 0.15);\n",
              "      filter: drop-shadow(0px 1px 2px rgba(0, 0, 0, 0.3));\n",
              "      fill: #FFFFFF;\n",
              "    }\n",
              "  </style>\n",
              "\n",
              "      <script>\n",
              "        const buttonEl =\n",
              "          document.querySelector('#df-b847bd60-cb7c-47a5-b009-ebd6992a343e button.colab-df-convert');\n",
              "        buttonEl.style.display =\n",
              "          google.colab.kernel.accessAllowed ? 'block' : 'none';\n",
              "\n",
              "        async function convertToInteractive(key) {\n",
              "          const element = document.querySelector('#df-b847bd60-cb7c-47a5-b009-ebd6992a343e');\n",
              "          const dataTable =\n",
              "            await google.colab.kernel.invokeFunction('convertToInteractive',\n",
              "                                                     [key], {});\n",
              "          if (!dataTable) return;\n",
              "\n",
              "          const docLinkHtml = 'Like what you see? Visit the ' +\n",
              "            '<a target=\"_blank\" href=https://colab.research.google.com/notebooks/data_table.ipynb>data table notebook</a>'\n",
              "            + ' to learn more about interactive tables.';\n",
              "          element.innerHTML = '';\n",
              "          dataTable['output_type'] = 'display_data';\n",
              "          await google.colab.output.renderOutput(dataTable, element);\n",
              "          const docLink = document.createElement('div');\n",
              "          docLink.innerHTML = docLinkHtml;\n",
              "          element.appendChild(docLink);\n",
              "        }\n",
              "      </script>\n",
              "    </div>\n",
              "  </div>\n",
              "  "
            ]
          },
          "metadata": {},
          "execution_count": 18
        }
      ]
    },
    {
      "cell_type": "markdown",
      "source": [
        "### VGG19 전이학습 FineTuning Augumentation 사용안한 버전\n"
      ],
      "metadata": {
        "id": "yKAvG2aBmDKK"
      }
    },
    {
      "cell_type": "code",
      "execution_count": 19,
      "metadata": {
        "id": "uaH8vkK3mDKV",
        "colab": {
          "base_uri": "https://localhost:8080/"
        },
        "outputId": "8f90fe93-63cf-46a1-f586-88ce7809c669"
      },
      "outputs": [
        {
          "output_type": "stream",
          "name": "stdout",
          "text": [
            "Model: \"model_1\"\n",
            "_________________________________________________________________\n",
            " Layer (type)                Output Shape              Param #   \n",
            "=================================================================\n",
            " input_1 (InputLayer)        [(None, 128, 128, 3)]     0         \n",
            "                                                                 \n",
            " block1_conv1 (Conv2D)       (None, 128, 128, 64)      1792      \n",
            "                                                                 \n",
            " block1_conv2 (Conv2D)       (None, 128, 128, 64)      36928     \n",
            "                                                                 \n",
            " block1_pool (MaxPooling2D)  (None, 64, 64, 64)        0         \n",
            "                                                                 \n",
            " block2_conv1 (Conv2D)       (None, 64, 64, 128)       73856     \n",
            "                                                                 \n",
            " block2_conv2 (Conv2D)       (None, 64, 64, 128)       147584    \n",
            "                                                                 \n",
            " block2_pool (MaxPooling2D)  (None, 32, 32, 128)       0         \n",
            "                                                                 \n",
            " block3_conv1 (Conv2D)       (None, 32, 32, 256)       295168    \n",
            "                                                                 \n",
            " block3_conv2 (Conv2D)       (None, 32, 32, 256)       590080    \n",
            "                                                                 \n",
            " block3_conv3 (Conv2D)       (None, 32, 32, 256)       590080    \n",
            "                                                                 \n",
            " block3_conv4 (Conv2D)       (None, 32, 32, 256)       590080    \n",
            "                                                                 \n",
            " block3_pool (MaxPooling2D)  (None, 16, 16, 256)       0         \n",
            "                                                                 \n",
            " block4_conv1 (Conv2D)       (None, 16, 16, 512)       1180160   \n",
            "                                                                 \n",
            " block4_conv2 (Conv2D)       (None, 16, 16, 512)       2359808   \n",
            "                                                                 \n",
            " block4_conv3 (Conv2D)       (None, 16, 16, 512)       2359808   \n",
            "                                                                 \n",
            " block4_conv4 (Conv2D)       (None, 16, 16, 512)       2359808   \n",
            "                                                                 \n",
            " block4_pool (MaxPooling2D)  (None, 8, 8, 512)         0         \n",
            "                                                                 \n",
            " block5_conv1 (Conv2D)       (None, 8, 8, 512)         2359808   \n",
            "                                                                 \n",
            " block5_conv2 (Conv2D)       (None, 8, 8, 512)         2359808   \n",
            "                                                                 \n",
            " block5_conv3 (Conv2D)       (None, 8, 8, 512)         2359808   \n",
            "                                                                 \n",
            " block5_conv4 (Conv2D)       (None, 8, 8, 512)         2359808   \n",
            "                                                                 \n",
            " block5_pool (MaxPooling2D)  (None, 4, 4, 512)         0         \n",
            "                                                                 \n",
            " flatten (Flatten)           (None, 8192)              0         \n",
            "                                                                 \n",
            " dense (Dense)               (None, 512)               4194816   \n",
            "                                                                 \n",
            " dropout (Dropout)           (None, 512)               0         \n",
            "                                                                 \n",
            " dense_1 (Dense)             (None, 512)               262656    \n",
            "                                                                 \n",
            " dropout_1 (Dropout)         (None, 512)               0         \n",
            "                                                                 \n",
            " dense_2 (Dense)             (None, 3)                 1539      \n",
            "                                                                 \n",
            "=================================================================\n",
            "Total params: 24,483,395\n",
            "Trainable params: 4,459,011\n",
            "Non-trainable params: 20,024,384\n",
            "_________________________________________________________________\n"
          ]
        }
      ],
      "source": [
        "'''# 사전 교육된 기본 모델 가져오기\n",
        "base_model = VGG19(include_top=False, weights='imagenet',input_shape=(128, 128, 3))\n",
        "\n",
        "base_model.trainable = False\n",
        "\n",
        "# 교육할 계층 설정 최상위 계층만 교육하기 위해 (False 가중치 고정)\n",
        "for layer in base_model.layers:\n",
        "    layer.trainable = False\n",
        "    \n",
        "# 기본 모델의 마지막 층\n",
        "x = base_model.output\n",
        "\n",
        "x = Flatten()(x)\n",
        "h1 = Dense(512, activation='relu')(x)\n",
        "drop1 = Dropout(rate=0.5)(h1)\n",
        "h2 = Dense(512, activation='relu')(drop1)\n",
        "drop2 = Dropout(rate=0.5)(h2)\n",
        "output = Dense(3, activation='softmax')(drop2)\n",
        "'''\n",
        "trs_non = Model(inputs=base_model.input, outputs=output)\n",
        "trs_non.summary()\n",
        "t_nongen = ImageDataGenerator().flow(X_valid, y_valid_onehot)\n",
        "v_nongen = ImageDataGenerator().flow(X_train, y_train_onehot)\n",
        "\n",
        "# t_gen.samples == size of train df"
      ]
    },
    {
      "cell_type": "markdown",
      "source": [
        "세이빙한 모델 가져오는 부분"
      ],
      "metadata": {
        "id": "ujgJw6SbmDKW"
      }
    },
    {
      "cell_type": "code",
      "execution_count": 25,
      "metadata": {
        "id": "D4K1PbTemDKW",
        "colab": {
          "base_uri": "https://localhost:8080/",
          "height": 1000
        },
        "outputId": "24248a58-aa3f-4b7c-c78b-631ff42f639e"
      },
      "outputs": [
        {
          "output_type": "stream",
          "name": "stdout",
          "text": [
            "Epoch 1/60\n",
            "52/52 [==============================] - 16s 303ms/step - loss: 0.9255 - accuracy: 0.5447 - val_loss: 0.9525 - val_accuracy: 0.5328\n",
            "Epoch 2/60\n",
            "52/52 [==============================] - 15s 300ms/step - loss: 0.9196 - accuracy: 0.5782 - val_loss: 0.9517 - val_accuracy: 0.5359\n",
            "Epoch 3/60\n",
            "52/52 [==============================] - 16s 307ms/step - loss: 0.9197 - accuracy: 0.5569 - val_loss: 0.9503 - val_accuracy: 0.5409\n",
            "Epoch 4/60\n",
            "52/52 [==============================] - 16s 310ms/step - loss: 0.9235 - accuracy: 0.5563 - val_loss: 0.9498 - val_accuracy: 0.5383\n",
            "Epoch 5/60\n",
            "52/52 [==============================] - 16s 313ms/step - loss: 0.9220 - accuracy: 0.5636 - val_loss: 0.9485 - val_accuracy: 0.5381\n",
            "Epoch 6/60\n",
            "52/52 [==============================] - 16s 314ms/step - loss: 0.9146 - accuracy: 0.5758 - val_loss: 0.9506 - val_accuracy: 0.5366\n",
            "Epoch 7/60\n",
            "52/52 [==============================] - 16s 321ms/step - loss: 0.9247 - accuracy: 0.5533 - val_loss: 0.9543 - val_accuracy: 0.5407\n",
            "Epoch 8/60\n",
            "52/52 [==============================] - 17s 324ms/step - loss: 0.9174 - accuracy: 0.5563 - val_loss: 0.9493 - val_accuracy: 0.5381\n",
            "Epoch 9/60\n",
            "52/52 [==============================] - 16s 318ms/step - loss: 0.9193 - accuracy: 0.5630 - val_loss: 0.9476 - val_accuracy: 0.5372\n",
            "Epoch 10/60\n",
            "52/52 [==============================] - 16s 318ms/step - loss: 0.9154 - accuracy: 0.5612 - val_loss: 0.9470 - val_accuracy: 0.5430\n",
            "Epoch 11/60\n",
            "52/52 [==============================] - 17s 323ms/step - loss: 0.9102 - accuracy: 0.5575 - val_loss: 0.9489 - val_accuracy: 0.5336\n",
            "Epoch 12/60\n",
            "52/52 [==============================] - 16s 318ms/step - loss: 0.9080 - accuracy: 0.5587 - val_loss: 0.9504 - val_accuracy: 0.5310\n",
            "Epoch 13/60\n",
            "52/52 [==============================] - 16s 319ms/step - loss: 0.9058 - accuracy: 0.5709 - val_loss: 0.9465 - val_accuracy: 0.5415\n",
            "Epoch 14/60\n",
            "52/52 [==============================] - 16s 320ms/step - loss: 0.9123 - accuracy: 0.5600 - val_loss: 0.9465 - val_accuracy: 0.5387\n",
            "Epoch 15/60\n",
            "52/52 [==============================] - 16s 321ms/step - loss: 0.9032 - accuracy: 0.5618 - val_loss: 0.9463 - val_accuracy: 0.5375\n",
            "Epoch 16/60\n",
            "52/52 [==============================] - 16s 320ms/step - loss: 0.8940 - accuracy: 0.5800 - val_loss: 0.9503 - val_accuracy: 0.5276\n",
            "Epoch 17/60\n",
            "52/52 [==============================] - 16s 317ms/step - loss: 0.9091 - accuracy: 0.5691 - val_loss: 0.9460 - val_accuracy: 0.5349\n",
            "Epoch 18/60\n",
            "52/52 [==============================] - 16s 317ms/step - loss: 0.9084 - accuracy: 0.5581 - val_loss: 0.9442 - val_accuracy: 0.5421\n",
            "Epoch 19/60\n",
            "52/52 [==============================] - 16s 317ms/step - loss: 0.9074 - accuracy: 0.5618 - val_loss: 0.9444 - val_accuracy: 0.5415\n",
            "Epoch 20/60\n",
            "52/52 [==============================] - 16s 317ms/step - loss: 0.9046 - accuracy: 0.5740 - val_loss: 0.9445 - val_accuracy: 0.5392\n",
            "Epoch 21/60\n",
            "52/52 [==============================] - 16s 318ms/step - loss: 0.8951 - accuracy: 0.5843 - val_loss: 0.9479 - val_accuracy: 0.5346\n",
            "Epoch 22/60\n",
            "52/52 [==============================] - 16s 315ms/step - loss: 0.8996 - accuracy: 0.5727 - val_loss: 0.9434 - val_accuracy: 0.5360\n",
            "Epoch 23/60\n",
            "52/52 [==============================] - 16s 317ms/step - loss: 0.8918 - accuracy: 0.5721 - val_loss: 0.9424 - val_accuracy: 0.5383\n",
            "Epoch 24/60\n",
            "52/52 [==============================] - 16s 318ms/step - loss: 0.8955 - accuracy: 0.5746 - val_loss: 0.9443 - val_accuracy: 0.5395\n",
            "Epoch 25/60\n",
            "52/52 [==============================] - 16s 318ms/step - loss: 0.8918 - accuracy: 0.5794 - val_loss: 0.9431 - val_accuracy: 0.5383\n",
            "Epoch 26/60\n",
            "52/52 [==============================] - 16s 315ms/step - loss: 0.8904 - accuracy: 0.5904 - val_loss: 0.9484 - val_accuracy: 0.5293\n",
            "Epoch 27/60\n",
            "52/52 [==============================] - 16s 316ms/step - loss: 0.8887 - accuracy: 0.5843 - val_loss: 0.9430 - val_accuracy: 0.5380\n",
            "Epoch 28/60\n",
            "52/52 [==============================] - 16s 316ms/step - loss: 0.8831 - accuracy: 0.5946 - val_loss: 0.9439 - val_accuracy: 0.5369\n",
            "Epoch 29/60\n",
            "52/52 [==============================] - 16s 315ms/step - loss: 0.8912 - accuracy: 0.5758 - val_loss: 0.9487 - val_accuracy: 0.5263\n",
            "Epoch 30/60\n",
            "52/52 [==============================] - 16s 316ms/step - loss: 0.8938 - accuracy: 0.5685 - val_loss: 0.9445 - val_accuracy: 0.5418\n",
            "Epoch 31/60\n",
            "52/52 [==============================] - 16s 317ms/step - loss: 0.8897 - accuracy: 0.5715 - val_loss: 0.9417 - val_accuracy: 0.5355\n",
            "Epoch 32/60\n",
            "52/52 [==============================] - 16s 317ms/step - loss: 0.8794 - accuracy: 0.5934 - val_loss: 0.9420 - val_accuracy: 0.5359\n",
            "Epoch 33/60\n",
            "52/52 [==============================] - 16s 318ms/step - loss: 0.8897 - accuracy: 0.5776 - val_loss: 0.9394 - val_accuracy: 0.5390\n",
            "Epoch 34/60\n",
            "52/52 [==============================] - 16s 318ms/step - loss: 0.8769 - accuracy: 0.5825 - val_loss: 0.9395 - val_accuracy: 0.5387\n",
            "Epoch 35/60\n",
            "52/52 [==============================] - 16s 318ms/step - loss: 0.8908 - accuracy: 0.5770 - val_loss: 0.9413 - val_accuracy: 0.5422\n",
            "Epoch 36/60\n",
            "52/52 [==============================] - 17s 324ms/step - loss: 0.8711 - accuracy: 0.5794 - val_loss: 0.9389 - val_accuracy: 0.5422\n",
            "Epoch 37/60\n",
            "52/52 [==============================] - 16s 321ms/step - loss: 0.8738 - accuracy: 0.5873 - val_loss: 0.9405 - val_accuracy: 0.5387\n",
            "Epoch 38/60\n",
            "52/52 [==============================] - ETA: 0s - loss: 0.8804 - accuracy: 0.5746"
          ]
        },
        {
          "output_type": "error",
          "ename": "KeyboardInterrupt",
          "evalue": "ignored",
          "traceback": [
            "\u001b[0;31m---------------------------------------------------------------------------\u001b[0m",
            "\u001b[0;31mKeyboardInterrupt\u001b[0m                         Traceback (most recent call last)",
            "\u001b[0;32m<ipython-input-25-6c205a693b2f>\u001b[0m in \u001b[0;36m<module>\u001b[0;34m\u001b[0m\n\u001b[1;32m      3\u001b[0m   \u001b[0mloss\u001b[0m\u001b[0;34m=\u001b[0m\u001b[0;34m'categorical_crossentropy'\u001b[0m\u001b[0;34m,\u001b[0m\u001b[0;34m\u001b[0m\u001b[0;34m\u001b[0m\u001b[0m\n\u001b[1;32m      4\u001b[0m   metrics=['accuracy'])#옵티마이저 컴파일\n\u001b[0;32m----> 5\u001b[0;31m \u001b[0mgeneral\u001b[0m \u001b[0;34m=\u001b[0m \u001b[0mtrs_non\u001b[0m\u001b[0;34m.\u001b[0m\u001b[0mfit\u001b[0m\u001b[0;34m(\u001b[0m\u001b[0mt_nongen\u001b[0m\u001b[0;34m,\u001b[0m \u001b[0mvalidation_data\u001b[0m\u001b[0;34m=\u001b[0m \u001b[0mv_nongen\u001b[0m\u001b[0;34m,\u001b[0m \u001b[0mepochs\u001b[0m\u001b[0;34m=\u001b[0m \u001b[0;36m60\u001b[0m\u001b[0;34m,\u001b[0m \u001b[0mverbose\u001b[0m\u001b[0;34m=\u001b[0m\u001b[0;36m1\u001b[0m\u001b[0;34m)\u001b[0m\u001b[0;34m\u001b[0m\u001b[0;34m\u001b[0m\u001b[0m\n\u001b[0m\u001b[1;32m      6\u001b[0m \u001b[0mtrs_non\u001b[0m\u001b[0;34m.\u001b[0m\u001b[0msave\u001b[0m\u001b[0;34m(\u001b[0m\u001b[0;34m'VGG19_nongenFT2.h5'\u001b[0m\u001b[0;34m)\u001b[0m\u001b[0;34m\u001b[0m\u001b[0;34m\u001b[0m\u001b[0m\n",
            "\u001b[0;32m/usr/local/lib/python3.7/dist-packages/keras/utils/traceback_utils.py\u001b[0m in \u001b[0;36merror_handler\u001b[0;34m(*args, **kwargs)\u001b[0m\n\u001b[1;32m     62\u001b[0m     \u001b[0mfiltered_tb\u001b[0m \u001b[0;34m=\u001b[0m \u001b[0;32mNone\u001b[0m\u001b[0;34m\u001b[0m\u001b[0;34m\u001b[0m\u001b[0m\n\u001b[1;32m     63\u001b[0m     \u001b[0;32mtry\u001b[0m\u001b[0;34m:\u001b[0m\u001b[0;34m\u001b[0m\u001b[0;34m\u001b[0m\u001b[0m\n\u001b[0;32m---> 64\u001b[0;31m       \u001b[0;32mreturn\u001b[0m \u001b[0mfn\u001b[0m\u001b[0;34m(\u001b[0m\u001b[0;34m*\u001b[0m\u001b[0margs\u001b[0m\u001b[0;34m,\u001b[0m \u001b[0;34m**\u001b[0m\u001b[0mkwargs\u001b[0m\u001b[0;34m)\u001b[0m\u001b[0;34m\u001b[0m\u001b[0;34m\u001b[0m\u001b[0m\n\u001b[0m\u001b[1;32m     65\u001b[0m     \u001b[0;32mexcept\u001b[0m \u001b[0mException\u001b[0m \u001b[0;32mas\u001b[0m \u001b[0me\u001b[0m\u001b[0;34m:\u001b[0m  \u001b[0;31m# pylint: disable=broad-except\u001b[0m\u001b[0;34m\u001b[0m\u001b[0;34m\u001b[0m\u001b[0m\n\u001b[1;32m     66\u001b[0m       \u001b[0mfiltered_tb\u001b[0m \u001b[0;34m=\u001b[0m \u001b[0m_process_traceback_frames\u001b[0m\u001b[0;34m(\u001b[0m\u001b[0me\u001b[0m\u001b[0;34m.\u001b[0m\u001b[0m__traceback__\u001b[0m\u001b[0;34m)\u001b[0m\u001b[0;34m\u001b[0m\u001b[0;34m\u001b[0m\u001b[0m\n",
            "\u001b[0;32m/usr/local/lib/python3.7/dist-packages/keras/engine/training.py\u001b[0m in \u001b[0;36mfit\u001b[0;34m(self, x, y, batch_size, epochs, verbose, callbacks, validation_split, validation_data, shuffle, class_weight, sample_weight, initial_epoch, steps_per_epoch, validation_steps, validation_batch_size, validation_freq, max_queue_size, workers, use_multiprocessing)\u001b[0m\n\u001b[1;32m   1454\u001b[0m               \u001b[0muse_multiprocessing\u001b[0m\u001b[0;34m=\u001b[0m\u001b[0muse_multiprocessing\u001b[0m\u001b[0;34m,\u001b[0m\u001b[0;34m\u001b[0m\u001b[0;34m\u001b[0m\u001b[0m\n\u001b[1;32m   1455\u001b[0m               \u001b[0mreturn_dict\u001b[0m\u001b[0;34m=\u001b[0m\u001b[0;32mTrue\u001b[0m\u001b[0;34m,\u001b[0m\u001b[0;34m\u001b[0m\u001b[0;34m\u001b[0m\u001b[0m\n\u001b[0;32m-> 1456\u001b[0;31m               _use_cached_eval_dataset=True)\n\u001b[0m\u001b[1;32m   1457\u001b[0m           \u001b[0mval_logs\u001b[0m \u001b[0;34m=\u001b[0m \u001b[0;34m{\u001b[0m\u001b[0;34m'val_'\u001b[0m \u001b[0;34m+\u001b[0m \u001b[0mname\u001b[0m\u001b[0;34m:\u001b[0m \u001b[0mval\u001b[0m \u001b[0;32mfor\u001b[0m \u001b[0mname\u001b[0m\u001b[0;34m,\u001b[0m \u001b[0mval\u001b[0m \u001b[0;32min\u001b[0m \u001b[0mval_logs\u001b[0m\u001b[0;34m.\u001b[0m\u001b[0mitems\u001b[0m\u001b[0;34m(\u001b[0m\u001b[0;34m)\u001b[0m\u001b[0;34m}\u001b[0m\u001b[0;34m\u001b[0m\u001b[0;34m\u001b[0m\u001b[0m\n\u001b[1;32m   1458\u001b[0m           \u001b[0mepoch_logs\u001b[0m\u001b[0;34m.\u001b[0m\u001b[0mupdate\u001b[0m\u001b[0;34m(\u001b[0m\u001b[0mval_logs\u001b[0m\u001b[0;34m)\u001b[0m\u001b[0;34m\u001b[0m\u001b[0;34m\u001b[0m\u001b[0m\n",
            "\u001b[0;32m/usr/local/lib/python3.7/dist-packages/keras/utils/traceback_utils.py\u001b[0m in \u001b[0;36merror_handler\u001b[0;34m(*args, **kwargs)\u001b[0m\n\u001b[1;32m     62\u001b[0m     \u001b[0mfiltered_tb\u001b[0m \u001b[0;34m=\u001b[0m \u001b[0;32mNone\u001b[0m\u001b[0;34m\u001b[0m\u001b[0;34m\u001b[0m\u001b[0m\n\u001b[1;32m     63\u001b[0m     \u001b[0;32mtry\u001b[0m\u001b[0;34m:\u001b[0m\u001b[0;34m\u001b[0m\u001b[0;34m\u001b[0m\u001b[0m\n\u001b[0;32m---> 64\u001b[0;31m       \u001b[0;32mreturn\u001b[0m \u001b[0mfn\u001b[0m\u001b[0;34m(\u001b[0m\u001b[0;34m*\u001b[0m\u001b[0margs\u001b[0m\u001b[0;34m,\u001b[0m \u001b[0;34m**\u001b[0m\u001b[0mkwargs\u001b[0m\u001b[0;34m)\u001b[0m\u001b[0;34m\u001b[0m\u001b[0;34m\u001b[0m\u001b[0m\n\u001b[0m\u001b[1;32m     65\u001b[0m     \u001b[0;32mexcept\u001b[0m \u001b[0mException\u001b[0m \u001b[0;32mas\u001b[0m \u001b[0me\u001b[0m\u001b[0;34m:\u001b[0m  \u001b[0;31m# pylint: disable=broad-except\u001b[0m\u001b[0;34m\u001b[0m\u001b[0;34m\u001b[0m\u001b[0m\n\u001b[1;32m     66\u001b[0m       \u001b[0mfiltered_tb\u001b[0m \u001b[0;34m=\u001b[0m \u001b[0m_process_traceback_frames\u001b[0m\u001b[0;34m(\u001b[0m\u001b[0me\u001b[0m\u001b[0;34m.\u001b[0m\u001b[0m__traceback__\u001b[0m\u001b[0;34m)\u001b[0m\u001b[0;34m\u001b[0m\u001b[0;34m\u001b[0m\u001b[0m\n",
            "\u001b[0;32m/usr/local/lib/python3.7/dist-packages/keras/engine/training.py\u001b[0m in \u001b[0;36mevaluate\u001b[0;34m(self, x, y, batch_size, verbose, sample_weight, steps, callbacks, max_queue_size, workers, use_multiprocessing, return_dict, **kwargs)\u001b[0m\n\u001b[1;32m   1754\u001b[0m             \u001b[0;32mwith\u001b[0m \u001b[0mtf\u001b[0m\u001b[0;34m.\u001b[0m\u001b[0mprofiler\u001b[0m\u001b[0;34m.\u001b[0m\u001b[0mexperimental\u001b[0m\u001b[0;34m.\u001b[0m\u001b[0mTrace\u001b[0m\u001b[0;34m(\u001b[0m\u001b[0;34m'test'\u001b[0m\u001b[0;34m,\u001b[0m \u001b[0mstep_num\u001b[0m\u001b[0;34m=\u001b[0m\u001b[0mstep\u001b[0m\u001b[0;34m,\u001b[0m \u001b[0m_r\u001b[0m\u001b[0;34m=\u001b[0m\u001b[0;36m1\u001b[0m\u001b[0;34m)\u001b[0m\u001b[0;34m:\u001b[0m\u001b[0;34m\u001b[0m\u001b[0;34m\u001b[0m\u001b[0m\n\u001b[1;32m   1755\u001b[0m               \u001b[0mcallbacks\u001b[0m\u001b[0;34m.\u001b[0m\u001b[0mon_test_batch_begin\u001b[0m\u001b[0;34m(\u001b[0m\u001b[0mstep\u001b[0m\u001b[0;34m)\u001b[0m\u001b[0;34m\u001b[0m\u001b[0;34m\u001b[0m\u001b[0m\n\u001b[0;32m-> 1756\u001b[0;31m               \u001b[0mtmp_logs\u001b[0m \u001b[0;34m=\u001b[0m \u001b[0mself\u001b[0m\u001b[0;34m.\u001b[0m\u001b[0mtest_function\u001b[0m\u001b[0;34m(\u001b[0m\u001b[0miterator\u001b[0m\u001b[0;34m)\u001b[0m\u001b[0;34m\u001b[0m\u001b[0;34m\u001b[0m\u001b[0m\n\u001b[0m\u001b[1;32m   1757\u001b[0m               \u001b[0;32mif\u001b[0m \u001b[0mdata_handler\u001b[0m\u001b[0;34m.\u001b[0m\u001b[0mshould_sync\u001b[0m\u001b[0;34m:\u001b[0m\u001b[0;34m\u001b[0m\u001b[0;34m\u001b[0m\u001b[0m\n\u001b[1;32m   1758\u001b[0m                 \u001b[0mcontext\u001b[0m\u001b[0;34m.\u001b[0m\u001b[0masync_wait\u001b[0m\u001b[0;34m(\u001b[0m\u001b[0;34m)\u001b[0m\u001b[0;34m\u001b[0m\u001b[0;34m\u001b[0m\u001b[0m\n",
            "\u001b[0;32m/usr/local/lib/python3.7/dist-packages/tensorflow/python/util/traceback_utils.py\u001b[0m in \u001b[0;36merror_handler\u001b[0;34m(*args, **kwargs)\u001b[0m\n\u001b[1;32m    148\u001b[0m     \u001b[0mfiltered_tb\u001b[0m \u001b[0;34m=\u001b[0m \u001b[0;32mNone\u001b[0m\u001b[0;34m\u001b[0m\u001b[0;34m\u001b[0m\u001b[0m\n\u001b[1;32m    149\u001b[0m     \u001b[0;32mtry\u001b[0m\u001b[0;34m:\u001b[0m\u001b[0;34m\u001b[0m\u001b[0;34m\u001b[0m\u001b[0m\n\u001b[0;32m--> 150\u001b[0;31m       \u001b[0;32mreturn\u001b[0m \u001b[0mfn\u001b[0m\u001b[0;34m(\u001b[0m\u001b[0;34m*\u001b[0m\u001b[0margs\u001b[0m\u001b[0;34m,\u001b[0m \u001b[0;34m**\u001b[0m\u001b[0mkwargs\u001b[0m\u001b[0;34m)\u001b[0m\u001b[0;34m\u001b[0m\u001b[0;34m\u001b[0m\u001b[0m\n\u001b[0m\u001b[1;32m    151\u001b[0m     \u001b[0;32mexcept\u001b[0m \u001b[0mException\u001b[0m \u001b[0;32mas\u001b[0m \u001b[0me\u001b[0m\u001b[0;34m:\u001b[0m\u001b[0;34m\u001b[0m\u001b[0;34m\u001b[0m\u001b[0m\n\u001b[1;32m    152\u001b[0m       \u001b[0mfiltered_tb\u001b[0m \u001b[0;34m=\u001b[0m \u001b[0m_process_traceback_frames\u001b[0m\u001b[0;34m(\u001b[0m\u001b[0me\u001b[0m\u001b[0;34m.\u001b[0m\u001b[0m__traceback__\u001b[0m\u001b[0;34m)\u001b[0m\u001b[0;34m\u001b[0m\u001b[0;34m\u001b[0m\u001b[0m\n",
            "\u001b[0;32m/usr/local/lib/python3.7/dist-packages/tensorflow/python/eager/def_function.py\u001b[0m in \u001b[0;36m__call__\u001b[0;34m(self, *args, **kwds)\u001b[0m\n\u001b[1;32m    913\u001b[0m \u001b[0;34m\u001b[0m\u001b[0m\n\u001b[1;32m    914\u001b[0m       \u001b[0;32mwith\u001b[0m \u001b[0mOptionalXlaContext\u001b[0m\u001b[0;34m(\u001b[0m\u001b[0mself\u001b[0m\u001b[0;34m.\u001b[0m\u001b[0m_jit_compile\u001b[0m\u001b[0;34m)\u001b[0m\u001b[0;34m:\u001b[0m\u001b[0;34m\u001b[0m\u001b[0;34m\u001b[0m\u001b[0m\n\u001b[0;32m--> 915\u001b[0;31m         \u001b[0mresult\u001b[0m \u001b[0;34m=\u001b[0m \u001b[0mself\u001b[0m\u001b[0;34m.\u001b[0m\u001b[0m_call\u001b[0m\u001b[0;34m(\u001b[0m\u001b[0;34m*\u001b[0m\u001b[0margs\u001b[0m\u001b[0;34m,\u001b[0m \u001b[0;34m**\u001b[0m\u001b[0mkwds\u001b[0m\u001b[0;34m)\u001b[0m\u001b[0;34m\u001b[0m\u001b[0;34m\u001b[0m\u001b[0m\n\u001b[0m\u001b[1;32m    916\u001b[0m \u001b[0;34m\u001b[0m\u001b[0m\n\u001b[1;32m    917\u001b[0m       \u001b[0mnew_tracing_count\u001b[0m \u001b[0;34m=\u001b[0m \u001b[0mself\u001b[0m\u001b[0;34m.\u001b[0m\u001b[0mexperimental_get_tracing_count\u001b[0m\u001b[0;34m(\u001b[0m\u001b[0;34m)\u001b[0m\u001b[0;34m\u001b[0m\u001b[0;34m\u001b[0m\u001b[0m\n",
            "\u001b[0;32m/usr/local/lib/python3.7/dist-packages/tensorflow/python/eager/def_function.py\u001b[0m in \u001b[0;36m_call\u001b[0;34m(self, *args, **kwds)\u001b[0m\n\u001b[1;32m    952\u001b[0m       \u001b[0;31m# In this case we have not created variables on the first call. So we can\u001b[0m\u001b[0;34m\u001b[0m\u001b[0;34m\u001b[0m\u001b[0;34m\u001b[0m\u001b[0m\n\u001b[1;32m    953\u001b[0m       \u001b[0;31m# run the first trace but we should fail if variables are created.\u001b[0m\u001b[0;34m\u001b[0m\u001b[0;34m\u001b[0m\u001b[0;34m\u001b[0m\u001b[0m\n\u001b[0;32m--> 954\u001b[0;31m       \u001b[0mresults\u001b[0m \u001b[0;34m=\u001b[0m \u001b[0mself\u001b[0m\u001b[0;34m.\u001b[0m\u001b[0m_stateful_fn\u001b[0m\u001b[0;34m(\u001b[0m\u001b[0;34m*\u001b[0m\u001b[0margs\u001b[0m\u001b[0;34m,\u001b[0m \u001b[0;34m**\u001b[0m\u001b[0mkwds\u001b[0m\u001b[0;34m)\u001b[0m\u001b[0;34m\u001b[0m\u001b[0;34m\u001b[0m\u001b[0m\n\u001b[0m\u001b[1;32m    955\u001b[0m       \u001b[0;32mif\u001b[0m \u001b[0mself\u001b[0m\u001b[0;34m.\u001b[0m\u001b[0m_created_variables\u001b[0m \u001b[0;32mand\u001b[0m \u001b[0;32mnot\u001b[0m \u001b[0mALLOW_DYNAMIC_VARIABLE_CREATION\u001b[0m\u001b[0;34m:\u001b[0m\u001b[0;34m\u001b[0m\u001b[0;34m\u001b[0m\u001b[0m\n\u001b[1;32m    956\u001b[0m         raise ValueError(\"Creating variables on a non-first call to a function\"\n",
            "\u001b[0;32m/usr/local/lib/python3.7/dist-packages/tensorflow/python/eager/function.py\u001b[0m in \u001b[0;36m__call__\u001b[0;34m(self, *args, **kwargs)\u001b[0m\n\u001b[1;32m   2452\u001b[0m        filtered_flat_args) = self._maybe_define_function(args, kwargs)\n\u001b[1;32m   2453\u001b[0m     return graph_function._call_flat(\n\u001b[0;32m-> 2454\u001b[0;31m         filtered_flat_args, captured_inputs=graph_function.captured_inputs)  # pylint: disable=protected-access\n\u001b[0m\u001b[1;32m   2455\u001b[0m \u001b[0;34m\u001b[0m\u001b[0m\n\u001b[1;32m   2456\u001b[0m   \u001b[0;34m@\u001b[0m\u001b[0mproperty\u001b[0m\u001b[0;34m\u001b[0m\u001b[0;34m\u001b[0m\u001b[0m\n",
            "\u001b[0;32m/usr/local/lib/python3.7/dist-packages/tensorflow/python/eager/function.py\u001b[0m in \u001b[0;36m_call_flat\u001b[0;34m(self, args, captured_inputs, cancellation_manager)\u001b[0m\n\u001b[1;32m   1859\u001b[0m       \u001b[0;31m# No tape is watching; skip to running the function.\u001b[0m\u001b[0;34m\u001b[0m\u001b[0;34m\u001b[0m\u001b[0;34m\u001b[0m\u001b[0m\n\u001b[1;32m   1860\u001b[0m       return self._build_call_outputs(self._inference_function.call(\n\u001b[0;32m-> 1861\u001b[0;31m           ctx, args, cancellation_manager=cancellation_manager))\n\u001b[0m\u001b[1;32m   1862\u001b[0m     forward_backward = self._select_forward_and_backward_functions(\n\u001b[1;32m   1863\u001b[0m         \u001b[0margs\u001b[0m\u001b[0;34m,\u001b[0m\u001b[0;34m\u001b[0m\u001b[0;34m\u001b[0m\u001b[0m\n",
            "\u001b[0;32m/usr/local/lib/python3.7/dist-packages/tensorflow/python/eager/function.py\u001b[0m in \u001b[0;36mcall\u001b[0;34m(self, ctx, args, cancellation_manager)\u001b[0m\n\u001b[1;32m    500\u001b[0m               \u001b[0minputs\u001b[0m\u001b[0;34m=\u001b[0m\u001b[0margs\u001b[0m\u001b[0;34m,\u001b[0m\u001b[0;34m\u001b[0m\u001b[0;34m\u001b[0m\u001b[0m\n\u001b[1;32m    501\u001b[0m               \u001b[0mattrs\u001b[0m\u001b[0;34m=\u001b[0m\u001b[0mattrs\u001b[0m\u001b[0;34m,\u001b[0m\u001b[0;34m\u001b[0m\u001b[0;34m\u001b[0m\u001b[0m\n\u001b[0;32m--> 502\u001b[0;31m               ctx=ctx)\n\u001b[0m\u001b[1;32m    503\u001b[0m         \u001b[0;32melse\u001b[0m\u001b[0;34m:\u001b[0m\u001b[0;34m\u001b[0m\u001b[0;34m\u001b[0m\u001b[0m\n\u001b[1;32m    504\u001b[0m           outputs = execute.execute_with_cancellation(\n",
            "\u001b[0;32m/usr/local/lib/python3.7/dist-packages/tensorflow/python/eager/execute.py\u001b[0m in \u001b[0;36mquick_execute\u001b[0;34m(op_name, num_outputs, inputs, attrs, ctx, name)\u001b[0m\n\u001b[1;32m     53\u001b[0m     \u001b[0mctx\u001b[0m\u001b[0;34m.\u001b[0m\u001b[0mensure_initialized\u001b[0m\u001b[0;34m(\u001b[0m\u001b[0;34m)\u001b[0m\u001b[0;34m\u001b[0m\u001b[0;34m\u001b[0m\u001b[0m\n\u001b[1;32m     54\u001b[0m     tensors = pywrap_tfe.TFE_Py_Execute(ctx._handle, device_name, op_name,\n\u001b[0;32m---> 55\u001b[0;31m                                         inputs, attrs, num_outputs)\n\u001b[0m\u001b[1;32m     56\u001b[0m   \u001b[0;32mexcept\u001b[0m \u001b[0mcore\u001b[0m\u001b[0;34m.\u001b[0m\u001b[0m_NotOkStatusException\u001b[0m \u001b[0;32mas\u001b[0m \u001b[0me\u001b[0m\u001b[0;34m:\u001b[0m\u001b[0;34m\u001b[0m\u001b[0;34m\u001b[0m\u001b[0m\n\u001b[1;32m     57\u001b[0m     \u001b[0;32mif\u001b[0m \u001b[0mname\u001b[0m \u001b[0;32mis\u001b[0m \u001b[0;32mnot\u001b[0m \u001b[0;32mNone\u001b[0m\u001b[0;34m:\u001b[0m\u001b[0;34m\u001b[0m\u001b[0;34m\u001b[0m\u001b[0m\n",
            "\u001b[0;31mKeyboardInterrupt\u001b[0m: "
          ]
        }
      ],
      "source": [
        "trs_non = keras.models.load_model('VGG19_nongenFT1.h5') #모델 가져오기\n",
        "trs_non.compile(optimizer= SGD(lr=1e-4, momentum=0.9),\n",
        "  loss='categorical_crossentropy', \n",
        "  metrics=['accuracy'])#옵티마이저 컴파일\n",
        "general = trs_non.fit(t_nongen, validation_data= v_nongen, epochs= 60, verbose=1)\n",
        "trs_non.save('VGG19_nongenFT2.h5')"
      ]
    },
    {
      "cell_type": "code",
      "source": [
        "#general = trs_non.fit(t_nongen, validation_data= v_nongen, epochs= 10, verbose=1)"
      ],
      "metadata": {
        "id": "EjCyWDnomDKW"
      },
      "execution_count": null,
      "outputs": []
    },
    {
      "cell_type": "code",
      "source": [
        "with open('VGG19_nongenFT1.pkl', 'wb') as f:\n",
        "\tpickle.dump(general.history, f, protocol=pickle.HIGHEST_PROTOCOL)"
      ],
      "metadata": {
        "id": "effVZ_gGKUIN"
      },
      "execution_count": 21,
      "outputs": []
    },
    {
      "cell_type": "code",
      "source": [
        "# history 담은 pickle file\n",
        "with open('VGG19_vernongen.pkl', 'rb') as f:\n",
        "\tdf2 = pickle.load(f)"
      ],
      "metadata": {
        "id": "FDZaiYZimDKW"
      },
      "execution_count": 23,
      "outputs": []
    },
    {
      "cell_type": "code",
      "source": [
        "# 옵티마이저 수정 전\n",
        "\n",
        "\n",
        "plt.figure(figsize=(15, 5))\n",
        "\n",
        "plt.subplot(1, 2, 1)\n",
        "plt.plot(df2['accuracy'], label='acc')\n",
        "plt.plot(df2['val_accuracy'], label='val_acc')\n",
        "plt.legend(loc='lower right')\n",
        "plt.title('Accuracy comparison')\n",
        "\n",
        "plt.subplot(1, 2, 2)\n",
        "plt.plot(df2['loss'], label='loss')\n",
        "plt.plot(df2['val_loss'], label='val_loss')\n",
        "plt.legend(loc='upper right')\n",
        "plt.title('Loss comparison')\n",
        "\n",
        "plt.show()"
      ],
      "metadata": {
        "id": "dVyOKgbw-qpZ"
      },
      "execution_count": null,
      "outputs": []
    },
    {
      "cell_type": "code",
      "source": [
        "# 옵티마이저 수정 후\n",
        "\n",
        "\n",
        "plt.figure(figsize=(15, 5))\n",
        "\n",
        "plt.subplot(1, 2, 1)\n",
        "plt.plot(df['accuracy'], label='acc')\n",
        "plt.plot(df['val_accuracy'], label='val_acc')\n",
        "plt.legend(loc='lower right')\n",
        "plt.title('Accuracy comparison')\n",
        "\n",
        "plt.subplot(1, 2, 2)\n",
        "plt.plot(df['loss'], label='loss')\n",
        "plt.plot(df['val_loss'], label='val_loss')\n",
        "plt.legend(loc='upper right')\n",
        "plt.title('Loss comparison')\n",
        "\n",
        "plt.show()"
      ],
      "metadata": {
        "colab": {
          "base_uri": "https://localhost:8080/",
          "height": 336
        },
        "outputId": "85a10bbc-f9f6-48b5-a1de-49116940a583",
        "id": "pjolfzoHmDKW"
      },
      "execution_count": 24,
      "outputs": [
        {
          "output_type": "display_data",
          "data": {
            "text/plain": [
              "<Figure size 1080x360 with 2 Axes>"
            ],
            "image/png": "[encoded data removed]"
          },
          "metadata": {
            "needs_background": "light"
          }
        }
      ]
    },
    {
      "cell_type": "markdown",
      "source": [
        "모델 평가"
      ],
      "metadata": {
        "id": "6u6iaESNmDKW"
      }
    },
    {
      "cell_type": "code",
      "source": [
        "X_test = np.load('./X_test_128.npy',allow_pickle=True)/255\n",
        "y_test = np.load('./y_test_128.npy',allow_pickle=True)\n",
        "y_test = np.array(y_test).astype(np.float32)\n",
        "trs_non.evaluate(X_test, y_test)"
      ],
      "metadata": {
        "colab": {
          "base_uri": "https://localhost:8080/"
        },
        "outputId": "0d5a5ea9-773d-4645-dfe3-e1be69f98e6a",
        "id": "dK_t_5gcmDKW"
      },
      "execution_count": null,
      "outputs": [
        {
          "output_type": "stream",
          "name": "stdout",
          "text": [
            "16/16 [==============================] - 96s 6s/step - loss: 1.4622 - accuracy: 0.6348\n"
          ]
        },
        {
          "output_type": "execute_result",
          "data": {
            "text/plain": [
              "[1.4622313976287842, 0.634765625]"
            ]
          },
          "metadata": {},
          "execution_count": 30
        }
      ]
    },
    {
      "cell_type": "code",
      "source": [
        "import torch\n",
        "y_test = torch.Tensor(y_test)\n",
        "y_test = torch.argmax(y_test, dim=1)"
      ],
      "metadata": {
        "id": "Am05l1WRmDKW"
      },
      "execution_count": null,
      "outputs": []
    },
    {
      "cell_type": "code",
      "source": [
        "y_pred_enc = trs_non.predict(X_test)          # one-hot encoding된 label 예측값\n",
        "y_pred = [np.argmax(i) for i in y_pred_enc] # label 예측값\n",
        "matrix = confusion_matrix(y_test, y_pred)\n",
        "item = {\n",
        "      0: 'Type 1'\n",
        "    , 1: 'Type 2'\n",
        "    , 2: 'Type 3'\n",
        "}\n",
        "res = pd.DataFrame(matrix)\n",
        "res.columns = item.values()\n",
        "res.index = item.values()\n",
        "        \n",
        "res"
      ],
      "metadata": {
        "colab": {
          "base_uri": "https://localhost:8080/",
          "height": 161
        },
        "id": "EUjRmHFEmDKW",
        "outputId": "7ff61d04-9300-488b-f83c-593d1f9ae2f0"
      },
      "execution_count": null,
      "outputs": [
        {
          "output_type": "stream",
          "name": "stdout",
          "text": [
            "16/16 [==============================] - 100s 6s/step\n"
          ]
        },
        {
          "output_type": "execute_result",
          "data": {
            "text/plain": [
              "        Type 1  Type 2  Type 3\n",
              "Type 1      32      40      15\n",
              "Type 2      11     211      43\n",
              "Type 3       2      76      82"
            ],
            "text/html": [
              "\n",
              "  <div id=\"df-236428e4-ca77-408a-be0c-6fc0e67ad99b\">\n",
              "    <div class=\"colab-df-container\">\n",
              "      <div>\n",
              "<style scoped>\n",
              "    .dataframe tbody tr th:only-of-type {\n",
              "        vertical-align: middle;\n",
              "    }\n",
              "\n",
              "    .dataframe tbody tr th {\n",
              "        vertical-align: top;\n",
              "    }\n",
              "\n",
              "    .dataframe thead th {\n",
              "        text-align: right;\n",
              "    }\n",
              "</style>\n",
              "<table border=\"1\" class=\"dataframe\">\n",
              "  <thead>\n",
              "    <tr style=\"text-align: right;\">\n",
              "      <th></th>\n",
              "      <th>Type 1</th>\n",
              "      <th>Type 2</th>\n",
              "      <th>Type 3</th>\n",
              "    </tr>\n",
              "  </thead>\n",
              "  <tbody>\n",
              "    <tr>\n",
              "      <th>Type 1</th>\n",
              "      <td>32</td>\n",
              "      <td>40</td>\n",
              "      <td>15</td>\n",
              "    </tr>\n",
              "    <tr>\n",
              "      <th>Type 2</th>\n",
              "      <td>11</td>\n",
              "      <td>211</td>\n",
              "      <td>43</td>\n",
              "    </tr>\n",
              "    <tr>\n",
              "      <th>Type 3</th>\n",
              "      <td>2</td>\n",
              "      <td>76</td>\n",
              "      <td>82</td>\n",
              "    </tr>\n",
              "  </tbody>\n",
              "</table>\n",
              "</div>\n",
              "      <button class=\"colab-df-convert\" onclick=\"convertToInteractive('df-236428e4-ca77-408a-be0c-6fc0e67ad99b')\"\n",
              "              title=\"Convert this dataframe to an interactive table.\"\n",
              "              style=\"display:none;\">\n",
              "        \n",
              "  <svg xmlns=\"http://www.w3.org/2000/svg\" height=\"24px\"viewBox=\"0 0 24 24\"\n",
              "       width=\"24px\">\n",
              "    <path d=\"M0 0h24v24H0V0z\" fill=\"none\"/>\n",
              "    <path d=\"M18.56 5.44l.94 2.06.94-2.06 2.06-.94-2.06-.94-.94-2.06-.94 2.06-2.06.94zm-11 1L8.5 8.5l.94-2.06 2.06-.94-2.06-.94L8.5 2.5l-.94 2.06-2.06.94zm10 10l.94 2.06.94-2.06 2.06-.94-2.06-.94-.94-2.06-.94 2.06-2.06.94z\"/><path d=\"M17.41 7.96l-1.37-1.37c-.4-.4-.92-.59-1.43-.59-.52 0-1.04.2-1.43.59L10.3 9.45l-7.72 7.72c-.78.78-.78 2.05 0 2.83L4 21.41c.39.39.9.59 1.41.59.51 0 1.02-.2 1.41-.59l7.78-7.78 2.81-2.81c.8-.78.8-2.07 0-2.86zM5.41 20L4 18.59l7.72-7.72 1.47 1.35L5.41 20z\"/>\n",
              "  </svg>\n",
              "      </button>\n",
              "      \n",
              "  <style>\n",
              "    .colab-df-container {\n",
              "      display:flex;\n",
              "      flex-wrap:wrap;\n",
              "      gap: 12px;\n",
              "    }\n",
              "\n",
              "    .colab-df-convert {\n",
              "      background-color: #E8F0FE;\n",
              "      border: none;\n",
              "      border-radius: 50%;\n",
              "      cursor: pointer;\n",
              "      display: none;\n",
              "      fill: #1967D2;\n",
              "      height: 32px;\n",
              "      padding: 0 0 0 0;\n",
              "      width: 32px;\n",
              "    }\n",
              "\n",
              "    .colab-df-convert:hover {\n",
              "      background-color: #E2EBFA;\n",
              "      box-shadow: 0px 1px 2px rgba(60, 64, 67, 0.3), 0px 1px 3px 1px rgba(60, 64, 67, 0.15);\n",
              "      fill: #174EA6;\n",
              "    }\n",
              "\n",
              "    [theme=dark] .colab-df-convert {\n",
              "      background-color: #3B4455;\n",
              "      fill: #D2E3FC;\n",
              "    }\n",
              "\n",
              "    [theme=dark] .colab-df-convert:hover {\n",
              "      background-color: #434B5C;\n",
              "      box-shadow: 0px 1px 3px 1px rgba(0, 0, 0, 0.15);\n",
              "      filter: drop-shadow(0px 1px 2px rgba(0, 0, 0, 0.3));\n",
              "      fill: #FFFFFF;\n",
              "    }\n",
              "  </style>\n",
              "\n",
              "      <script>\n",
              "        const buttonEl =\n",
              "          document.querySelector('#df-236428e4-ca77-408a-be0c-6fc0e67ad99b button.colab-df-convert');\n",
              "        buttonEl.style.display =\n",
              "          google.colab.kernel.accessAllowed ? 'block' : 'none';\n",
              "\n",
              "        async function convertToInteractive(key) {\n",
              "          const element = document.querySelector('#df-236428e4-ca77-408a-be0c-6fc0e67ad99b');\n",
              "          const dataTable =\n",
              "            await google.colab.kernel.invokeFunction('convertToInteractive',\n",
              "                                                     [key], {});\n",
              "          if (!dataTable) return;\n",
              "\n",
              "          const docLinkHtml = 'Like what you see? Visit the ' +\n",
              "            '<a target=\"_blank\" href=https://colab.research.google.com/notebooks/data_table.ipynb>data table notebook</a>'\n",
              "            + ' to learn more about interactive tables.';\n",
              "          element.innerHTML = '';\n",
              "          dataTable['output_type'] = 'display_data';\n",
              "          await google.colab.output.renderOutput(dataTable, element);\n",
              "          const docLink = document.createElement('div');\n",
              "          docLink.innerHTML = docLinkHtml;\n",
              "          element.appendChild(docLink);\n",
              "        }\n",
              "      </script>\n",
              "    </div>\n",
              "  </div>\n",
              "  "
            ]
          },
          "metadata": {},
          "execution_count": 32
        }
      ]
    }
  ],
  "metadata": {
    "colab": {
      "provenance": [],
      "include_colab_link": true
    },
    "gpuClass": "standard",
    "kernelspec": {
      "display_name": "Python 3",
      "language": "python",
      "name": "python3"
    },
    "language_info": {
      "codemirror_mode": {
        "name": "ipython",
        "version": 3
      },
      "file_extension": ".py",
      "mimetype": "text/x-python",
      "name": "python",
      "nbconvert_exporter": "python",
      "pygments_lexer": "ipython3",
      "version": "3.7.12"
    },
    "accelerator": "GPU"
  },
  "nbformat": 4,
  "nbformat_minor": 0
}