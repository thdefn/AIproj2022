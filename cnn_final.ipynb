{
  "cells": [
    {
      "cell_type": "markdown",
      "metadata": {
        "id": "view-in-github",
        "colab_type": "text"
      },
      "source": [
        "<a href=\"https://colab.research.google.com/github/thdefn/AIproj2022/blob/master/cnn_final.ipynb\" target=\"_parent\"><img src=\"https://colab.research.google.com/assets/colab-badge.svg\" alt=\"Open In Colab\"/></a>"
      ]
    },
    {
      "cell_type": "markdown",
      "source": [
        "### CNN 증강 안한 버전\n",
        "모델, 히스토리 저장 링크\n",
        "https://drive.google.com/drive/folders/1pTTZI_bfVOVXptYJ-GdtdU5HMW5geO0p?usp=sharing\n"
      ],
      "metadata": {
        "id": "G02a4WtlyAdn"
      },
      "id": "G02a4WtlyAdn"
    },
    {
      "cell_type": "code",
      "execution_count": null,
      "id": "12e9f413",
      "metadata": {
        "execution": {
          "iopub.execute_input": "2022-11-25T12:04:56.155767Z",
          "iopub.status.busy": "2022-11-25T12:04:56.155020Z",
          "iopub.status.idle": "2022-11-25T12:05:03.865366Z",
          "shell.execute_reply": "2022-11-25T12:05:03.863787Z"
        },
        "id": "12e9f413",
        "papermill": {
          "duration": 7.722866,
          "end_time": "2022-11-25T12:05:03.868909",
          "exception": false,
          "start_time": "2022-11-25T12:04:56.146043",
          "status": "completed"
        },
        "tags": []
      },
      "outputs": [],
      "source": [
        "import numpy as np\n",
        "import pandas as pd\n",
        "\n",
        "from tensorflow import keras\n",
        "\n",
        "from tensorflow.keras import Model\n",
        "from tensorflow.keras.models import Sequential\n",
        "from tensorflow.keras.layers import Activation, Conv2D, MaxPooling2D, Dense, Flatten\n",
        "from tensorflow.keras.layers import Dropout, BatchNormalization \n",
        "from tensorflow.keras.utils import to_categorical"
      ]
    },
    {
      "cell_type": "code",
      "execution_count": null,
      "id": "6b736d67",
      "metadata": {
        "execution": {
          "iopub.execute_input": "2022-11-25T12:05:03.879943Z",
          "iopub.status.busy": "2022-11-25T12:05:03.879237Z",
          "iopub.status.idle": "2022-11-25T12:05:05.326854Z",
          "shell.execute_reply": "2022-11-25T12:05:05.325279Z"
        },
        "id": "6b736d67",
        "papermill": {
          "duration": 1.456828,
          "end_time": "2022-11-25T12:05:05.330165",
          "exception": false,
          "start_time": "2022-11-25T12:05:03.873337",
          "status": "completed"
        },
        "tags": []
      },
      "outputs": [],
      "source": [
        "from tensorflow.keras.applications.vgg19 import VGG19\n",
        "from tensorflow.keras.callbacks import ModelCheckpoint\n",
        "\n",
        "import matplotlib.pyplot as plt\n",
        "\n",
        "import seaborn as sns\n",
        "import os\n",
        "import glob\n",
        "import plotly.graph_objects as go\n",
        "import cv2\n",
        "from PIL import Image\n",
        "from PIL import ImageFile\n",
        "from sklearn.model_selection import train_test_split\n",
        "from sklearn.preprocessing import LabelEncoder\n",
        "from tensorflow.keras.preprocessing.image import ImageDataGenerator\n",
        "from tensorflow.keras.optimizers import RMSprop\n",
        "from tensorflow.keras.callbacks import EarlyStopping, ReduceLROnPlateau,ModelCheckpoint \n",
        "from sklearn.metrics import accuracy_score, confusion_matrix, classification_report\n",
        "import warnings\n",
        "warnings.filterwarnings(\"ignore\")\n",
        "ImageFile.LOAD_TRUNCATED_IMAGES = True\n",
        "\n",
        "from tqdm import tqdm"
      ]
    },
    {
      "cell_type": "code",
      "execution_count": null,
      "id": "611a800c",
      "metadata": {
        "execution": {
          "iopub.execute_input": "2022-11-25T12:05:05.341009Z",
          "iopub.status.busy": "2022-11-25T12:05:05.340591Z",
          "iopub.status.idle": "2022-11-25T12:05:06.699836Z",
          "shell.execute_reply": "2022-11-25T12:05:06.698587Z"
        },
        "id": "611a800c",
        "outputId": "8a60061e-1921-48d9-89bf-082cd51369dd",
        "papermill": {
          "duration": 1.368,
          "end_time": "2022-11-25T12:05:06.702734",
          "exception": false,
          "start_time": "2022-11-25T12:05:05.334734",
          "status": "completed"
        },
        "tags": []
      },
      "outputs": [
        {
          "name": "stdout",
          "output_type": "stream",
          "text": [
            "Type 1 files for training: 1441 \n",
            "Type 2 files for training: 4348\n",
            "Type 3 files for training: 2426\n"
          ]
        }
      ],
      "source": [
        "root_dir = '../input/intel-mobileodt-cervical-cancer-screening'\n",
        "train_dir = os.path.join(root_dir,'train', 'train')\n",
        "\n",
        "type1_dir = os.path.join(train_dir, 'Type_1')\n",
        "type2_dir = os.path.join(train_dir, 'Type_2')\n",
        "type3_dir = os.path.join(train_dir, 'Type_3')\n",
        "\n",
        "train_type1_files = glob.glob(type1_dir+'/*.jpg')\n",
        "train_type2_files = glob.glob(type2_dir+'/*.jpg')\n",
        "train_type3_files = glob.glob(type3_dir+'/*.jpg')\n",
        "\n",
        "\n",
        "added_type1_files  =  glob.glob(os.path.join(root_dir, \"additional_Type_1_v2\", \"Type_1\")+'/*.jpg')\n",
        "added_type2_files  =  glob.glob(os.path.join(root_dir, \"additional_Type_2_v2\", \"Type_2\")+'/*.jpg')\n",
        "added_type3_files  =  glob.glob(os.path.join(root_dir, \"additional_Type_3_v2\", \"Type_3\")+'/*.jpg')\n",
        "\n",
        "\n",
        "type1_files = train_type1_files + added_type1_files\n",
        "type2_files = train_type2_files + added_type2_files\n",
        "type3_files = train_type3_files + added_type3_files\n",
        "\n",
        "print(f'''Type 1 files for training: {len(type1_files)} \n",
        "Type 2 files for training: {len(type2_files)}\n",
        "Type 3 files for training: {len(type3_files)}''' )"
      ]
    },
    {
      "cell_type": "code",
      "execution_count": null,
      "id": "af9b307e",
      "metadata": {
        "execution": {
          "iopub.execute_input": "2022-11-25T12:05:06.713571Z",
          "iopub.status.busy": "2022-11-25T12:05:06.713110Z",
          "iopub.status.idle": "2022-11-25T12:05:06.748527Z",
          "shell.execute_reply": "2022-11-25T12:05:06.747500Z"
        },
        "id": "af9b307e",
        "outputId": "c35e3020-9f72-4214-bb42-66695ffdbd1c",
        "papermill": {
          "duration": 0.043929,
          "end_time": "2022-11-25T12:05:06.750979",
          "exception": false,
          "start_time": "2022-11-25T12:05:06.707050",
          "status": "completed"
        },
        "tags": []
      },
      "outputs": [
        {
          "data": {
            "text/html": [
              "<div>\n",
              "<style scoped>\n",
              "    .dataframe tbody tr th:only-of-type {\n",
              "        vertical-align: middle;\n",
              "    }\n",
              "\n",
              "    .dataframe tbody tr th {\n",
              "        vertical-align: top;\n",
              "    }\n",
              "\n",
              "    .dataframe thead th {\n",
              "        text-align: right;\n",
              "    }\n",
              "</style>\n",
              "<table border=\"1\" class=\"dataframe\">\n",
              "  <thead>\n",
              "    <tr style=\"text-align: right;\">\n",
              "      <th></th>\n",
              "      <th>filepath</th>\n",
              "      <th>label</th>\n",
              "    </tr>\n",
              "  </thead>\n",
              "  <tbody>\n",
              "    <tr>\n",
              "      <th>0</th>\n",
              "      <td>../input/intel-mobileodt-cervical-cancer-scree...</td>\n",
              "      <td>Type 1</td>\n",
              "    </tr>\n",
              "    <tr>\n",
              "      <th>1</th>\n",
              "      <td>../input/intel-mobileodt-cervical-cancer-scree...</td>\n",
              "      <td>Type 3</td>\n",
              "    </tr>\n",
              "    <tr>\n",
              "      <th>2</th>\n",
              "      <td>../input/intel-mobileodt-cervical-cancer-scree...</td>\n",
              "      <td>Type 1</td>\n",
              "    </tr>\n",
              "    <tr>\n",
              "      <th>3</th>\n",
              "      <td>../input/intel-mobileodt-cervical-cancer-scree...</td>\n",
              "      <td>Type 2</td>\n",
              "    </tr>\n",
              "    <tr>\n",
              "      <th>4</th>\n",
              "      <td>../input/intel-mobileodt-cervical-cancer-scree...</td>\n",
              "      <td>Type 3</td>\n",
              "    </tr>\n",
              "    <tr>\n",
              "      <th>...</th>\n",
              "      <td>...</td>\n",
              "      <td>...</td>\n",
              "    </tr>\n",
              "    <tr>\n",
              "      <th>8210</th>\n",
              "      <td>../input/intel-mobileodt-cervical-cancer-scree...</td>\n",
              "      <td>Type 2</td>\n",
              "    </tr>\n",
              "    <tr>\n",
              "      <th>8211</th>\n",
              "      <td>../input/intel-mobileodt-cervical-cancer-scree...</td>\n",
              "      <td>Type 3</td>\n",
              "    </tr>\n",
              "    <tr>\n",
              "      <th>8212</th>\n",
              "      <td>../input/intel-mobileodt-cervical-cancer-scree...</td>\n",
              "      <td>Type 1</td>\n",
              "    </tr>\n",
              "    <tr>\n",
              "      <th>8213</th>\n",
              "      <td>../input/intel-mobileodt-cervical-cancer-scree...</td>\n",
              "      <td>Type 2</td>\n",
              "    </tr>\n",
              "    <tr>\n",
              "      <th>8214</th>\n",
              "      <td>../input/intel-mobileodt-cervical-cancer-scree...</td>\n",
              "      <td>Type 1</td>\n",
              "    </tr>\n",
              "  </tbody>\n",
              "</table>\n",
              "<p>8215 rows × 2 columns</p>\n",
              "</div>"
            ],
            "text/plain": [
              "                                               filepath   label\n",
              "0     ../input/intel-mobileodt-cervical-cancer-scree...  Type 1\n",
              "1     ../input/intel-mobileodt-cervical-cancer-scree...  Type 3\n",
              "2     ../input/intel-mobileodt-cervical-cancer-scree...  Type 1\n",
              "3     ../input/intel-mobileodt-cervical-cancer-scree...  Type 2\n",
              "4     ../input/intel-mobileodt-cervical-cancer-scree...  Type 3\n",
              "...                                                 ...     ...\n",
              "8210  ../input/intel-mobileodt-cervical-cancer-scree...  Type 2\n",
              "8211  ../input/intel-mobileodt-cervical-cancer-scree...  Type 3\n",
              "8212  ../input/intel-mobileodt-cervical-cancer-scree...  Type 1\n",
              "8213  ../input/intel-mobileodt-cervical-cancer-scree...  Type 2\n",
              "8214  ../input/intel-mobileodt-cervical-cancer-scree...  Type 1\n",
              "\n",
              "[8215 rows x 2 columns]"
            ]
          },
          "execution_count": 4,
          "metadata": {},
          "output_type": "execute_result"
        }
      ],
      "source": [
        "files = {'filepath': type1_files + type2_files + type3_files,\n",
        "          'label': ['Type 1']* len(type1_files) + ['Type 2']* len(type2_files) + ['Type 3']* len(type3_files)}\n",
        "\n",
        "files_df = pd.DataFrame(files).sample(frac=1, random_state= 1).reset_index(drop=True)\n",
        "files_df"
      ]
    },
    {
      "cell_type": "code",
      "execution_count": null,
      "id": "16bca9db",
      "metadata": {
        "execution": {
          "iopub.execute_input": "2022-11-25T12:05:06.762670Z",
          "iopub.status.busy": "2022-11-25T12:05:06.762007Z",
          "iopub.status.idle": "2022-11-25T12:07:24.646831Z",
          "shell.execute_reply": "2022-11-25T12:07:24.645416Z"
        },
        "id": "16bca9db",
        "outputId": "52bed748-507d-4d5a-d02d-68d0e8e3a9dc",
        "papermill": {
          "duration": 137.893986,
          "end_time": "2022-11-25T12:07:24.649877",
          "exception": false,
          "start_time": "2022-11-25T12:05:06.755891",
          "status": "completed"
        },
        "tags": []
      },
      "outputs": [
        {
          "name": "stderr",
          "output_type": "stream",
          "text": [
            "100%|██████████| 8215/8215 [02:17<00:00, 59.59it/s]\n"
          ]
        }
      ],
      "source": [
        "bad_files = []\n",
        "for path in tqdm(files_df['filepath'].values):\n",
        "    try:\n",
        "        img = Image.open(path)\n",
        "    except:\n",
        "        index = files_df[files_df['filepath']==path].index.values[0]\n",
        "        bad_files.append(index)"
      ]
    },
    {
      "cell_type": "code",
      "execution_count": null,
      "id": "c0f5746c",
      "metadata": {
        "execution": {
          "iopub.execute_input": "2022-11-25T12:07:24.808162Z",
          "iopub.status.busy": "2022-11-25T12:07:24.807735Z",
          "iopub.status.idle": "2022-11-25T12:07:24.824077Z",
          "shell.execute_reply": "2022-11-25T12:07:24.822749Z"
        },
        "id": "c0f5746c",
        "outputId": "30506d1b-f2a9-440d-aea7-ee51c14fc3ff",
        "papermill": {
          "duration": 0.097303,
          "end_time": "2022-11-25T12:07:24.826751",
          "exception": false,
          "start_time": "2022-11-25T12:07:24.729448",
          "status": "completed"
        },
        "tags": []
      },
      "outputs": [
        {
          "data": {
            "text/html": [
              "<div>\n",
              "<style scoped>\n",
              "    .dataframe tbody tr th:only-of-type {\n",
              "        vertical-align: middle;\n",
              "    }\n",
              "\n",
              "    .dataframe tbody tr th {\n",
              "        vertical-align: top;\n",
              "    }\n",
              "\n",
              "    .dataframe thead th {\n",
              "        text-align: right;\n",
              "    }\n",
              "</style>\n",
              "<table border=\"1\" class=\"dataframe\">\n",
              "  <thead>\n",
              "    <tr style=\"text-align: right;\">\n",
              "      <th></th>\n",
              "      <th>filepath</th>\n",
              "      <th>label</th>\n",
              "    </tr>\n",
              "  </thead>\n",
              "  <tbody>\n",
              "    <tr>\n",
              "      <th>0</th>\n",
              "      <td>../input/intel-mobileodt-cervical-cancer-scree...</td>\n",
              "      <td>Type 1</td>\n",
              "    </tr>\n",
              "    <tr>\n",
              "      <th>1</th>\n",
              "      <td>../input/intel-mobileodt-cervical-cancer-scree...</td>\n",
              "      <td>Type 3</td>\n",
              "    </tr>\n",
              "    <tr>\n",
              "      <th>2</th>\n",
              "      <td>../input/intel-mobileodt-cervical-cancer-scree...</td>\n",
              "      <td>Type 1</td>\n",
              "    </tr>\n",
              "    <tr>\n",
              "      <th>3</th>\n",
              "      <td>../input/intel-mobileodt-cervical-cancer-scree...</td>\n",
              "      <td>Type 2</td>\n",
              "    </tr>\n",
              "    <tr>\n",
              "      <th>4</th>\n",
              "      <td>../input/intel-mobileodt-cervical-cancer-scree...</td>\n",
              "      <td>Type 3</td>\n",
              "    </tr>\n",
              "    <tr>\n",
              "      <th>...</th>\n",
              "      <td>...</td>\n",
              "      <td>...</td>\n",
              "    </tr>\n",
              "    <tr>\n",
              "      <th>8210</th>\n",
              "      <td>../input/intel-mobileodt-cervical-cancer-scree...</td>\n",
              "      <td>Type 2</td>\n",
              "    </tr>\n",
              "    <tr>\n",
              "      <th>8211</th>\n",
              "      <td>../input/intel-mobileodt-cervical-cancer-scree...</td>\n",
              "      <td>Type 3</td>\n",
              "    </tr>\n",
              "    <tr>\n",
              "      <th>8212</th>\n",
              "      <td>../input/intel-mobileodt-cervical-cancer-scree...</td>\n",
              "      <td>Type 1</td>\n",
              "    </tr>\n",
              "    <tr>\n",
              "      <th>8213</th>\n",
              "      <td>../input/intel-mobileodt-cervical-cancer-scree...</td>\n",
              "      <td>Type 2</td>\n",
              "    </tr>\n",
              "    <tr>\n",
              "      <th>8214</th>\n",
              "      <td>../input/intel-mobileodt-cervical-cancer-scree...</td>\n",
              "      <td>Type 1</td>\n",
              "    </tr>\n",
              "  </tbody>\n",
              "</table>\n",
              "<p>8212 rows × 2 columns</p>\n",
              "</div>"
            ],
            "text/plain": [
              "                                               filepath   label\n",
              "0     ../input/intel-mobileodt-cervical-cancer-scree...  Type 1\n",
              "1     ../input/intel-mobileodt-cervical-cancer-scree...  Type 3\n",
              "2     ../input/intel-mobileodt-cervical-cancer-scree...  Type 1\n",
              "3     ../input/intel-mobileodt-cervical-cancer-scree...  Type 2\n",
              "4     ../input/intel-mobileodt-cervical-cancer-scree...  Type 3\n",
              "...                                                 ...     ...\n",
              "8210  ../input/intel-mobileodt-cervical-cancer-scree...  Type 2\n",
              "8211  ../input/intel-mobileodt-cervical-cancer-scree...  Type 3\n",
              "8212  ../input/intel-mobileodt-cervical-cancer-scree...  Type 1\n",
              "8213  ../input/intel-mobileodt-cervical-cancer-scree...  Type 2\n",
              "8214  ../input/intel-mobileodt-cervical-cancer-scree...  Type 1\n",
              "\n",
              "[8212 rows x 2 columns]"
            ]
          },
          "execution_count": 6,
          "metadata": {},
          "output_type": "execute_result"
        }
      ],
      "source": [
        "bad_files\n",
        "files_df.drop(bad_files, inplace=True)\n",
        "files_df"
      ]
    },
    {
      "cell_type": "code",
      "execution_count": null,
      "id": "8ffc61f4",
      "metadata": {
        "execution": {
          "iopub.execute_input": "2022-11-25T12:07:24.990302Z",
          "iopub.status.busy": "2022-11-25T12:07:24.989880Z",
          "iopub.status.idle": "2022-11-25T12:07:29.826581Z",
          "shell.execute_reply": "2022-11-25T12:07:29.824646Z"
        },
        "papermill": {
          "duration": 4.923624,
          "end_time": "2022-11-25T12:07:29.829680",
          "exception": false,
          "start_time": "2022-11-25T12:07:24.906056",
          "status": "completed"
        },
        "tags": [],
        "id": "8ffc61f4",
        "outputId": "43e6ca23-1cc4-48e9-ab2f-f29023510d0a"
      },
      "outputs": [
        {
          "name": "stdout",
          "output_type": "stream",
          "text": [
            "Found 8212 validated image filenames belonging to 3 classes.\n"
          ]
        }
      ],
      "source": [
        "t = ImageDataGenerator(rescale=1./ 255, rotation_range=0.3, zoom_range=0.3)\n",
        "\n",
        "t_gen = t.flow_from_dataframe(files_df,x_col='filepath', y_col='label', target_size = (128, 128),batch_size=16,class_mode='categorical', color_mode='rgb', subset='training')"
      ]
    },
    {
      "cell_type": "code",
      "execution_count": null,
      "id": "8a422b70",
      "metadata": {
        "execution": {
          "iopub.execute_input": "2022-11-25T12:07:29.987121Z",
          "iopub.status.busy": "2022-11-25T12:07:29.986716Z",
          "iopub.status.idle": "2022-11-25T12:07:30.197270Z",
          "shell.execute_reply": "2022-11-25T12:07:30.195631Z"
        },
        "id": "8a422b70",
        "outputId": "e13b4c92-5412-4ed2-f041-e6db526652ee",
        "papermill": {
          "duration": 0.294918,
          "end_time": "2022-11-25T12:07:30.201329",
          "exception": false,
          "start_time": "2022-11-25T12:07:29.906411",
          "status": "completed"
        },
        "tags": []
      },
      "outputs": [
        {
          "name": "stdout",
          "output_type": "stream",
          "text": [
            "Found 6570 validated image filenames belonging to 3 classes.\n",
            "Found 1642 validated image filenames belonging to 3 classes.\n"
          ]
        }
      ],
      "source": [
        "#train_df, valid_df = train_test_split(files_df, test_size = 0.2, stratify = files_df['label'], random_state = 1234)\n",
        "k = ImageDataGenerator(rescale=1./ 255, validation_split=0.2)\n",
        "t_nongen = k.flow_from_dataframe(files_df, x_col='filepath', y_col='label', target_size = (128, 128), class_mode='categorical', color_mode='rgb', subset='training')\n",
        "v_nongen = k.flow_from_dataframe(files_df, x_col='filepath', y_col='label', target_size = (128, 128), class_mode='categorical', color_mode='rgb', subset='validation')"
      ]
    },
    {
      "cell_type": "code",
      "execution_count": null,
      "id": "9d771121",
      "metadata": {
        "execution": {
          "iopub.execute_input": "2022-11-25T12:07:30.360705Z",
          "iopub.status.busy": "2022-11-25T12:07:30.360290Z",
          "iopub.status.idle": "2022-11-25T12:07:30.579034Z",
          "shell.execute_reply": "2022-11-25T12:07:30.576990Z"
        },
        "papermill": {
          "duration": 0.301228,
          "end_time": "2022-11-25T12:07:30.581835",
          "exception": false,
          "start_time": "2022-11-25T12:07:30.280607",
          "status": "completed"
        },
        "tags": [],
        "id": "9d771121",
        "outputId": "9286acd7-5263-455e-b3bd-84b5b3486b45"
      },
      "outputs": [
        {
          "name": "stdout",
          "output_type": "stream",
          "text": [
            "Model: \"sequential\"\n",
            "_________________________________________________________________\n",
            "Layer (type)                 Output Shape              Param #   \n",
            "=================================================================\n",
            "conv2d (Conv2D)              (None, 128, 128, 64)      1792      \n",
            "_________________________________________________________________\n",
            "activation (Activation)      (None, 128, 128, 64)      0         \n",
            "_________________________________________________________________\n",
            "max_pooling2d (MaxPooling2D) (None, 64, 64, 64)        0         \n",
            "_________________________________________________________________\n",
            "conv2d_1 (Conv2D)            (None, 64, 64, 32)        18464     \n",
            "_________________________________________________________________\n",
            "activation_1 (Activation)    (None, 64, 64, 32)        0         \n",
            "_________________________________________________________________\n",
            "max_pooling2d_1 (MaxPooling2 (None, 32, 32, 32)        0         \n",
            "_________________________________________________________________\n",
            "conv2d_2 (Conv2D)            (None, 32, 32, 64)        18496     \n",
            "_________________________________________________________________\n",
            "activation_2 (Activation)    (None, 32, 32, 64)        0         \n",
            "_________________________________________________________________\n",
            "max_pooling2d_2 (MaxPooling2 (None, 16, 16, 64)        0         \n",
            "_________________________________________________________________\n",
            "flatten (Flatten)            (None, 16384)             0         \n",
            "_________________________________________________________________\n",
            "dense (Dense)                (None, 64)                1048640   \n",
            "_________________________________________________________________\n",
            "activation_3 (Activation)    (None, 64)                0         \n",
            "_________________________________________________________________\n",
            "dropout (Dropout)            (None, 64)                0         \n",
            "_________________________________________________________________\n",
            "dense_1 (Dense)              (None, 3)                 195       \n",
            "=================================================================\n",
            "Total params: 1,087,587\n",
            "Trainable params: 1,087,587\n",
            "Non-trainable params: 0\n",
            "_________________________________________________________________\n"
          ]
        },
        {
          "name": "stderr",
          "output_type": "stream",
          "text": [
            "2022-11-25 12:07:30.423855: I tensorflow/core/common_runtime/process_util.cc:146] Creating new thread pool with default inter op setting: 2. Tune using inter_op_parallelism_threads for best performance.\n"
          ]
        }
      ],
      "source": [
        "cnn = Sequential([\n",
        "    Conv2D(64, kernel_size = (3,3), padding='same', kernel_initializer='random_normal', input_shape=(128,128,3)),\n",
        "    Activation('relu'),\n",
        "    MaxPooling2D(pool_size=(2,2)),\n",
        "    \n",
        "    Conv2D(32, kernel_size = (3,3), padding='same', kernel_initializer='random_normal'),\n",
        "    Activation('relu'),\n",
        "    MaxPooling2D(pool_size=(2,2)),\n",
        "    \n",
        "    Conv2D(64, kernel_size = (3,3), padding='same', kernel_initializer='random_normal'),\n",
        "    Activation('relu'),\n",
        "    MaxPooling2D(pool_size=(2,2)),\n",
        "\n",
        "    Flatten(),\n",
        "    Dense(64, kernel_initializer='random_normal'),\n",
        "    Activation('relu'),\n",
        "    Dropout(0.5),\n",
        "    Dense(3, activation='softmax')\n",
        "    \n",
        "])\n",
        "\n",
        "cnn.summary()"
      ]
    },
    {
      "cell_type": "code",
      "execution_count": null,
      "id": "ecdc91e3",
      "metadata": {
        "execution": {
          "iopub.execute_input": "2022-11-25T12:07:30.740921Z",
          "iopub.status.busy": "2022-11-25T12:07:30.739694Z",
          "iopub.status.idle": "2022-11-25T12:07:30.755331Z",
          "shell.execute_reply": "2022-11-25T12:07:30.753895Z"
        },
        "id": "ecdc91e3",
        "papermill": {
          "duration": 0.099054,
          "end_time": "2022-11-25T12:07:30.758366",
          "exception": false,
          "start_time": "2022-11-25T12:07:30.659312",
          "status": "completed"
        },
        "tags": []
      },
      "outputs": [],
      "source": [
        "cnn.compile(\n",
        "    'adam',\n",
        "  loss='categorical_crossentropy',\n",
        "  metrics=['accuracy'],\n",
        ")"
      ]
    },
    {
      "cell_type": "code",
      "execution_count": null,
      "id": "51f84a2e",
      "metadata": {
        "execution": {
          "iopub.execute_input": "2022-11-25T12:07:31.085634Z",
          "iopub.status.busy": "2022-11-25T12:07:31.083989Z",
          "iopub.status.idle": "2022-11-25T19:20:30.474522Z",
          "shell.execute_reply": "2022-11-25T19:20:30.471004Z"
        },
        "id": "51f84a2e",
        "papermill": {
          "duration": 25979.493634,
          "end_time": "2022-11-25T19:20:30.497555",
          "exception": false,
          "start_time": "2022-11-25T12:07:31.003921",
          "status": "completed"
        },
        "tags": [],
        "outputId": "d412b4bf-766e-4d69-ca94-4801467b3ba0"
      },
      "outputs": [
        {
          "name": "stderr",
          "output_type": "stream",
          "text": [
            "2022-11-25 12:07:41.372762: I tensorflow/compiler/mlir/mlir_graph_optimization_pass.cc:185] None of the MLIR Optimization Passes are enabled (registered 2)\n"
          ]
        },
        {
          "name": "stdout",
          "output_type": "stream",
          "text": [
            "Epoch 1/10\n",
            "206/206 [==============================] - 2617s 13s/step - loss: 1.0037 - accuracy: 0.5253 - val_loss: 0.9818 - val_accuracy: 0.5305\n",
            "Epoch 2/10\n",
            "206/206 [==============================] - 2566s 12s/step - loss: 0.9742 - accuracy: 0.5381 - val_loss: 0.9528 - val_accuracy: 0.5353\n",
            "Epoch 3/10\n",
            "206/206 [==============================] - 2603s 13s/step - loss: 0.9679 - accuracy: 0.5432 - val_loss: 0.9591 - val_accuracy: 0.5195\n",
            "Epoch 4/10\n",
            "206/206 [==============================] - 2596s 13s/step - loss: 0.9538 - accuracy: 0.5400 - val_loss: 0.9638 - val_accuracy: 0.5250\n",
            "Epoch 5/10\n",
            "206/206 [==============================] - 2592s 13s/step - loss: 0.9362 - accuracy: 0.5470 - val_loss: 0.9265 - val_accuracy: 0.5305\n",
            "Epoch 6/10\n",
            "206/206 [==============================] - 2519s 12s/step - loss: 0.9113 - accuracy: 0.5530 - val_loss: 0.9186 - val_accuracy: 0.5457\n",
            "Epoch 7/10\n",
            "206/206 [==============================] - 2561s 12s/step - loss: 0.8931 - accuracy: 0.5612 - val_loss: 0.9153 - val_accuracy: 0.5463\n",
            "Epoch 8/10\n",
            "206/206 [==============================] - 2599s 13s/step - loss: 0.8633 - accuracy: 0.5699 - val_loss: 0.8995 - val_accuracy: 0.5451\n",
            "Epoch 9/10\n",
            "206/206 [==============================] - 2606s 13s/step - loss: 0.8307 - accuracy: 0.5904 - val_loss: 0.8883 - val_accuracy: 0.5530\n",
            "Epoch 10/10\n",
            "206/206 [==============================] - 2563s 12s/step - loss: 0.8002 - accuracy: 0.6056 - val_loss: 0.8720 - val_accuracy: 0.5676\n"
          ]
        }
      ],
      "source": [
        "general = cnn.fit(t_nongen, validation_data= v_nongen, epochs= 10, verbose=1)\n",
        "cnn.save('CNN_vernongen1.h5')"
      ]
    },
    {
      "cell_type": "code",
      "execution_count": null,
      "id": "15a0fcb3",
      "metadata": {
        "execution": {
          "iopub.execute_input": "2022-11-25T19:20:30.925311Z",
          "iopub.status.busy": "2022-11-25T19:20:30.923775Z",
          "iopub.status.idle": "2022-11-25T19:20:30.941480Z",
          "shell.execute_reply": "2022-11-25T19:20:30.940247Z"
        },
        "papermill": {
          "duration": 0.233556,
          "end_time": "2022-11-25T19:20:30.944128",
          "exception": false,
          "start_time": "2022-11-25T19:20:30.710572",
          "status": "completed"
        },
        "tags": [],
        "id": "15a0fcb3",
        "outputId": "7b1f7d5f-dc70-4672-ebc3-792eea282b92"
      },
      "outputs": [
        {
          "data": {
            "text/plain": [
              "{'loss': [1.003749966621399,\n",
              "  0.974226176738739,\n",
              "  0.9679051041603088,\n",
              "  0.9538061618804932,\n",
              "  0.9362174868583679,\n",
              "  0.9113044738769531,\n",
              "  0.8931166529655457,\n",
              "  0.863330066204071,\n",
              "  0.8307437896728516,\n",
              "  0.8002455234527588],\n",
              " 'accuracy': [0.5252663493156433,\n",
              "  0.5380517244338989,\n",
              "  0.5432267785072327,\n",
              "  0.5400304198265076,\n",
              "  0.5470319390296936,\n",
              "  0.5529680252075195,\n",
              "  0.561187207698822,\n",
              "  0.5698630213737488,\n",
              "  0.5904109477996826,\n",
              "  0.6056316494941711],\n",
              " 'val_loss': [0.9817997217178345,\n",
              "  0.9527755379676819,\n",
              "  0.9590694308280945,\n",
              "  0.9637839794158936,\n",
              "  0.9265195727348328,\n",
              "  0.9186108708381653,\n",
              "  0.9152628183364868,\n",
              "  0.8994780778884888,\n",
              "  0.8882761001586914,\n",
              "  0.871961772441864],\n",
              " 'val_accuracy': [0.5304506421089172,\n",
              "  0.5353227853775024,\n",
              "  0.5194884538650513,\n",
              "  0.5249695777893066,\n",
              "  0.5304506421089172,\n",
              "  0.5456759929656982,\n",
              "  0.5462850332260132,\n",
              "  0.5450670123100281,\n",
              "  0.5529841780662537,\n",
              "  0.5676004886627197]}"
            ]
          },
          "execution_count": 13,
          "metadata": {},
          "output_type": "execute_result"
        }
      ],
      "source": [
        "general.history"
      ]
    },
    {
      "cell_type": "code",
      "execution_count": null,
      "id": "bc0cad1a",
      "metadata": {
        "execution": {
          "iopub.execute_input": "2022-11-25T19:20:31.367813Z",
          "iopub.status.busy": "2022-11-25T19:20:31.367046Z",
          "iopub.status.idle": "2022-11-25T19:20:31.852511Z",
          "shell.execute_reply": "2022-11-25T19:20:31.851252Z"
        },
        "id": "bc0cad1a",
        "papermill": {
          "duration": 0.698308,
          "end_time": "2022-11-25T19:20:31.855065",
          "exception": false,
          "start_time": "2022-11-25T19:20:31.156757",
          "status": "completed"
        },
        "tags": [],
        "outputId": "32ba43b9-fcca-48f1-a0b9-6c2fc62696ed"
      },
      "outputs": [
        {
          "data": {
            "image/png": "[encoded data removed]",
            "text/plain": [
              "<Figure size 1080x360 with 2 Axes>"
            ]
          },
          "metadata": {
            "needs_background": "light"
          },
          "output_type": "display_data"
        }
      ],
      "source": [
        "plt.figure(figsize=(15, 5))\n",
        "\n",
        "plt.subplot(1, 2, 1)\n",
        "plt.plot(general.history['accuracy'], label='acc')\n",
        "plt.plot(general.history['val_accuracy'], label='val_acc')\n",
        "plt.legend(loc='lower right')\n",
        "plt.title('Accuracy comparison')\n",
        "\n",
        "plt.subplot(1, 2, 2)\n",
        "plt.plot(general.history['loss'], label='loss')\n",
        "plt.plot(general.history['val_loss'], label='val_loss')\n",
        "plt.legend(loc='upper right')\n",
        "plt.title('Loss comparison')\n",
        "\n",
        "plt.show()"
      ]
    },
    {
      "cell_type": "markdown",
      "source": [
        "### CNN 증강 버전\n",
        "모델, 히스토리 저장 링크\n",
        "https://drive.google.com/drive/folders/1pTTZI_bfVOVXptYJ-GdtdU5HMW5geO0p?usp=sharing\n",
        "\n",
        "\n",
        "\n",
        "```\n",
        "rotation_range=0.3, zoom_range=0.3\n",
        "```\n",
        "\n",
        "\n"
      ],
      "metadata": {
        "id": "KRTH2mDYyoUR"
      },
      "id": "KRTH2mDYyoUR"
    },
    {
      "cell_type": "code",
      "execution_count": null,
      "metadata": {
        "execution": {
          "iopub.execute_input": "2022-11-25T12:07:24.990302Z",
          "iopub.status.busy": "2022-11-25T12:07:24.989880Z",
          "iopub.status.idle": "2022-11-25T12:07:29.826581Z",
          "shell.execute_reply": "2022-11-25T12:07:29.824646Z"
        },
        "papermill": {
          "duration": 4.923624,
          "end_time": "2022-11-25T12:07:29.829680",
          "exception": false,
          "start_time": "2022-11-25T12:07:24.906056",
          "status": "completed"
        },
        "tags": [],
        "outputId": "43e6ca23-1cc4-48e9-ab2f-f29023510d0a",
        "id": "SWrSMjVpyoUa"
      },
      "outputs": [
        {
          "name": "stdout",
          "output_type": "stream",
          "text": [
            "Found 8212 validated image filenames belonging to 3 classes.\n"
          ]
        }
      ],
      "source": [
        "t = ImageDataGenerator(rescale=1./ 255, rotation_range=0.3, zoom_range=0.3)\n",
        "\n",
        "t_gen = t.flow_from_dataframe(files_df,x_col='filepath', y_col='label', target_size = (128, 128),batch_size=16,class_mode='categorical', color_mode='rgb', subset='training')"
      ],
      "id": "SWrSMjVpyoUa"
    },
    {
      "cell_type": "code",
      "execution_count": null,
      "metadata": {
        "execution": {
          "iopub.execute_input": "2022-11-25T12:07:29.987121Z",
          "iopub.status.busy": "2022-11-25T12:07:29.986716Z",
          "iopub.status.idle": "2022-11-25T12:07:30.197270Z",
          "shell.execute_reply": "2022-11-25T12:07:30.195631Z"
        },
        "outputId": "e13b4c92-5412-4ed2-f041-e6db526652ee",
        "papermill": {
          "duration": 0.294918,
          "end_time": "2022-11-25T12:07:30.201329",
          "exception": false,
          "start_time": "2022-11-25T12:07:29.906411",
          "status": "completed"
        },
        "tags": [],
        "id": "woYxZer2yoUb"
      },
      "outputs": [
        {
          "name": "stdout",
          "output_type": "stream",
          "text": [
            "Found 6570 validated image filenames belonging to 3 classes.\n",
            "Found 1642 validated image filenames belonging to 3 classes.\n"
          ]
        }
      ],
      "source": [
        "#train_df, valid_df = train_test_split(files_df, test_size = 0.2, stratify = files_df['label'], random_state = 1234)\n",
        "k = ImageDataGenerator(rescale=1./ 255, validation_split=0.2)\n",
        "t_nongen = k.flow_from_dataframe(files_df, x_col='filepath', y_col='label', target_size = (128, 128), class_mode='categorical', color_mode='rgb', subset='training')\n",
        "v_nongen = k.flow_from_dataframe(files_df, x_col='filepath', y_col='label', target_size = (128, 128), class_mode='categorical', color_mode='rgb', subset='validation')"
      ],
      "id": "woYxZer2yoUb"
    },
    {
      "cell_type": "code",
      "execution_count": null,
      "metadata": {
        "execution": {
          "iopub.execute_input": "2022-11-25T12:07:30.360705Z",
          "iopub.status.busy": "2022-11-25T12:07:30.360290Z",
          "iopub.status.idle": "2022-11-25T12:07:30.579034Z",
          "shell.execute_reply": "2022-11-25T12:07:30.576990Z"
        },
        "papermill": {
          "duration": 0.301228,
          "end_time": "2022-11-25T12:07:30.581835",
          "exception": false,
          "start_time": "2022-11-25T12:07:30.280607",
          "status": "completed"
        },
        "tags": [],
        "outputId": "9286acd7-5263-455e-b3bd-84b5b3486b45",
        "id": "pcOIljdfyoUb"
      },
      "outputs": [
        {
          "name": "stdout",
          "output_type": "stream",
          "text": [
            "Model: \"sequential\"\n",
            "_________________________________________________________________\n",
            "Layer (type)                 Output Shape              Param #   \n",
            "=================================================================\n",
            "conv2d (Conv2D)              (None, 128, 128, 64)      1792      \n",
            "_________________________________________________________________\n",
            "activation (Activation)      (None, 128, 128, 64)      0         \n",
            "_________________________________________________________________\n",
            "max_pooling2d (MaxPooling2D) (None, 64, 64, 64)        0         \n",
            "_________________________________________________________________\n",
            "conv2d_1 (Conv2D)            (None, 64, 64, 32)        18464     \n",
            "_________________________________________________________________\n",
            "activation_1 (Activation)    (None, 64, 64, 32)        0         \n",
            "_________________________________________________________________\n",
            "max_pooling2d_1 (MaxPooling2 (None, 32, 32, 32)        0         \n",
            "_________________________________________________________________\n",
            "conv2d_2 (Conv2D)            (None, 32, 32, 64)        18496     \n",
            "_________________________________________________________________\n",
            "activation_2 (Activation)    (None, 32, 32, 64)        0         \n",
            "_________________________________________________________________\n",
            "max_pooling2d_2 (MaxPooling2 (None, 16, 16, 64)        0         \n",
            "_________________________________________________________________\n",
            "flatten (Flatten)            (None, 16384)             0         \n",
            "_________________________________________________________________\n",
            "dense (Dense)                (None, 64)                1048640   \n",
            "_________________________________________________________________\n",
            "activation_3 (Activation)    (None, 64)                0         \n",
            "_________________________________________________________________\n",
            "dropout (Dropout)            (None, 64)                0         \n",
            "_________________________________________________________________\n",
            "dense_1 (Dense)              (None, 3)                 195       \n",
            "=================================================================\n",
            "Total params: 1,087,587\n",
            "Trainable params: 1,087,587\n",
            "Non-trainable params: 0\n",
            "_________________________________________________________________\n"
          ]
        },
        {
          "name": "stderr",
          "output_type": "stream",
          "text": [
            "2022-11-25 12:07:30.423855: I tensorflow/core/common_runtime/process_util.cc:146] Creating new thread pool with default inter op setting: 2. Tune using inter_op_parallelism_threads for best performance.\n"
          ]
        }
      ],
      "source": [
        "cnn = Sequential([\n",
        "    Conv2D(64, kernel_size = (3,3), padding='same', kernel_initializer='random_normal', input_shape=(128,128,3)),\n",
        "    Activation('relu'),\n",
        "    MaxPooling2D(pool_size=(2,2)),\n",
        "    \n",
        "    Conv2D(32, kernel_size = (3,3), padding='same', kernel_initializer='random_normal'),\n",
        "    Activation('relu'),\n",
        "    MaxPooling2D(pool_size=(2,2)),\n",
        "    \n",
        "    Conv2D(64, kernel_size = (3,3), padding='same', kernel_initializer='random_normal'),\n",
        "    Activation('relu'),\n",
        "    MaxPooling2D(pool_size=(2,2)),\n",
        "\n",
        "    Flatten(),\n",
        "    Dense(64, kernel_initializer='random_normal'),\n",
        "    Activation('relu'),\n",
        "    Dropout(0.5),\n",
        "    Dense(3, activation='softmax')\n",
        "    \n",
        "])\n",
        "\n",
        "cnn.summary()"
      ],
      "id": "pcOIljdfyoUb"
    },
    {
      "cell_type": "code",
      "execution_count": null,
      "metadata": {
        "execution": {
          "iopub.execute_input": "2022-11-25T12:07:30.740921Z",
          "iopub.status.busy": "2022-11-25T12:07:30.739694Z",
          "iopub.status.idle": "2022-11-25T12:07:30.755331Z",
          "shell.execute_reply": "2022-11-25T12:07:30.753895Z"
        },
        "papermill": {
          "duration": 0.099054,
          "end_time": "2022-11-25T12:07:30.758366",
          "exception": false,
          "start_time": "2022-11-25T12:07:30.659312",
          "status": "completed"
        },
        "tags": [],
        "id": "32J1SwCzyoUb"
      },
      "outputs": [],
      "source": [
        "cnn.compile(\n",
        "    'adam',\n",
        "  loss='categorical_crossentropy',\n",
        "  metrics=['accuracy'],\n",
        ")"
      ],
      "id": "32J1SwCzyoUb"
    },
    {
      "cell_type": "code",
      "execution_count": null,
      "metadata": {
        "execution": {
          "iopub.execute_input": "2022-11-25T12:07:31.085634Z",
          "iopub.status.busy": "2022-11-25T12:07:31.083989Z",
          "iopub.status.idle": "2022-11-25T19:20:30.474522Z",
          "shell.execute_reply": "2022-11-25T19:20:30.471004Z"
        },
        "papermill": {
          "duration": 25979.493634,
          "end_time": "2022-11-25T19:20:30.497555",
          "exception": false,
          "start_time": "2022-11-25T12:07:31.003921",
          "status": "completed"
        },
        "tags": [],
        "outputId": "d412b4bf-766e-4d69-ca94-4801467b3ba0",
        "id": "fh430AkgyoUb"
      },
      "outputs": [
        {
          "name": "stderr",
          "output_type": "stream",
          "text": [
            "2022-11-25 12:07:41.372762: I tensorflow/compiler/mlir/mlir_graph_optimization_pass.cc:185] None of the MLIR Optimization Passes are enabled (registered 2)\n"
          ]
        },
        {
          "name": "stdout",
          "output_type": "stream",
          "text": [
            "Epoch 1/10\n",
            "206/206 [==============================] - 2617s 13s/step - loss: 1.0037 - accuracy: 0.5253 - val_loss: 0.9818 - val_accuracy: 0.5305\n",
            "Epoch 2/10\n",
            "206/206 [==============================] - 2566s 12s/step - loss: 0.9742 - accuracy: 0.5381 - val_loss: 0.9528 - val_accuracy: 0.5353\n",
            "Epoch 3/10\n",
            "206/206 [==============================] - 2603s 13s/step - loss: 0.9679 - accuracy: 0.5432 - val_loss: 0.9591 - val_accuracy: 0.5195\n",
            "Epoch 4/10\n",
            "206/206 [==============================] - 2596s 13s/step - loss: 0.9538 - accuracy: 0.5400 - val_loss: 0.9638 - val_accuracy: 0.5250\n",
            "Epoch 5/10\n",
            "206/206 [==============================] - 2592s 13s/step - loss: 0.9362 - accuracy: 0.5470 - val_loss: 0.9265 - val_accuracy: 0.5305\n",
            "Epoch 6/10\n",
            "206/206 [==============================] - 2519s 12s/step - loss: 0.9113 - accuracy: 0.5530 - val_loss: 0.9186 - val_accuracy: 0.5457\n",
            "Epoch 7/10\n",
            "206/206 [==============================] - 2561s 12s/step - loss: 0.8931 - accuracy: 0.5612 - val_loss: 0.9153 - val_accuracy: 0.5463\n",
            "Epoch 8/10\n",
            "206/206 [==============================] - 2599s 13s/step - loss: 0.8633 - accuracy: 0.5699 - val_loss: 0.8995 - val_accuracy: 0.5451\n",
            "Epoch 9/10\n",
            "206/206 [==============================] - 2606s 13s/step - loss: 0.8307 - accuracy: 0.5904 - val_loss: 0.8883 - val_accuracy: 0.5530\n",
            "Epoch 10/10\n",
            "206/206 [==============================] - 2563s 12s/step - loss: 0.8002 - accuracy: 0.6056 - val_loss: 0.8720 - val_accuracy: 0.5676\n"
          ]
        }
      ],
      "source": [
        "verimggen = cnn.fit(t_gen, steps_per_epoch = t_gen.samples//16, validation_data= v_nongen, epochs= 10, verbose=1)\n",
        "cnn.save('CNN_verimggen1.h5')"
      ],
      "id": "fh430AkgyoUb"
    },
    {
      "cell_type": "code",
      "execution_count": null,
      "metadata": {
        "execution": {
          "iopub.execute_input": "2022-11-25T19:20:30.925311Z",
          "iopub.status.busy": "2022-11-25T19:20:30.923775Z",
          "iopub.status.idle": "2022-11-25T19:20:30.941480Z",
          "shell.execute_reply": "2022-11-25T19:20:30.940247Z"
        },
        "papermill": {
          "duration": 0.233556,
          "end_time": "2022-11-25T19:20:30.944128",
          "exception": false,
          "start_time": "2022-11-25T19:20:30.710572",
          "status": "completed"
        },
        "tags": [],
        "outputId": "7b1f7d5f-dc70-4672-ebc3-792eea282b92",
        "id": "rduuuvFUyoUb"
      },
      "outputs": [
        {
          "data": {
            "text/plain": [
              "{'loss': [1.003749966621399,\n",
              "  0.974226176738739,\n",
              "  0.9679051041603088,\n",
              "  0.9538061618804932,\n",
              "  0.9362174868583679,\n",
              "  0.9113044738769531,\n",
              "  0.8931166529655457,\n",
              "  0.863330066204071,\n",
              "  0.8307437896728516,\n",
              "  0.8002455234527588],\n",
              " 'accuracy': [0.5252663493156433,\n",
              "  0.5380517244338989,\n",
              "  0.5432267785072327,\n",
              "  0.5400304198265076,\n",
              "  0.5470319390296936,\n",
              "  0.5529680252075195,\n",
              "  0.561187207698822,\n",
              "  0.5698630213737488,\n",
              "  0.5904109477996826,\n",
              "  0.6056316494941711],\n",
              " 'val_loss': [0.9817997217178345,\n",
              "  0.9527755379676819,\n",
              "  0.9590694308280945,\n",
              "  0.9637839794158936,\n",
              "  0.9265195727348328,\n",
              "  0.9186108708381653,\n",
              "  0.9152628183364868,\n",
              "  0.8994780778884888,\n",
              "  0.8882761001586914,\n",
              "  0.871961772441864],\n",
              " 'val_accuracy': [0.5304506421089172,\n",
              "  0.5353227853775024,\n",
              "  0.5194884538650513,\n",
              "  0.5249695777893066,\n",
              "  0.5304506421089172,\n",
              "  0.5456759929656982,\n",
              "  0.5462850332260132,\n",
              "  0.5450670123100281,\n",
              "  0.5529841780662537,\n",
              "  0.5676004886627197]}"
            ]
          },
          "execution_count": 13,
          "metadata": {},
          "output_type": "execute_result"
        }
      ],
      "source": [
        "verimggen.history"
      ],
      "id": "rduuuvFUyoUb"
    },
    {
      "cell_type": "code",
      "execution_count": 1,
      "metadata": {
        "execution": {
          "iopub.execute_input": "2022-11-25T19:20:31.367813Z",
          "iopub.status.busy": "2022-11-25T19:20:31.367046Z",
          "iopub.status.idle": "2022-11-25T19:20:31.852511Z",
          "shell.execute_reply": "2022-11-25T19:20:31.851252Z"
        },
        "papermill": {
          "duration": 0.698308,
          "end_time": "2022-11-25T19:20:31.855065",
          "exception": false,
          "start_time": "2022-11-25T19:20:31.156757",
          "status": "completed"
        },
        "tags": [],
        "outputId": "4bfd4c43-6710-4f6d-9b8c-1e8eea5592bb",
        "colab": {
          "base_uri": "https://localhost:8080/",
          "height": 89
        },
        "id": "wV_m3RK8yoUb"
      },
      "outputs": [
        {
          "output_type": "execute_result",
          "data": {
            "text/plain": [
              "\"plt.figure(figsize=(15, 5))\\n\\nplt.subplot(1, 2, 1)\\nplt.plot(verimggen.history['accuracy'], label='acc')\\nplt.plot(verimggen.history['val_accuracy'], label='val_acc')\\nplt.legend(loc='lower right')\\nplt.title('Accuracy comparison')\\n\\nplt.subplot(1, 2, 2)\\nplt.plot(verimggen.history['loss'], label='loss')\\nplt.plot(verimggen.history['val_loss'], label='val_loss')\\nplt.legend(loc='upper right')\\nplt.title('Loss comparison')\\n\\nplt.show()\""
            ],
            "application/vnd.google.colaboratory.intrinsic+json": {
              "type": "string"
            }
          },
          "metadata": {},
          "execution_count": 1
        }
      ],
      "source": [
        "plt.figure(figsize=(15, 5))\n",
        "\n",
        "plt.subplot(1, 2, 1)\n",
        "plt.plot(verimggen.history['accuracy'], label='acc')\n",
        "plt.plot(verimggen.history['val_accuracy'], label='val_acc')\n",
        "plt.legend(loc='lower right')\n",
        "plt.title('Accuracy comparison')\n",
        "\n",
        "plt.subplot(1, 2, 2)\n",
        "plt.plot(verimggen.history['loss'], label='loss')\n",
        "plt.plot(verimggen.history['val_loss'], label='val_loss')\n",
        "plt.legend(loc='upper right')\n",
        "plt.title('Loss comparison')\n",
        "\n",
        "plt.show()"
      ],
      "id": "wV_m3RK8yoUb"
    }
  ],
  "metadata": {
    "kernelspec": {
      "display_name": "Python 3",
      "language": "python",
      "name": "python3"
    },
    "language_info": {
      "codemirror_mode": {
        "name": "ipython",
        "version": 3
      },
      "file_extension": ".py",
      "mimetype": "text/x-python",
      "name": "python",
      "nbconvert_exporter": "python",
      "pygments_lexer": "ipython3",
      "version": "3.7.12"
    },
    "papermill": {
      "default_parameters": {},
      "duration": 26148.602581,
      "end_time": "2022-11-25T19:20:35.378191",
      "environment_variables": {},
      "exception": null,
      "input_path": "__notebook__.ipynb",
      "output_path": "__notebook__.ipynb",
      "parameters": {},
      "start_time": "2022-11-25T12:04:46.775610",
      "version": "2.3.4"
    },
    "colab": {
      "provenance": [],
      "include_colab_link": true
    }
  },
  "nbformat": 4,
  "nbformat_minor": 5
}