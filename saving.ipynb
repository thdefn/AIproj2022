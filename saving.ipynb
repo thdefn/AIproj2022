{
  "cells": [
    {
      "cell_type": "markdown",
      "metadata": {
        "id": "view-in-github",
        "colab_type": "text"
      },
      "source": [
        "<a href=\"https://colab.research.google.com/github/thdefn/jango/blob/master/saving.ipynb\" target=\"_parent\"><img src=\"https://colab.research.google.com/assets/colab-badge.svg\" alt=\"Open In Colab\"/></a>"
      ]
    },
    {
      "cell_type": "code",
      "execution_count": null,
      "metadata": {
        "id": "fC4B0-yNd_Jm"
      },
      "outputs": [],
      "source": [
        "import numpy as np\n",
        "import pandas as pd\n",
        "\n",
        "from tensorflow import keras\n",
        "\n",
        "from tensorflow.keras import Model\n",
        "from tensorflow.keras.models import Sequential\n",
        "from tensorflow.keras.layers import Activation, Conv2D, MaxPooling2D, Dense, Flatten\n",
        "from tensorflow.keras.layers import Dropout, BatchNormalization \n",
        "from tensorflow.keras.utils import to_categorical"
      ]
    },
    {
      "cell_type": "code",
      "execution_count": null,
      "metadata": {
        "id": "izuGazUfd_Jp"
      },
      "outputs": [],
      "source": [
        "from tensorflow.keras.applications.vgg19 import VGG19\n",
        "from tensorflow.keras.callbacks import ModelCheckpoint\n",
        "\n",
        "import matplotlib.pyplot as plt\n",
        "\n",
        "import seaborn as sns\n",
        "import os\n",
        "import glob\n",
        "import plotly.graph_objects as go\n",
        "import cv2\n",
        "from PIL import Image\n",
        "from PIL import ImageFile\n",
        "from sklearn.model_selection import train_test_split\n",
        "from sklearn.preprocessing import LabelEncoder\n",
        "from tensorflow.keras.preprocessing.image import ImageDataGenerator\n",
        "from tensorflow.keras.optimizers import RMSprop\n",
        "from tensorflow.keras.callbacks import EarlyStopping, ReduceLROnPlateau,ModelCheckpoint \n",
        "from sklearn.metrics import accuracy_score, confusion_matrix, classification_report\n",
        "import warnings\n",
        "warnings.filterwarnings(\"ignore\")\n",
        "ImageFile.LOAD_TRUNCATED_IMAGES = True\n",
        "\n",
        "from tqdm import tqdm"
      ]
    },
    {
      "cell_type": "code",
      "execution_count": null,
      "metadata": {
        "colab": {
          "base_uri": "https://localhost:8080/"
        },
        "id": "eIuSMXTRTwha",
        "outputId": "1f656317-d378-4a8f-c851-3c6ac30655bc"
      },
      "outputs": [
        {
          "name": "stdout",
          "output_type": "stream",
          "text": [
            "Drive already mounted at /content/gdrive; to attempt to forcibly remount, call drive.mount(\"/content/gdrive\", force_remount=True).\n"
          ]
        }
      ],
      "source": [
        "import os\n",
        "from google.colab import drive\n",
        "drive.mount('/content/gdrive')"
      ]
    },
    {
      "cell_type": "code",
      "execution_count": null,
      "metadata": {
        "colab": {
          "base_uri": "https://localhost:8080/"
        },
        "id": "oQBa1eWmTyTl",
        "outputId": "43fb5a8e-0ed2-4335-eadf-956a3e50c1e3"
      },
      "outputs": [
        {
          "name": "stdout",
          "output_type": "stream",
          "text": [
            "/content/gdrive/My Drive/data/.kaggle\n"
          ]
        }
      ],
      "source": [
        "cd /content/gdrive/My Drive/data/.kaggle"
      ]
    },
    {
      "cell_type": "code",
      "execution_count": null,
      "metadata": {
        "colab": {
          "base_uri": "https://localhost:8080/"
        },
        "id": "O92xFCJ8d_Jq",
        "outputId": "1c868cc5-e9f2-4836-f0da-934490818576"
      },
      "outputs": [
        {
          "name": "stdout",
          "output_type": "stream",
          "text": [
            "Type 1 files for training: 1440 \n",
            "Type 2 files for training: 4346\n",
            "Type 3 files for training: 2426\n"
          ]
        }
      ],
      "source": [
        "root_dir = './'\n",
        "train_dir = os.path.join(root_dir,'train')\n",
        "\n",
        "type1_dir = os.path.join(train_dir, 'Type_1')\n",
        "type2_dir = os.path.join(train_dir, 'Type_2')\n",
        "type3_dir = os.path.join(train_dir, 'Type_3')\n",
        "\n",
        "train_type1_files = glob.glob(type1_dir+'/*.jpg')\n",
        "train_type2_files = glob.glob(type2_dir+'/*.jpg')\n",
        "train_type3_files = glob.glob(type3_dir+'/*.jpg')\n",
        "\n",
        "\n",
        "added_type1_files  =  glob.glob(os.path.join(root_dir, \"additional_Type_1_v2\", \"Type_1\")+'/*.jpg')\n",
        "added_type2_files  =  glob.glob(os.path.join(root_dir, \"additional_Type_2_v2\", \"Type_2\")+'/*.jpg')\n",
        "added_type3_files  =  glob.glob(os.path.join(root_dir, \"additional_Type_3_v2\", \"Type_3\")+'/*.jpg')\n",
        "\n",
        "\n",
        "type1_files = train_type1_files + added_type1_files\n",
        "type2_files = train_type2_files + added_type2_files\n",
        "type3_files = train_type3_files + added_type3_files\n",
        "\n",
        "print(f'''Type 1 files for training: {len(type1_files)} \n",
        "Type 2 files for training: {len(type2_files)}\n",
        "Type 3 files for training: {len(type3_files)}''' )"
      ]
    },
    {
      "cell_type": "code",
      "execution_count": null,
      "metadata": {
        "colab": {
          "base_uri": "https://localhost:8080/",
          "height": 424
        },
        "id": "TEFQExDVd_Jr",
        "outputId": "6e6b6047-2db5-46bc-9e51-8eaa0ccae196"
      },
      "outputs": [
        {
          "data": {
            "text/html": [
              "\n",
              "  <div id=\"df-41d1f006-e126-45f6-8271-b1b869e30e97\">\n",
              "    <div class=\"colab-df-container\">\n",
              "      <div>\n",
              "<style scoped>\n",
              "    .dataframe tbody tr th:only-of-type {\n",
              "        vertical-align: middle;\n",
              "    }\n",
              "\n",
              "    .dataframe tbody tr th {\n",
              "        vertical-align: top;\n",
              "    }\n",
              "\n",
              "    .dataframe thead th {\n",
              "        text-align: right;\n",
              "    }\n",
              "</style>\n",
              "<table border=\"1\" class=\"dataframe\">\n",
              "  <thead>\n",
              "    <tr style=\"text-align: right;\">\n",
              "      <th></th>\n",
              "      <th>filepath</th>\n",
              "      <th>label</th>\n",
              "    </tr>\n",
              "  </thead>\n",
              "  <tbody>\n",
              "    <tr>\n",
              "      <th>0</th>\n",
              "      <td>./train/Type_1/1414.jpg</td>\n",
              "      <td>Type 1</td>\n",
              "    </tr>\n",
              "    <tr>\n",
              "      <th>1</th>\n",
              "      <td>./additional_Type_2_v2/Type_2/824.jpg</td>\n",
              "      <td>Type 2</td>\n",
              "    </tr>\n",
              "    <tr>\n",
              "      <th>2</th>\n",
              "      <td>./train/Type_2/834.jpg</td>\n",
              "      <td>Type 2</td>\n",
              "    </tr>\n",
              "    <tr>\n",
              "      <th>3</th>\n",
              "      <td>./additional_Type_2_v2/Type_2/5091.jpg</td>\n",
              "      <td>Type 2</td>\n",
              "    </tr>\n",
              "    <tr>\n",
              "      <th>4</th>\n",
              "      <td>./additional_Type_3_v2/Type_3/1264.jpg</td>\n",
              "      <td>Type 3</td>\n",
              "    </tr>\n",
              "    <tr>\n",
              "      <th>...</th>\n",
              "      <td>...</td>\n",
              "      <td>...</td>\n",
              "    </tr>\n",
              "    <tr>\n",
              "      <th>8207</th>\n",
              "      <td>./additional_Type_2_v2/Type_2/6709.jpg</td>\n",
              "      <td>Type 2</td>\n",
              "    </tr>\n",
              "    <tr>\n",
              "      <th>8208</th>\n",
              "      <td>./additional_Type_3_v2/Type_3/3543.jpg</td>\n",
              "      <td>Type 3</td>\n",
              "    </tr>\n",
              "    <tr>\n",
              "      <th>8209</th>\n",
              "      <td>./additional_Type_1_v2/Type_1/5406.jpg</td>\n",
              "      <td>Type 1</td>\n",
              "    </tr>\n",
              "    <tr>\n",
              "      <th>8210</th>\n",
              "      <td>./additional_Type_2_v2/Type_2/3502.jpg</td>\n",
              "      <td>Type 2</td>\n",
              "    </tr>\n",
              "    <tr>\n",
              "      <th>8211</th>\n",
              "      <td>./train/Type_1/901.jpg</td>\n",
              "      <td>Type 1</td>\n",
              "    </tr>\n",
              "  </tbody>\n",
              "</table>\n",
              "<p>8212 rows × 2 columns</p>\n",
              "</div>\n",
              "      <button class=\"colab-df-convert\" onclick=\"convertToInteractive('df-41d1f006-e126-45f6-8271-b1b869e30e97')\"\n",
              "              title=\"Convert this dataframe to an interactive table.\"\n",
              "              style=\"display:none;\">\n",
              "        \n",
              "  <svg xmlns=\"http://www.w3.org/2000/svg\" height=\"24px\"viewBox=\"0 0 24 24\"\n",
              "       width=\"24px\">\n",
              "    <path d=\"M0 0h24v24H0V0z\" fill=\"none\"/>\n",
              "    <path d=\"M18.56 5.44l.94 2.06.94-2.06 2.06-.94-2.06-.94-.94-2.06-.94 2.06-2.06.94zm-11 1L8.5 8.5l.94-2.06 2.06-.94-2.06-.94L8.5 2.5l-.94 2.06-2.06.94zm10 10l.94 2.06.94-2.06 2.06-.94-2.06-.94-.94-2.06-.94 2.06-2.06.94z\"/><path d=\"M17.41 7.96l-1.37-1.37c-.4-.4-.92-.59-1.43-.59-.52 0-1.04.2-1.43.59L10.3 9.45l-7.72 7.72c-.78.78-.78 2.05 0 2.83L4 21.41c.39.39.9.59 1.41.59.51 0 1.02-.2 1.41-.59l7.78-7.78 2.81-2.81c.8-.78.8-2.07 0-2.86zM5.41 20L4 18.59l7.72-7.72 1.47 1.35L5.41 20z\"/>\n",
              "  </svg>\n",
              "      </button>\n",
              "      \n",
              "  <style>\n",
              "    .colab-df-container {\n",
              "      display:flex;\n",
              "      flex-wrap:wrap;\n",
              "      gap: 12px;\n",
              "    }\n",
              "\n",
              "    .colab-df-convert {\n",
              "      background-color: #E8F0FE;\n",
              "      border: none;\n",
              "      border-radius: 50%;\n",
              "      cursor: pointer;\n",
              "      display: none;\n",
              "      fill: #1967D2;\n",
              "      height: 32px;\n",
              "      padding: 0 0 0 0;\n",
              "      width: 32px;\n",
              "    }\n",
              "\n",
              "    .colab-df-convert:hover {\n",
              "      background-color: #E2EBFA;\n",
              "      box-shadow: 0px 1px 2px rgba(60, 64, 67, 0.3), 0px 1px 3px 1px rgba(60, 64, 67, 0.15);\n",
              "      fill: #174EA6;\n",
              "    }\n",
              "\n",
              "    [theme=dark] .colab-df-convert {\n",
              "      background-color: #3B4455;\n",
              "      fill: #D2E3FC;\n",
              "    }\n",
              "\n",
              "    [theme=dark] .colab-df-convert:hover {\n",
              "      background-color: #434B5C;\n",
              "      box-shadow: 0px 1px 3px 1px rgba(0, 0, 0, 0.15);\n",
              "      filter: drop-shadow(0px 1px 2px rgba(0, 0, 0, 0.3));\n",
              "      fill: #FFFFFF;\n",
              "    }\n",
              "  </style>\n",
              "\n",
              "      <script>\n",
              "        const buttonEl =\n",
              "          document.querySelector('#df-41d1f006-e126-45f6-8271-b1b869e30e97 button.colab-df-convert');\n",
              "        buttonEl.style.display =\n",
              "          google.colab.kernel.accessAllowed ? 'block' : 'none';\n",
              "\n",
              "        async function convertToInteractive(key) {\n",
              "          const element = document.querySelector('#df-41d1f006-e126-45f6-8271-b1b869e30e97');\n",
              "          const dataTable =\n",
              "            await google.colab.kernel.invokeFunction('convertToInteractive',\n",
              "                                                     [key], {});\n",
              "          if (!dataTable) return;\n",
              "\n",
              "          const docLinkHtml = 'Like what you see? Visit the ' +\n",
              "            '<a target=\"_blank\" href=https://colab.research.google.com/notebooks/data_table.ipynb>data table notebook</a>'\n",
              "            + ' to learn more about interactive tables.';\n",
              "          element.innerHTML = '';\n",
              "          dataTable['output_type'] = 'display_data';\n",
              "          await google.colab.output.renderOutput(dataTable, element);\n",
              "          const docLink = document.createElement('div');\n",
              "          docLink.innerHTML = docLinkHtml;\n",
              "          element.appendChild(docLink);\n",
              "        }\n",
              "      </script>\n",
              "    </div>\n",
              "  </div>\n",
              "  "
            ],
            "text/plain": [
              "                                    filepath   label\n",
              "0                    ./train/Type_1/1414.jpg  Type 1\n",
              "1      ./additional_Type_2_v2/Type_2/824.jpg  Type 2\n",
              "2                     ./train/Type_2/834.jpg  Type 2\n",
              "3     ./additional_Type_2_v2/Type_2/5091.jpg  Type 2\n",
              "4     ./additional_Type_3_v2/Type_3/1264.jpg  Type 3\n",
              "...                                      ...     ...\n",
              "8207  ./additional_Type_2_v2/Type_2/6709.jpg  Type 2\n",
              "8208  ./additional_Type_3_v2/Type_3/3543.jpg  Type 3\n",
              "8209  ./additional_Type_1_v2/Type_1/5406.jpg  Type 1\n",
              "8210  ./additional_Type_2_v2/Type_2/3502.jpg  Type 2\n",
              "8211                  ./train/Type_1/901.jpg  Type 1\n",
              "\n",
              "[8212 rows x 2 columns]"
            ]
          },
          "execution_count": 8,
          "metadata": {},
          "output_type": "execute_result"
        }
      ],
      "source": [
        "files = {'filepath': type1_files + type2_files + type3_files,\n",
        "          'label': ['Type 1']* len(type1_files) + ['Type 2']* len(type2_files) + ['Type 3']* len(type3_files)}\n",
        "\n",
        "files_df = pd.DataFrame(files).sample(frac=1, random_state= 1).reset_index(drop=True)\n",
        "files_df"
      ]
    },
    {
      "cell_type": "code",
      "execution_count": null,
      "metadata": {
        "colab": {
          "base_uri": "https://localhost:8080/"
        },
        "id": "Yq3yHh39Tpra",
        "outputId": "9e67e817-edac-4f41-bbf5-496b580a9256"
      },
      "outputs": [
        {
          "name": "stdout",
          "output_type": "stream",
          "text": [
            "Found 8212 validated image filenames belonging to 3 classes.\n"
          ]
        }
      ],
      "source": [
        "t = ImageDataGenerator(rescale=1./ 255, \n",
        "                       rotation_range = 40,\n",
        "                        zoom_range = 0.2,\n",
        "                        width_shift_range=0.2,\n",
        "                        height_shift_range=0.2,\n",
        "                        shear_range=0.2,\n",
        "                        horizontal_flip = True,\n",
        "                        vertical_flip = True)\n",
        "\n",
        "t_gen = t.flow_from_dataframe(files_df,x_col='filepath', y_col='label', target_size = (128, 128),batch_size=16,class_mode='categorical', color_mode='rgb', subset='training')"
      ]
    },
    {
      "cell_type": "code",
      "execution_count": null,
      "metadata": {
        "colab": {
          "base_uri": "https://localhost:8080/"
        },
        "id": "76W_dsB3d_Js",
        "outputId": "378e54e7-a11c-490e-9746-cf813b5dc91e"
      },
      "outputs": [
        {
          "name": "stdout",
          "output_type": "stream",
          "text": [
            "Found 6570 validated image filenames belonging to 3 classes.\n",
            "Found 1642 validated image filenames belonging to 3 classes.\n"
          ]
        }
      ],
      "source": [
        "#train_df, valid_df = train_test_split(files_df, test_size = 0.2, stratify = files_df['label'], random_state = 1234)\n",
        "k = ImageDataGenerator(rescale=1./ 255, validation_split=0.2)\n",
        "t_nongen = k.flow_from_dataframe(files_df, x_col='filepath', y_col='label', target_size = (128, 128), class_mode='categorical', color_mode='rgb', subset='training')\n",
        "v_nongen = k.flow_from_dataframe(files_df, x_col='filepath', y_col='label', target_size = (128, 128), class_mode='categorical', color_mode='rgb', subset='validation')"
      ]
    },
    {
      "cell_type": "code",
      "execution_count": null,
      "metadata": {
        "colab": {
          "base_uri": "https://localhost:8080/",
          "height": 143
        },
        "id": "vRQ24mhkd_Jt",
        "outputId": "9c547e91-8680-49f7-8d80-558ce5ae12ac"
      },
      "outputs": [
        {
          "data": {
            "application/vnd.google.colaboratory.intrinsic+json": {
              "type": "string"
            },
            "text/plain": [
              "\"# 사전 교육된 기본 모델 가져오기\\nbase_model = VGG19(include_top=False, weights='imagenet',input_shape=(128, 128, 3))\\n\\nbase_model.trainable = False\\n\\n# 교육할 계층 설정 최상위 계층만 교육하기 위해 (False 가중치 고정)\\nfor layer in base_model.layers:\\n    layer.trainable = False\\n    \\n# 기본 모델의 마지막 층\\nx = base_model.output\\n\\nx = Flatten()(x)\\nh1 = Dense(512, activation='relu')(x)\\ndrop1 = Dropout(rate=0.5)(h1)\\nh2 = Dense(512, activation='relu')(drop1)\\ndrop2 = Dropout(rate=0.5)(h2)\\noutput = Dense(3, activation='softmax')(drop2)\\n\\ntrs = Model(inputs=base_model.input, outputs=output)\\ntrs.summary()\""
            ]
          },
          "execution_count": 11,
          "metadata": {},
          "output_type": "execute_result"
        }
      ],
      "source": [
        "'''# 사전 교육된 기본 모델 가져오기\n",
        "base_model = VGG19(include_top=False, weights='imagenet',input_shape=(128, 128, 3))\n",
        "\n",
        "base_model.trainable = False\n",
        "\n",
        "# 교육할 계층 설정 최상위 계층만 교육하기 위해 (False 가중치 고정)\n",
        "for layer in base_model.layers:\n",
        "    layer.trainable = False\n",
        "    \n",
        "# 기본 모델의 마지막 층\n",
        "x = base_model.output\n",
        "\n",
        "x = Flatten()(x)\n",
        "h1 = Dense(512, activation='relu')(x)\n",
        "drop1 = Dropout(rate=0.5)(h1)\n",
        "h2 = Dense(512, activation='relu')(drop1)\n",
        "drop2 = Dropout(rate=0.5)(h2)\n",
        "output = Dense(3, activation='softmax')(drop2)\n",
        "\n",
        "trs = Model(inputs=base_model.input, outputs=output)\n",
        "trs.summary()'''"
      ]
    },
    {
      "cell_type": "markdown",
      "source": [
        "### 세이빙한 모델 가져오는 부분"
      ],
      "metadata": {
        "id": "dAnA268ZScGA"
      }
    },
    {
      "cell_type": "code",
      "execution_count": null,
      "metadata": {
        "id": "qpnTVEITUEgl"
      },
      "outputs": [],
      "source": [
        "trs = keras.models.load_model('my_model.h5') #모델 가져오기\n",
        "trs.compile(optimizer=RMSprop(lr=1e-4),\n",
        "  loss='categorical_crossentropy', \n",
        "  metrics=['accuracy']) #옵티마이저 컴파일"
      ]
    },
    {
      "cell_type": "code",
      "execution_count": null,
      "metadata": {
        "colab": {
          "background_save": true,
          "base_uri": "https://localhost:8080/"
        },
        "id": "Z2DuIapMd_Ju",
        "outputId": "ebc0effb-7d44-4932-de41-d3b64e0536c8"
      },
      "outputs": [
        {
          "name": "stdout",
          "output_type": "stream",
          "text": [
            "Epoch 1/10\n",
            "206/206 [==============================] - 6104s 30s/step - loss: 0.8373 - accuracy: 0.6027 - val_loss: 0.7915 - val_accuracy: 0.6413\n",
            "Epoch 2/10\n",
            "201/206 [============================>.] - ETA: 1:54 - loss: 0.8265 - accuracy: 0.6087"
          ]
        }
      ],
      "source": [
        "general = trs.fit(t_nongen, validation_data= v_nongen, epochs= 10, verbose=1) #피팅\n",
        "trs.save('my_model2.h5') #모델 세이브"
      ]
    },
    {
      "cell_type": "code",
      "execution_count": null,
      "metadata": {
        "id": "azerf-V1d_Ju"
      },
      "outputs": [],
      "source": [
        "general.history"
      ]
    },
    {
      "cell_type": "code",
      "execution_count": null,
      "metadata": {
        "id": "58TqsGxzd_Jv"
      },
      "outputs": [],
      "source": [
        "plt.figure(figsize=(15, 5))\n",
        "\n",
        "plt.subplot(1, 2, 1)\n",
        "plt.plot(general.history['accuracy'], label='acc')\n",
        "plt.plot(general.history['var_accuracy'], label='var_acc')\n",
        "plt.legend(loc='lower right')\n",
        "plt.title('Accuracy comparison')\n",
        "\n",
        "plt.subplot(1, 2, 2)\n",
        "plt.plot(general.history['loss'], label='loss')\n",
        "plt.plot(general.history['var_loss'], label='var_loss')\n",
        "plt.legend(loc='upper right')\n",
        "plt.title('Loss comparison')\n",
        "\n",
        "plt.show()"
      ]
    },
    {
      "cell_type": "code",
      "execution_count": null,
      "metadata": {
        "id": "AL8_FEnkTprc"
      },
      "outputs": [],
      "source": [
        "'''trs2 = Model(inputs=base_model.input, outputs=output)\n",
        "trs2.compile(optimizer=RMSprop(lr=1e-4),\n",
        "  loss='categorical_crossentropy',\n",
        "  metrics=['accuracy'])\n",
        "verimggen = trs2.fit(t_gen, steps_per_epoch = t_gen.samples//16, validation_data= v_nongen, epochs= 100, verbose=1)\n",
        "trs2.save('my_model.h5')'''"
      ]
    }
  ],
  "metadata": {
    "accelerator": "GPU",
    "colab": {
      "provenance": [],
      "include_colab_link": true
    },
    "gpuClass": "standard",
    "kernelspec": {
      "display_name": "Python 3",
      "language": "python",
      "name": "python3"
    },
    "language_info": {
      "codemirror_mode": {
        "name": "ipython",
        "version": 3
      },
      "file_extension": ".py",
      "mimetype": "text/x-python",
      "name": "python",
      "nbconvert_exporter": "python",
      "pygments_lexer": "ipython3",
      "version": "3.7.12"
    }
  },
  "nbformat": 4,
  "nbformat_minor": 0
}