{
  "cells": [
    {
      "cell_type": "markdown",
      "metadata": {
        "id": "view-in-github",
        "colab_type": "text"
      },
      "source": [
        "<a href=\"https://colab.research.google.com/github/thdefn/jango/blob/master/trs_150.ipynb\" target=\"_parent\"><img src=\"https://colab.research.google.com/assets/colab-badge.svg\" alt=\"Open In Colab\"/></a>"
      ]
    },
    {
      "cell_type": "code",
      "execution_count": 4,
      "id": "6b449799",
      "metadata": {
        "execution": {
          "iopub.execute_input": "2022-11-21T21:51:21.188351Z",
          "iopub.status.busy": "2022-11-21T21:51:21.187737Z",
          "iopub.status.idle": "2022-11-21T21:51:27.157942Z",
          "shell.execute_reply": "2022-11-21T21:51:27.156800Z"
        },
        "id": "6b449799",
        "papermill": {
          "duration": 5.978867,
          "end_time": "2022-11-21T21:51:27.160584",
          "exception": false,
          "start_time": "2022-11-21T21:51:21.181717",
          "status": "completed"
        },
        "tags": []
      },
      "outputs": [],
      "source": [
        "import numpy as np\n",
        "import pandas as pd\n",
        "import matplotlib.pyplot as plt\n",
        "\n",
        "from tensorflow import keras\n",
        "\n",
        "from tensorflow.keras import Model\n",
        "from tensorflow.keras.models import Sequential\n",
        "from tensorflow.keras.layers import Activation, Conv2D, MaxPooling2D, Dense, Flatten\n",
        "from tensorflow.keras.layers import Dropout, BatchNormalization \n",
        "from tensorflow.keras.utils import to_categorical"
      ]
    },
    {
      "cell_type": "code",
      "execution_count": null,
      "id": "030178d9",
      "metadata": {
        "execution": {
          "iopub.execute_input": "2022-11-21T21:51:27.169071Z",
          "iopub.status.busy": "2022-11-21T21:51:27.168520Z",
          "iopub.status.idle": "2022-11-21T21:51:28.328423Z",
          "shell.execute_reply": "2022-11-21T21:51:28.327314Z"
        },
        "id": "030178d9",
        "papermill": {
          "duration": 1.166635,
          "end_time": "2022-11-21T21:51:28.330825",
          "exception": false,
          "start_time": "2022-11-21T21:51:27.164190",
          "status": "completed"
        },
        "tags": []
      },
      "outputs": [],
      "source": [
        "from tensorflow.keras.applications.vgg19 import VGG19\n",
        "from tensorflow.keras.callbacks import ModelCheckpoint\n",
        "\n",
        "import matplotlib.pyplot as plt\n",
        "\n",
        "import seaborn as sns\n",
        "import os\n",
        "import glob\n",
        "import plotly.graph_objects as go\n",
        "import cv2\n",
        "from PIL import Image\n",
        "from PIL import ImageFile\n",
        "from sklearn.model_selection import train_test_split\n",
        "from sklearn.preprocessing import LabelEncoder\n",
        "from tensorflow.keras.preprocessing.image import ImageDataGenerator\n",
        "from tensorflow.keras.optimizers import RMSprop\n",
        "from tensorflow.keras.callbacks import EarlyStopping, ReduceLROnPlateau,ModelCheckpoint \n",
        "from sklearn.metrics import accuracy_score, confusion_matrix, classification_report\n",
        "import warnings\n",
        "warnings.filterwarnings(\"ignore\")\n",
        "ImageFile.LOAD_TRUNCATED_IMAGES = True\n",
        "\n",
        "from tqdm import tqdm"
      ]
    },
    {
      "cell_type": "code",
      "execution_count": null,
      "id": "3052f3b6",
      "metadata": {
        "execution": {
          "iopub.execute_input": "2022-11-21T21:51:28.338649Z",
          "iopub.status.busy": "2022-11-21T21:51:28.338366Z",
          "iopub.status.idle": "2022-11-21T21:51:29.358636Z",
          "shell.execute_reply": "2022-11-21T21:51:29.357541Z"
        },
        "id": "3052f3b6",
        "outputId": "8a60061e-1921-48d9-89bf-082cd51369dd",
        "papermill": {
          "duration": 1.027479,
          "end_time": "2022-11-21T21:51:29.361675",
          "exception": false,
          "start_time": "2022-11-21T21:51:28.334196",
          "status": "completed"
        },
        "tags": []
      },
      "outputs": [
        {
          "name": "stdout",
          "output_type": "stream",
          "text": [
            "Type 1 files for training: 1441 \n",
            "Type 2 files for training: 4348\n",
            "Type 3 files for training: 2426\n"
          ]
        }
      ],
      "source": [
        "root_dir = '../input/intel-mobileodt-cervical-cancer-screening'\n",
        "train_dir = os.path.join(root_dir,'train', 'train')\n",
        "\n",
        "type1_dir = os.path.join(train_dir, 'Type_1')\n",
        "type2_dir = os.path.join(train_dir, 'Type_2')\n",
        "type3_dir = os.path.join(train_dir, 'Type_3')\n",
        "\n",
        "train_type1_files = glob.glob(type1_dir+'/*.jpg')\n",
        "train_type2_files = glob.glob(type2_dir+'/*.jpg')\n",
        "train_type3_files = glob.glob(type3_dir+'/*.jpg')\n",
        "\n",
        "\n",
        "added_type1_files  =  glob.glob(os.path.join(root_dir, \"additional_Type_1_v2\", \"Type_1\")+'/*.jpg')\n",
        "added_type2_files  =  glob.glob(os.path.join(root_dir, \"additional_Type_2_v2\", \"Type_2\")+'/*.jpg')\n",
        "added_type3_files  =  glob.glob(os.path.join(root_dir, \"additional_Type_3_v2\", \"Type_3\")+'/*.jpg')\n",
        "\n",
        "\n",
        "type1_files = train_type1_files + added_type1_files\n",
        "type2_files = train_type2_files + added_type2_files\n",
        "type3_files = train_type3_files + added_type3_files\n",
        "\n",
        "print(f'''Type 1 files for training: {len(type1_files)} \n",
        "Type 2 files for training: {len(type2_files)}\n",
        "Type 3 files for training: {len(type3_files)}''' )"
      ]
    },
    {
      "cell_type": "code",
      "execution_count": null,
      "id": "3fdd9a13",
      "metadata": {
        "execution": {
          "iopub.execute_input": "2022-11-21T21:51:29.371559Z",
          "iopub.status.busy": "2022-11-21T21:51:29.370559Z",
          "iopub.status.idle": "2022-11-21T21:51:29.401867Z",
          "shell.execute_reply": "2022-11-21T21:51:29.400815Z"
        },
        "id": "3fdd9a13",
        "outputId": "c35e3020-9f72-4214-bb42-66695ffdbd1c",
        "papermill": {
          "duration": 0.03812,
          "end_time": "2022-11-21T21:51:29.404092",
          "exception": false,
          "start_time": "2022-11-21T21:51:29.365972",
          "status": "completed"
        },
        "tags": []
      },
      "outputs": [
        {
          "data": {
            "text/html": [
              "<div>\n",
              "<style scoped>\n",
              "    .dataframe tbody tr th:only-of-type {\n",
              "        vertical-align: middle;\n",
              "    }\n",
              "\n",
              "    .dataframe tbody tr th {\n",
              "        vertical-align: top;\n",
              "    }\n",
              "\n",
              "    .dataframe thead th {\n",
              "        text-align: right;\n",
              "    }\n",
              "</style>\n",
              "<table border=\"1\" class=\"dataframe\">\n",
              "  <thead>\n",
              "    <tr style=\"text-align: right;\">\n",
              "      <th></th>\n",
              "      <th>filepath</th>\n",
              "      <th>label</th>\n",
              "    </tr>\n",
              "  </thead>\n",
              "  <tbody>\n",
              "    <tr>\n",
              "      <th>0</th>\n",
              "      <td>../input/intel-mobileodt-cervical-cancer-scree...</td>\n",
              "      <td>Type 1</td>\n",
              "    </tr>\n",
              "    <tr>\n",
              "      <th>1</th>\n",
              "      <td>../input/intel-mobileodt-cervical-cancer-scree...</td>\n",
              "      <td>Type 3</td>\n",
              "    </tr>\n",
              "    <tr>\n",
              "      <th>2</th>\n",
              "      <td>../input/intel-mobileodt-cervical-cancer-scree...</td>\n",
              "      <td>Type 1</td>\n",
              "    </tr>\n",
              "    <tr>\n",
              "      <th>3</th>\n",
              "      <td>../input/intel-mobileodt-cervical-cancer-scree...</td>\n",
              "      <td>Type 2</td>\n",
              "    </tr>\n",
              "    <tr>\n",
              "      <th>4</th>\n",
              "      <td>../input/intel-mobileodt-cervical-cancer-scree...</td>\n",
              "      <td>Type 3</td>\n",
              "    </tr>\n",
              "    <tr>\n",
              "      <th>...</th>\n",
              "      <td>...</td>\n",
              "      <td>...</td>\n",
              "    </tr>\n",
              "    <tr>\n",
              "      <th>8210</th>\n",
              "      <td>../input/intel-mobileodt-cervical-cancer-scree...</td>\n",
              "      <td>Type 2</td>\n",
              "    </tr>\n",
              "    <tr>\n",
              "      <th>8211</th>\n",
              "      <td>../input/intel-mobileodt-cervical-cancer-scree...</td>\n",
              "      <td>Type 3</td>\n",
              "    </tr>\n",
              "    <tr>\n",
              "      <th>8212</th>\n",
              "      <td>../input/intel-mobileodt-cervical-cancer-scree...</td>\n",
              "      <td>Type 1</td>\n",
              "    </tr>\n",
              "    <tr>\n",
              "      <th>8213</th>\n",
              "      <td>../input/intel-mobileodt-cervical-cancer-scree...</td>\n",
              "      <td>Type 2</td>\n",
              "    </tr>\n",
              "    <tr>\n",
              "      <th>8214</th>\n",
              "      <td>../input/intel-mobileodt-cervical-cancer-scree...</td>\n",
              "      <td>Type 1</td>\n",
              "    </tr>\n",
              "  </tbody>\n",
              "</table>\n",
              "<p>8215 rows × 2 columns</p>\n",
              "</div>"
            ],
            "text/plain": [
              "                                               filepath   label\n",
              "0     ../input/intel-mobileodt-cervical-cancer-scree...  Type 1\n",
              "1     ../input/intel-mobileodt-cervical-cancer-scree...  Type 3\n",
              "2     ../input/intel-mobileodt-cervical-cancer-scree...  Type 1\n",
              "3     ../input/intel-mobileodt-cervical-cancer-scree...  Type 2\n",
              "4     ../input/intel-mobileodt-cervical-cancer-scree...  Type 3\n",
              "...                                                 ...     ...\n",
              "8210  ../input/intel-mobileodt-cervical-cancer-scree...  Type 2\n",
              "8211  ../input/intel-mobileodt-cervical-cancer-scree...  Type 3\n",
              "8212  ../input/intel-mobileodt-cervical-cancer-scree...  Type 1\n",
              "8213  ../input/intel-mobileodt-cervical-cancer-scree...  Type 2\n",
              "8214  ../input/intel-mobileodt-cervical-cancer-scree...  Type 1\n",
              "\n",
              "[8215 rows x 2 columns]"
            ]
          },
          "execution_count": 4,
          "metadata": {},
          "output_type": "execute_result"
        }
      ],
      "source": [
        "files = {'filepath': type1_files + type2_files + type3_files,\n",
        "          'label': ['Type 1']* len(type1_files) + ['Type 2']* len(type2_files) + ['Type 3']* len(type3_files)}\n",
        "\n",
        "files_df = pd.DataFrame(files).sample(frac=1, random_state= 1).reset_index(drop=True)\n",
        "files_df"
      ]
    },
    {
      "cell_type": "code",
      "execution_count": null,
      "id": "34b31b98",
      "metadata": {
        "execution": {
          "iopub.execute_input": "2022-11-21T21:51:29.412844Z",
          "iopub.status.busy": "2022-11-21T21:51:29.411928Z",
          "iopub.status.idle": "2022-11-21T21:53:27.229986Z",
          "shell.execute_reply": "2022-11-21T21:53:27.227875Z"
        },
        "id": "34b31b98",
        "outputId": "52bed748-507d-4d5a-d02d-68d0e8e3a9dc",
        "papermill": {
          "duration": 117.824675,
          "end_time": "2022-11-21T21:53:27.232172",
          "exception": false,
          "start_time": "2022-11-21T21:51:29.407497",
          "status": "completed"
        },
        "tags": []
      },
      "outputs": [
        {
          "name": "stderr",
          "output_type": "stream",
          "text": [
            "100%|██████████| 8215/8215 [01:57<00:00, 69.74it/s]\n"
          ]
        }
      ],
      "source": [
        "bad_files = []\n",
        "for path in tqdm(files_df['filepath'].values):\n",
        "    try:\n",
        "        img = Image.open(path)\n",
        "    except:\n",
        "        index = files_df[files_df['filepath']==path].index.values[0]\n",
        "        bad_files.append(index)"
      ]
    },
    {
      "cell_type": "code",
      "execution_count": null,
      "id": "ae7f3b70",
      "metadata": {
        "execution": {
          "iopub.execute_input": "2022-11-21T21:53:27.348077Z",
          "iopub.status.busy": "2022-11-21T21:53:27.347675Z",
          "iopub.status.idle": "2022-11-21T21:53:27.364055Z",
          "shell.execute_reply": "2022-11-21T21:53:27.362990Z"
        },
        "id": "ae7f3b70",
        "outputId": "30506d1b-f2a9-440d-aea7-ee51c14fc3ff",
        "papermill": {
          "duration": 0.076701,
          "end_time": "2022-11-21T21:53:27.366482",
          "exception": false,
          "start_time": "2022-11-21T21:53:27.289781",
          "status": "completed"
        },
        "tags": []
      },
      "outputs": [
        {
          "data": {
            "text/html": [
              "<div>\n",
              "<style scoped>\n",
              "    .dataframe tbody tr th:only-of-type {\n",
              "        vertical-align: middle;\n",
              "    }\n",
              "\n",
              "    .dataframe tbody tr th {\n",
              "        vertical-align: top;\n",
              "    }\n",
              "\n",
              "    .dataframe thead th {\n",
              "        text-align: right;\n",
              "    }\n",
              "</style>\n",
              "<table border=\"1\" class=\"dataframe\">\n",
              "  <thead>\n",
              "    <tr style=\"text-align: right;\">\n",
              "      <th></th>\n",
              "      <th>filepath</th>\n",
              "      <th>label</th>\n",
              "    </tr>\n",
              "  </thead>\n",
              "  <tbody>\n",
              "    <tr>\n",
              "      <th>0</th>\n",
              "      <td>../input/intel-mobileodt-cervical-cancer-scree...</td>\n",
              "      <td>Type 1</td>\n",
              "    </tr>\n",
              "    <tr>\n",
              "      <th>1</th>\n",
              "      <td>../input/intel-mobileodt-cervical-cancer-scree...</td>\n",
              "      <td>Type 3</td>\n",
              "    </tr>\n",
              "    <tr>\n",
              "      <th>2</th>\n",
              "      <td>../input/intel-mobileodt-cervical-cancer-scree...</td>\n",
              "      <td>Type 1</td>\n",
              "    </tr>\n",
              "    <tr>\n",
              "      <th>3</th>\n",
              "      <td>../input/intel-mobileodt-cervical-cancer-scree...</td>\n",
              "      <td>Type 2</td>\n",
              "    </tr>\n",
              "    <tr>\n",
              "      <th>4</th>\n",
              "      <td>../input/intel-mobileodt-cervical-cancer-scree...</td>\n",
              "      <td>Type 3</td>\n",
              "    </tr>\n",
              "    <tr>\n",
              "      <th>...</th>\n",
              "      <td>...</td>\n",
              "      <td>...</td>\n",
              "    </tr>\n",
              "    <tr>\n",
              "      <th>8210</th>\n",
              "      <td>../input/intel-mobileodt-cervical-cancer-scree...</td>\n",
              "      <td>Type 2</td>\n",
              "    </tr>\n",
              "    <tr>\n",
              "      <th>8211</th>\n",
              "      <td>../input/intel-mobileodt-cervical-cancer-scree...</td>\n",
              "      <td>Type 3</td>\n",
              "    </tr>\n",
              "    <tr>\n",
              "      <th>8212</th>\n",
              "      <td>../input/intel-mobileodt-cervical-cancer-scree...</td>\n",
              "      <td>Type 1</td>\n",
              "    </tr>\n",
              "    <tr>\n",
              "      <th>8213</th>\n",
              "      <td>../input/intel-mobileodt-cervical-cancer-scree...</td>\n",
              "      <td>Type 2</td>\n",
              "    </tr>\n",
              "    <tr>\n",
              "      <th>8214</th>\n",
              "      <td>../input/intel-mobileodt-cervical-cancer-scree...</td>\n",
              "      <td>Type 1</td>\n",
              "    </tr>\n",
              "  </tbody>\n",
              "</table>\n",
              "<p>8212 rows × 2 columns</p>\n",
              "</div>"
            ],
            "text/plain": [
              "                                               filepath   label\n",
              "0     ../input/intel-mobileodt-cervical-cancer-scree...  Type 1\n",
              "1     ../input/intel-mobileodt-cervical-cancer-scree...  Type 3\n",
              "2     ../input/intel-mobileodt-cervical-cancer-scree...  Type 1\n",
              "3     ../input/intel-mobileodt-cervical-cancer-scree...  Type 2\n",
              "4     ../input/intel-mobileodt-cervical-cancer-scree...  Type 3\n",
              "...                                                 ...     ...\n",
              "8210  ../input/intel-mobileodt-cervical-cancer-scree...  Type 2\n",
              "8211  ../input/intel-mobileodt-cervical-cancer-scree...  Type 3\n",
              "8212  ../input/intel-mobileodt-cervical-cancer-scree...  Type 1\n",
              "8213  ../input/intel-mobileodt-cervical-cancer-scree...  Type 2\n",
              "8214  ../input/intel-mobileodt-cervical-cancer-scree...  Type 1\n",
              "\n",
              "[8212 rows x 2 columns]"
            ]
          },
          "execution_count": 6,
          "metadata": {},
          "output_type": "execute_result"
        }
      ],
      "source": [
        "bad_files\n",
        "files_df.drop(bad_files, inplace=True)\n",
        "files_df"
      ]
    },
    {
      "cell_type": "code",
      "execution_count": null,
      "id": "4af31c66",
      "metadata": {
        "execution": {
          "iopub.execute_input": "2022-11-21T21:53:27.484500Z",
          "iopub.status.busy": "2022-11-21T21:53:27.484092Z",
          "iopub.status.idle": "2022-11-21T21:53:30.843894Z",
          "shell.execute_reply": "2022-11-21T21:53:30.842904Z"
        },
        "id": "4af31c66",
        "outputId": "e13b4c92-5412-4ed2-f041-e6db526652ee",
        "papermill": {
          "duration": 3.41936,
          "end_time": "2022-11-21T21:53:30.846185",
          "exception": false,
          "start_time": "2022-11-21T21:53:27.426825",
          "status": "completed"
        },
        "tags": []
      },
      "outputs": [
        {
          "name": "stdout",
          "output_type": "stream",
          "text": [
            "Found 6570 validated image filenames belonging to 3 classes.\n",
            "Found 1642 validated image filenames belonging to 3 classes.\n"
          ]
        }
      ],
      "source": [
        "#train_df, valid_df = train_test_split(files_df, test_size = 0.2, stratify = files_df['label'], random_state = 1234)\n",
        "k = ImageDataGenerator(rescale=1./ 255, validation_split=0.2)\n",
        "t_nongen = k.flow_from_dataframe(files_df, x_col='filepath', y_col='label', target_size = (150, 150), class_mode='categorical', color_mode='rgb', subset='training')\n",
        "v_nongen = k.flow_from_dataframe(files_df, x_col='filepath', y_col='label', target_size = (150, 150), class_mode='categorical', color_mode='rgb', subset='validation')"
      ]
    },
    {
      "cell_type": "code",
      "execution_count": null,
      "id": "3e4ec5aa",
      "metadata": {
        "execution": {
          "iopub.execute_input": "2022-11-21T21:53:30.964057Z",
          "iopub.status.busy": "2022-11-21T21:53:30.962983Z",
          "iopub.status.idle": "2022-11-21T21:53:36.108464Z",
          "shell.execute_reply": "2022-11-21T21:53:36.107019Z"
        },
        "id": "3e4ec5aa",
        "papermill": {
          "duration": 5.206944,
          "end_time": "2022-11-21T21:53:36.110628",
          "exception": false,
          "start_time": "2022-11-21T21:53:30.903684",
          "status": "completed"
        },
        "tags": [],
        "outputId": "a7fa9bc0-cf97-4560-c401-87530a72fa60"
      },
      "outputs": [
        {
          "name": "stderr",
          "output_type": "stream",
          "text": [
            "2022-11-21 21:53:31.142282: I tensorflow/stream_executor/cuda/cuda_gpu_executor.cc:937] successful NUMA node read from SysFS had negative value (-1), but there must be at least one NUMA node, so returning NUMA node zero\n",
            "2022-11-21 21:53:31.143369: I tensorflow/stream_executor/cuda/cuda_gpu_executor.cc:937] successful NUMA node read from SysFS had negative value (-1), but there must be at least one NUMA node, so returning NUMA node zero\n",
            "2022-11-21 21:53:31.320560: I tensorflow/stream_executor/cuda/cuda_gpu_executor.cc:937] successful NUMA node read from SysFS had negative value (-1), but there must be at least one NUMA node, so returning NUMA node zero\n",
            "2022-11-21 21:53:31.321530: I tensorflow/stream_executor/cuda/cuda_gpu_executor.cc:937] successful NUMA node read from SysFS had negative value (-1), but there must be at least one NUMA node, so returning NUMA node zero\n",
            "2022-11-21 21:53:31.322423: I tensorflow/stream_executor/cuda/cuda_gpu_executor.cc:937] successful NUMA node read from SysFS had negative value (-1), but there must be at least one NUMA node, so returning NUMA node zero\n",
            "2022-11-21 21:53:31.323260: I tensorflow/stream_executor/cuda/cuda_gpu_executor.cc:937] successful NUMA node read from SysFS had negative value (-1), but there must be at least one NUMA node, so returning NUMA node zero\n",
            "2022-11-21 21:53:31.325225: I tensorflow/core/platform/cpu_feature_guard.cc:142] This TensorFlow binary is optimized with oneAPI Deep Neural Network Library (oneDNN) to use the following CPU instructions in performance-critical operations:  AVX2 AVX512F FMA\n",
            "To enable them in other operations, rebuild TensorFlow with the appropriate compiler flags.\n",
            "2022-11-21 21:53:31.600833: I tensorflow/stream_executor/cuda/cuda_gpu_executor.cc:937] successful NUMA node read from SysFS had negative value (-1), but there must be at least one NUMA node, so returning NUMA node zero\n",
            "2022-11-21 21:53:31.601719: I tensorflow/stream_executor/cuda/cuda_gpu_executor.cc:937] successful NUMA node read from SysFS had negative value (-1), but there must be at least one NUMA node, so returning NUMA node zero\n",
            "2022-11-21 21:53:31.602456: I tensorflow/stream_executor/cuda/cuda_gpu_executor.cc:937] successful NUMA node read from SysFS had negative value (-1), but there must be at least one NUMA node, so returning NUMA node zero\n",
            "2022-11-21 21:53:31.603168: I tensorflow/stream_executor/cuda/cuda_gpu_executor.cc:937] successful NUMA node read from SysFS had negative value (-1), but there must be at least one NUMA node, so returning NUMA node zero\n",
            "2022-11-21 21:53:31.603879: I tensorflow/stream_executor/cuda/cuda_gpu_executor.cc:937] successful NUMA node read from SysFS had negative value (-1), but there must be at least one NUMA node, so returning NUMA node zero\n",
            "2022-11-21 21:53:31.604673: I tensorflow/stream_executor/cuda/cuda_gpu_executor.cc:937] successful NUMA node read from SysFS had negative value (-1), but there must be at least one NUMA node, so returning NUMA node zero\n",
            "2022-11-21 21:53:34.715938: I tensorflow/stream_executor/cuda/cuda_gpu_executor.cc:937] successful NUMA node read from SysFS had negative value (-1), but there must be at least one NUMA node, so returning NUMA node zero\n",
            "2022-11-21 21:53:34.716931: I tensorflow/stream_executor/cuda/cuda_gpu_executor.cc:937] successful NUMA node read from SysFS had negative value (-1), but there must be at least one NUMA node, so returning NUMA node zero\n",
            "2022-11-21 21:53:34.717705: I tensorflow/stream_executor/cuda/cuda_gpu_executor.cc:937] successful NUMA node read from SysFS had negative value (-1), but there must be at least one NUMA node, so returning NUMA node zero\n",
            "2022-11-21 21:53:34.718434: I tensorflow/stream_executor/cuda/cuda_gpu_executor.cc:937] successful NUMA node read from SysFS had negative value (-1), but there must be at least one NUMA node, so returning NUMA node zero\n",
            "2022-11-21 21:53:34.719156: I tensorflow/stream_executor/cuda/cuda_gpu_executor.cc:937] successful NUMA node read from SysFS had negative value (-1), but there must be at least one NUMA node, so returning NUMA node zero\n",
            "2022-11-21 21:53:34.721744: I tensorflow/core/common_runtime/gpu/gpu_device.cc:1510] Created device /job:localhost/replica:0/task:0/device:GPU:0 with 13789 MB memory:  -> device: 0, name: Tesla T4, pci bus id: 0000:00:04.0, compute capability: 7.5\n",
            "2022-11-21 21:53:34.726282: I tensorflow/stream_executor/cuda/cuda_gpu_executor.cc:937] successful NUMA node read from SysFS had negative value (-1), but there must be at least one NUMA node, so returning NUMA node zero\n",
            "2022-11-21 21:53:34.726994: I tensorflow/core/common_runtime/gpu/gpu_device.cc:1510] Created device /job:localhost/replica:0/task:0/device:GPU:1 with 13789 MB memory:  -> device: 1, name: Tesla T4, pci bus id: 0000:00:05.0, compute capability: 7.5\n"
          ]
        },
        {
          "name": "stdout",
          "output_type": "stream",
          "text": [
            "Downloading data from https://storage.googleapis.com/tensorflow/keras-applications/vgg19/vgg19_weights_tf_dim_ordering_tf_kernels_notop.h5\n",
            "80142336/80134624 [==============================] - 0s 0us/step\n",
            "80150528/80134624 [==============================] - 0s 0us/step\n",
            "Model: \"model\"\n",
            "_________________________________________________________________\n",
            "Layer (type)                 Output Shape              Param #   \n",
            "=================================================================\n",
            "input_1 (InputLayer)         [(None, 150, 150, 3)]     0         \n",
            "_________________________________________________________________\n",
            "block1_conv1 (Conv2D)        (None, 150, 150, 64)      1792      \n",
            "_________________________________________________________________\n",
            "block1_conv2 (Conv2D)        (None, 150, 150, 64)      36928     \n",
            "_________________________________________________________________\n",
            "block1_pool (MaxPooling2D)   (None, 75, 75, 64)        0         \n",
            "_________________________________________________________________\n",
            "block2_conv1 (Conv2D)        (None, 75, 75, 128)       73856     \n",
            "_________________________________________________________________\n",
            "block2_conv2 (Conv2D)        (None, 75, 75, 128)       147584    \n",
            "_________________________________________________________________\n",
            "block2_pool (MaxPooling2D)   (None, 37, 37, 128)       0         \n",
            "_________________________________________________________________\n",
            "block3_conv1 (Conv2D)        (None, 37, 37, 256)       295168    \n",
            "_________________________________________________________________\n",
            "block3_conv2 (Conv2D)        (None, 37, 37, 256)       590080    \n",
            "_________________________________________________________________\n",
            "block3_conv3 (Conv2D)        (None, 37, 37, 256)       590080    \n",
            "_________________________________________________________________\n",
            "block3_conv4 (Conv2D)        (None, 37, 37, 256)       590080    \n",
            "_________________________________________________________________\n",
            "block3_pool (MaxPooling2D)   (None, 18, 18, 256)       0         \n",
            "_________________________________________________________________\n",
            "block4_conv1 (Conv2D)        (None, 18, 18, 512)       1180160   \n",
            "_________________________________________________________________\n",
            "block4_conv2 (Conv2D)        (None, 18, 18, 512)       2359808   \n",
            "_________________________________________________________________\n",
            "block4_conv3 (Conv2D)        (None, 18, 18, 512)       2359808   \n",
            "_________________________________________________________________\n",
            "block4_conv4 (Conv2D)        (None, 18, 18, 512)       2359808   \n",
            "_________________________________________________________________\n",
            "block4_pool (MaxPooling2D)   (None, 9, 9, 512)         0         \n",
            "_________________________________________________________________\n",
            "block5_conv1 (Conv2D)        (None, 9, 9, 512)         2359808   \n",
            "_________________________________________________________________\n",
            "block5_conv2 (Conv2D)        (None, 9, 9, 512)         2359808   \n",
            "_________________________________________________________________\n",
            "block5_conv3 (Conv2D)        (None, 9, 9, 512)         2359808   \n",
            "_________________________________________________________________\n",
            "block5_conv4 (Conv2D)        (None, 9, 9, 512)         2359808   \n",
            "_________________________________________________________________\n",
            "block5_pool (MaxPooling2D)   (None, 4, 4, 512)         0         \n",
            "_________________________________________________________________\n",
            "flatten (Flatten)            (None, 8192)              0         \n",
            "_________________________________________________________________\n",
            "dense (Dense)                (None, 512)               4194816   \n",
            "_________________________________________________________________\n",
            "dropout (Dropout)            (None, 512)               0         \n",
            "_________________________________________________________________\n",
            "dense_1 (Dense)              (None, 512)               262656    \n",
            "_________________________________________________________________\n",
            "dropout_1 (Dropout)          (None, 512)               0         \n",
            "_________________________________________________________________\n",
            "dense_2 (Dense)              (None, 3)                 1539      \n",
            "=================================================================\n",
            "Total params: 24,483,395\n",
            "Trainable params: 4,459,011\n",
            "Non-trainable params: 20,024,384\n",
            "_________________________________________________________________\n"
          ]
        }
      ],
      "source": [
        "# 사전 교육된 기본 모델 가져오기\n",
        "base_model = VGG19(include_top=False, weights='imagenet',input_shape=(150, 150, 3))\n",
        "\n",
        "base_model.trainable = False\n",
        "\n",
        "# 교육할 계층 설정 최상위 계층만 교육하기 위해 (False 가중치 고정)\n",
        "for layer in base_model.layers:\n",
        "    layer.trainable = False\n",
        "    \n",
        "# 기본 모델의 마지막 층\n",
        "x = base_model.output\n",
        "\n",
        "x = Flatten()(x)\n",
        "h1 = Dense(512, activation='relu')(x)\n",
        "drop1 = Dropout(rate=0.5)(h1)\n",
        "h2 = Dense(512, activation='relu')(drop1)\n",
        "drop2 = Dropout(rate=0.5)(h2)\n",
        "output = Dense(3, activation='softmax')(drop2)\n",
        "\n",
        "trs = Model(inputs=base_model.input, outputs=output)\n",
        "trs.summary()"
      ]
    },
    {
      "cell_type": "code",
      "execution_count": null,
      "id": "15cbe953",
      "metadata": {
        "execution": {
          "iopub.execute_input": "2022-11-21T21:53:36.230433Z",
          "iopub.status.busy": "2022-11-21T21:53:36.229517Z",
          "iopub.status.idle": "2022-11-21T21:53:36.244027Z",
          "shell.execute_reply": "2022-11-21T21:53:36.243056Z"
        },
        "id": "15cbe953",
        "papermill": {
          "duration": 0.076555,
          "end_time": "2022-11-21T21:53:36.246448",
          "exception": false,
          "start_time": "2022-11-21T21:53:36.169893",
          "status": "completed"
        },
        "tags": []
      },
      "outputs": [],
      "source": [
        "trs.compile(optimizer=RMSprop(lr=1e-4),\n",
        "  loss='categorical_crossentropy',\n",
        "  metrics=['accuracy'])"
      ]
    },
    {
      "cell_type": "code",
      "execution_count": null,
      "id": "b185048a",
      "metadata": {
        "execution": {
          "iopub.execute_input": "2022-11-21T21:53:36.365944Z",
          "iopub.status.busy": "2022-11-21T21:53:36.364866Z",
          "iopub.status.idle": "2022-11-22T09:28:23.001373Z",
          "shell.execute_reply": "2022-11-22T09:28:23.000339Z"
        },
        "id": "b185048a",
        "papermill": {
          "duration": 41686.705375,
          "end_time": "2022-11-22T09:28:23.009832",
          "exception": false,
          "start_time": "2022-11-21T21:53:36.304457",
          "status": "completed"
        },
        "tags": [],
        "outputId": "e62b16fd-ec42-4967-e67f-20878b5434ce"
      },
      "outputs": [
        {
          "name": "stderr",
          "output_type": "stream",
          "text": [
            "2022-11-21 21:53:44.475206: I tensorflow/compiler/mlir/mlir_graph_optimization_pass.cc:185] None of the MLIR Optimization Passes are enabled (registered 2)\n"
          ]
        },
        {
          "name": "stdout",
          "output_type": "stream",
          "text": [
            "Epoch 1/20\n"
          ]
        },
        {
          "name": "stderr",
          "output_type": "stream",
          "text": [
            "2022-11-21 21:53:54.642272: I tensorflow/stream_executor/cuda/cuda_dnn.cc:369] Loaded cuDNN version 8005\n"
          ]
        },
        {
          "name": "stdout",
          "output_type": "stream",
          "text": [
            "206/206 [==============================] - 2089s 10s/step - loss: 1.0789 - accuracy: 0.4811 - val_loss: 0.9702 - val_accuracy: 0.5286\n",
            "Epoch 2/20\n",
            "206/206 [==============================] - 2060s 10s/step - loss: 0.9876 - accuracy: 0.5181 - val_loss: 0.9560 - val_accuracy: 0.5238\n",
            "Epoch 3/20\n",
            "206/206 [==============================] - 2052s 10s/step - loss: 0.9716 - accuracy: 0.5262 - val_loss: 0.9366 - val_accuracy: 0.5323\n",
            "Epoch 4/20\n",
            "206/206 [==============================] - 2112s 10s/step - loss: 0.9486 - accuracy: 0.5449 - val_loss: 0.9411 - val_accuracy: 0.5359\n",
            "Epoch 5/20\n",
            "206/206 [==============================] - 2112s 10s/step - loss: 0.9266 - accuracy: 0.5521 - val_loss: 0.9326 - val_accuracy: 0.5420\n",
            "Epoch 6/20\n",
            "206/206 [==============================] - 2062s 10s/step - loss: 0.9160 - accuracy: 0.5597 - val_loss: 0.9102 - val_accuracy: 0.5627\n",
            "Epoch 7/20\n",
            "206/206 [==============================] - 2000s 10s/step - loss: 0.8822 - accuracy: 0.5817 - val_loss: 0.9007 - val_accuracy: 0.5609\n",
            "Epoch 8/20\n",
            "206/206 [==============================] - 2067s 10s/step - loss: 0.8682 - accuracy: 0.5831 - val_loss: 0.8951 - val_accuracy: 0.5554\n",
            "Epoch 9/20\n",
            "206/206 [==============================] - 2117s 10s/step - loss: 0.8561 - accuracy: 0.5921 - val_loss: 0.8747 - val_accuracy: 0.5792\n",
            "Epoch 10/20\n",
            "206/206 [==============================] - 2004s 10s/step - loss: 0.8365 - accuracy: 0.6068 - val_loss: 0.8826 - val_accuracy: 0.5566\n",
            "Epoch 11/20\n",
            "206/206 [==============================] - 2089s 10s/step - loss: 0.8178 - accuracy: 0.6125 - val_loss: 0.8652 - val_accuracy: 0.5895\n",
            "Epoch 12/20\n",
            "206/206 [==============================] - 2081s 10s/step - loss: 0.7980 - accuracy: 0.6306 - val_loss: 0.8493 - val_accuracy: 0.5950\n",
            "Epoch 13/20\n",
            "206/206 [==============================] - 2046s 10s/step - loss: 0.7753 - accuracy: 0.6479 - val_loss: 0.8574 - val_accuracy: 0.5950\n",
            "Epoch 14/20\n",
            "206/206 [==============================] - 2007s 10s/step - loss: 0.7646 - accuracy: 0.6521 - val_loss: 0.8583 - val_accuracy: 0.6023\n",
            "Epoch 15/20\n",
            "206/206 [==============================] - 2035s 10s/step - loss: 0.7365 - accuracy: 0.6686 - val_loss: 0.8355 - val_accuracy: 0.6157\n",
            "Epoch 16/20\n",
            "206/206 [==============================] - 2075s 10s/step - loss: 0.7165 - accuracy: 0.6849 - val_loss: 0.8853 - val_accuracy: 0.6023\n",
            "Epoch 17/20\n",
            "206/206 [==============================] - 2094s 10s/step - loss: 0.6955 - accuracy: 0.6977 - val_loss: 0.8411 - val_accuracy: 0.6090\n",
            "Epoch 18/20\n",
            "206/206 [==============================] - 2097s 10s/step - loss: 0.6711 - accuracy: 0.7027 - val_loss: 0.8409 - val_accuracy: 0.6364\n",
            "Epoch 19/20\n",
            "206/206 [==============================] - 2062s 10s/step - loss: 0.6474 - accuracy: 0.7177 - val_loss: 0.8515 - val_accuracy: 0.6303\n",
            "Epoch 20/20\n",
            "206/206 [==============================] - 2135s 10s/step - loss: 0.6325 - accuracy: 0.7277 - val_loss: 0.8714 - val_accuracy: 0.6236\n"
          ]
        }
      ],
      "source": [
        "general = trs.fit(t_nongen, validation_data= v_nongen, epochs= 20, verbose=1)"
      ]
    },
    {
      "cell_type": "code",
      "execution_count": 2,
      "id": "93a9750c",
      "metadata": {
        "execution": {
          "iopub.execute_input": "2022-11-22T09:28:23.612519Z",
          "iopub.status.busy": "2022-11-22T09:28:23.612055Z",
          "iopub.status.idle": "2022-11-22T09:28:24.110094Z",
          "shell.execute_reply": "2022-11-22T09:28:24.108590Z"
        },
        "id": "93a9750c",
        "papermill": {
          "duration": 0.794056,
          "end_time": "2022-11-22T09:28:24.111734",
          "exception": true,
          "start_time": "2022-11-22T09:28:23.317678",
          "status": "failed"
        },
        "tags": []
      },
      "outputs": [],
      "source": [
        "\n",
        "history = {'loss':     [1.0789,0.9876,0.9716,0.9486,0.9266,0.9160,0.8822,0.8682,0.8561,0.8365,0.8178,0.7980,0.7753,0.7646,0.7365,0.7165,0.6955,0.6711,0.6474,0.6325],\n",
        " 'accuracy': [0.4811,0.5181,0.5262,0.5449,0.5521,0.5597,0.5817,0.5831,0.5921,0.6068,0.6125,0.6306,0.6479,0.6521,0.6686,0.6849,0.6977,0.7027,0.7177,0.7277],\n",
        " 'val_loss': [0.9702,0.9560,0.9366,0.9411,0.9326,0.9102,0.9007,0.8951,0.8747,0.8826,0.8652,0.8493,0.8574,0.8583,0.8355,0.8853,0.8411,0.8409,0.8515,0.8714],\n",
        " 'val_accuracy': [0.5286,0.5238,0.5323,0.5359,0.5420,0.5627,0.5609,0.5554,0.5792,0.5566,0.5895,0.5950,0.5950,0.6023,0.6157,0.6023,0.6090,0.6364,0.6303,0.6236]}\n"
      ]
    },
    {
      "cell_type": "code",
      "execution_count": 6,
      "id": "7263f24e",
      "metadata": {
        "id": "7263f24e",
        "papermill": {
          "duration": null,
          "end_time": null,
          "exception": null,
          "start_time": null,
          "status": "pending"
        },
        "tags": [],
        "colab": {
          "base_uri": "https://localhost:8080/",
          "height": 336
        },
        "outputId": "8e91fc89-828c-4b59-8842-45aec5e293cf"
      },
      "outputs": [
        {
          "output_type": "display_data",
          "data": {
            "text/plain": [
              "<Figure size 1080x360 with 2 Axes>"
            ],
            "image/png": "[encoded data removed]"
          },
          "metadata": {
            "needs_background": "light"
          }
        }
      ],
      "source": [
        "plt.figure(figsize=(15, 5))\n",
        "\n",
        "plt.subplot(1, 2, 1)\n",
        "plt.plot(history['accuracy'], label='acc')\n",
        "plt.plot(history['val_accuracy'], label='var_acc')\n",
        "plt.legend(loc='lower right')\n",
        "plt.title('Accuracy comparison')\n",
        "\n",
        "plt.subplot(1, 2, 2)\n",
        "plt.plot(history['loss'], label='loss')\n",
        "plt.plot(history['val_loss'], label='var_loss')\n",
        "plt.legend(loc='upper right')\n",
        "plt.title('Loss comparison')\n",
        "\n",
        "plt.show()"
      ]
    }
  ],
  "metadata": {
    "kernelspec": {
      "display_name": "Python 3",
      "language": "python",
      "name": "python3"
    },
    "language_info": {
      "codemirror_mode": {
        "name": "ipython",
        "version": 3
      },
      "file_extension": ".py",
      "mimetype": "text/x-python",
      "name": "python",
      "nbconvert_exporter": "python",
      "pygments_lexer": "ipython3",
      "version": "3.7.12"
    },
    "papermill": {
      "default_parameters": {},
      "duration": 41835.910874,
      "end_time": "2022-11-22T09:28:27.963449",
      "environment_variables": {},
      "exception": true,
      "input_path": "__notebook__.ipynb",
      "output_path": "__notebook__.ipynb",
      "parameters": {},
      "start_time": "2022-11-21T21:51:12.052575",
      "version": "2.3.4"
    },
    "colab": {
      "provenance": [],
      "include_colab_link": true
    }
  },
  "nbformat": 4,
  "nbformat_minor": 5
}