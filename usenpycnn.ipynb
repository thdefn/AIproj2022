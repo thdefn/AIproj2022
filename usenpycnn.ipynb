{
  "cells": [
    {
      "cell_type": "markdown",
      "metadata": {
        "id": "view-in-github",
        "colab_type": "text"
      },
      "source": [
        "<a href=\"https://colab.research.google.com/github/thdefn/jango/blob/master/usenpycnn.ipynb\" target=\"_parent\"><img src=\"https://colab.research.google.com/assets/colab-badge.svg\" alt=\"Open In Colab\"/></a>"
      ]
    },
    {
      "cell_type": "code",
      "execution_count": 1,
      "metadata": {
        "id": "fC4B0-yNd_Jm"
      },
      "outputs": [],
      "source": [
        "import numpy as np\n",
        "import pandas as pd\n",
        "\n",
        "from tensorflow import keras\n",
        "\n",
        "from tensorflow.keras import Model\n",
        "from tensorflow.keras.models import Sequential\n",
        "from tensorflow.keras.layers import Activation, Conv2D, MaxPooling2D, Dense, Flatten\n",
        "from tensorflow.keras.layers import Dropout, BatchNormalization \n",
        "from tensorflow.keras.utils import to_categorical"
      ]
    },
    {
      "cell_type": "code",
      "execution_count": 2,
      "metadata": {
        "id": "izuGazUfd_Jp"
      },
      "outputs": [],
      "source": [
        "from tensorflow.keras.applications.vgg19 import VGG19\n",
        "from tensorflow.keras.callbacks import ModelCheckpoint\n",
        "\n",
        "import matplotlib.pyplot as plt\n",
        "\n",
        "import seaborn as sns\n",
        "import os\n",
        "import glob\n",
        "import plotly.graph_objects as go\n",
        "import cv2\n",
        "from PIL import Image\n",
        "from PIL import ImageFile\n",
        "from sklearn.model_selection import train_test_split\n",
        "from sklearn.preprocessing import LabelEncoder\n",
        "from tensorflow.keras.preprocessing.image import ImageDataGenerator\n",
        "from tensorflow.keras.optimizers import RMSprop\n",
        "from tensorflow.keras.callbacks import EarlyStopping, ReduceLROnPlateau,ModelCheckpoint \n",
        "from sklearn.metrics import accuracy_score, confusion_matrix, classification_report\n",
        "import warnings\n",
        "warnings.filterwarnings(\"ignore\")\n",
        "ImageFile.LOAD_TRUNCATED_IMAGES = True\n",
        "\n",
        "from tqdm import tqdm"
      ]
    },
    {
      "cell_type": "code",
      "execution_count": 3,
      "metadata": {
        "colab": {
          "base_uri": "https://localhost:8080/"
        },
        "id": "eIuSMXTRTwha",
        "outputId": "d8d4ea4a-a481-4817-e12d-3282eaff0260"
      },
      "outputs": [
        {
          "output_type": "stream",
          "name": "stdout",
          "text": [
            "Mounted at /content/gdrive\n"
          ]
        }
      ],
      "source": [
        "import os\n",
        "from google.colab import drive\n",
        "drive.mount('/content/gdrive')"
      ]
    },
    {
      "cell_type": "code",
      "execution_count": 4,
      "metadata": {
        "colab": {
          "base_uri": "https://localhost:8080/"
        },
        "id": "oQBa1eWmTyTl",
        "outputId": "efce2cfe-5212-429b-821b-dab4029d70b7"
      },
      "outputs": [
        {
          "output_type": "stream",
          "name": "stdout",
          "text": [
            "/content/gdrive/My Drive/data/.kaggle\n"
          ]
        }
      ],
      "source": [
        "cd /content/gdrive/My Drive/data/.kaggle"
      ]
    },
    {
      "cell_type": "code",
      "source": [
        "X_valid = np.load('./X_valid_128.npy',allow_pickle=True)\n",
        "y_valid = np.load('./y_valid_128.npy',allow_pickle=True)\n",
        "X_train = np.load('./X_train_128.npy',allow_pickle=True)\n",
        "y_train = np.load('./y_train_128.npy',allow_pickle=True)"
      ],
      "metadata": {
        "id": "Wm8DLLCfVOeh"
      },
      "execution_count": 5,
      "outputs": []
    },
    {
      "cell_type": "code",
      "source": [
        "X_train = X_train/255\n",
        "X_valid = X_valid/255\n",
        "\n",
        "le = LabelEncoder().fit(['Type 1', 'Type 2', 'Type 3'])\n",
        "y_train = le.transform(y_train)\n",
        "y_valid = le.transform(y_valid)\n",
        "\n",
        "y_train_onehot = to_categorical(y_train, num_classes=3)\n",
        "y_valid_onehot = to_categorical(y_valid, num_classes=3)\n"
      ],
      "metadata": {
        "id": "Aiu1fFzmYPed"
      },
      "execution_count": 6,
      "outputs": []
    },
    {
      "cell_type": "code",
      "source": [
        "reduceLR = ReduceLROnPlateau(monitor='val_accuracy', patience=10, verbose= 1, mode='max', factor=  0.2, min_lr = 1e-5)\n",
        "\n",
        "early_stopping = EarlyStopping(monitor='val_accuracy', patience = 20, verbose=1, mode='max', restore_best_weights= True)\n",
        "\n",
        "checkpoint_ag = ModelCheckpoint('v1_ag', monitor='val_accuracy', verbose=1,save_best_only=True, mode= 'max')"
      ],
      "metadata": {
        "id": "zdO9a9D6TsTx"
      },
      "execution_count": null,
      "outputs": []
    },
    {
      "cell_type": "code",
      "source": [
        "BATCH_SIZE = 16\n",
        "TRAIN_STEPS = len(X_train)//BATCH_SIZE\n",
        "VAL_STEPS = len(X_valid)//BATCH_SIZE"
      ],
      "metadata": {
        "id": "fmYp6qxPX4hP"
      },
      "execution_count": null,
      "outputs": []
    },
    {
      "cell_type": "code",
      "execution_count": null,
      "metadata": {
        "id": "Yq3yHh39Tpra"
      },
      "outputs": [],
      "source": [
        "train_gen = ImageDataGenerator(\n",
        "                     rotation_range=20,\n",
        "                     width_shift_range=0.1,\n",
        "                     height_shift_range=0.1,\n",
        "                     zoom_range=0.1,\n",
        "                     vertical_flip=True,\n",
        "                     horizontal_flip=True,\n",
        "                     fill_mode='nearest').flow(X_train, y_train_onehot, batch_size = BATCH_SIZE)\n",
        "valid_gen = ImageDataGenerator().flow(X_valid, y_valid_onehot, batch_size = BATCH_SIZE)\n",
        "\n",
        "\n",
        "# train_gen = ImageDataGenerator().flow(X_train, y_train_onehot, batch_size = BATCH_SIZE)"
      ]
    },
    {
      "cell_type": "code",
      "execution_count": null,
      "metadata": {
        "colab": {
          "base_uri": "https://localhost:8080/"
        },
        "id": "vRQ24mhkd_Jt",
        "outputId": "05f1e0f8-4e35-47f6-e42d-a45f7004b7bd"
      },
      "outputs": [
        {
          "output_type": "stream",
          "name": "stdout",
          "text": [
            "Model: \"sequential\"\n",
            "_________________________________________________________________\n",
            " Layer (type)                Output Shape              Param #   \n",
            "=================================================================\n",
            " conv2d (Conv2D)             (None, 128, 128, 64)      1792      \n",
            "                                                                 \n",
            " activation (Activation)     (None, 128, 128, 64)      0         \n",
            "                                                                 \n",
            " max_pooling2d (MaxPooling2D  (None, 64, 64, 64)       0         \n",
            " )                                                               \n",
            "                                                                 \n",
            " conv2d_1 (Conv2D)           (None, 64, 64, 32)        18464     \n",
            "                                                                 \n",
            " activation_1 (Activation)   (None, 64, 64, 32)        0         \n",
            "                                                                 \n",
            " max_pooling2d_1 (MaxPooling  (None, 32, 32, 32)       0         \n",
            " 2D)                                                             \n",
            "                                                                 \n",
            " conv2d_2 (Conv2D)           (None, 32, 32, 64)        18496     \n",
            "                                                                 \n",
            " activation_2 (Activation)   (None, 32, 32, 64)        0         \n",
            "                                                                 \n",
            " max_pooling2d_2 (MaxPooling  (None, 16, 16, 64)       0         \n",
            " 2D)                                                             \n",
            "                                                                 \n",
            " flatten (Flatten)           (None, 16384)             0         \n",
            "                                                                 \n",
            " dense (Dense)               (None, 64)                1048640   \n",
            "                                                                 \n",
            " activation_3 (Activation)   (None, 64)                0         \n",
            "                                                                 \n",
            " dropout (Dropout)           (None, 64)                0         \n",
            "                                                                 \n",
            " dense_1 (Dense)             (None, 3)                 195       \n",
            "                                                                 \n",
            "=================================================================\n",
            "Total params: 1,087,587\n",
            "Trainable params: 1,087,587\n",
            "Non-trainable params: 0\n",
            "_________________________________________________________________\n"
          ]
        }
      ],
      "source": [
        "cnn = Sequential([\n",
        "    Conv2D(64, kernel_size = (3,3), padding='same', kernel_initializer='random_normal', input_shape=(128,128,3)),\n",
        "    Activation('relu'),\n",
        "    MaxPooling2D(pool_size=(2,2)),\n",
        "    \n",
        "    Conv2D(32, kernel_size = (3,3), padding='same', kernel_initializer='random_normal'),\n",
        "    Activation('relu'),\n",
        "    MaxPooling2D(pool_size=(2,2)),\n",
        "    \n",
        "    Conv2D(64, kernel_size = (3,3), padding='same', kernel_initializer='random_normal'),\n",
        "    Activation('relu'),\n",
        "    MaxPooling2D(pool_size=(2,2)),\n",
        "\n",
        "    Flatten(),\n",
        "    Dense(64, kernel_initializer='random_normal'),\n",
        "    Activation('relu'),\n",
        "    Dropout(0.5),\n",
        "    Dense(3, activation='softmax')\n",
        "    \n",
        "])\n",
        "\n",
        "cnn.summary()"
      ]
    },
    {
      "cell_type": "markdown",
      "source": [
        "### 세이빙한 모델 가져오는 부분"
      ],
      "metadata": {
        "id": "dAnA268ZScGA"
      }
    },
    {
      "cell_type": "code",
      "execution_count": null,
      "metadata": {
        "id": "qpnTVEITUEgl"
      },
      "outputs": [],
      "source": [
        "cnn.compile(\n",
        "    'adam',\n",
        "  loss='categorical_crossentropy',\n",
        "  metrics=['accuracy'],\n",
        ")"
      ]
    },
    {
      "cell_type": "code",
      "execution_count": null,
      "metadata": {
        "colab": {
          "base_uri": "https://localhost:8080/"
        },
        "id": "Z2DuIapMd_Ju",
        "outputId": "7dae9da5-cf5f-4e8f-e8f4-f5bee6331818"
      },
      "outputs": [
        {
          "output_type": "stream",
          "name": "stdout",
          "text": [
            "Epoch 1/30\n",
            "410/410 [==============================] - ETA: 0s - loss: 1.0167 - accuracy: 0.5272\n",
            "Epoch 1: val_accuracy improved from -inf to 0.52952, saving model to v1_ag\n"
          ]
        },
        {
          "output_type": "stream",
          "name": "stderr",
          "text": [
            "WARNING:absl:Found untraced functions such as _jit_compiled_convolution_op, _jit_compiled_convolution_op, _jit_compiled_convolution_op while saving (showing 3 of 3). These functions will not be directly callable after loading.\n"
          ]
        },
        {
          "output_type": "stream",
          "name": "stdout",
          "text": [
            "\b\b\b\b\b\b\b\b\b\b\b\b\b\b\b\b\b\b\b\b\b\b\b\b\b\b\b\b\b\b\b\b\b\b\b\b\b\b\b\b\b\b\b\b\b\b\b\b\b\b\b\b\b\b\b\b\b\b\b\b\b\b\b\b\b\b\b\b\b\b\b\b\b\b\b\b\b\b\b\b\b\b\b\b\r410/410 [==============================] - 38s 71ms/step - loss: 1.0167 - accuracy: 0.5272 - val_loss: 0.9867 - val_accuracy: 0.5295 - lr: 0.0010\n",
            "Epoch 2/30\n",
            "410/410 [==============================] - ETA: 0s - loss: 0.9978 - accuracy: 0.5275\n",
            "Epoch 2: val_accuracy did not improve from 0.52952\n",
            "410/410 [==============================] - 27s 65ms/step - loss: 0.9978 - accuracy: 0.5275 - val_loss: 0.9760 - val_accuracy: 0.5289 - lr: 0.0010\n",
            "Epoch 3/30\n",
            "410/410 [==============================] - ETA: 0s - loss: 0.9849 - accuracy: 0.5257\n",
            "Epoch 3: val_accuracy did not improve from 0.52952\n",
            "410/410 [==============================] - 26s 63ms/step - loss: 0.9849 - accuracy: 0.5257 - val_loss: 0.9727 - val_accuracy: 0.5295 - lr: 0.0010\n",
            "Epoch 4/30\n",
            "410/410 [==============================] - ETA: 0s - loss: 0.9819 - accuracy: 0.5272\n",
            "Epoch 4: val_accuracy improved from 0.52952 to 0.53317, saving model to v1_ag\n"
          ]
        },
        {
          "output_type": "stream",
          "name": "stderr",
          "text": [
            "WARNING:absl:Found untraced functions such as _jit_compiled_convolution_op, _jit_compiled_convolution_op, _jit_compiled_convolution_op while saving (showing 3 of 3). These functions will not be directly callable after loading.\n"
          ]
        },
        {
          "output_type": "stream",
          "name": "stdout",
          "text": [
            "\b\b\b\b\b\b\b\b\b\b\b\b\b\b\b\b\b\b\b\b\b\b\b\b\b\b\b\b\b\b\b\b\b\b\b\b\b\b\b\b\b\b\b\b\b\b\b\b\b\b\b\b\b\b\b\b\b\b\b\b\b\b\b\b\b\b\b\b\b\b\b\b\b\b\b\b\b\b\b\b\b\b\b\b\r410/410 [==============================] - 27s 66ms/step - loss: 0.9819 - accuracy: 0.5272 - val_loss: 0.9587 - val_accuracy: 0.5332 - lr: 0.0010\n",
            "Epoch 5/30\n",
            "410/410 [==============================] - ETA: 0s - loss: 0.9686 - accuracy: 0.5329\n",
            "Epoch 5: val_accuracy did not improve from 0.53317\n",
            "410/410 [==============================] - 26s 63ms/step - loss: 0.9686 - accuracy: 0.5329 - val_loss: 0.9576 - val_accuracy: 0.5313 - lr: 0.0010\n",
            "Epoch 6/30\n",
            "410/410 [==============================] - ETA: 0s - loss: 0.9640 - accuracy: 0.5280\n",
            "Epoch 6: val_accuracy improved from 0.53317 to 0.53439, saving model to v1_ag\n"
          ]
        },
        {
          "output_type": "stream",
          "name": "stderr",
          "text": [
            "WARNING:absl:Found untraced functions such as _jit_compiled_convolution_op, _jit_compiled_convolution_op, _jit_compiled_convolution_op while saving (showing 3 of 3). These functions will not be directly callable after loading.\n"
          ]
        },
        {
          "output_type": "stream",
          "name": "stdout",
          "text": [
            "\b\b\b\b\b\b\b\b\b\b\b\b\b\b\b\b\b\b\b\b\b\b\b\b\b\b\b\b\b\b\b\b\b\b\b\b\b\b\b\b\b\b\b\b\b\b\b\b\b\b\b\b\b\b\b\b\b\b\b\b\b\b\b\b\b\b\b\b\b\b\b\b\b\b\b\b\b\b\b\b\b\b\b\b\r410/410 [==============================] - 27s 66ms/step - loss: 0.9640 - accuracy: 0.5280 - val_loss: 0.9692 - val_accuracy: 0.5344 - lr: 0.0010\n",
            "Epoch 7/30\n",
            "410/410 [==============================] - ETA: 0s - loss: 0.9556 - accuracy: 0.5297\n",
            "Epoch 7: val_accuracy improved from 0.53439 to 0.54839, saving model to v1_ag\n"
          ]
        },
        {
          "output_type": "stream",
          "name": "stderr",
          "text": [
            "WARNING:absl:Found untraced functions such as _jit_compiled_convolution_op, _jit_compiled_convolution_op, _jit_compiled_convolution_op while saving (showing 3 of 3). These functions will not be directly callable after loading.\n"
          ]
        },
        {
          "output_type": "stream",
          "name": "stdout",
          "text": [
            "\b\b\b\b\b\b\b\b\b\b\b\b\b\b\b\b\b\b\b\b\b\b\b\b\b\b\b\b\b\b\b\b\b\b\b\b\b\b\b\b\b\b\b\b\b\b\b\b\b\b\b\b\b\b\b\b\b\b\b\b\b\b\b\b\b\b\b\b\b\b\b\b\b\b\b\b\b\b\b\b\b\b\b\b\r410/410 [==============================] - 27s 65ms/step - loss: 0.9556 - accuracy: 0.5297 - val_loss: 0.9533 - val_accuracy: 0.5484 - lr: 0.0010\n",
            "Epoch 8/30\n",
            "410/410 [==============================] - ETA: 0s - loss: 0.9497 - accuracy: 0.5355\n",
            "Epoch 8: val_accuracy improved from 0.54839 to 0.55569, saving model to v1_ag\n"
          ]
        },
        {
          "output_type": "stream",
          "name": "stderr",
          "text": [
            "WARNING:absl:Found untraced functions such as _jit_compiled_convolution_op, _jit_compiled_convolution_op, _jit_compiled_convolution_op while saving (showing 3 of 3). These functions will not be directly callable after loading.\n"
          ]
        },
        {
          "output_type": "stream",
          "name": "stdout",
          "text": [
            "\b\b\b\b\b\b\b\b\b\b\b\b\b\b\b\b\b\b\b\b\b\b\b\b\b\b\b\b\b\b\b\b\b\b\b\b\b\b\b\b\b\b\b\b\b\b\b\b\b\b\b\b\b\b\b\b\b\b\b\b\b\b\b\b\b\b\b\b\b\b\b\b\b\b\b\b\b\b\b\b\b\b\b\b\r410/410 [==============================] - 27s 65ms/step - loss: 0.9497 - accuracy: 0.5355 - val_loss: 0.9448 - val_accuracy: 0.5557 - lr: 0.0010\n",
            "Epoch 9/30\n",
            "410/410 [==============================] - ETA: 0s - loss: 0.9484 - accuracy: 0.5330\n",
            "Epoch 9: val_accuracy did not improve from 0.55569\n",
            "410/410 [==============================] - 25s 62ms/step - loss: 0.9484 - accuracy: 0.5330 - val_loss: 0.9470 - val_accuracy: 0.5374 - lr: 0.0010\n",
            "Epoch 10/30\n",
            "410/410 [==============================] - ETA: 0s - loss: 0.9449 - accuracy: 0.5253\n",
            "Epoch 10: val_accuracy did not improve from 0.55569\n",
            "410/410 [==============================] - 25s 62ms/step - loss: 0.9449 - accuracy: 0.5253 - val_loss: 0.9449 - val_accuracy: 0.5484 - lr: 0.0010\n",
            "Epoch 11/30\n",
            "410/410 [==============================] - ETA: 0s - loss: 0.9384 - accuracy: 0.5384\n",
            "Epoch 11: val_accuracy did not improve from 0.55569\n",
            "410/410 [==============================] - 25s 62ms/step - loss: 0.9384 - accuracy: 0.5384 - val_loss: 0.9460 - val_accuracy: 0.5332 - lr: 0.0010\n",
            "Epoch 12/30\n",
            "410/410 [==============================] - ETA: 0s - loss: 0.9352 - accuracy: 0.5306\n",
            "Epoch 12: val_accuracy did not improve from 0.55569\n",
            "410/410 [==============================] - 25s 62ms/step - loss: 0.9352 - accuracy: 0.5306 - val_loss: 0.9555 - val_accuracy: 0.5557 - lr: 0.0010\n",
            "Epoch 13/30\n",
            "410/410 [==============================] - ETA: 0s - loss: 0.9366 - accuracy: 0.5341\n",
            "Epoch 13: val_accuracy did not improve from 0.55569\n",
            "410/410 [==============================] - 25s 62ms/step - loss: 0.9366 - accuracy: 0.5341 - val_loss: 0.9420 - val_accuracy: 0.5332 - lr: 0.0010\n",
            "Epoch 14/30\n",
            "410/410 [==============================] - ETA: 0s - loss: 0.9309 - accuracy: 0.5312\n",
            "Epoch 14: val_accuracy did not improve from 0.55569\n",
            "410/410 [==============================] - 27s 66ms/step - loss: 0.9309 - accuracy: 0.5312 - val_loss: 0.9328 - val_accuracy: 0.5502 - lr: 0.0010\n",
            "Epoch 15/30\n",
            "410/410 [==============================] - ETA: 0s - loss: 0.9303 - accuracy: 0.5317\n",
            "Epoch 15: val_accuracy improved from 0.55569 to 0.55995, saving model to v1_ag\n"
          ]
        },
        {
          "output_type": "stream",
          "name": "stderr",
          "text": [
            "WARNING:absl:Found untraced functions such as _jit_compiled_convolution_op, _jit_compiled_convolution_op, _jit_compiled_convolution_op while saving (showing 3 of 3). These functions will not be directly callable after loading.\n"
          ]
        },
        {
          "output_type": "stream",
          "name": "stdout",
          "text": [
            "\b\b\b\b\b\b\b\b\b\b\b\b\b\b\b\b\b\b\b\b\b\b\b\b\b\b\b\b\b\b\b\b\b\b\b\b\b\b\b\b\b\b\b\b\b\b\b\b\b\b\b\b\b\b\b\b\b\b\b\b\b\b\b\b\b\b\b\b\b\b\b\b\b\b\b\b\b\b\b\b\b\b\b\b\r410/410 [==============================] - 30s 74ms/step - loss: 0.9303 - accuracy: 0.5317 - val_loss: 0.9482 - val_accuracy: 0.5600 - lr: 0.0010\n",
            "Epoch 16/30\n",
            "410/410 [==============================] - ETA: 0s - loss: 0.9280 - accuracy: 0.5367\n",
            "Epoch 16: val_accuracy did not improve from 0.55995\n",
            "410/410 [==============================] - 26s 63ms/step - loss: 0.9280 - accuracy: 0.5367 - val_loss: 0.9349 - val_accuracy: 0.5533 - lr: 0.0010\n",
            "Epoch 17/30\n",
            "410/410 [==============================] - ETA: 0s - loss: 0.9290 - accuracy: 0.5355\n",
            "Epoch 17: val_accuracy did not improve from 0.55995\n",
            "410/410 [==============================] - 26s 65ms/step - loss: 0.9290 - accuracy: 0.5355 - val_loss: 0.9310 - val_accuracy: 0.5386 - lr: 0.0010\n",
            "Epoch 18/30\n",
            "410/410 [==============================] - ETA: 0s - loss: 0.9265 - accuracy: 0.5428\n",
            "Epoch 18: val_accuracy did not improve from 0.55995\n",
            "410/410 [==============================] - 26s 63ms/step - loss: 0.9265 - accuracy: 0.5428 - val_loss: 0.9225 - val_accuracy: 0.5581 - lr: 0.0010\n",
            "Epoch 19/30\n",
            "410/410 [==============================] - ETA: 0s - loss: 0.9218 - accuracy: 0.5434\n",
            "Epoch 19: val_accuracy did not improve from 0.55995\n",
            "410/410 [==============================] - 25s 62ms/step - loss: 0.9218 - accuracy: 0.5434 - val_loss: 0.9266 - val_accuracy: 0.5472 - lr: 0.0010\n",
            "Epoch 20/30\n",
            "410/410 [==============================] - ETA: 0s - loss: 0.9220 - accuracy: 0.5382\n",
            "Epoch 20: val_accuracy did not improve from 0.55995\n",
            "410/410 [==============================] - 26s 63ms/step - loss: 0.9220 - accuracy: 0.5382 - val_loss: 0.9206 - val_accuracy: 0.5514 - lr: 0.0010\n",
            "Epoch 21/30\n",
            "410/410 [==============================] - ETA: 0s - loss: 0.9230 - accuracy: 0.5398\n",
            "Epoch 21: val_accuracy did not improve from 0.55995\n",
            "410/410 [==============================] - 27s 66ms/step - loss: 0.9230 - accuracy: 0.5398 - val_loss: 0.9296 - val_accuracy: 0.5539 - lr: 0.0010\n",
            "Epoch 22/30\n",
            "410/410 [==============================] - ETA: 0s - loss: 0.9176 - accuracy: 0.5375\n",
            "Epoch 22: val_accuracy did not improve from 0.55995\n",
            "410/410 [==============================] - 25s 62ms/step - loss: 0.9176 - accuracy: 0.5375 - val_loss: 0.9219 - val_accuracy: 0.5466 - lr: 0.0010\n",
            "Epoch 23/30\n",
            "410/410 [==============================] - ETA: 0s - loss: 0.9170 - accuracy: 0.5430\n",
            "Epoch 23: val_accuracy did not improve from 0.55995\n",
            "410/410 [==============================] - 26s 63ms/step - loss: 0.9170 - accuracy: 0.5430 - val_loss: 0.9206 - val_accuracy: 0.5600 - lr: 0.0010\n",
            "Epoch 24/30\n",
            "410/410 [==============================] - ETA: 0s - loss: 0.9162 - accuracy: 0.5420\n",
            "Epoch 24: val_accuracy improved from 0.55995 to 0.57091, saving model to v1_ag\n"
          ]
        },
        {
          "output_type": "stream",
          "name": "stderr",
          "text": [
            "WARNING:absl:Found untraced functions such as _jit_compiled_convolution_op, _jit_compiled_convolution_op, _jit_compiled_convolution_op while saving (showing 3 of 3). These functions will not be directly callable after loading.\n"
          ]
        },
        {
          "output_type": "stream",
          "name": "stdout",
          "text": [
            "\b\b\b\b\b\b\b\b\b\b\b\b\b\b\b\b\b\b\b\b\b\b\b\b\b\b\b\b\b\b\b\b\b\b\b\b\b\b\b\b\b\b\b\b\b\b\b\b\b\b\b\b\b\b\b\b\b\b\b\b\b\b\b\b\b\b\b\b\b\b\b\b\b\b\b\b\b\b\b\b\b\b\b\b\r410/410 [==============================] - 27s 66ms/step - loss: 0.9162 - accuracy: 0.5420 - val_loss: 0.9234 - val_accuracy: 0.5709 - lr: 0.0010\n",
            "Epoch 25/30\n",
            "410/410 [==============================] - ETA: 0s - loss: 0.9170 - accuracy: 0.5401\n",
            "Epoch 25: val_accuracy did not improve from 0.57091\n",
            "410/410 [==============================] - 27s 65ms/step - loss: 0.9170 - accuracy: 0.5401 - val_loss: 0.9227 - val_accuracy: 0.5551 - lr: 0.0010\n",
            "Epoch 26/30\n",
            "410/410 [==============================] - ETA: 0s - loss: 0.9156 - accuracy: 0.5439\n",
            "Epoch 26: val_accuracy did not improve from 0.57091\n",
            "410/410 [==============================] - 27s 65ms/step - loss: 0.9156 - accuracy: 0.5439 - val_loss: 0.9125 - val_accuracy: 0.5514 - lr: 0.0010\n",
            "Epoch 27/30\n",
            "410/410 [==============================] - ETA: 0s - loss: 0.9139 - accuracy: 0.5440\n",
            "Epoch 27: val_accuracy did not improve from 0.57091\n",
            "410/410 [==============================] - 27s 66ms/step - loss: 0.9139 - accuracy: 0.5440 - val_loss: 0.9133 - val_accuracy: 0.5533 - lr: 0.0010\n",
            "Epoch 28/30\n",
            "410/410 [==============================] - ETA: 0s - loss: 0.9089 - accuracy: 0.5466\n",
            "Epoch 28: val_accuracy did not improve from 0.57091\n",
            "410/410 [==============================] - 26s 62ms/step - loss: 0.9089 - accuracy: 0.5466 - val_loss: 0.9189 - val_accuracy: 0.5472 - lr: 0.0010\n",
            "Epoch 29/30\n",
            "410/410 [==============================] - ETA: 0s - loss: 0.9131 - accuracy: 0.5465\n",
            "Epoch 29: val_accuracy did not improve from 0.57091\n",
            "410/410 [==============================] - 33s 80ms/step - loss: 0.9131 - accuracy: 0.5465 - val_loss: 0.9193 - val_accuracy: 0.5441 - lr: 0.0010\n",
            "Epoch 30/30\n",
            "410/410 [==============================] - ETA: 0s - loss: 0.9127 - accuracy: 0.5442\n",
            "Epoch 30: val_accuracy did not improve from 0.57091\n",
            "410/410 [==============================] - 25s 62ms/step - loss: 0.9127 - accuracy: 0.5442 - val_loss: 0.9119 - val_accuracy: 0.5526 - lr: 0.0010\n"
          ]
        }
      ],
      "source": [
        "general = cnn.fit(train_gen, validation_data= valid_gen, epochs= 30, verbose=1,  steps_per_epoch = TRAIN_STEPS, callbacks= [reduceLR, early_stopping, checkpoint_ag]) #피팅\n",
        "cnn.save('my_imggenmodel2.h5') #모델 세이브"
      ]
    },
    {
      "cell_type": "code",
      "source": [
        "cnn = keras.models.load_model('my_imggenmodel5.h5')\n",
        "cnn.compile(\n",
        "    'adam',\n",
        "  loss='categorical_crossentropy',\n",
        "  metrics=['accuracy'],\n",
        ")"
      ],
      "metadata": {
        "id": "6o6WDuh9hH2D"
      },
      "execution_count": null,
      "outputs": []
    },
    {
      "cell_type": "code",
      "source": [
        "general = cnn.fit(train_gen, validation_data= valid_gen, epochs= 20, verbose=1,  steps_per_epoch = TRAIN_STEPS, callbacks= [reduceLR, checkpoint_ag]) #피팅\n",
        "cnn.save('my_imggenmodel6.h5') "
      ],
      "metadata": {
        "colab": {
          "base_uri": "https://localhost:8080/"
        },
        "id": "jxofKhF3hvVz",
        "outputId": "1fdac1a4-41e0-4d09-8283-b362c12c505e"
      },
      "execution_count": null,
      "outputs": [
        {
          "output_type": "stream",
          "name": "stdout",
          "text": [
            "Epoch 1/20\n",
            "410/410 [==============================] - ETA: 0s - loss: 0.8844 - accuracy: 0.5654\n",
            "Epoch 1: val_accuracy did not improve from 0.59586\n",
            "410/410 [==============================] - 26s 63ms/step - loss: 0.8844 - accuracy: 0.5654 - val_loss: 0.8887 - val_accuracy: 0.5636 - lr: 0.0010\n",
            "Epoch 2/20\n",
            "410/410 [==============================] - ETA: 0s - loss: 0.8693 - accuracy: 0.5686\n",
            "Epoch 2: val_accuracy did not improve from 0.59586\n",
            "410/410 [==============================] - 26s 63ms/step - loss: 0.8693 - accuracy: 0.5686 - val_loss: 0.8667 - val_accuracy: 0.5806 - lr: 0.0010\n",
            "Epoch 3/20\n",
            "410/410 [==============================] - ETA: 0s - loss: 0.8773 - accuracy: 0.5611\n",
            "Epoch 3: val_accuracy did not improve from 0.59586\n",
            "410/410 [==============================] - 25s 62ms/step - loss: 0.8773 - accuracy: 0.5611 - val_loss: 0.8673 - val_accuracy: 0.5934 - lr: 0.0010\n",
            "Epoch 4/20\n",
            "410/410 [==============================] - ETA: 0s - loss: 0.8611 - accuracy: 0.5707\n",
            "Epoch 4: val_accuracy did not improve from 0.59586\n",
            "410/410 [==============================] - 26s 63ms/step - loss: 0.8611 - accuracy: 0.5707 - val_loss: 0.8698 - val_accuracy: 0.5630 - lr: 0.0010\n",
            "Epoch 5/20\n",
            "410/410 [==============================] - ETA: 0s - loss: 0.8688 - accuracy: 0.5665\n",
            "Epoch 5: val_accuracy did not improve from 0.59586\n",
            "410/410 [==============================] - 26s 63ms/step - loss: 0.8688 - accuracy: 0.5665 - val_loss: 0.8585 - val_accuracy: 0.5873 - lr: 0.0010\n",
            "Epoch 6/20\n",
            "410/410 [==============================] - ETA: 0s - loss: 0.8645 - accuracy: 0.5774\n",
            "Epoch 6: val_accuracy did not improve from 0.59586\n",
            "410/410 [==============================] - 26s 62ms/step - loss: 0.8645 - accuracy: 0.5774 - val_loss: 0.8547 - val_accuracy: 0.5928 - lr: 0.0010\n",
            "Epoch 7/20\n",
            "410/410 [==============================] - ETA: 0s - loss: 0.8679 - accuracy: 0.5713\n",
            "Epoch 7: val_accuracy did not improve from 0.59586\n",
            "410/410 [==============================] - 27s 66ms/step - loss: 0.8679 - accuracy: 0.5713 - val_loss: 0.8544 - val_accuracy: 0.5892 - lr: 0.0010\n",
            "Epoch 8/20\n",
            "410/410 [==============================] - ETA: 0s - loss: 0.8689 - accuracy: 0.5691\n",
            "Epoch 8: val_accuracy did not improve from 0.59586\n",
            "410/410 [==============================] - 26s 62ms/step - loss: 0.8689 - accuracy: 0.5691 - val_loss: 0.8748 - val_accuracy: 0.5910 - lr: 0.0010\n",
            "Epoch 9/20\n",
            "410/410 [==============================] - ETA: 0s - loss: 0.8632 - accuracy: 0.5782\n",
            "Epoch 9: val_accuracy improved from 0.59586 to 0.59708, saving model to v1_ag\n"
          ]
        },
        {
          "output_type": "stream",
          "name": "stderr",
          "text": [
            "WARNING:absl:Found untraced functions such as _jit_compiled_convolution_op, _jit_compiled_convolution_op, _jit_compiled_convolution_op while saving (showing 3 of 3). These functions will not be directly callable after loading.\n"
          ]
        },
        {
          "output_type": "stream",
          "name": "stdout",
          "text": [
            "\b\b\b\b\b\b\b\b\b\b\b\b\b\b\b\b\b\b\b\b\b\b\b\b\b\b\b\b\b\b\b\b\b\b\b\b\b\b\b\b\b\b\b\b\b\b\b\b\b\b\b\b\b\b\b\b\b\b\b\b\b\b\b\b\b\b\b\b\b\b\b\b\b\b\b\b\b\b\b\b\b\b\b\b\r410/410 [==============================] - 27s 66ms/step - loss: 0.8632 - accuracy: 0.5782 - val_loss: 0.8546 - val_accuracy: 0.5971 - lr: 0.0010\n",
            "Epoch 10/20\n",
            "410/410 [==============================] - ETA: 0s - loss: 0.8574 - accuracy: 0.5768\n",
            "Epoch 10: val_accuracy did not improve from 0.59708\n",
            "410/410 [==============================] - 25s 62ms/step - loss: 0.8574 - accuracy: 0.5768 - val_loss: 0.8808 - val_accuracy: 0.5892 - lr: 0.0010\n",
            "Epoch 11/20\n",
            "410/410 [==============================] - ETA: 0s - loss: 0.8585 - accuracy: 0.5771\n",
            "Epoch 11: val_accuracy did not improve from 0.59708\n",
            "410/410 [==============================] - 26s 63ms/step - loss: 0.8585 - accuracy: 0.5771 - val_loss: 0.8578 - val_accuracy: 0.5922 - lr: 0.0010\n",
            "Epoch 12/20\n",
            "410/410 [==============================] - ETA: 0s - loss: 0.8605 - accuracy: 0.5715\n",
            "Epoch 12: val_accuracy did not improve from 0.59708\n",
            "410/410 [==============================] - 25s 62ms/step - loss: 0.8605 - accuracy: 0.5715 - val_loss: 0.8572 - val_accuracy: 0.5879 - lr: 0.0010\n",
            "Epoch 13/20\n",
            "410/410 [==============================] - ETA: 0s - loss: 0.8624 - accuracy: 0.5715\n",
            "Epoch 13: val_accuracy did not improve from 0.59708\n",
            "410/410 [==============================] - 25s 62ms/step - loss: 0.8624 - accuracy: 0.5715 - val_loss: 0.8953 - val_accuracy: 0.5709 - lr: 0.0010\n",
            "Epoch 14/20\n",
            "410/410 [==============================] - ETA: 0s - loss: 0.8557 - accuracy: 0.5721\n",
            "Epoch 14: val_accuracy did not improve from 0.59708\n",
            "410/410 [==============================] - 27s 65ms/step - loss: 0.8557 - accuracy: 0.5721 - val_loss: 0.8682 - val_accuracy: 0.5813 - lr: 0.0010\n",
            "Epoch 15/20\n",
            "410/410 [==============================] - ETA: 0s - loss: 0.8530 - accuracy: 0.5881\n",
            "Epoch 15: val_accuracy did not improve from 0.59708\n",
            "410/410 [==============================] - 25s 62ms/step - loss: 0.8530 - accuracy: 0.5881 - val_loss: 0.8789 - val_accuracy: 0.5910 - lr: 0.0010\n",
            "Epoch 16/20\n",
            "410/410 [==============================] - ETA: 0s - loss: 0.8517 - accuracy: 0.5794\n",
            "Epoch 16: val_accuracy improved from 0.59708 to 0.59769, saving model to v1_ag\n"
          ]
        },
        {
          "output_type": "stream",
          "name": "stderr",
          "text": [
            "WARNING:absl:Found untraced functions such as _jit_compiled_convolution_op, _jit_compiled_convolution_op, _jit_compiled_convolution_op while saving (showing 3 of 3). These functions will not be directly callable after loading.\n"
          ]
        },
        {
          "output_type": "stream",
          "name": "stdout",
          "text": [
            "\b\b\b\b\b\b\b\b\b\b\b\b\b\b\b\b\b\b\b\b\b\b\b\b\b\b\b\b\b\b\b\b\b\b\b\b\b\b\b\b\b\b\b\b\b\b\b\b\b\b\b\b\b\b\b\b\b\b\b\b\b\b\b\b\b\b\b\b\b\b\b\b\b\b\b\b\b\b\b\b\b\b\b\b\r410/410 [==============================] - 27s 65ms/step - loss: 0.8517 - accuracy: 0.5794 - val_loss: 0.8436 - val_accuracy: 0.5977 - lr: 0.0010\n",
            "Epoch 17/20\n",
            "410/410 [==============================] - ETA: 0s - loss: 0.8542 - accuracy: 0.5808\n",
            "Epoch 17: val_accuracy improved from 0.59769 to 0.59890, saving model to v1_ag\n"
          ]
        },
        {
          "output_type": "stream",
          "name": "stderr",
          "text": [
            "WARNING:absl:Found untraced functions such as _jit_compiled_convolution_op, _jit_compiled_convolution_op, _jit_compiled_convolution_op while saving (showing 3 of 3). These functions will not be directly callable after loading.\n"
          ]
        },
        {
          "output_type": "stream",
          "name": "stdout",
          "text": [
            "\b\b\b\b\b\b\b\b\b\b\b\b\b\b\b\b\b\b\b\b\b\b\b\b\b\b\b\b\b\b\b\b\b\b\b\b\b\b\b\b\b\b\b\b\b\b\b\b\b\b\b\b\b\b\b\b\b\b\b\b\b\b\b\b\b\b\b\b\b\b\b\b\b\b\b\b\b\b\b\b\b\b\b\b\r410/410 [==============================] - 27s 65ms/step - loss: 0.8542 - accuracy: 0.5808 - val_loss: 0.8565 - val_accuracy: 0.5989 - lr: 0.0010\n",
            "Epoch 18/20\n",
            "410/410 [==============================] - ETA: 0s - loss: 0.8545 - accuracy: 0.5825\n",
            "Epoch 18: val_accuracy did not improve from 0.59890\n",
            "410/410 [==============================] - 26s 62ms/step - loss: 0.8545 - accuracy: 0.5825 - val_loss: 0.8647 - val_accuracy: 0.5813 - lr: 0.0010\n",
            "Epoch 19/20\n",
            "410/410 [==============================] - ETA: 0s - loss: 0.8416 - accuracy: 0.5919\n",
            "Epoch 19: val_accuracy did not improve from 0.59890\n",
            "410/410 [==============================] - 25s 62ms/step - loss: 0.8416 - accuracy: 0.5919 - val_loss: 0.8646 - val_accuracy: 0.5788 - lr: 0.0010\n",
            "Epoch 20/20\n",
            "410/410 [==============================] - ETA: 0s - loss: 0.8556 - accuracy: 0.5756\n",
            "Epoch 20: val_accuracy did not improve from 0.59890\n",
            "410/410 [==============================] - 27s 65ms/step - loss: 0.8556 - accuracy: 0.5756 - val_loss: 0.8501 - val_accuracy: 0.5934 - lr: 0.0010\n"
          ]
        }
      ]
    },
    {
      "cell_type": "code",
      "source": [
        "with open('history.pkl', 'rb') as f:\n",
        "\tdf = pickle.load(f)"
      ],
      "metadata": {
        "id": "NYjGn_sNrcYm"
      },
      "execution_count": null,
      "outputs": []
    },
    {
      "cell_type": "code",
      "source": [
        " for i in range(len(general.history['loss'])):\n",
        "    df['loss'].append(general.history['loss'][i])\n",
        "    df['accuracy'].append(general.history['accuracy'][i])\n",
        "    df['val_loss'].append(general.history['val_loss'][i])\n",
        "    df['val_accuracy'].append(general.history['val_accuracy'][i])"
      ],
      "metadata": {
        "id": "UILhupPErHFS"
      },
      "execution_count": null,
      "outputs": []
    },
    {
      "cell_type": "code",
      "source": [
        "plt.figure(figsize=(15, 5))\n",
        "\n",
        "plt.subplot(1, 2, 1)\n",
        "plt.plot(df['accuracy'], label='acc')\n",
        "plt.plot(df['val_accuracy'], label='val_acc')\n",
        "plt.legend(loc='lower right')\n",
        "plt.title('Accuracy comparison')\n",
        "\n",
        "plt.subplot(1, 2, 2)\n",
        "plt.plot(df['loss'], label='loss')\n",
        "plt.plot(df['val_loss'], label='val_loss')\n",
        "plt.legend(loc='upper right')\n",
        "plt.title('Loss comparison')\n",
        "\n",
        "plt.show()"
      ],
      "metadata": {
        "colab": {
          "base_uri": "https://localhost:8080/",
          "height": 336
        },
        "id": "Gso9LgJhnNZ1",
        "outputId": "356628b0-6b65-45cd-8f32-2bba06c87765"
      },
      "execution_count": null,
      "outputs": [
        {
          "output_type": "display_data",
          "data": {
            "text/plain": [
              "<Figure size 1080x360 with 2 Axes>"
            ],
            "image/png": "[encoded data removed]"
          },
          "metadata": {
            "needs_background": "light"
          }
        }
      ]
    },
    {
      "cell_type": "code",
      "source": [
        "import pickle\n",
        "\n",
        "with open('history.pkl', 'wb') as f:\n",
        "\tpickle.dump(df, f, protocol=pickle.HIGHEST_PROTOCOL)"
      ],
      "metadata": {
        "id": "jzSP_poWodKU"
      },
      "execution_count": null,
      "outputs": []
    },
    {
      "cell_type": "code",
      "source": [
        "with open('history.pkl', 'rb') as f:\n",
        "\tdf = pickle.load(f)"
      ],
      "metadata": {
        "id": "LVhSKLXKrx5Y"
      },
      "execution_count": null,
      "outputs": []
    },
    {
      "cell_type": "code",
      "source": [
        "cnn = keras.models.load_model('my_imggenmodel6.h5')"
      ],
      "metadata": {
        "id": "mg-jh8fEzlVH"
      },
      "execution_count": 7,
      "outputs": []
    },
    {
      "cell_type": "code",
      "source": [
        "y_pred_enc = cnn.predict(x_valid)          # one-hot encoding된 label 예측값\n",
        "y_pred = [np.argmax(i) for i in y_pred_enc] # label 예측값\n",
        "matrix = confusion_matrix(y_valid, y_pred)\n",
        "item = {\n",
        "      0: 'Type 1'\n",
        "    , 1: 'Type 2'\n",
        "    , 2: 'Type 3'\n",
        "}\n",
        "df = pd.DataFrame(matrix)\n",
        "df.columns = item.values()\n",
        "df.index = item.values()\n",
        "        \n",
        "df"
      ],
      "metadata": {
        "colab": {
          "base_uri": "https://localhost:8080/",
          "height": 143
        },
        "id": "58zFEWeTz1lG",
        "outputId": "d5672fe5-c711-40fd-f01c-e00289653e14"
      },
      "execution_count": 18,
      "outputs": [
        {
          "output_type": "execute_result",
          "data": {
            "text/plain": [
              "        Type 1  Type 2  Type 3\n",
              "Type 1      51     211      26\n",
              "Type 2      19     729     122\n",
              "Type 3       5     285     195"
            ],
            "text/html": [
              "\n",
              "  <div id=\"df-28fd66f9-84a0-4fcf-b9e4-8cd3980a9519\">\n",
              "    <div class=\"colab-df-container\">\n",
              "      <div>\n",
              "<style scoped>\n",
              "    .dataframe tbody tr th:only-of-type {\n",
              "        vertical-align: middle;\n",
              "    }\n",
              "\n",
              "    .dataframe tbody tr th {\n",
              "        vertical-align: top;\n",
              "    }\n",
              "\n",
              "    .dataframe thead th {\n",
              "        text-align: right;\n",
              "    }\n",
              "</style>\n",
              "<table border=\"1\" class=\"dataframe\">\n",
              "  <thead>\n",
              "    <tr style=\"text-align: right;\">\n",
              "      <th></th>\n",
              "      <th>Type 1</th>\n",
              "      <th>Type 2</th>\n",
              "      <th>Type 3</th>\n",
              "    </tr>\n",
              "  </thead>\n",
              "  <tbody>\n",
              "    <tr>\n",
              "      <th>Type 1</th>\n",
              "      <td>51</td>\n",
              "      <td>211</td>\n",
              "      <td>26</td>\n",
              "    </tr>\n",
              "    <tr>\n",
              "      <th>Type 2</th>\n",
              "      <td>19</td>\n",
              "      <td>729</td>\n",
              "      <td>122</td>\n",
              "    </tr>\n",
              "    <tr>\n",
              "      <th>Type 3</th>\n",
              "      <td>5</td>\n",
              "      <td>285</td>\n",
              "      <td>195</td>\n",
              "    </tr>\n",
              "  </tbody>\n",
              "</table>\n",
              "</div>\n",
              "      <button class=\"colab-df-convert\" onclick=\"convertToInteractive('df-28fd66f9-84a0-4fcf-b9e4-8cd3980a9519')\"\n",
              "              title=\"Convert this dataframe to an interactive table.\"\n",
              "              style=\"display:none;\">\n",
              "        \n",
              "  <svg xmlns=\"http://www.w3.org/2000/svg\" height=\"24px\"viewBox=\"0 0 24 24\"\n",
              "       width=\"24px\">\n",
              "    <path d=\"M0 0h24v24H0V0z\" fill=\"none\"/>\n",
              "    <path d=\"M18.56 5.44l.94 2.06.94-2.06 2.06-.94-2.06-.94-.94-2.06-.94 2.06-2.06.94zm-11 1L8.5 8.5l.94-2.06 2.06-.94-2.06-.94L8.5 2.5l-.94 2.06-2.06.94zm10 10l.94 2.06.94-2.06 2.06-.94-2.06-.94-.94-2.06-.94 2.06-2.06.94z\"/><path d=\"M17.41 7.96l-1.37-1.37c-.4-.4-.92-.59-1.43-.59-.52 0-1.04.2-1.43.59L10.3 9.45l-7.72 7.72c-.78.78-.78 2.05 0 2.83L4 21.41c.39.39.9.59 1.41.59.51 0 1.02-.2 1.41-.59l7.78-7.78 2.81-2.81c.8-.78.8-2.07 0-2.86zM5.41 20L4 18.59l7.72-7.72 1.47 1.35L5.41 20z\"/>\n",
              "  </svg>\n",
              "      </button>\n",
              "      \n",
              "  <style>\n",
              "    .colab-df-container {\n",
              "      display:flex;\n",
              "      flex-wrap:wrap;\n",
              "      gap: 12px;\n",
              "    }\n",
              "\n",
              "    .colab-df-convert {\n",
              "      background-color: #E8F0FE;\n",
              "      border: none;\n",
              "      border-radius: 50%;\n",
              "      cursor: pointer;\n",
              "      display: none;\n",
              "      fill: #1967D2;\n",
              "      height: 32px;\n",
              "      padding: 0 0 0 0;\n",
              "      width: 32px;\n",
              "    }\n",
              "\n",
              "    .colab-df-convert:hover {\n",
              "      background-color: #E2EBFA;\n",
              "      box-shadow: 0px 1px 2px rgba(60, 64, 67, 0.3), 0px 1px 3px 1px rgba(60, 64, 67, 0.15);\n",
              "      fill: #174EA6;\n",
              "    }\n",
              "\n",
              "    [theme=dark] .colab-df-convert {\n",
              "      background-color: #3B4455;\n",
              "      fill: #D2E3FC;\n",
              "    }\n",
              "\n",
              "    [theme=dark] .colab-df-convert:hover {\n",
              "      background-color: #434B5C;\n",
              "      box-shadow: 0px 1px 3px 1px rgba(0, 0, 0, 0.15);\n",
              "      filter: drop-shadow(0px 1px 2px rgba(0, 0, 0, 0.3));\n",
              "      fill: #FFFFFF;\n",
              "    }\n",
              "  </style>\n",
              "\n",
              "      <script>\n",
              "        const buttonEl =\n",
              "          document.querySelector('#df-28fd66f9-84a0-4fcf-b9e4-8cd3980a9519 button.colab-df-convert');\n",
              "        buttonEl.style.display =\n",
              "          google.colab.kernel.accessAllowed ? 'block' : 'none';\n",
              "\n",
              "        async function convertToInteractive(key) {\n",
              "          const element = document.querySelector('#df-28fd66f9-84a0-4fcf-b9e4-8cd3980a9519');\n",
              "          const dataTable =\n",
              "            await google.colab.kernel.invokeFunction('convertToInteractive',\n",
              "                                                     [key], {});\n",
              "          if (!dataTable) return;\n",
              "\n",
              "          const docLinkHtml = 'Like what you see? Visit the ' +\n",
              "            '<a target=\"_blank\" href=https://colab.research.google.com/notebooks/data_table.ipynb>data table notebook</a>'\n",
              "            + ' to learn more about interactive tables.';\n",
              "          element.innerHTML = '';\n",
              "          dataTable['output_type'] = 'display_data';\n",
              "          await google.colab.output.renderOutput(dataTable, element);\n",
              "          const docLink = document.createElement('div');\n",
              "          docLink.innerHTML = docLinkHtml;\n",
              "          element.appendChild(docLink);\n",
              "        }\n",
              "      </script>\n",
              "    </div>\n",
              "  </div>\n",
              "  "
            ]
          },
          "metadata": {},
          "execution_count": 18
        }
      ]
    }
  ],
  "metadata": {
    "accelerator": "GPU",
    "colab": {
      "provenance": [],
      "include_colab_link": true
    },
    "gpuClass": "standard",
    "kernelspec": {
      "display_name": "Python 3",
      "language": "python",
      "name": "python3"
    },
    "language_info": {
      "codemirror_mode": {
        "name": "ipython",
        "version": 3
      },
      "file_extension": ".py",
      "mimetype": "text/x-python",
      "name": "python",
      "nbconvert_exporter": "python",
      "pygments_lexer": "ipython3",
      "version": "3.7.12"
    }
  },
  "nbformat": 4,
  "nbformat_minor": 0
}