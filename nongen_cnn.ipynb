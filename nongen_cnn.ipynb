{
  "cells": [
    {
      "cell_type": "markdown",
      "metadata": {
        "id": "view-in-github",
        "colab_type": "text"
      },
      "source": [
        "<a href=\"https://colab.research.google.com/github/thdefn/jango/blob/master/nongen_cnn.ipynb\" target=\"_parent\"><img src=\"https://colab.research.google.com/assets/colab-badge.svg\" alt=\"Open In Colab\"/></a>"
      ]
    },
    {
      "cell_type": "code",
      "execution_count": 16,
      "metadata": {
        "id": "fC4B0-yNd_Jm"
      },
      "outputs": [],
      "source": [
        "import numpy as np\n",
        "import pandas as pd\n",
        "\n",
        "from tensorflow import keras\n",
        "\n",
        "from tensorflow.keras import Model\n",
        "from tensorflow.keras.models import Sequential\n",
        "from tensorflow.keras.layers import Activation, Conv2D, MaxPooling2D, Dense, Flatten\n",
        "from tensorflow.keras.layers import Dropout, BatchNormalization \n",
        "from tensorflow.keras.utils import to_categorical"
      ]
    },
    {
      "cell_type": "code",
      "execution_count": 17,
      "metadata": {
        "id": "izuGazUfd_Jp"
      },
      "outputs": [],
      "source": [
        "from tensorflow.keras.applications.vgg19 import VGG19\n",
        "from tensorflow.keras.callbacks import ModelCheckpoint\n",
        "\n",
        "import matplotlib.pyplot as plt\n",
        "\n",
        "import seaborn as sns\n",
        "import os\n",
        "import glob\n",
        "import plotly.graph_objects as go\n",
        "import cv2\n",
        "from PIL import Image\n",
        "from PIL import ImageFile\n",
        "from sklearn.model_selection import train_test_split\n",
        "from sklearn.preprocessing import LabelEncoder\n",
        "from tensorflow.keras.preprocessing.image import ImageDataGenerator\n",
        "from tensorflow.keras.optimizers import RMSprop\n",
        "from tensorflow.keras.callbacks import EarlyStopping, ReduceLROnPlateau,ModelCheckpoint \n",
        "from sklearn.metrics import accuracy_score, confusion_matrix, classification_report\n",
        "import warnings\n",
        "warnings.filterwarnings(\"ignore\")\n",
        "ImageFile.LOAD_TRUNCATED_IMAGES = True\n",
        "\n",
        "from tqdm import tqdm"
      ]
    },
    {
      "cell_type": "code",
      "execution_count": 18,
      "metadata": {
        "colab": {
          "base_uri": "https://localhost:8080/"
        },
        "id": "eIuSMXTRTwha",
        "outputId": "15ad6efe-d9e8-447a-e31e-c762d66b0236"
      },
      "outputs": [
        {
          "output_type": "stream",
          "name": "stdout",
          "text": [
            "Drive already mounted at /content/gdrive; to attempt to forcibly remount, call drive.mount(\"/content/gdrive\", force_remount=True).\n"
          ]
        }
      ],
      "source": [
        "import os\n",
        "from google.colab import drive\n",
        "drive.mount('/content/gdrive')"
      ]
    },
    {
      "cell_type": "code",
      "execution_count": 19,
      "metadata": {
        "colab": {
          "base_uri": "https://localhost:8080/"
        },
        "id": "oQBa1eWmTyTl",
        "outputId": "f7772614-6b82-41b3-d6fa-dea6f820da26"
      },
      "outputs": [
        {
          "output_type": "stream",
          "name": "stdout",
          "text": [
            "/content/gdrive/My Drive/data/.kaggle\n"
          ]
        }
      ],
      "source": [
        "cd /content/gdrive/My Drive/data/.kaggle"
      ]
    },
    {
      "cell_type": "code",
      "source": [
        "X_valid = np.load('./X_valid_128.npy',allow_pickle=True)\n",
        "y_valid = np.load('./y_valid_128.npy',allow_pickle=True)\n",
        "X_train = np.load('./X_train_128.npy',allow_pickle=True)\n",
        "y_train = np.load('./y_train_128.npy',allow_pickle=True)"
      ],
      "metadata": {
        "id": "Wm8DLLCfVOeh"
      },
      "execution_count": 20,
      "outputs": []
    },
    {
      "cell_type": "code",
      "source": [
        "X_train = X_train/255\n",
        "X_valid = X_valid/255\n",
        "\n",
        "le = LabelEncoder().fit(['Type 1', 'Type 2', 'Type 3'])\n",
        "y_train = le.transform(y_train)\n",
        "y_valid = le.transform(y_valid)\n",
        "\n",
        "y_train_onehot = to_categorical(y_train, num_classes=3)\n",
        "y_valid_onehot = to_categorical(y_valid, num_classes=3)\n"
      ],
      "metadata": {
        "id": "Aiu1fFzmYPed"
      },
      "execution_count": 21,
      "outputs": []
    },
    {
      "cell_type": "code",
      "source": [
        "reduceLR = ReduceLROnPlateau(monitor='val_accuracy', patience=10, verbose= 1, mode='max', factor=  0.2, min_lr = 1e-5)\n",
        "\n",
        "early_stopping = EarlyStopping(monitor='val_accuracy', patience = 20, verbose=1, mode='max', restore_best_weights= True)\n",
        "\n",
        "checkpoint_ag = ModelCheckpoint('v1_ag', monitor='val_accuracy', verbose=1,save_best_only=True, mode= 'max')"
      ],
      "metadata": {
        "id": "zdO9a9D6TsTx"
      },
      "execution_count": 22,
      "outputs": []
    },
    {
      "cell_type": "code",
      "source": [
        "BATCH_SIZE = 16\n",
        "TRAIN_STEPS = len(X_train)//BATCH_SIZE\n",
        "VAL_STEPS = len(X_valid)//BATCH_SIZE"
      ],
      "metadata": {
        "id": "fmYp6qxPX4hP"
      },
      "execution_count": 23,
      "outputs": []
    },
    {
      "cell_type": "code",
      "execution_count": 24,
      "metadata": {
        "id": "Yq3yHh39Tpra"
      },
      "outputs": [],
      "source": [
        "'''train_gen = ImageDataGenerator(\n",
        "                     rotation_range=20,\n",
        "                     width_shift_range=0.1,\n",
        "                     height_shift_range=0.1,\n",
        "                     zoom_range=0.1,\n",
        "                     vertical_flip=True,\n",
        "                     horizontal_flip=True,\n",
        "                     fill_mode='nearest').flow(X_train, y_train_onehot, batch_size = BATCH_SIZE)'''\n",
        "valid_gen = ImageDataGenerator().flow(X_valid, y_valid_onehot, batch_size = BATCH_SIZE)\n",
        "\n",
        "\n",
        "train_gen = ImageDataGenerator().flow(X_train, y_train_onehot, batch_size = BATCH_SIZE)"
      ]
    },
    {
      "cell_type": "code",
      "execution_count": 25,
      "metadata": {
        "colab": {
          "base_uri": "https://localhost:8080/"
        },
        "id": "vRQ24mhkd_Jt",
        "outputId": "bd15a3bf-be4c-4402-e31b-7564f975137c"
      },
      "outputs": [
        {
          "output_type": "stream",
          "name": "stdout",
          "text": [
            "Model: \"sequential_1\"\n",
            "_________________________________________________________________\n",
            " Layer (type)                Output Shape              Param #   \n",
            "=================================================================\n",
            " conv2d_3 (Conv2D)           (None, 128, 128, 64)      1792      \n",
            "                                                                 \n",
            " activation_4 (Activation)   (None, 128, 128, 64)      0         \n",
            "                                                                 \n",
            " max_pooling2d_3 (MaxPooling  (None, 64, 64, 64)       0         \n",
            " 2D)                                                             \n",
            "                                                                 \n",
            " conv2d_4 (Conv2D)           (None, 64, 64, 32)        18464     \n",
            "                                                                 \n",
            " activation_5 (Activation)   (None, 64, 64, 32)        0         \n",
            "                                                                 \n",
            " max_pooling2d_4 (MaxPooling  (None, 32, 32, 32)       0         \n",
            " 2D)                                                             \n",
            "                                                                 \n",
            " conv2d_5 (Conv2D)           (None, 32, 32, 64)        18496     \n",
            "                                                                 \n",
            " activation_6 (Activation)   (None, 32, 32, 64)        0         \n",
            "                                                                 \n",
            " max_pooling2d_5 (MaxPooling  (None, 16, 16, 64)       0         \n",
            " 2D)                                                             \n",
            "                                                                 \n",
            " flatten_1 (Flatten)         (None, 16384)             0         \n",
            "                                                                 \n",
            " dense_2 (Dense)             (None, 64)                1048640   \n",
            "                                                                 \n",
            " activation_7 (Activation)   (None, 64)                0         \n",
            "                                                                 \n",
            " dropout_1 (Dropout)         (None, 64)                0         \n",
            "                                                                 \n",
            " dense_3 (Dense)             (None, 3)                 195       \n",
            "                                                                 \n",
            "=================================================================\n",
            "Total params: 1,087,587\n",
            "Trainable params: 1,087,587\n",
            "Non-trainable params: 0\n",
            "_________________________________________________________________\n"
          ]
        }
      ],
      "source": [
        "cnn = Sequential([\n",
        "    Conv2D(64, kernel_size = (3,3), padding='same', kernel_initializer='random_normal', input_shape=(128,128,3)),\n",
        "    Activation('relu'),\n",
        "    MaxPooling2D(pool_size=(2,2)),\n",
        "    \n",
        "    Conv2D(32, kernel_size = (3,3), padding='same', kernel_initializer='random_normal'),\n",
        "    Activation('relu'),\n",
        "    MaxPooling2D(pool_size=(2,2)),\n",
        "    \n",
        "    Conv2D(64, kernel_size = (3,3), padding='same', kernel_initializer='random_normal'),\n",
        "    Activation('relu'),\n",
        "    MaxPooling2D(pool_size=(2,2)),\n",
        "\n",
        "    Flatten(),\n",
        "    Dense(64, kernel_initializer='random_normal'),\n",
        "    Activation('relu'),\n",
        "    Dropout(0.5),\n",
        "    Dense(3, activation='softmax')\n",
        "    \n",
        "])\n",
        "\n",
        "cnn.summary()"
      ]
    },
    {
      "cell_type": "markdown",
      "source": [
        "\n",
        "\n",
        "### 모델 세이빙"
      ],
      "metadata": {
        "id": "dAnA268ZScGA"
      }
    },
    {
      "cell_type": "code",
      "execution_count": 26,
      "metadata": {
        "id": "qpnTVEITUEgl"
      },
      "outputs": [],
      "source": [
        "cnn.compile(\n",
        "    'adam',\n",
        "  loss='categorical_crossentropy',\n",
        "  metrics=['accuracy'],\n",
        ")"
      ]
    },
    {
      "cell_type": "code",
      "execution_count": 27,
      "metadata": {
        "colab": {
          "base_uri": "https://localhost:8080/"
        },
        "id": "Z2DuIapMd_Ju",
        "outputId": "0715edd0-5fd0-422e-c618-e290effa9c72"
      },
      "outputs": [
        {
          "output_type": "stream",
          "name": "stdout",
          "text": [
            "Epoch 1/30\n",
            "410/410 [==============================] - ETA: 0s - loss: 1.0157 - accuracy: 0.5187\n",
            "Epoch 1: val_accuracy improved from -inf to 0.52952, saving model to v1_ag\n"
          ]
        },
        {
          "output_type": "stream",
          "name": "stderr",
          "text": [
            "WARNING:absl:Found untraced functions such as _jit_compiled_convolution_op, _jit_compiled_convolution_op, _jit_compiled_convolution_op while saving (showing 3 of 3). These functions will not be directly callable after loading.\n"
          ]
        },
        {
          "output_type": "stream",
          "name": "stdout",
          "text": [
            "\b\b\b\b\b\b\b\b\b\b\b\b\b\b\b\b\b\b\b\b\b\b\b\b\b\b\b\b\b\b\b\b\b\b\b\b\b\b\b\b\b\b\b\b\b\b\b\b\b\b\b\b\b\b\b\b\b\b\b\b\b\b\b\b\b\b\b\b\b\b\b\b\b\b\b\b\b\b\b\b\b\b\b\b\r410/410 [==============================] - 242s 588ms/step - loss: 1.0157 - accuracy: 0.5187 - val_loss: 0.9841 - val_accuracy: 0.5295 - lr: 0.0010\n",
            "Epoch 2/30\n",
            "410/410 [==============================] - ETA: 0s - loss: 0.9871 - accuracy: 0.5304\n",
            "Epoch 2: val_accuracy did not improve from 0.52952\n",
            "410/410 [==============================] - 232s 566ms/step - loss: 0.9871 - accuracy: 0.5304 - val_loss: 0.9726 - val_accuracy: 0.5289 - lr: 0.0010\n",
            "Epoch 3/30\n",
            "410/410 [==============================] - ETA: 0s - loss: 0.9736 - accuracy: 0.5278\n",
            "Epoch 3: val_accuracy improved from 0.52952 to 0.54656, saving model to v1_ag\n"
          ]
        },
        {
          "output_type": "stream",
          "name": "stderr",
          "text": [
            "WARNING:absl:Found untraced functions such as _jit_compiled_convolution_op, _jit_compiled_convolution_op, _jit_compiled_convolution_op while saving (showing 3 of 3). These functions will not be directly callable after loading.\n"
          ]
        },
        {
          "output_type": "stream",
          "name": "stdout",
          "text": [
            "\b\b\b\b\b\b\b\b\b\b\b\b\b\b\b\b\b\b\b\b\b\b\b\b\b\b\b\b\b\b\b\b\b\b\b\b\b\b\b\b\b\b\b\b\b\b\b\b\b\b\b\b\b\b\b\b\b\b\b\b\b\b\b\b\b\b\b\b\b\b\b\b\b\b\b\b\b\b\b\b\b\b\b\b\r410/410 [==============================] - 231s 564ms/step - loss: 0.9736 - accuracy: 0.5278 - val_loss: 0.9457 - val_accuracy: 0.5466 - lr: 0.0010\n",
            "Epoch 4/30\n",
            "410/410 [==============================] - ETA: 0s - loss: 0.9467 - accuracy: 0.5437\n",
            "Epoch 4: val_accuracy improved from 0.54656 to 0.55204, saving model to v1_ag\n"
          ]
        },
        {
          "output_type": "stream",
          "name": "stderr",
          "text": [
            "WARNING:absl:Found untraced functions such as _jit_compiled_convolution_op, _jit_compiled_convolution_op, _jit_compiled_convolution_op while saving (showing 3 of 3). These functions will not be directly callable after loading.\n"
          ]
        },
        {
          "output_type": "stream",
          "name": "stdout",
          "text": [
            "\b\b\b\b\b\b\b\b\b\b\b\b\b\b\b\b\b\b\b\b\b\b\b\b\b\b\b\b\b\b\b\b\b\b\b\b\b\b\b\b\b\b\b\b\b\b\b\b\b\b\b\b\b\b\b\b\b\b\b\b\b\b\b\b\b\b\b\b\b\b\b\b\b\b\b\b\b\b\b\b\b\b\b\b\r410/410 [==============================] - 231s 564ms/step - loss: 0.9467 - accuracy: 0.5437 - val_loss: 0.9352 - val_accuracy: 0.5520 - lr: 0.0010\n",
            "Epoch 5/30\n",
            "410/410 [==============================] - ETA: 0s - loss: 0.9204 - accuracy: 0.5471\n",
            "Epoch 5: val_accuracy improved from 0.55204 to 0.55447, saving model to v1_ag\n"
          ]
        },
        {
          "output_type": "stream",
          "name": "stderr",
          "text": [
            "WARNING:absl:Found untraced functions such as _jit_compiled_convolution_op, _jit_compiled_convolution_op, _jit_compiled_convolution_op while saving (showing 3 of 3). These functions will not be directly callable after loading.\n"
          ]
        },
        {
          "output_type": "stream",
          "name": "stdout",
          "text": [
            "\b\b\b\b\b\b\b\b\b\b\b\b\b\b\b\b\b\b\b\b\b\b\b\b\b\b\b\b\b\b\b\b\b\b\b\b\b\b\b\b\b\b\b\b\b\b\b\b\b\b\b\b\b\b\b\b\b\b\b\b\b\b\b\b\b\b\b\b\b\b\b\b\b\b\b\b\b\b\b\b\b\b\b\b\r410/410 [==============================] - 231s 565ms/step - loss: 0.9204 - accuracy: 0.5471 - val_loss: 0.9137 - val_accuracy: 0.5545 - lr: 0.0010\n",
            "Epoch 6/30\n",
            "410/410 [==============================] - ETA: 0s - loss: 0.8921 - accuracy: 0.5611\n",
            "Epoch 6: val_accuracy improved from 0.55447 to 0.56786, saving model to v1_ag\n"
          ]
        },
        {
          "output_type": "stream",
          "name": "stderr",
          "text": [
            "WARNING:absl:Found untraced functions such as _jit_compiled_convolution_op, _jit_compiled_convolution_op, _jit_compiled_convolution_op while saving (showing 3 of 3). These functions will not be directly callable after loading.\n"
          ]
        },
        {
          "output_type": "stream",
          "name": "stdout",
          "text": [
            "\b\b\b\b\b\b\b\b\b\b\b\b\b\b\b\b\b\b\b\b\b\b\b\b\b\b\b\b\b\b\b\b\b\b\b\b\b\b\b\b\b\b\b\b\b\b\b\b\b\b\b\b\b\b\b\b\b\b\b\b\b\b\b\b\b\b\b\b\b\b\b\b\b\b\b\b\b\b\b\b\b\b\b\b\r410/410 [==============================] - 230s 561ms/step - loss: 0.8921 - accuracy: 0.5611 - val_loss: 0.9077 - val_accuracy: 0.5679 - lr: 0.0010\n",
            "Epoch 7/30\n",
            "410/410 [==============================] - ETA: 0s - loss: 0.8608 - accuracy: 0.5803\n",
            "Epoch 7: val_accuracy improved from 0.56786 to 0.57638, saving model to v1_ag\n"
          ]
        },
        {
          "output_type": "stream",
          "name": "stderr",
          "text": [
            "WARNING:absl:Found untraced functions such as _jit_compiled_convolution_op, _jit_compiled_convolution_op, _jit_compiled_convolution_op while saving (showing 3 of 3). These functions will not be directly callable after loading.\n"
          ]
        },
        {
          "output_type": "stream",
          "name": "stdout",
          "text": [
            "\b\b\b\b\b\b\b\b\b\b\b\b\b\b\b\b\b\b\b\b\b\b\b\b\b\b\b\b\b\b\b\b\b\b\b\b\b\b\b\b\b\b\b\b\b\b\b\b\b\b\b\b\b\b\b\b\b\b\b\b\b\b\b\b\b\b\b\b\b\b\b\b\b\b\b\b\b\b\b\b\b\b\b\b\r410/410 [==============================] - 235s 574ms/step - loss: 0.8608 - accuracy: 0.5803 - val_loss: 0.8779 - val_accuracy: 0.5764 - lr: 0.0010\n",
            "Epoch 8/30\n",
            "410/410 [==============================] - ETA: 0s - loss: 0.8264 - accuracy: 0.5984\n",
            "Epoch 8: val_accuracy improved from 0.57638 to 0.58430, saving model to v1_ag\n"
          ]
        },
        {
          "output_type": "stream",
          "name": "stderr",
          "text": [
            "WARNING:absl:Found untraced functions such as _jit_compiled_convolution_op, _jit_compiled_convolution_op, _jit_compiled_convolution_op while saving (showing 3 of 3). These functions will not be directly callable after loading.\n"
          ]
        },
        {
          "output_type": "stream",
          "name": "stdout",
          "text": [
            "\b\b\b\b\b\b\b\b\b\b\b\b\b\b\b\b\b\b\b\b\b\b\b\b\b\b\b\b\b\b\b\b\b\b\b\b\b\b\b\b\b\b\b\b\b\b\b\b\b\b\b\b\b\b\b\b\b\b\b\b\b\b\b\b\b\b\b\b\b\b\b\b\b\b\b\b\b\b\b\b\b\b\b\b\r410/410 [==============================] - 230s 561ms/step - loss: 0.8264 - accuracy: 0.5984 - val_loss: 0.8693 - val_accuracy: 0.5843 - lr: 0.0010\n",
            "Epoch 9/30\n",
            "410/410 [==============================] - ETA: 0s - loss: 0.7825 - accuracy: 0.6182\n",
            "Epoch 9: val_accuracy improved from 0.58430 to 0.58977, saving model to v1_ag\n"
          ]
        },
        {
          "output_type": "stream",
          "name": "stderr",
          "text": [
            "WARNING:absl:Found untraced functions such as _jit_compiled_convolution_op, _jit_compiled_convolution_op, _jit_compiled_convolution_op while saving (showing 3 of 3). These functions will not be directly callable after loading.\n"
          ]
        },
        {
          "output_type": "stream",
          "name": "stdout",
          "text": [
            "\b\b\b\b\b\b\b\b\b\b\b\b\b\b\b\b\b\b\b\b\b\b\b\b\b\b\b\b\b\b\b\b\b\b\b\b\b\b\b\b\b\b\b\b\b\b\b\b\b\b\b\b\b\b\b\b\b\b\b\b\b\b\b\b\b\b\b\b\b\b\b\b\b\b\b\b\b\b\b\b\b\b\b\b\r410/410 [==============================] - 237s 577ms/step - loss: 0.7825 - accuracy: 0.6182 - val_loss: 0.8758 - val_accuracy: 0.5898 - lr: 0.0010\n",
            "Epoch 10/30\n",
            "410/410 [==============================] - ETA: 0s - loss: 0.7423 - accuracy: 0.6400\n",
            "Epoch 10: val_accuracy improved from 0.58977 to 0.60499, saving model to v1_ag\n"
          ]
        },
        {
          "output_type": "stream",
          "name": "stderr",
          "text": [
            "WARNING:absl:Found untraced functions such as _jit_compiled_convolution_op, _jit_compiled_convolution_op, _jit_compiled_convolution_op while saving (showing 3 of 3). These functions will not be directly callable after loading.\n"
          ]
        },
        {
          "output_type": "stream",
          "name": "stdout",
          "text": [
            "\b\b\b\b\b\b\b\b\b\b\b\b\b\b\b\b\b\b\b\b\b\b\b\b\b\b\b\b\b\b\b\b\b\b\b\b\b\b\b\b\b\b\b\b\b\b\b\b\b\b\b\b\b\b\b\b\b\b\b\b\b\b\b\b\b\b\b\b\b\b\b\b\b\b\b\b\b\b\b\b\b\b\b\b\r410/410 [==============================] - 230s 561ms/step - loss: 0.7423 - accuracy: 0.6400 - val_loss: 0.8508 - val_accuracy: 0.6050 - lr: 0.0010\n",
            "Epoch 11/30\n",
            "410/410 [==============================] - ETA: 0s - loss: 0.6856 - accuracy: 0.6774\n",
            "Epoch 11: val_accuracy improved from 0.60499 to 0.61960, saving model to v1_ag\n"
          ]
        },
        {
          "output_type": "stream",
          "name": "stderr",
          "text": [
            "WARNING:absl:Found untraced functions such as _jit_compiled_convolution_op, _jit_compiled_convolution_op, _jit_compiled_convolution_op while saving (showing 3 of 3). These functions will not be directly callable after loading.\n"
          ]
        },
        {
          "output_type": "stream",
          "name": "stdout",
          "text": [
            "\b\b\b\b\b\b\b\b\b\b\b\b\b\b\b\b\b\b\b\b\b\b\b\b\b\b\b\b\b\b\b\b\b\b\b\b\b\b\b\b\b\b\b\b\b\b\b\b\b\b\b\b\b\b\b\b\b\b\b\b\b\b\b\b\b\b\b\b\b\b\b\b\b\b\b\b\b\b\b\b\b\b\b\b\r410/410 [==============================] - 233s 569ms/step - loss: 0.6856 - accuracy: 0.6774 - val_loss: 0.8665 - val_accuracy: 0.6196 - lr: 0.0010\n",
            "Epoch 12/30\n",
            "410/410 [==============================] - ETA: 0s - loss: 0.6393 - accuracy: 0.7027\n",
            "Epoch 12: val_accuracy did not improve from 0.61960\n",
            "410/410 [==============================] - 229s 558ms/step - loss: 0.6393 - accuracy: 0.7027 - val_loss: 0.9198 - val_accuracy: 0.6026 - lr: 0.0010\n",
            "Epoch 13/30\n",
            "410/410 [==============================] - ETA: 0s - loss: 0.5965 - accuracy: 0.7171\n",
            "Epoch 13: val_accuracy did not improve from 0.61960\n",
            "410/410 [==============================] - 228s 556ms/step - loss: 0.5965 - accuracy: 0.7171 - val_loss: 0.9447 - val_accuracy: 0.6123 - lr: 0.0010\n",
            "Epoch 14/30\n",
            "410/410 [==============================] - ETA: 0s - loss: 0.5421 - accuracy: 0.7506\n",
            "Epoch 14: val_accuracy did not improve from 0.61960\n",
            "410/410 [==============================] - 229s 559ms/step - loss: 0.5421 - accuracy: 0.7506 - val_loss: 1.0210 - val_accuracy: 0.6111 - lr: 0.0010\n",
            "Epoch 15/30\n",
            "410/410 [==============================] - ETA: 0s - loss: 0.5013 - accuracy: 0.7680\n",
            "Epoch 15: val_accuracy did not improve from 0.61960\n",
            "410/410 [==============================] - 231s 564ms/step - loss: 0.5013 - accuracy: 0.7680 - val_loss: 1.0476 - val_accuracy: 0.6013 - lr: 0.0010\n",
            "Epoch 16/30\n",
            "410/410 [==============================] - ETA: 0s - loss: 0.4748 - accuracy: 0.7737\n",
            "Epoch 16: val_accuracy did not improve from 0.61960\n",
            "410/410 [==============================] - 239s 583ms/step - loss: 0.4748 - accuracy: 0.7737 - val_loss: 1.0205 - val_accuracy: 0.5995 - lr: 0.0010\n",
            "Epoch 17/30\n",
            "410/410 [==============================] - ETA: 0s - loss: 0.4351 - accuracy: 0.7978\n",
            "Epoch 17: val_accuracy did not improve from 0.61960\n",
            "410/410 [==============================] - 229s 558ms/step - loss: 0.4351 - accuracy: 0.7978 - val_loss: 1.1730 - val_accuracy: 0.6178 - lr: 0.0010\n",
            "Epoch 18/30\n",
            "410/410 [==============================] - ETA: 0s - loss: 0.4040 - accuracy: 0.8109\n",
            "Epoch 18: val_accuracy did not improve from 0.61960\n",
            "410/410 [==============================] - 233s 569ms/step - loss: 0.4040 - accuracy: 0.8109 - val_loss: 1.0905 - val_accuracy: 0.6166 - lr: 0.0010\n",
            "Epoch 19/30\n",
            "410/410 [==============================] - ETA: 0s - loss: 0.3898 - accuracy: 0.8189\n",
            "Epoch 19: val_accuracy did not improve from 0.61960\n",
            "410/410 [==============================] - 227s 553ms/step - loss: 0.3898 - accuracy: 0.8189 - val_loss: 1.2448 - val_accuracy: 0.6050 - lr: 0.0010\n",
            "Epoch 20/30\n",
            "410/410 [==============================] - ETA: 0s - loss: 0.3699 - accuracy: 0.8269\n",
            "Epoch 20: val_accuracy did not improve from 0.61960\n",
            "410/410 [==============================] - 226s 550ms/step - loss: 0.3699 - accuracy: 0.8269 - val_loss: 1.1845 - val_accuracy: 0.6184 - lr: 0.0010\n",
            "Epoch 21/30\n",
            "410/410 [==============================] - ETA: 0s - loss: 0.3293 - accuracy: 0.8443\n",
            "Epoch 21: val_accuracy improved from 0.61960 to 0.62934, saving model to v1_ag\n"
          ]
        },
        {
          "output_type": "stream",
          "name": "stderr",
          "text": [
            "WARNING:absl:Found untraced functions such as _jit_compiled_convolution_op, _jit_compiled_convolution_op, _jit_compiled_convolution_op while saving (showing 3 of 3). These functions will not be directly callable after loading.\n"
          ]
        },
        {
          "output_type": "stream",
          "name": "stdout",
          "text": [
            "\b\b\b\b\b\b\b\b\b\b\b\b\b\b\b\b\b\b\b\b\b\b\b\b\b\b\b\b\b\b\b\b\b\b\b\b\b\b\b\b\b\b\b\b\b\b\b\b\b\b\b\b\b\b\b\b\b\b\b\b\b\b\b\b\b\b\b\b\b\b\b\b\b\b\b\b\b\b\b\b\b\b\b\b\r410/410 [==============================] - 225s 549ms/step - loss: 0.3293 - accuracy: 0.8443 - val_loss: 1.4539 - val_accuracy: 0.6293 - lr: 0.0010\n",
            "Epoch 22/30\n",
            "410/410 [==============================] - ETA: 0s - loss: 0.3233 - accuracy: 0.8459\n",
            "Epoch 22: val_accuracy did not improve from 0.62934\n",
            "410/410 [==============================] - 227s 554ms/step - loss: 0.3233 - accuracy: 0.8459 - val_loss: 1.3401 - val_accuracy: 0.6220 - lr: 0.0010\n",
            "Epoch 23/30\n",
            "410/410 [==============================] - ETA: 0s - loss: 0.3025 - accuracy: 0.8549\n",
            "Epoch 23: val_accuracy did not improve from 0.62934\n",
            "410/410 [==============================] - 223s 545ms/step - loss: 0.3025 - accuracy: 0.8549 - val_loss: 1.4759 - val_accuracy: 0.6159 - lr: 0.0010\n",
            "Epoch 24/30\n",
            "410/410 [==============================] - ETA: 0s - loss: 0.3083 - accuracy: 0.8526\n",
            "Epoch 24: val_accuracy improved from 0.62934 to 0.63299, saving model to v1_ag\n"
          ]
        },
        {
          "output_type": "stream",
          "name": "stderr",
          "text": [
            "WARNING:absl:Found untraced functions such as _jit_compiled_convolution_op, _jit_compiled_convolution_op, _jit_compiled_convolution_op while saving (showing 3 of 3). These functions will not be directly callable after loading.\n"
          ]
        },
        {
          "output_type": "stream",
          "name": "stdout",
          "text": [
            "\b\b\b\b\b\b\b\b\b\b\b\b\b\b\b\b\b\b\b\b\b\b\b\b\b\b\b\b\b\b\b\b\b\b\b\b\b\b\b\b\b\b\b\b\b\b\b\b\b\b\b\b\b\b\b\b\b\b\b\b\b\b\b\b\b\b\b\b\b\b\b\b\b\b\b\b\b\b\b\b\b\b\b\b\r410/410 [==============================] - 224s 547ms/step - loss: 0.3083 - accuracy: 0.8526 - val_loss: 1.5153 - val_accuracy: 0.6330 - lr: 0.0010\n",
            "Epoch 25/30\n",
            "410/410 [==============================] - ETA: 0s - loss: 0.2896 - accuracy: 0.8622\n",
            "Epoch 25: val_accuracy improved from 0.63299 to 0.64273, saving model to v1_ag\n"
          ]
        },
        {
          "output_type": "stream",
          "name": "stderr",
          "text": [
            "WARNING:absl:Found untraced functions such as _jit_compiled_convolution_op, _jit_compiled_convolution_op, _jit_compiled_convolution_op while saving (showing 3 of 3). These functions will not be directly callable after loading.\n"
          ]
        },
        {
          "output_type": "stream",
          "name": "stdout",
          "text": [
            "\b\b\b\b\b\b\b\b\b\b\b\b\b\b\b\b\b\b\b\b\b\b\b\b\b\b\b\b\b\b\b\b\b\b\b\b\b\b\b\b\b\b\b\b\b\b\b\b\b\b\b\b\b\b\b\b\b\b\b\b\b\b\b\b\b\b\b\b\b\b\b\b\b\b\b\b\b\b\b\b\b\b\b\b\r410/410 [==============================] - 224s 547ms/step - loss: 0.2896 - accuracy: 0.8622 - val_loss: 1.5797 - val_accuracy: 0.6427 - lr: 0.0010\n",
            "Epoch 26/30\n",
            "410/410 [==============================] - ETA: 0s - loss: 0.2596 - accuracy: 0.8758\n",
            "Epoch 26: val_accuracy did not improve from 0.64273\n",
            "410/410 [==============================] - 223s 544ms/step - loss: 0.2596 - accuracy: 0.8758 - val_loss: 1.7810 - val_accuracy: 0.6166 - lr: 0.0010\n",
            "Epoch 27/30\n",
            "410/410 [==============================] - ETA: 0s - loss: 0.2624 - accuracy: 0.8720\n",
            "Epoch 27: val_accuracy did not improve from 0.64273\n",
            "410/410 [==============================] - 223s 544ms/step - loss: 0.2624 - accuracy: 0.8720 - val_loss: 1.5550 - val_accuracy: 0.6287 - lr: 0.0010\n",
            "Epoch 28/30\n",
            "410/410 [==============================] - ETA: 0s - loss: 0.2431 - accuracy: 0.8799\n",
            "Epoch 28: val_accuracy did not improve from 0.64273\n",
            "410/410 [==============================] - 223s 544ms/step - loss: 0.2431 - accuracy: 0.8799 - val_loss: 1.6700 - val_accuracy: 0.6366 - lr: 0.0010\n",
            "Epoch 29/30\n",
            "410/410 [==============================] - ETA: 0s - loss: 0.2558 - accuracy: 0.8753\n",
            "Epoch 29: val_accuracy did not improve from 0.64273\n",
            "410/410 [==============================] - 224s 545ms/step - loss: 0.2558 - accuracy: 0.8753 - val_loss: 1.5715 - val_accuracy: 0.6312 - lr: 0.0010\n",
            "Epoch 30/30\n",
            "410/410 [==============================] - ETA: 0s - loss: 0.2366 - accuracy: 0.8920\n",
            "Epoch 30: val_accuracy did not improve from 0.64273\n",
            "410/410 [==============================] - 223s 544ms/step - loss: 0.2366 - accuracy: 0.8920 - val_loss: 1.9487 - val_accuracy: 0.6245 - lr: 0.0010\n"
          ]
        }
      ],
      "source": [
        "general = cnn.fit(train_gen, validation_data= valid_gen, epochs= 30, verbose=1,  steps_per_epoch = TRAIN_STEPS, callbacks= [reduceLR, early_stopping, checkpoint_ag]) #피팅\n",
        "cnn.save('my_nongenmodel.h5') #모델 세이브"
      ]
    },
    {
      "cell_type": "code",
      "source": [
        "cnn = keras.models.load_model('my_nongenmodel.h5')\n",
        "cnn.compile(\n",
        "    'adam',\n",
        "  loss='categorical_crossentropy',\n",
        "  metrics=['accuracy'],\n",
        ")"
      ],
      "metadata": {
        "id": "6o6WDuh9hH2D"
      },
      "execution_count": null,
      "outputs": []
    },
    {
      "cell_type": "code",
      "source": [
        "general = cnn.fit(train_gen, validation_data= valid_gen, epochs= 30, verbose=1,  steps_per_epoch = TRAIN_STEPS, callbacks= [reduceLR, checkpoint_ag]) #피팅\n",
        "cnn.save('my_nongenmodel2.h5')"
      ],
      "metadata": {
        "colab": {
          "base_uri": "https://localhost:8080/"
        },
        "id": "jxofKhF3hvVz",
        "outputId": "1fdac1a4-41e0-4d09-8283-b362c12c505e"
      },
      "execution_count": null,
      "outputs": [
        {
          "output_type": "stream",
          "name": "stdout",
          "text": [
            "Epoch 1/20\n",
            "410/410 [==============================] - ETA: 0s - loss: 0.8844 - accuracy: 0.5654\n",
            "Epoch 1: val_accuracy did not improve from 0.59586\n",
            "410/410 [==============================] - 26s 63ms/step - loss: 0.8844 - accuracy: 0.5654 - val_loss: 0.8887 - val_accuracy: 0.5636 - lr: 0.0010\n",
            "Epoch 2/20\n",
            "410/410 [==============================] - ETA: 0s - loss: 0.8693 - accuracy: 0.5686\n",
            "Epoch 2: val_accuracy did not improve from 0.59586\n",
            "410/410 [==============================] - 26s 63ms/step - loss: 0.8693 - accuracy: 0.5686 - val_loss: 0.8667 - val_accuracy: 0.5806 - lr: 0.0010\n",
            "Epoch 3/20\n",
            "410/410 [==============================] - ETA: 0s - loss: 0.8773 - accuracy: 0.5611\n",
            "Epoch 3: val_accuracy did not improve from 0.59586\n",
            "410/410 [==============================] - 25s 62ms/step - loss: 0.8773 - accuracy: 0.5611 - val_loss: 0.8673 - val_accuracy: 0.5934 - lr: 0.0010\n",
            "Epoch 4/20\n",
            "410/410 [==============================] - ETA: 0s - loss: 0.8611 - accuracy: 0.5707\n",
            "Epoch 4: val_accuracy did not improve from 0.59586\n",
            "410/410 [==============================] - 26s 63ms/step - loss: 0.8611 - accuracy: 0.5707 - val_loss: 0.8698 - val_accuracy: 0.5630 - lr: 0.0010\n",
            "Epoch 5/20\n",
            "410/410 [==============================] - ETA: 0s - loss: 0.8688 - accuracy: 0.5665\n",
            "Epoch 5: val_accuracy did not improve from 0.59586\n",
            "410/410 [==============================] - 26s 63ms/step - loss: 0.8688 - accuracy: 0.5665 - val_loss: 0.8585 - val_accuracy: 0.5873 - lr: 0.0010\n",
            "Epoch 6/20\n",
            "410/410 [==============================] - ETA: 0s - loss: 0.8645 - accuracy: 0.5774\n",
            "Epoch 6: val_accuracy did not improve from 0.59586\n",
            "410/410 [==============================] - 26s 62ms/step - loss: 0.8645 - accuracy: 0.5774 - val_loss: 0.8547 - val_accuracy: 0.5928 - lr: 0.0010\n",
            "Epoch 7/20\n",
            "410/410 [==============================] - ETA: 0s - loss: 0.8679 - accuracy: 0.5713\n",
            "Epoch 7: val_accuracy did not improve from 0.59586\n",
            "410/410 [==============================] - 27s 66ms/step - loss: 0.8679 - accuracy: 0.5713 - val_loss: 0.8544 - val_accuracy: 0.5892 - lr: 0.0010\n",
            "Epoch 8/20\n",
            "410/410 [==============================] - ETA: 0s - loss: 0.8689 - accuracy: 0.5691\n",
            "Epoch 8: val_accuracy did not improve from 0.59586\n",
            "410/410 [==============================] - 26s 62ms/step - loss: 0.8689 - accuracy: 0.5691 - val_loss: 0.8748 - val_accuracy: 0.5910 - lr: 0.0010\n",
            "Epoch 9/20\n",
            "410/410 [==============================] - ETA: 0s - loss: 0.8632 - accuracy: 0.5782\n",
            "Epoch 9: val_accuracy improved from 0.59586 to 0.59708, saving model to v1_ag\n"
          ]
        },
        {
          "output_type": "stream",
          "name": "stderr",
          "text": [
            "WARNING:absl:Found untraced functions such as _jit_compiled_convolution_op, _jit_compiled_convolution_op, _jit_compiled_convolution_op while saving (showing 3 of 3). These functions will not be directly callable after loading.\n"
          ]
        },
        {
          "output_type": "stream",
          "name": "stdout",
          "text": [
            "\b\b\b\b\b\b\b\b\b\b\b\b\b\b\b\b\b\b\b\b\b\b\b\b\b\b\b\b\b\b\b\b\b\b\b\b\b\b\b\b\b\b\b\b\b\b\b\b\b\b\b\b\b\b\b\b\b\b\b\b\b\b\b\b\b\b\b\b\b\b\b\b\b\b\b\b\b\b\b\b\b\b\b\b\r410/410 [==============================] - 27s 66ms/step - loss: 0.8632 - accuracy: 0.5782 - val_loss: 0.8546 - val_accuracy: 0.5971 - lr: 0.0010\n",
            "Epoch 10/20\n",
            "410/410 [==============================] - ETA: 0s - loss: 0.8574 - accuracy: 0.5768\n",
            "Epoch 10: val_accuracy did not improve from 0.59708\n",
            "410/410 [==============================] - 25s 62ms/step - loss: 0.8574 - accuracy: 0.5768 - val_loss: 0.8808 - val_accuracy: 0.5892 - lr: 0.0010\n",
            "Epoch 11/20\n",
            "410/410 [==============================] - ETA: 0s - loss: 0.8585 - accuracy: 0.5771\n",
            "Epoch 11: val_accuracy did not improve from 0.59708\n",
            "410/410 [==============================] - 26s 63ms/step - loss: 0.8585 - accuracy: 0.5771 - val_loss: 0.8578 - val_accuracy: 0.5922 - lr: 0.0010\n",
            "Epoch 12/20\n",
            "410/410 [==============================] - ETA: 0s - loss: 0.8605 - accuracy: 0.5715\n",
            "Epoch 12: val_accuracy did not improve from 0.59708\n",
            "410/410 [==============================] - 25s 62ms/step - loss: 0.8605 - accuracy: 0.5715 - val_loss: 0.8572 - val_accuracy: 0.5879 - lr: 0.0010\n",
            "Epoch 13/20\n",
            "410/410 [==============================] - ETA: 0s - loss: 0.8624 - accuracy: 0.5715\n",
            "Epoch 13: val_accuracy did not improve from 0.59708\n",
            "410/410 [==============================] - 25s 62ms/step - loss: 0.8624 - accuracy: 0.5715 - val_loss: 0.8953 - val_accuracy: 0.5709 - lr: 0.0010\n",
            "Epoch 14/20\n",
            "410/410 [==============================] - ETA: 0s - loss: 0.8557 - accuracy: 0.5721\n",
            "Epoch 14: val_accuracy did not improve from 0.59708\n",
            "410/410 [==============================] - 27s 65ms/step - loss: 0.8557 - accuracy: 0.5721 - val_loss: 0.8682 - val_accuracy: 0.5813 - lr: 0.0010\n",
            "Epoch 15/20\n",
            "410/410 [==============================] - ETA: 0s - loss: 0.8530 - accuracy: 0.5881\n",
            "Epoch 15: val_accuracy did not improve from 0.59708\n",
            "410/410 [==============================] - 25s 62ms/step - loss: 0.8530 - accuracy: 0.5881 - val_loss: 0.8789 - val_accuracy: 0.5910 - lr: 0.0010\n",
            "Epoch 16/20\n",
            "410/410 [==============================] - ETA: 0s - loss: 0.8517 - accuracy: 0.5794\n",
            "Epoch 16: val_accuracy improved from 0.59708 to 0.59769, saving model to v1_ag\n"
          ]
        },
        {
          "output_type": "stream",
          "name": "stderr",
          "text": [
            "WARNING:absl:Found untraced functions such as _jit_compiled_convolution_op, _jit_compiled_convolution_op, _jit_compiled_convolution_op while saving (showing 3 of 3). These functions will not be directly callable after loading.\n"
          ]
        },
        {
          "output_type": "stream",
          "name": "stdout",
          "text": [
            "\b\b\b\b\b\b\b\b\b\b\b\b\b\b\b\b\b\b\b\b\b\b\b\b\b\b\b\b\b\b\b\b\b\b\b\b\b\b\b\b\b\b\b\b\b\b\b\b\b\b\b\b\b\b\b\b\b\b\b\b\b\b\b\b\b\b\b\b\b\b\b\b\b\b\b\b\b\b\b\b\b\b\b\b\r410/410 [==============================] - 27s 65ms/step - loss: 0.8517 - accuracy: 0.5794 - val_loss: 0.8436 - val_accuracy: 0.5977 - lr: 0.0010\n",
            "Epoch 17/20\n",
            "410/410 [==============================] - ETA: 0s - loss: 0.8542 - accuracy: 0.5808\n",
            "Epoch 17: val_accuracy improved from 0.59769 to 0.59890, saving model to v1_ag\n"
          ]
        },
        {
          "output_type": "stream",
          "name": "stderr",
          "text": [
            "WARNING:absl:Found untraced functions such as _jit_compiled_convolution_op, _jit_compiled_convolution_op, _jit_compiled_convolution_op while saving (showing 3 of 3). These functions will not be directly callable after loading.\n"
          ]
        },
        {
          "output_type": "stream",
          "name": "stdout",
          "text": [
            "\b\b\b\b\b\b\b\b\b\b\b\b\b\b\b\b\b\b\b\b\b\b\b\b\b\b\b\b\b\b\b\b\b\b\b\b\b\b\b\b\b\b\b\b\b\b\b\b\b\b\b\b\b\b\b\b\b\b\b\b\b\b\b\b\b\b\b\b\b\b\b\b\b\b\b\b\b\b\b\b\b\b\b\b\r410/410 [==============================] - 27s 65ms/step - loss: 0.8542 - accuracy: 0.5808 - val_loss: 0.8565 - val_accuracy: 0.5989 - lr: 0.0010\n",
            "Epoch 18/20\n",
            "410/410 [==============================] - ETA: 0s - loss: 0.8545 - accuracy: 0.5825\n",
            "Epoch 18: val_accuracy did not improve from 0.59890\n",
            "410/410 [==============================] - 26s 62ms/step - loss: 0.8545 - accuracy: 0.5825 - val_loss: 0.8647 - val_accuracy: 0.5813 - lr: 0.0010\n",
            "Epoch 19/20\n",
            "410/410 [==============================] - ETA: 0s - loss: 0.8416 - accuracy: 0.5919\n",
            "Epoch 19: val_accuracy did not improve from 0.59890\n",
            "410/410 [==============================] - 25s 62ms/step - loss: 0.8416 - accuracy: 0.5919 - val_loss: 0.8646 - val_accuracy: 0.5788 - lr: 0.0010\n",
            "Epoch 20/20\n",
            "410/410 [==============================] - ETA: 0s - loss: 0.8556 - accuracy: 0.5756\n",
            "Epoch 20: val_accuracy did not improve from 0.59890\n",
            "410/410 [==============================] - 27s 65ms/step - loss: 0.8556 - accuracy: 0.5756 - val_loss: 0.8501 - val_accuracy: 0.5934 - lr: 0.0010\n"
          ]
        }
      ]
    },
    {
      "cell_type": "code",
      "source": [
        "with open('nongenhistory.pkl', 'rb') as f:\n",
        "\tdf = pickle.load(f)"
      ],
      "metadata": {
        "id": "NYjGn_sNrcYm"
      },
      "execution_count": null,
      "outputs": []
    },
    {
      "cell_type": "code",
      "source": [
        " for i in range(len(general.history['loss'])):\n",
        "    df['loss'].append(general.history['loss'][i])\n",
        "    df['accuracy'].append(general.history['accuracy'][i])\n",
        "    df['val_loss'].append(general.history['val_loss'][i])\n",
        "    df['val_accuracy'].append(general.history['val_accuracy'][i])"
      ],
      "metadata": {
        "id": "UILhupPErHFS"
      },
      "execution_count": null,
      "outputs": []
    },
    {
      "cell_type": "code",
      "source": [
        "plt.figure(figsize=(15, 5))\n",
        "\n",
        "plt.subplot(1, 2, 1)\n",
        "plt.plot(df['accuracy'], label='acc')\n",
        "plt.plot(df['val_accuracy'], label='val_acc')\n",
        "plt.legend(loc='lower right')\n",
        "plt.title('Accuracy comparison')\n",
        "\n",
        "plt.subplot(1, 2, 2)\n",
        "plt.plot(df['loss'], label='loss')\n",
        "plt.plot(df['val_loss'], label='val_loss')\n",
        "plt.legend(loc='upper right')\n",
        "plt.title('Loss comparison')\n",
        "\n",
        "plt.show()"
      ],
      "metadata": {
        "colab": {
          "base_uri": "https://localhost:8080/",
          "height": 72
        },
        "id": "Gso9LgJhnNZ1",
        "outputId": "fe3c30b9-9691-458f-fb53-1419f76c0d17"
      },
      "execution_count": 37,
      "outputs": [
        {
          "output_type": "execute_result",
          "data": {
            "text/plain": [
              "\"plt.figure(figsize=(15, 5))\\n\\nplt.subplot(1, 2, 1)\\nplt.plot(df['accuracy'], label='acc')\\nplt.plot(df['val_accuracy'], label='val_acc')\\nplt.legend(loc='lower right')\\nplt.title('Accuracy comparison')\\n\\nplt.subplot(1, 2, 2)\\nplt.plot(df['loss'], label='loss')\\nplt.plot(df['val_loss'], label='val_loss')\\nplt.legend(loc='upper right')\\nplt.title('Loss comparison')\\n\\nplt.show()\""
            ],
            "application/vnd.google.colaboratory.intrinsic+json": {
              "type": "string"
            }
          },
          "metadata": {},
          "execution_count": 37
        }
      ]
    },
    {
      "cell_type": "code",
      "source": [
        "import pickle\n",
        "\n",
        "with open('nongenhistory.pkl', 'wb') as f:\n",
        "\tpickle.dump(general.history, f, protocol=pickle.HIGHEST_PROTOCOL)"
      ],
      "metadata": {
        "id": "jzSP_poWodKU"
      },
      "execution_count": 28,
      "outputs": []
    },
    {
      "cell_type": "code",
      "execution_count": null,
      "metadata": {
        "id": "azerf-V1d_Ju",
        "colab": {
          "base_uri": "https://localhost:8080/"
        },
        "outputId": "b15df911-fe3d-4f82-94e2-a4b2bcbf927a"
      },
      "outputs": [
        {
          "output_type": "execute_result",
          "data": {
            "text/plain": [
              "{'loss': [0.9039056301116943,\n",
              "  0.9025745391845703,\n",
              "  0.9032078981399536,\n",
              "  0.8993801474571228,\n",
              "  0.9003708958625793,\n",
              "  0.8959671854972839,\n",
              "  0.9038596153259277,\n",
              "  0.8989343047142029,\n",
              "  0.8936007618904114,\n",
              "  0.9035616517066956,\n",
              "  0.8958168029785156,\n",
              "  0.8896105289459229,\n",
              "  0.8897523283958435,\n",
              "  0.8923231959342957,\n",
              "  0.8956129550933838,\n",
              "  0.8869773745536804,\n",
              "  0.89104825258255,\n",
              "  0.8824651837348938,\n",
              "  0.8879295587539673,\n",
              "  0.8867347240447998,\n",
              "  0.8804314732551575,\n",
              "  0.8861970901489258,\n",
              "  0.8574673533439636,\n",
              "  0.8588854670524597,\n",
              "  0.8574600219726562,\n",
              "  0.8593003153800964,\n",
              "  0.8575767874717712,\n",
              "  0.850236713886261,\n",
              "  0.8536825180053711,\n",
              "  0.8512020707130432],\n",
              " 'accuracy': [0.5475354790687561,\n",
              "  0.5486037135124207,\n",
              "  0.5511979460716248,\n",
              "  0.5432626008987427,\n",
              "  0.5489088892936707,\n",
              "  0.5513505339622498,\n",
              "  0.5548603534698486,\n",
              "  0.5504348874092102,\n",
              "  0.5550129413604736,\n",
              "  0.5479933023452759,\n",
              "  0.5551655888557434,\n",
              "  0.5559285879135132,\n",
              "  0.5540973544120789,\n",
              "  0.5479933023452759,\n",
              "  0.5496718883514404,\n",
              "  0.556691586971283,\n",
              "  0.556691586971283,\n",
              "  0.5585228204727173,\n",
              "  0.5571494102478027,\n",
              "  0.5577598214149475,\n",
              "  0.56508469581604,\n",
              "  0.5576071739196777,\n",
              "  0.5728673934936523,\n",
              "  0.5714939832687378,\n",
              "  0.5688997507095337,\n",
              "  0.5748512148857117,\n",
              "  0.5785136818885803,\n",
              "  0.5762246251106262,\n",
              "  0.5797344446182251,\n",
              "  0.5804975032806396],\n",
              " 'val_loss': [0.9006838798522949,\n",
              "  0.916587769985199,\n",
              "  0.9193549156188965,\n",
              "  0.9056157469749451,\n",
              "  0.9356825351715088,\n",
              "  0.899409294128418,\n",
              "  0.925139307975769,\n",
              "  0.9119364023208618,\n",
              "  0.9056079387664795,\n",
              "  0.8996536135673523,\n",
              "  0.8980691432952881,\n",
              "  0.8843557238578796,\n",
              "  0.8971496224403381,\n",
              "  0.8967273831367493,\n",
              "  0.8990869522094727,\n",
              "  0.9032527804374695,\n",
              "  0.8917615413665771,\n",
              "  0.8868809342384338,\n",
              "  0.8796103000640869,\n",
              "  0.876223087310791,\n",
              "  0.8757662177085876,\n",
              "  0.8796250820159912,\n",
              "  0.8736956119537354,\n",
              "  0.8667794466018677,\n",
              "  0.8742631077766418,\n",
              "  0.8666797280311584,\n",
              "  0.8620503544807434,\n",
              "  0.8645822405815125,\n",
              "  0.8613510131835938,\n",
              "  0.8656578063964844],\n",
              " 'val_accuracy': [0.5636031627655029,\n",
              "  0.538648784160614,\n",
              "  0.5666463971138,\n",
              "  0.5678636431694031,\n",
              "  0.5629945397377014,\n",
              "  0.5556908249855042,\n",
              "  0.5538648962974548,\n",
              "  0.5678636431694031,\n",
              "  0.5745587348937988,\n",
              "  0.5611686110496521,\n",
              "  0.5782105922698975,\n",
              "  0.5806451439857483,\n",
              "  0.5763846635818481,\n",
              "  0.572124183177948,\n",
              "  0.5672550201416016,\n",
              "  0.5690809488296509,\n",
              "  0.573341429233551,\n",
              "  0.5757760405540466,\n",
              "  0.577601969242096,\n",
              "  0.5757760405540466,\n",
              "  0.5678636431694031,\n",
              "  0.5739501118659973,\n",
              "  0.5836883783340454,\n",
              "  0.5916007161140442,\n",
              "  0.5952525734901428,\n",
              "  0.5909920930862427,\n",
              "  0.5824710726737976,\n",
              "  0.5824710726737976,\n",
              "  0.5824710726737976,\n",
              "  0.5879488587379456],\n",
              " 'lr': [0.001,\n",
              "  0.001,\n",
              "  0.001,\n",
              "  0.001,\n",
              "  0.001,\n",
              "  0.001,\n",
              "  0.001,\n",
              "  0.001,\n",
              "  0.001,\n",
              "  0.001,\n",
              "  0.001,\n",
              "  0.001,\n",
              "  0.001,\n",
              "  0.001,\n",
              "  0.001,\n",
              "  0.001,\n",
              "  0.001,\n",
              "  0.001,\n",
              "  0.001,\n",
              "  0.001,\n",
              "  0.001,\n",
              "  0.001,\n",
              "  0.00020000001,\n",
              "  0.00020000001,\n",
              "  0.00020000001,\n",
              "  0.00020000001,\n",
              "  0.00020000001,\n",
              "  0.00020000001,\n",
              "  0.00020000001,\n",
              "  0.00020000001]}"
            ]
          },
          "metadata": {},
          "execution_count": 19
        }
      ],
      "source": [
        "general.history"
      ]
    },
    {
      "cell_type": "code",
      "execution_count": 29,
      "metadata": {
        "id": "58TqsGxzd_Jv",
        "colab": {
          "base_uri": "https://localhost:8080/",
          "height": 336
        },
        "outputId": "454bca5f-9134-443d-a0c7-0b217702b674"
      },
      "outputs": [
        {
          "output_type": "display_data",
          "data": {
            "text/plain": [
              "<Figure size 1080x360 with 2 Axes>"
            ],
            "image/png": "[encoded data removed]"
          },
          "metadata": {
            "needs_background": "light"
          }
        }
      ],
      "source": [
        "plt.figure(figsize=(15, 5))\n",
        "\n",
        "plt.subplot(1, 2, 1)\n",
        "plt.plot(general.history['accuracy'], label='acc')\n",
        "plt.plot(general.history['val_accuracy'], label='val_acc')\n",
        "plt.legend(loc='lower right')\n",
        "plt.title('Accuracy comparison')\n",
        "\n",
        "plt.subplot(1, 2, 2)\n",
        "plt.plot(general.history['loss'], label='loss')\n",
        "plt.plot(general.history['val_loss'], label='val_loss')\n",
        "plt.legend(loc='upper right')\n",
        "plt.title('Loss comparison')\n",
        "\n",
        "plt.show()"
      ]
    },
    {
      "cell_type": "code",
      "source": [
        "X_test = np.load('./X_test_128.npy',allow_pickle=True)\n",
        "y_test = np.load('./y_test_128.npy',allow_pickle=True)\n",
        "X_test = X_test/255"
      ],
      "metadata": {
        "id": "WQQltJE5PnaI"
      },
      "execution_count": 30,
      "outputs": []
    },
    {
      "cell_type": "code",
      "source": [
        "y_test = np.array(y_test).astype(np.float32)\n",
        "cnn.evaluate(X_test, y_test)"
      ],
      "metadata": {
        "colab": {
          "base_uri": "https://localhost:8080/"
        },
        "id": "3ikfRqhcPu2j",
        "outputId": "6230c191-3694-40e5-b508-7f4da7397c00"
      },
      "execution_count": 31,
      "outputs": [
        {
          "output_type": "stream",
          "name": "stdout",
          "text": [
            "16/16 [==============================] - 4s 239ms/step - loss: 2.2692 - accuracy: 0.5820\n"
          ]
        },
        {
          "output_type": "execute_result",
          "data": {
            "text/plain": [
              "[2.269235610961914, 0.58203125]"
            ]
          },
          "metadata": {},
          "execution_count": 31
        }
      ]
    },
    {
      "cell_type": "code",
      "source": [
        "import torch\n",
        "y_test = torch.Tensor(y_test)\n",
        "y_test = torch.argmax(y_test, dim=1)"
      ],
      "metadata": {
        "id": "SeMtrDI-Q1_4"
      },
      "execution_count": 35,
      "outputs": []
    },
    {
      "cell_type": "code",
      "source": [
        "y_pred_enc = cnn.predict(X_test)          # one-hot encoding된 label 예측값\n",
        "y_pred = [np.argmax(i) for i in y_pred_enc] # label 예측값\n",
        "matrix = confusion_matrix(y_test, y_pred)\n",
        "item = {\n",
        "      0: 'Type 1'\n",
        "    , 1: 'Type 2'\n",
        "    , 2: 'Type 3'\n",
        "}\n",
        "df = pd.DataFrame(matrix)\n",
        "df.columns = item.values()\n",
        "df.index = item.values()\n",
        "        \n",
        "df"
      ],
      "metadata": {
        "colab": {
          "base_uri": "https://localhost:8080/",
          "height": 161
        },
        "id": "D66mn6aXP6zR",
        "outputId": "25c35e99-368e-4099-d91d-426420835f9e"
      },
      "execution_count": 36,
      "outputs": [
        {
          "output_type": "stream",
          "name": "stdout",
          "text": [
            "16/16 [==============================] - 4s 273ms/step\n"
          ]
        },
        {
          "output_type": "execute_result",
          "data": {
            "text/plain": [
              "        Type 1  Type 2  Type 3\n",
              "Type 1      24      56       7\n",
              "Type 2      19     203      43\n",
              "Type 3       4      85      71"
            ],
            "text/html": [
              "\n",
              "  <div id=\"df-53541710-ff7c-4ce0-8622-d00cbef614a0\">\n",
              "    <div class=\"colab-df-container\">\n",
              "      <div>\n",
              "<style scoped>\n",
              "    .dataframe tbody tr th:only-of-type {\n",
              "        vertical-align: middle;\n",
              "    }\n",
              "\n",
              "    .dataframe tbody tr th {\n",
              "        vertical-align: top;\n",
              "    }\n",
              "\n",
              "    .dataframe thead th {\n",
              "        text-align: right;\n",
              "    }\n",
              "</style>\n",
              "<table border=\"1\" class=\"dataframe\">\n",
              "  <thead>\n",
              "    <tr style=\"text-align: right;\">\n",
              "      <th></th>\n",
              "      <th>Type 1</th>\n",
              "      <th>Type 2</th>\n",
              "      <th>Type 3</th>\n",
              "    </tr>\n",
              "  </thead>\n",
              "  <tbody>\n",
              "    <tr>\n",
              "      <th>Type 1</th>\n",
              "      <td>24</td>\n",
              "      <td>56</td>\n",
              "      <td>7</td>\n",
              "    </tr>\n",
              "    <tr>\n",
              "      <th>Type 2</th>\n",
              "      <td>19</td>\n",
              "      <td>203</td>\n",
              "      <td>43</td>\n",
              "    </tr>\n",
              "    <tr>\n",
              "      <th>Type 3</th>\n",
              "      <td>4</td>\n",
              "      <td>85</td>\n",
              "      <td>71</td>\n",
              "    </tr>\n",
              "  </tbody>\n",
              "</table>\n",
              "</div>\n",
              "      <button class=\"colab-df-convert\" onclick=\"convertToInteractive('df-53541710-ff7c-4ce0-8622-d00cbef614a0')\"\n",
              "              title=\"Convert this dataframe to an interactive table.\"\n",
              "              style=\"display:none;\">\n",
              "        \n",
              "  <svg xmlns=\"http://www.w3.org/2000/svg\" height=\"24px\"viewBox=\"0 0 24 24\"\n",
              "       width=\"24px\">\n",
              "    <path d=\"M0 0h24v24H0V0z\" fill=\"none\"/>\n",
              "    <path d=\"M18.56 5.44l.94 2.06.94-2.06 2.06-.94-2.06-.94-.94-2.06-.94 2.06-2.06.94zm-11 1L8.5 8.5l.94-2.06 2.06-.94-2.06-.94L8.5 2.5l-.94 2.06-2.06.94zm10 10l.94 2.06.94-2.06 2.06-.94-2.06-.94-.94-2.06-.94 2.06-2.06.94z\"/><path d=\"M17.41 7.96l-1.37-1.37c-.4-.4-.92-.59-1.43-.59-.52 0-1.04.2-1.43.59L10.3 9.45l-7.72 7.72c-.78.78-.78 2.05 0 2.83L4 21.41c.39.39.9.59 1.41.59.51 0 1.02-.2 1.41-.59l7.78-7.78 2.81-2.81c.8-.78.8-2.07 0-2.86zM5.41 20L4 18.59l7.72-7.72 1.47 1.35L5.41 20z\"/>\n",
              "  </svg>\n",
              "      </button>\n",
              "      \n",
              "  <style>\n",
              "    .colab-df-container {\n",
              "      display:flex;\n",
              "      flex-wrap:wrap;\n",
              "      gap: 12px;\n",
              "    }\n",
              "\n",
              "    .colab-df-convert {\n",
              "      background-color: #E8F0FE;\n",
              "      border: none;\n",
              "      border-radius: 50%;\n",
              "      cursor: pointer;\n",
              "      display: none;\n",
              "      fill: #1967D2;\n",
              "      height: 32px;\n",
              "      padding: 0 0 0 0;\n",
              "      width: 32px;\n",
              "    }\n",
              "\n",
              "    .colab-df-convert:hover {\n",
              "      background-color: #E2EBFA;\n",
              "      box-shadow: 0px 1px 2px rgba(60, 64, 67, 0.3), 0px 1px 3px 1px rgba(60, 64, 67, 0.15);\n",
              "      fill: #174EA6;\n",
              "    }\n",
              "\n",
              "    [theme=dark] .colab-df-convert {\n",
              "      background-color: #3B4455;\n",
              "      fill: #D2E3FC;\n",
              "    }\n",
              "\n",
              "    [theme=dark] .colab-df-convert:hover {\n",
              "      background-color: #434B5C;\n",
              "      box-shadow: 0px 1px 3px 1px rgba(0, 0, 0, 0.15);\n",
              "      filter: drop-shadow(0px 1px 2px rgba(0, 0, 0, 0.3));\n",
              "      fill: #FFFFFF;\n",
              "    }\n",
              "  </style>\n",
              "\n",
              "      <script>\n",
              "        const buttonEl =\n",
              "          document.querySelector('#df-53541710-ff7c-4ce0-8622-d00cbef614a0 button.colab-df-convert');\n",
              "        buttonEl.style.display =\n",
              "          google.colab.kernel.accessAllowed ? 'block' : 'none';\n",
              "\n",
              "        async function convertToInteractive(key) {\n",
              "          const element = document.querySelector('#df-53541710-ff7c-4ce0-8622-d00cbef614a0');\n",
              "          const dataTable =\n",
              "            await google.colab.kernel.invokeFunction('convertToInteractive',\n",
              "                                                     [key], {});\n",
              "          if (!dataTable) return;\n",
              "\n",
              "          const docLinkHtml = 'Like what you see? Visit the ' +\n",
              "            '<a target=\"_blank\" href=https://colab.research.google.com/notebooks/data_table.ipynb>data table notebook</a>'\n",
              "            + ' to learn more about interactive tables.';\n",
              "          element.innerHTML = '';\n",
              "          dataTable['output_type'] = 'display_data';\n",
              "          await google.colab.output.renderOutput(dataTable, element);\n",
              "          const docLink = document.createElement('div');\n",
              "          docLink.innerHTML = docLinkHtml;\n",
              "          element.appendChild(docLink);\n",
              "        }\n",
              "      </script>\n",
              "    </div>\n",
              "  </div>\n",
              "  "
            ]
          },
          "metadata": {},
          "execution_count": 36
        }
      ]
    }
  ],
  "metadata": {
    "accelerator": "GPU",
    "colab": {
      "provenance": [],
      "include_colab_link": true
    },
    "gpuClass": "standard",
    "kernelspec": {
      "display_name": "Python 3",
      "language": "python",
      "name": "python3"
    },
    "language_info": {
      "codemirror_mode": {
        "name": "ipython",
        "version": 3
      },
      "file_extension": ".py",
      "mimetype": "text/x-python",
      "name": "python",
      "nbconvert_exporter": "python",
      "pygments_lexer": "ipython3",
      "version": "3.7.12"
    }
  },
  "nbformat": 4,
  "nbformat_minor": 0
}