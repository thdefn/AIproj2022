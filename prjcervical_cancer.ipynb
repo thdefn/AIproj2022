{
  "cells": [
    {
      "cell_type": "markdown",
      "metadata": {
        "id": "view-in-github",
        "colab_type": "text"
      },
      "source": [
        "<a href=\"https://colab.research.google.com/github/thdefn/jango/blob/master/prjcervical_cancer.ipynb\" target=\"_parent\"><img src=\"https://colab.research.google.com/assets/colab-badge.svg\" alt=\"Open In Colab\"/></a>"
      ]
    },
    {
      "cell_type": "code",
      "execution_count": 1,
      "id": "7a176038",
      "metadata": {
        "execution": {
          "iopub.execute_input": "2022-11-18T10:59:19.544331Z",
          "iopub.status.busy": "2022-11-18T10:59:19.542755Z",
          "iopub.status.idle": "2022-11-18T10:59:26.420052Z",
          "shell.execute_reply": "2022-11-18T10:59:26.420521Z",
          "shell.execute_reply.started": "2022-11-17T16:02:46.014360Z"
        },
        "jupyter": {
          "outputs_hidden": false
        },
        "papermill": {
          "duration": 6.893997,
          "end_time": "2022-11-18T10:59:26.420844",
          "exception": false,
          "start_time": "2022-11-18T10:59:19.526847",
          "status": "completed"
        },
        "pycharm": {
          "name": "#%%\n"
        },
        "tags": [],
        "id": "7a176038"
      },
      "outputs": [],
      "source": [
        "import numpy as np\n",
        "import pandas as pd\n",
        "\n",
        "from tensorflow import keras\n",
        "\n",
        "from tensorflow.keras.models import Sequential\n",
        "from tensorflow.keras.layers import Activation, Conv2D, MaxPooling2D, Dense, Flatten\n",
        "from tensorflow.keras.layers import Dropout, BatchNormalization \n",
        "from tensorflow.keras.utils import to_categorical\n",
        "\n",
        "from keras.callbacks import ModelCheckpoint\n",
        "\n",
        "import matplotlib.pyplot as plt\n",
        "\n",
        "import seaborn as sns\n",
        "import os\n",
        "import glob\n",
        "import plotly.graph_objects as go\n",
        "import cv2\n",
        "from PIL import Image\n",
        "from PIL import ImageFile\n",
        "from sklearn.model_selection import train_test_split\n",
        "from sklearn.preprocessing import LabelEncoder\n",
        "import tensorflow as tf\n",
        "from keras.preprocessing.image import ImageDataGenerator\n",
        "from keras.utils.np_utils import to_categorical\n",
        "from keras.applications.vgg16 import VGG16\n",
        "from tensorflow.keras.optimizers import Adam\n",
        "from keras.callbacks import EarlyStopping, ReduceLROnPlateau,ModelCheckpoint \n",
        "from sklearn.metrics import accuracy_score, confusion_matrix, classification_report\n",
        "import warnings\n",
        "warnings.filterwarnings(\"ignore\")\n",
        "ImageFile.LOAD_TRUNCATED_IMAGES = True\n",
        "\n",
        "from tqdm import tqdm"
      ]
    },
    {
      "cell_type": "markdown",
      "id": "782ecc35",
      "metadata": {
        "papermill": {
          "duration": 0.010535,
          "end_time": "2022-11-18T10:59:26.444168",
          "exception": false,
          "start_time": "2022-11-18T10:59:26.433633",
          "status": "completed"
        },
        "tags": [],
        "id": "782ecc35"
      },
      "source": [
        "# 데이터"
      ]
    },
    {
      "cell_type": "code",
      "execution_count": null,
      "id": "4ac423ef",
      "metadata": {
        "execution": {
          "iopub.execute_input": "2022-11-18T10:59:26.472870Z",
          "iopub.status.busy": "2022-11-18T10:59:26.472150Z",
          "iopub.status.idle": "2022-11-18T10:59:26.999485Z",
          "shell.execute_reply": "2022-11-18T10:59:26.999020Z",
          "shell.execute_reply.started": "2022-11-17T16:03:57.973165Z"
        },
        "papermill": {
          "duration": 0.544802,
          "end_time": "2022-11-18T10:59:26.999616",
          "exception": false,
          "start_time": "2022-11-18T10:59:26.454814",
          "status": "completed"
        },
        "tags": [],
        "id": "4ac423ef",
        "outputId": "9b5ea527-21fc-46d1-be2a-f84190337633"
      },
      "outputs": [
        {
          "name": "stdout",
          "output_type": "stream",
          "text": [
            "Type 1 files for training: 1441 \n",
            "Type 2 files for training: 4348\n",
            "Type 3 files for training: 2426\n"
          ]
        }
      ],
      "source": [
        "root_dir = '../input/intel-mobileodt-cervical-cancer-screening'\n",
        "train_dir = os.path.join(root_dir,'train', 'train')\n",
        "\n",
        "type1_dir = os.path.join(train_dir, 'Type_1')\n",
        "type2_dir = os.path.join(train_dir, 'Type_2')\n",
        "type3_dir = os.path.join(train_dir, 'Type_3')\n",
        "\n",
        "train_type1_files = glob.glob(type1_dir+'/*.jpg')\n",
        "train_type2_files = glob.glob(type2_dir+'/*.jpg')\n",
        "train_type3_files = glob.glob(type3_dir+'/*.jpg')\n",
        "\n",
        "\n",
        "added_type1_files  =  glob.glob(os.path.join(root_dir, \"additional_Type_1_v2\", \"Type_1\")+'/*.jpg')\n",
        "added_type2_files  =  glob.glob(os.path.join(root_dir, \"additional_Type_2_v2\", \"Type_2\")+'/*.jpg')\n",
        "added_type3_files  =  glob.glob(os.path.join(root_dir, \"additional_Type_3_v2\", \"Type_3\")+'/*.jpg')\n",
        "\n",
        "\n",
        "type1_files = train_type1_files + added_type1_files\n",
        "type2_files = train_type2_files + added_type2_files\n",
        "type3_files = train_type3_files + added_type3_files\n",
        "\n",
        "print(f'''Type 1 files for training: {len(type1_files)} \n",
        "Type 2 files for training: {len(type2_files)}\n",
        "Type 3 files for training: {len(type3_files)}''' )"
      ]
    },
    {
      "cell_type": "code",
      "execution_count": null,
      "id": "7c82b906",
      "metadata": {
        "execution": {
          "iopub.execute_input": "2022-11-18T10:59:27.024390Z",
          "iopub.status.busy": "2022-11-18T10:59:27.023598Z",
          "iopub.status.idle": "2022-11-18T10:59:27.056503Z",
          "shell.execute_reply": "2022-11-18T10:59:27.056954Z",
          "shell.execute_reply.started": "2022-11-17T16:04:01.904506Z"
        },
        "papermill": {
          "duration": 0.046336,
          "end_time": "2022-11-18T10:59:27.057094",
          "exception": false,
          "start_time": "2022-11-18T10:59:27.010758",
          "status": "completed"
        },
        "tags": [],
        "id": "7c82b906",
        "outputId": "8e58b9f1-2ff5-4011-9bfc-479409a8dfba"
      },
      "outputs": [
        {
          "data": {
            "text/html": [
              "<div>\n",
              "<style scoped>\n",
              "    .dataframe tbody tr th:only-of-type {\n",
              "        vertical-align: middle;\n",
              "    }\n",
              "\n",
              "    .dataframe tbody tr th {\n",
              "        vertical-align: top;\n",
              "    }\n",
              "\n",
              "    .dataframe thead th {\n",
              "        text-align: right;\n",
              "    }\n",
              "</style>\n",
              "<table border=\"1\" class=\"dataframe\">\n",
              "  <thead>\n",
              "    <tr style=\"text-align: right;\">\n",
              "      <th></th>\n",
              "      <th>filepath</th>\n",
              "      <th>label</th>\n",
              "    </tr>\n",
              "  </thead>\n",
              "  <tbody>\n",
              "    <tr>\n",
              "      <th>0</th>\n",
              "      <td>../input/intel-mobileodt-cervical-cancer-scree...</td>\n",
              "      <td>Type 1</td>\n",
              "    </tr>\n",
              "    <tr>\n",
              "      <th>1</th>\n",
              "      <td>../input/intel-mobileodt-cervical-cancer-scree...</td>\n",
              "      <td>Type 3</td>\n",
              "    </tr>\n",
              "    <tr>\n",
              "      <th>2</th>\n",
              "      <td>../input/intel-mobileodt-cervical-cancer-scree...</td>\n",
              "      <td>Type 1</td>\n",
              "    </tr>\n",
              "    <tr>\n",
              "      <th>3</th>\n",
              "      <td>../input/intel-mobileodt-cervical-cancer-scree...</td>\n",
              "      <td>Type 2</td>\n",
              "    </tr>\n",
              "    <tr>\n",
              "      <th>4</th>\n",
              "      <td>../input/intel-mobileodt-cervical-cancer-scree...</td>\n",
              "      <td>Type 3</td>\n",
              "    </tr>\n",
              "    <tr>\n",
              "      <th>...</th>\n",
              "      <td>...</td>\n",
              "      <td>...</td>\n",
              "    </tr>\n",
              "    <tr>\n",
              "      <th>8210</th>\n",
              "      <td>../input/intel-mobileodt-cervical-cancer-scree...</td>\n",
              "      <td>Type 2</td>\n",
              "    </tr>\n",
              "    <tr>\n",
              "      <th>8211</th>\n",
              "      <td>../input/intel-mobileodt-cervical-cancer-scree...</td>\n",
              "      <td>Type 3</td>\n",
              "    </tr>\n",
              "    <tr>\n",
              "      <th>8212</th>\n",
              "      <td>../input/intel-mobileodt-cervical-cancer-scree...</td>\n",
              "      <td>Type 1</td>\n",
              "    </tr>\n",
              "    <tr>\n",
              "      <th>8213</th>\n",
              "      <td>../input/intel-mobileodt-cervical-cancer-scree...</td>\n",
              "      <td>Type 2</td>\n",
              "    </tr>\n",
              "    <tr>\n",
              "      <th>8214</th>\n",
              "      <td>../input/intel-mobileodt-cervical-cancer-scree...</td>\n",
              "      <td>Type 1</td>\n",
              "    </tr>\n",
              "  </tbody>\n",
              "</table>\n",
              "<p>8215 rows × 2 columns</p>\n",
              "</div>"
            ],
            "text/plain": [
              "                                               filepath   label\n",
              "0     ../input/intel-mobileodt-cervical-cancer-scree...  Type 1\n",
              "1     ../input/intel-mobileodt-cervical-cancer-scree...  Type 3\n",
              "2     ../input/intel-mobileodt-cervical-cancer-scree...  Type 1\n",
              "3     ../input/intel-mobileodt-cervical-cancer-scree...  Type 2\n",
              "4     ../input/intel-mobileodt-cervical-cancer-scree...  Type 3\n",
              "...                                                 ...     ...\n",
              "8210  ../input/intel-mobileodt-cervical-cancer-scree...  Type 2\n",
              "8211  ../input/intel-mobileodt-cervical-cancer-scree...  Type 3\n",
              "8212  ../input/intel-mobileodt-cervical-cancer-scree...  Type 1\n",
              "8213  ../input/intel-mobileodt-cervical-cancer-scree...  Type 2\n",
              "8214  ../input/intel-mobileodt-cervical-cancer-scree...  Type 1\n",
              "\n",
              "[8215 rows x 2 columns]"
            ]
          },
          "execution_count": 3,
          "metadata": {},
          "output_type": "execute_result"
        }
      ],
      "source": [
        "files = {'filepath': type1_files + type2_files + type3_files,\n",
        "          'label': ['Type 1']* len(type1_files) + ['Type 2']* len(type2_files) + ['Type 3']* len(type3_files)}\n",
        "\n",
        "files_df = pd.DataFrame(files).sample(frac=1, random_state= 1).reset_index(drop=True)\n",
        "files_df"
      ]
    },
    {
      "cell_type": "code",
      "execution_count": null,
      "id": "f803a57a",
      "metadata": {
        "execution": {
          "iopub.execute_input": "2022-11-18T10:59:27.085507Z",
          "iopub.status.busy": "2022-11-18T10:59:27.084708Z",
          "iopub.status.idle": "2022-11-18T11:01:15.935107Z",
          "shell.execute_reply": "2022-11-18T11:01:15.935587Z",
          "shell.execute_reply.started": "2022-11-17T16:04:10.372212Z"
        },
        "papermill": {
          "duration": 108.867613,
          "end_time": "2022-11-18T11:01:15.935784",
          "exception": false,
          "start_time": "2022-11-18T10:59:27.068171",
          "status": "completed"
        },
        "tags": [],
        "id": "f803a57a",
        "outputId": "f1282208-0719-4235-ef11-25ee6cc857d1"
      },
      "outputs": [
        {
          "name": "stderr",
          "output_type": "stream",
          "text": [
            "100%|██████████| 8215/8215 [01:48<00:00, 75.48it/s]\n"
          ]
        }
      ],
      "source": [
        "bad_files = []\n",
        "for path in tqdm(files_df['filepath'].values):\n",
        "    try:\n",
        "        img = Image.open(path)\n",
        "    except:\n",
        "        index = files_df[files_df['filepath']==path].index.values[0]\n",
        "        bad_files.append(index)"
      ]
    },
    {
      "cell_type": "code",
      "execution_count": null,
      "id": "763a201e",
      "metadata": {
        "execution": {
          "iopub.execute_input": "2022-11-18T11:01:16.433609Z",
          "iopub.status.busy": "2022-11-18T11:01:16.432829Z",
          "iopub.status.idle": "2022-11-18T11:01:16.442810Z",
          "shell.execute_reply": "2022-11-18T11:01:16.442369Z",
          "shell.execute_reply.started": "2022-11-17T16:07:45.151787Z"
        },
        "papermill": {
          "duration": 0.258363,
          "end_time": "2022-11-18T11:01:16.442941",
          "exception": false,
          "start_time": "2022-11-18T11:01:16.184578",
          "status": "completed"
        },
        "tags": [],
        "id": "763a201e",
        "outputId": "e13d4926-4d28-4c4b-e93f-436bd674ed1b"
      },
      "outputs": [
        {
          "data": {
            "text/html": [
              "<div>\n",
              "<style scoped>\n",
              "    .dataframe tbody tr th:only-of-type {\n",
              "        vertical-align: middle;\n",
              "    }\n",
              "\n",
              "    .dataframe tbody tr th {\n",
              "        vertical-align: top;\n",
              "    }\n",
              "\n",
              "    .dataframe thead th {\n",
              "        text-align: right;\n",
              "    }\n",
              "</style>\n",
              "<table border=\"1\" class=\"dataframe\">\n",
              "  <thead>\n",
              "    <tr style=\"text-align: right;\">\n",
              "      <th></th>\n",
              "      <th>filepath</th>\n",
              "      <th>label</th>\n",
              "    </tr>\n",
              "  </thead>\n",
              "  <tbody>\n",
              "    <tr>\n",
              "      <th>0</th>\n",
              "      <td>../input/intel-mobileodt-cervical-cancer-scree...</td>\n",
              "      <td>Type 1</td>\n",
              "    </tr>\n",
              "    <tr>\n",
              "      <th>1</th>\n",
              "      <td>../input/intel-mobileodt-cervical-cancer-scree...</td>\n",
              "      <td>Type 3</td>\n",
              "    </tr>\n",
              "    <tr>\n",
              "      <th>2</th>\n",
              "      <td>../input/intel-mobileodt-cervical-cancer-scree...</td>\n",
              "      <td>Type 1</td>\n",
              "    </tr>\n",
              "    <tr>\n",
              "      <th>3</th>\n",
              "      <td>../input/intel-mobileodt-cervical-cancer-scree...</td>\n",
              "      <td>Type 2</td>\n",
              "    </tr>\n",
              "    <tr>\n",
              "      <th>4</th>\n",
              "      <td>../input/intel-mobileodt-cervical-cancer-scree...</td>\n",
              "      <td>Type 3</td>\n",
              "    </tr>\n",
              "    <tr>\n",
              "      <th>...</th>\n",
              "      <td>...</td>\n",
              "      <td>...</td>\n",
              "    </tr>\n",
              "    <tr>\n",
              "      <th>8210</th>\n",
              "      <td>../input/intel-mobileodt-cervical-cancer-scree...</td>\n",
              "      <td>Type 2</td>\n",
              "    </tr>\n",
              "    <tr>\n",
              "      <th>8211</th>\n",
              "      <td>../input/intel-mobileodt-cervical-cancer-scree...</td>\n",
              "      <td>Type 3</td>\n",
              "    </tr>\n",
              "    <tr>\n",
              "      <th>8212</th>\n",
              "      <td>../input/intel-mobileodt-cervical-cancer-scree...</td>\n",
              "      <td>Type 1</td>\n",
              "    </tr>\n",
              "    <tr>\n",
              "      <th>8213</th>\n",
              "      <td>../input/intel-mobileodt-cervical-cancer-scree...</td>\n",
              "      <td>Type 2</td>\n",
              "    </tr>\n",
              "    <tr>\n",
              "      <th>8214</th>\n",
              "      <td>../input/intel-mobileodt-cervical-cancer-scree...</td>\n",
              "      <td>Type 1</td>\n",
              "    </tr>\n",
              "  </tbody>\n",
              "</table>\n",
              "<p>8212 rows × 2 columns</p>\n",
              "</div>"
            ],
            "text/plain": [
              "                                               filepath   label\n",
              "0     ../input/intel-mobileodt-cervical-cancer-scree...  Type 1\n",
              "1     ../input/intel-mobileodt-cervical-cancer-scree...  Type 3\n",
              "2     ../input/intel-mobileodt-cervical-cancer-scree...  Type 1\n",
              "3     ../input/intel-mobileodt-cervical-cancer-scree...  Type 2\n",
              "4     ../input/intel-mobileodt-cervical-cancer-scree...  Type 3\n",
              "...                                                 ...     ...\n",
              "8210  ../input/intel-mobileodt-cervical-cancer-scree...  Type 2\n",
              "8211  ../input/intel-mobileodt-cervical-cancer-scree...  Type 3\n",
              "8212  ../input/intel-mobileodt-cervical-cancer-scree...  Type 1\n",
              "8213  ../input/intel-mobileodt-cervical-cancer-scree...  Type 2\n",
              "8214  ../input/intel-mobileodt-cervical-cancer-scree...  Type 1\n",
              "\n",
              "[8212 rows x 2 columns]"
            ]
          },
          "execution_count": 5,
          "metadata": {},
          "output_type": "execute_result"
        }
      ],
      "source": [
        "bad_files\n",
        "files_df.drop(bad_files, inplace=True)\n",
        "files_df"
      ]
    },
    {
      "cell_type": "markdown",
      "id": "9c653f9f",
      "metadata": {
        "papermill": {
          "duration": 0.244414,
          "end_time": "2022-11-18T11:01:16.928824",
          "exception": false,
          "start_time": "2022-11-18T11:01:16.684410",
          "status": "completed"
        },
        "tags": [],
        "id": "9c653f9f"
      },
      "source": [
        "## **이미지 증식한 데이터 준비**"
      ]
    },
    {
      "cell_type": "code",
      "execution_count": null,
      "id": "d63790d7",
      "metadata": {
        "execution": {
          "iopub.execute_input": "2022-11-18T11:01:17.442878Z",
          "iopub.status.busy": "2022-11-18T11:01:17.442161Z",
          "iopub.status.idle": "2022-11-18T11:01:20.575108Z",
          "shell.execute_reply": "2022-11-18T11:01:20.575717Z",
          "shell.execute_reply.started": "2022-11-17T10:35:11.661523Z"
        },
        "papermill": {
          "duration": 3.402376,
          "end_time": "2022-11-18T11:01:20.575913",
          "exception": false,
          "start_time": "2022-11-18T11:01:17.173537",
          "status": "completed"
        },
        "tags": [],
        "id": "d63790d7",
        "outputId": "d1357c9f-9f9c-4b58-b505-af86a1dd0de2"
      },
      "outputs": [
        {
          "name": "stdout",
          "output_type": "stream",
          "text": [
            "Found 6570 validated image filenames belonging to 3 classes.\n",
            "Found 1642 validated image filenames belonging to 3 classes.\n"
          ]
        }
      ],
      "source": [
        "# 이미지 증식 부분 batch_size 만큼 이미지를 증가시킴\n",
        "# train_dir = \"../input/intel-mobileodt-cervical-cancer-screening/train/train\"\n",
        "t = ImageDataGenerator(rescale=1./ 255, \n",
        "                       rotation_range = 40,\n",
        "                        zoom_range = 0.2,\n",
        "                        width_shift_range=0.2,\n",
        "                        height_shift_range=0.2,\n",
        "                        shear_range=0.2,\n",
        "                        horizontal_flip=True,\n",
        "                        validation_split=0.2)\n",
        "\n",
        "t_gen = t.flow_from_dataframe(files_df,x_col='filepath', y_col='label', target_size = (150, 150),batch_size=3,class_mode='categorical', color_mode='rgb', subset='training')\n",
        "v_gen = t.flow_from_dataframe(files_df,x_col='filepath', y_col='label',target_size = (150, 150),batch_size=1,class_mode='categorical', color_mode='rgb', subset='validation')"
      ]
    },
    {
      "cell_type": "markdown",
      "id": "159f0011",
      "metadata": {
        "papermill": {
          "duration": 0.279103,
          "end_time": "2022-11-18T11:01:21.106867",
          "exception": false,
          "start_time": "2022-11-18T11:01:20.827764",
          "status": "completed"
        },
        "tags": [],
        "id": "159f0011"
      },
      "source": [
        "## **이미지 증식 사용 안한 데이터 준비**"
      ]
    },
    {
      "cell_type": "code",
      "execution_count": null,
      "id": "1716af61",
      "metadata": {
        "execution": {
          "iopub.execute_input": "2022-11-18T11:01:21.848180Z",
          "iopub.status.busy": "2022-11-18T11:01:21.842633Z",
          "iopub.status.idle": "2022-11-18T11:01:22.000708Z",
          "shell.execute_reply": "2022-11-18T11:01:22.001272Z",
          "shell.execute_reply.started": "2022-11-17T16:11:48.547028Z"
        },
        "papermill": {
          "duration": 0.484312,
          "end_time": "2022-11-18T11:01:22.001473",
          "exception": false,
          "start_time": "2022-11-18T11:01:21.517161",
          "status": "completed"
        },
        "tags": [],
        "id": "1716af61",
        "outputId": "852c8570-6b6b-4640-e8a5-1e0fec88e340"
      },
      "outputs": [
        {
          "name": "stdout",
          "output_type": "stream",
          "text": [
            "Found 6570 validated image filenames belonging to 3 classes.\n",
            "Found 1642 validated image filenames belonging to 3 classes.\n"
          ]
        }
      ],
      "source": [
        "#train_df, valid_df = train_test_split(files_df, test_size = 0.2, stratify = files_df['label'], random_state = 1234)\n",
        "k = ImageDataGenerator(rescale=1./ 255, validation_split=0.2)\n",
        "t_nongen = k.flow_from_dataframe(files_df, x_col='filepath', y_col='label', target_size = (150, 150), class_mode='categorical', color_mode='rgb', subset='training')\n",
        "v_nongen = k.flow_from_dataframe(files_df, x_col='filepath', y_col='label', target_size = (150, 150), class_mode='categorical', color_mode='rgb', subset='validation')"
      ]
    },
    {
      "cell_type": "markdown",
      "id": "29332ad1",
      "metadata": {
        "papermill": {
          "duration": 0.24372,
          "end_time": "2022-11-18T11:01:22.494817",
          "exception": false,
          "start_time": "2022-11-18T11:01:22.251097",
          "status": "completed"
        },
        "tags": [],
        "id": "29332ad1"
      },
      "source": [
        "# 원선님 모델"
      ]
    },
    {
      "cell_type": "code",
      "execution_count": null,
      "id": "dcdee259",
      "metadata": {
        "execution": {
          "iopub.execute_input": "2022-11-18T11:01:22.987296Z",
          "iopub.status.busy": "2022-11-18T11:01:22.986630Z",
          "iopub.status.idle": "2022-11-18T11:01:26.684844Z",
          "shell.execute_reply": "2022-11-18T11:01:26.685293Z",
          "shell.execute_reply.started": "2022-11-17T16:08:32.165081Z"
        },
        "papermill": {
          "duration": 3.947677,
          "end_time": "2022-11-18T11:01:26.685452",
          "exception": false,
          "start_time": "2022-11-18T11:01:22.737775",
          "status": "completed"
        },
        "tags": [],
        "id": "dcdee259",
        "outputId": "6d5f8bf7-9cf7-439a-8bc4-547fc6357b2c"
      },
      "outputs": [
        {
          "name": "stderr",
          "output_type": "stream",
          "text": [
            "2022-11-18 11:01:23.150114: I tensorflow/stream_executor/cuda/cuda_gpu_executor.cc:937] successful NUMA node read from SysFS had negative value (-1), but there must be at least one NUMA node, so returning NUMA node zero\n",
            "2022-11-18 11:01:23.152929: I tensorflow/stream_executor/cuda/cuda_gpu_executor.cc:937] successful NUMA node read from SysFS had negative value (-1), but there must be at least one NUMA node, so returning NUMA node zero\n",
            "2022-11-18 11:01:23.278574: I tensorflow/stream_executor/cuda/cuda_gpu_executor.cc:937] successful NUMA node read from SysFS had negative value (-1), but there must be at least one NUMA node, so returning NUMA node zero\n",
            "2022-11-18 11:01:23.279416: I tensorflow/stream_executor/cuda/cuda_gpu_executor.cc:937] successful NUMA node read from SysFS had negative value (-1), but there must be at least one NUMA node, so returning NUMA node zero\n",
            "2022-11-18 11:01:23.280209: I tensorflow/stream_executor/cuda/cuda_gpu_executor.cc:937] successful NUMA node read from SysFS had negative value (-1), but there must be at least one NUMA node, so returning NUMA node zero\n",
            "2022-11-18 11:01:23.280951: I tensorflow/stream_executor/cuda/cuda_gpu_executor.cc:937] successful NUMA node read from SysFS had negative value (-1), but there must be at least one NUMA node, so returning NUMA node zero\n",
            "2022-11-18 11:01:23.284605: I tensorflow/core/platform/cpu_feature_guard.cc:142] This TensorFlow binary is optimized with oneAPI Deep Neural Network Library (oneDNN) to use the following CPU instructions in performance-critical operations:  AVX2 AVX512F FMA\n",
            "To enable them in other operations, rebuild TensorFlow with the appropriate compiler flags.\n",
            "2022-11-18 11:01:23.534223: I tensorflow/stream_executor/cuda/cuda_gpu_executor.cc:937] successful NUMA node read from SysFS had negative value (-1), but there must be at least one NUMA node, so returning NUMA node zero\n",
            "2022-11-18 11:01:23.535112: I tensorflow/stream_executor/cuda/cuda_gpu_executor.cc:937] successful NUMA node read from SysFS had negative value (-1), but there must be at least one NUMA node, so returning NUMA node zero\n",
            "2022-11-18 11:01:23.535847: I tensorflow/stream_executor/cuda/cuda_gpu_executor.cc:937] successful NUMA node read from SysFS had negative value (-1), but there must be at least one NUMA node, so returning NUMA node zero\n",
            "2022-11-18 11:01:23.536533: I tensorflow/stream_executor/cuda/cuda_gpu_executor.cc:937] successful NUMA node read from SysFS had negative value (-1), but there must be at least one NUMA node, so returning NUMA node zero\n",
            "2022-11-18 11:01:23.537223: I tensorflow/stream_executor/cuda/cuda_gpu_executor.cc:937] successful NUMA node read from SysFS had negative value (-1), but there must be at least one NUMA node, so returning NUMA node zero\n",
            "2022-11-18 11:01:23.537904: I tensorflow/stream_executor/cuda/cuda_gpu_executor.cc:937] successful NUMA node read from SysFS had negative value (-1), but there must be at least one NUMA node, so returning NUMA node zero\n",
            "2022-11-18 11:01:26.238937: I tensorflow/stream_executor/cuda/cuda_gpu_executor.cc:937] successful NUMA node read from SysFS had negative value (-1), but there must be at least one NUMA node, so returning NUMA node zero\n",
            "2022-11-18 11:01:26.239917: I tensorflow/stream_executor/cuda/cuda_gpu_executor.cc:937] successful NUMA node read from SysFS had negative value (-1), but there must be at least one NUMA node, so returning NUMA node zero\n",
            "2022-11-18 11:01:26.240773: I tensorflow/stream_executor/cuda/cuda_gpu_executor.cc:937] successful NUMA node read from SysFS had negative value (-1), but there must be at least one NUMA node, so returning NUMA node zero\n",
            "2022-11-18 11:01:26.241656: I tensorflow/stream_executor/cuda/cuda_gpu_executor.cc:937] successful NUMA node read from SysFS had negative value (-1), but there must be at least one NUMA node, so returning NUMA node zero\n",
            "2022-11-18 11:01:26.242523: I tensorflow/stream_executor/cuda/cuda_gpu_executor.cc:937] successful NUMA node read from SysFS had negative value (-1), but there must be at least one NUMA node, so returning NUMA node zero\n",
            "2022-11-18 11:01:26.244473: I tensorflow/core/common_runtime/gpu/gpu_device.cc:1510] Created device /job:localhost/replica:0/task:0/device:GPU:0 with 13795 MB memory:  -> device: 0, name: Tesla T4, pci bus id: 0000:00:04.0, compute capability: 7.5\n",
            "2022-11-18 11:01:26.248089: I tensorflow/stream_executor/cuda/cuda_gpu_executor.cc:937] successful NUMA node read from SysFS had negative value (-1), but there must be at least one NUMA node, so returning NUMA node zero\n",
            "2022-11-18 11:01:26.248862: I tensorflow/core/common_runtime/gpu/gpu_device.cc:1510] Created device /job:localhost/replica:0/task:0/device:GPU:1 with 13795 MB memory:  -> device: 1, name: Tesla T4, pci bus id: 0000:00:05.0, compute capability: 7.5\n"
          ]
        },
        {
          "name": "stdout",
          "output_type": "stream",
          "text": [
            "Model: \"sequential\"\n",
            "_________________________________________________________________\n",
            "Layer (type)                 Output Shape              Param #   \n",
            "=================================================================\n",
            "conv2d (Conv2D)              (None, 150, 150, 64)      1792      \n",
            "_________________________________________________________________\n",
            "activation (Activation)      (None, 150, 150, 64)      0         \n",
            "_________________________________________________________________\n",
            "max_pooling2d (MaxPooling2D) (None, 75, 75, 64)        0         \n",
            "_________________________________________________________________\n",
            "conv2d_1 (Conv2D)            (None, 75, 75, 32)        18464     \n",
            "_________________________________________________________________\n",
            "activation_1 (Activation)    (None, 75, 75, 32)        0         \n",
            "_________________________________________________________________\n",
            "max_pooling2d_1 (MaxPooling2 (None, 37, 37, 32)        0         \n",
            "_________________________________________________________________\n",
            "conv2d_2 (Conv2D)            (None, 37, 37, 64)        18496     \n",
            "_________________________________________________________________\n",
            "activation_2 (Activation)    (None, 37, 37, 64)        0         \n",
            "_________________________________________________________________\n",
            "max_pooling2d_2 (MaxPooling2 (None, 18, 18, 64)        0         \n",
            "_________________________________________________________________\n",
            "flatten (Flatten)            (None, 20736)             0         \n",
            "_________________________________________________________________\n",
            "dense (Dense)                (None, 64)                1327168   \n",
            "_________________________________________________________________\n",
            "activation_3 (Activation)    (None, 64)                0         \n",
            "_________________________________________________________________\n",
            "dropout (Dropout)            (None, 64)                0         \n",
            "_________________________________________________________________\n",
            "dense_1 (Dense)              (None, 3)                 195       \n",
            "=================================================================\n",
            "Total params: 1,366,115\n",
            "Trainable params: 1,366,115\n",
            "Non-trainable params: 0\n",
            "_________________________________________________________________\n"
          ]
        }
      ],
      "source": [
        "cnn = Sequential([\n",
        "    Conv2D(64, kernel_size = (3,3), padding='same', kernel_initializer='random_normal', input_shape=(150,150,3)),\n",
        "    Activation('relu'),\n",
        "    MaxPooling2D(pool_size=(2,2)),\n",
        "    \n",
        "    Conv2D(32, kernel_size = (3,3), padding='same', kernel_initializer='random_normal'),\n",
        "    Activation('relu'),\n",
        "    MaxPooling2D(pool_size=(2,2)),\n",
        "    \n",
        "    Conv2D(64, kernel_size = (3,3), padding='same', kernel_initializer='random_normal'),\n",
        "    Activation('relu'),\n",
        "    MaxPooling2D(pool_size=(2,2)),\n",
        "\n",
        "    Flatten(),\n",
        "    Dense(64, kernel_initializer='random_normal'),\n",
        "    Activation('relu'),\n",
        "    Dropout(0.5),\n",
        "    Dense(3, activation='softmax')\n",
        "    \n",
        "])\n",
        "\n",
        "cnn.summary()"
      ]
    },
    {
      "cell_type": "code",
      "execution_count": null,
      "id": "f1e545ce",
      "metadata": {
        "execution": {
          "iopub.execute_input": "2022-11-18T11:01:27.185510Z",
          "iopub.status.busy": "2022-11-18T11:01:27.184777Z",
          "iopub.status.idle": "2022-11-18T16:39:52.220097Z",
          "shell.execute_reply": "2022-11-18T16:39:52.220997Z",
          "shell.execute_reply.started": "2022-11-17T16:11:57.220109Z"
        },
        "papermill": {
          "duration": 20305.28938,
          "end_time": "2022-11-18T16:39:52.221190",
          "exception": false,
          "start_time": "2022-11-18T11:01:26.931810",
          "status": "completed"
        },
        "tags": [],
        "id": "f1e545ce",
        "outputId": "fd39a691-1f1a-4540-f217-69e8143b96db"
      },
      "outputs": [
        {
          "name": "stderr",
          "output_type": "stream",
          "text": [
            "2022-11-18 11:01:28.134150: I tensorflow/compiler/mlir/mlir_graph_optimization_pass.cc:185] None of the MLIR Optimization Passes are enabled (registered 2)\n"
          ]
        },
        {
          "name": "stdout",
          "output_type": "stream",
          "text": [
            "Epoch 1/10\n"
          ]
        },
        {
          "name": "stderr",
          "output_type": "stream",
          "text": [
            "2022-11-18 11:01:30.688670: I tensorflow/stream_executor/cuda/cuda_dnn.cc:369] Loaded cuDNN version 8005\n"
          ]
        },
        {
          "name": "stdout",
          "output_type": "stream",
          "text": [
            "2190/2190 [==============================] - 1904s 865ms/step - loss: 1.0233 - accuracy: 0.5256 - val_loss: 0.9995 - val_accuracy: 0.5305\n",
            "Epoch 2/10\n",
            "2190/2190 [==============================] - 1900s 867ms/step - loss: 1.0101 - accuracy: 0.5288 - val_loss: 1.0001 - val_accuracy: 0.5305\n",
            "Epoch 3/10\n",
            "2190/2190 [==============================] - 1906s 870ms/step - loss: 1.0055 - accuracy: 0.5289 - val_loss: 0.9988 - val_accuracy: 0.5305\n",
            "Epoch 4/10\n",
            "2190/2190 [==============================] - 1989s 908ms/step - loss: 1.0045 - accuracy: 0.5289 - val_loss: 0.9987 - val_accuracy: 0.5305\n",
            "Epoch 5/10\n",
            "2190/2190 [==============================] - 2028s 926ms/step - loss: 1.0044 - accuracy: 0.5289 - val_loss: 0.9989 - val_accuracy: 0.5305\n",
            "Epoch 6/10\n",
            "2190/2190 [==============================] - 2120s 968ms/step - loss: 1.0038 - accuracy: 0.5289 - val_loss: 0.9990 - val_accuracy: 0.5305\n",
            "Epoch 7/10\n",
            "2190/2190 [==============================] - 2080s 950ms/step - loss: 1.0034 - accuracy: 0.5289 - val_loss: 0.9987 - val_accuracy: 0.5305\n",
            "Epoch 8/10\n",
            "2190/2190 [==============================] - 2028s 926ms/step - loss: 1.0041 - accuracy: 0.5289 - val_loss: 0.9995 - val_accuracy: 0.5305\n",
            "Epoch 9/10\n",
            "2190/2190 [==============================] - 2042s 932ms/step - loss: 1.0040 - accuracy: 0.5289 - val_loss: 0.9988 - val_accuracy: 0.5305\n",
            "Epoch 10/10\n",
            "2190/2190 [==============================] - 2095s 957ms/step - loss: 1.0040 - accuracy: 0.5289 - val_loss: 0.9991 - val_accuracy: 0.5305\n"
          ]
        }
      ],
      "source": [
        "cnn.compile(\n",
        "    'adam',\n",
        "  loss='categorical_crossentropy',\n",
        "  metrics=['accuracy'],\n",
        ")\n",
        "verimggen = cnn.fit(t_gen, steps_per_epoch = t_gen.samples//3, validation_data= v_gen, validation_steps= v_gen.samples,epochs= 10, verbose=1)"
      ]
    },
    {
      "cell_type": "code",
      "execution_count": null,
      "id": "8bbd4f32",
      "metadata": {
        "execution": {
          "iopub.execute_input": "2022-11-18T16:40:03.586987Z",
          "iopub.status.busy": "2022-11-18T16:40:03.586023Z",
          "iopub.status.idle": "2022-11-18T22:08:52.836831Z",
          "shell.execute_reply": "2022-11-18T22:08:52.837374Z"
        },
        "papermill": {
          "duration": 19734.751114,
          "end_time": "2022-11-18T22:08:52.837550",
          "exception": false,
          "start_time": "2022-11-18T16:39:58.086436",
          "status": "completed"
        },
        "tags": [],
        "id": "8bbd4f32",
        "outputId": "7dc814ab-fdbb-4f7f-893b-db7b65434b21"
      },
      "outputs": [
        {
          "name": "stdout",
          "output_type": "stream",
          "text": [
            "Epoch 1/10\n",
            "206/206 [==============================] - 1945s 9s/step - loss: 1.0034 - accuracy: 0.5289 - val_loss: 0.9990 - val_accuracy: 0.5305\n",
            "Epoch 2/10\n",
            "206/206 [==============================] - 1938s 9s/step - loss: 1.0032 - accuracy: 0.5289 - val_loss: 0.9990 - val_accuracy: 0.5305\n",
            "Epoch 3/10\n",
            "206/206 [==============================] - 1902s 9s/step - loss: 1.0033 - accuracy: 0.5289 - val_loss: 0.9989 - val_accuracy: 0.5305\n",
            "Epoch 4/10\n",
            "206/206 [==============================] - 1942s 9s/step - loss: 1.0031 - accuracy: 0.5289 - val_loss: 0.9989 - val_accuracy: 0.5305\n",
            "Epoch 5/10\n",
            "206/206 [==============================] - 1944s 9s/step - loss: 1.0032 - accuracy: 0.5289 - val_loss: 0.9989 - val_accuracy: 0.5305\n",
            "Epoch 6/10\n",
            "206/206 [==============================] - 1898s 9s/step - loss: 1.0033 - accuracy: 0.5289 - val_loss: 0.9989 - val_accuracy: 0.5305\n",
            "Epoch 7/10\n",
            "206/206 [==============================] - 1974s 10s/step - loss: 1.0031 - accuracy: 0.5289 - val_loss: 0.9988 - val_accuracy: 0.5305\n",
            "Epoch 8/10\n",
            "206/206 [==============================] - 1953s 9s/step - loss: 1.0034 - accuracy: 0.5289 - val_loss: 0.9988 - val_accuracy: 0.5305\n",
            "Epoch 9/10\n",
            "206/206 [==============================] - 2044s 10s/step - loss: 1.0035 - accuracy: 0.5289 - val_loss: 0.9989 - val_accuracy: 0.5305\n",
            "Epoch 10/10\n",
            "206/206 [==============================] - 2027s 10s/step - loss: 1.0031 - accuracy: 0.5289 - val_loss: 0.9988 - val_accuracy: 0.5305\n"
          ]
        }
      ],
      "source": [
        "general = cnn.fit(t_nongen, validation_data= v_nongen, epochs= 10, verbose=1)"
      ]
    },
    {
      "cell_type": "code",
      "execution_count": null,
      "id": "e0eacd65",
      "metadata": {
        "execution": {
          "iopub.execute_input": "2022-11-18T22:09:19.520191Z",
          "iopub.status.busy": "2022-11-18T22:09:19.477112Z",
          "iopub.status.idle": "2022-11-18T22:09:19.846860Z",
          "shell.execute_reply": "2022-11-18T22:09:19.847340Z"
        },
        "papermill": {
          "duration": 6.753956,
          "end_time": "2022-11-18T22:09:19.847548",
          "exception": false,
          "start_time": "2022-11-18T22:09:13.093592",
          "status": "completed"
        },
        "tags": [],
        "id": "e0eacd65",
        "outputId": "5adbcc4e-edde-4333-e562-9edf8c44053d"
      },
      "outputs": [
        {
          "data": {
            "image/png": "[encoded data removed]",
            "text/plain": [
              "<Figure size 1080x360 with 2 Axes>"
            ]
          },
          "metadata": {
            "needs_background": "light"
          },
          "output_type": "display_data"
        }
      ],
      "source": [
        "plt.figure(figsize=(15, 5))\n",
        "\n",
        "plt.subplot(1, 2, 1)\n",
        "plt.plot(verimggen.history['accuracy'], label='aug', color='limegreen')\n",
        "plt.legend(loc='lower right')\n",
        "plt.title('Accuracy comparison')\n",
        "\n",
        "plt.subplot(1, 2, 2)\n",
        "plt.plot(verimggen.history['loss'], label='aug', color='limegreen')\n",
        "plt.legend(loc='upper right')\n",
        "plt.title('Loss comparison')\n",
        "\n",
        "plt.show()"
      ]
    },
    {
      "cell_type": "code",
      "source": [
        "general = {'loss': [0.9582940340042114,\n",
        "  0.9375267028808594,\n",
        "  0.9031842350959778,\n",
        "  0.8750488758087158,\n",
        "  0.8442121148109436,\n",
        "  0.8010153770446777,\n",
        "  0.7598258852958679,\n",
        "  0.7030467391014099,\n",
        "  0.6609349250793457,\n",
        "  0.6091323494911194],\n",
        " 'accuracy': [0.5418569445610046,\n",
        "  0.5462709069252014,\n",
        "  0.5622526407241821,\n",
        "  0.5742770433425903,\n",
        "  0.597564697265625,\n",
        "  0.6187214851379395,\n",
        "  0.6403348445892334,\n",
        "  0.6732115745544434,\n",
        "  0.6891933083534241,\n",
        "  0.7135463953018188],\n",
        " 'val_loss': [0.958389163017273,\n",
        "  0.9240278601646423,\n",
        "  0.9280871152877808,\n",
        "  0.8903028964996338,\n",
        "  0.8826287984848022,\n",
        "  0.8894288539886475,\n",
        "  0.8759817481040955,\n",
        "  0.8886351585388184,\n",
        "  0.9607772827148438,\n",
        "  0.9679125547409058],\n",
        " 'val_accuracy': [0.5194884538650513,\n",
        "  0.543848991394043,\n",
        "  0.5292326211929321,\n",
        "  0.5548111796379089,\n",
        "  0.5627284049987793,\n",
        "  0.5651644468307495,\n",
        "  0.5706455707550049,\n",
        "  0.5724725723266602,\n",
        "  0.5919610261917114,\n",
        "  0.6053593158721924]}\n"
      ],
      "metadata": {
        "id": "yG4o2w4fVhfw"
      },
      "id": "yG4o2w4fVhfw",
      "execution_count": 2,
      "outputs": []
    },
    {
      "cell_type": "code",
      "execution_count": 3,
      "id": "409bddc5",
      "metadata": {
        "execution": {
          "iopub.execute_input": "2022-11-18T22:09:33.082975Z",
          "iopub.status.busy": "2022-11-18T22:09:33.050641Z",
          "iopub.status.idle": "2022-11-18T22:09:33.373930Z",
          "shell.execute_reply": "2022-11-18T22:09:33.374378Z"
        },
        "papermill": {
          "duration": 6.984451,
          "end_time": "2022-11-18T22:09:33.374545",
          "exception": false,
          "start_time": "2022-11-18T22:09:26.390094",
          "status": "completed"
        },
        "tags": [],
        "colab": {
          "base_uri": "https://localhost:8080/",
          "height": 336
        },
        "id": "409bddc5",
        "outputId": "bcc8578b-7106-4025-baaf-d5b5b835a175"
      },
      "outputs": [
        {
          "output_type": "display_data",
          "data": {
            "text/plain": [
              "<Figure size 1080x360 with 2 Axes>"
            ],
            "image/png": "[encoded data removed]"
          },
          "metadata": {
            "needs_background": "light"
          }
        }
      ],
      "source": [
        "plt.figure(figsize=(15, 5))\n",
        "\n",
        "plt.subplot(1, 2, 1)\n",
        "plt.plot(general['accuracy'], label='general')\n",
        "plt.legend(loc='lower right')\n",
        "plt.title('Accuracy comparison')\n",
        "\n",
        "plt.subplot(1, 2, 2)\n",
        "plt.plot(general['loss'], label='general')\n",
        "plt.legend(loc='upper right')\n",
        "plt.title('Loss comparison')\n",
        "\n",
        "plt.show()"
      ]
    }
  ],
  "metadata": {
    "kernelspec": {
      "display_name": "Python 3",
      "language": "python",
      "name": "python3"
    },
    "language_info": {
      "codemirror_mode": {
        "name": "ipython",
        "version": 3
      },
      "file_extension": ".py",
      "mimetype": "text/x-python",
      "name": "python",
      "nbconvert_exporter": "python",
      "pygments_lexer": "ipython3",
      "version": "3.7.10"
    },
    "papermill": {
      "default_parameters": {},
      "duration": 40231.795311,
      "end_time": "2022-11-18T22:09:43.362811",
      "environment_variables": {},
      "exception": null,
      "input_path": "__notebook__.ipynb",
      "output_path": "__notebook__.ipynb",
      "parameters": {},
      "start_time": "2022-11-18T10:59:11.567500",
      "version": "2.3.3"
    },
    "colab": {
      "provenance": [],
      "include_colab_link": true
    }
  },
  "nbformat": 4,
  "nbformat_minor": 5
}